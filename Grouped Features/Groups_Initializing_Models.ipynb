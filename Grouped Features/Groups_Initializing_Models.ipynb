{
  "nbformat": 4,
  "nbformat_minor": 0,
  "metadata": {
    "colab": {
      "provenance": []
    },
    "kernelspec": {
      "name": "python3",
      "display_name": "Python 3"
    },
    "language_info": {
      "name": "python"
    }
  },
  "cells": [
    {
      "cell_type": "markdown",
      "source": [
        "#Importing Packages and Data"
      ],
      "metadata": {
        "id": "DhxKlidecWwB"
      }
    },
    {
      "cell_type": "code",
      "execution_count": 171,
      "metadata": {
        "colab": {
          "base_uri": "https://localhost:8080/"
        },
        "id": "mO0UWgpsfRhl",
        "outputId": "e99bb624-3df5-4498-c19e-7591932c020a"
      },
      "outputs": [
        {
          "output_type": "stream",
          "name": "stdout",
          "text": [
            "Requirement already satisfied: ucimlrepo in /usr/local/lib/python3.10/dist-packages (0.0.7)\n",
            "Requirement already satisfied: pandas>=1.0.0 in /usr/local/lib/python3.10/dist-packages (from ucimlrepo) (2.0.3)\n",
            "Requirement already satisfied: certifi>=2020.12.5 in /usr/local/lib/python3.10/dist-packages (from ucimlrepo) (2024.6.2)\n",
            "Requirement already satisfied: python-dateutil>=2.8.2 in /usr/local/lib/python3.10/dist-packages (from pandas>=1.0.0->ucimlrepo) (2.8.2)\n",
            "Requirement already satisfied: pytz>=2020.1 in /usr/local/lib/python3.10/dist-packages (from pandas>=1.0.0->ucimlrepo) (2023.4)\n",
            "Requirement already satisfied: tzdata>=2022.1 in /usr/local/lib/python3.10/dist-packages (from pandas>=1.0.0->ucimlrepo) (2024.1)\n",
            "Requirement already satisfied: numpy>=1.21.0 in /usr/local/lib/python3.10/dist-packages (from pandas>=1.0.0->ucimlrepo) (1.25.2)\n",
            "Requirement already satisfied: six>=1.5 in /usr/local/lib/python3.10/dist-packages (from python-dateutil>=2.8.2->pandas>=1.0.0->ucimlrepo) (1.16.0)\n"
          ]
        }
      ],
      "source": [
        "pip install ucimlrepo"
      ]
    },
    {
      "cell_type": "code",
      "source": [
        "import numpy as np\n",
        "import pandas as pd\n",
        "from ucimlrepo import fetch_ucirepo\n",
        "from numpy import mean\n",
        "from numpy import std\n",
        "from sklearn.model_selection import train_test_split\n",
        "from sklearn import tree\n",
        "from sklearn.impute import SimpleImputer\n",
        "from sklearn.metrics import classification_report\n",
        "from sklearn.metrics import accuracy_score, f1_score\n",
        "from sklearn.metrics import matthews_corrcoef\n",
        "from sklearn.model_selection import RepeatedKFold, cross_val_score, RepeatedStratifiedKFold\n",
        "import statsmodels.discrete.discrete_model as sm\n",
        "from sklearn import metrics\n",
        "from sklearn.neighbors import KNeighborsClassifier"
      ],
      "metadata": {
        "id": "49YQRlYyffd4"
      },
      "execution_count": 172,
      "outputs": []
    },
    {
      "cell_type": "code",
      "source": [
        "communities_and_crime = fetch_ucirepo(id=183)\n",
        "\n",
        "X = communities_and_crime.data.features\n",
        "y = communities_and_crime.data.targets"
      ],
      "metadata": {
        "id": "54RKhGcbfmx5"
      },
      "execution_count": 173,
      "outputs": []
    },
    {
      "cell_type": "code",
      "source": [
        "groups_df = X.join(y)"
      ],
      "metadata": {
        "id": "DlVSUl8Bfq3N"
      },
      "execution_count": 174,
      "outputs": []
    },
    {
      "cell_type": "code",
      "source": [
        "groups_df = groups_df.replace('?', np.nan)"
      ],
      "metadata": {
        "id": "uUnS569mqNHF"
      },
      "execution_count": 175,
      "outputs": []
    },
    {
      "cell_type": "code",
      "source": [
        "groups_df[\"CrimeCategory\"] = pd.cut(x=groups_df['ViolentCrimesPerPop'],\n",
        "                     bins=[-0.1, 0.25, 0.40, 1],\n",
        "                     labels=['Low', 'Medium', 'High'])"
      ],
      "metadata": {
        "id": "vu-AkUWboo3Q"
      },
      "execution_count": 176,
      "outputs": []
    },
    {
      "cell_type": "code",
      "source": [
        "#I am splitting the attributes into predetermined categories based on their real-world relationship to each other.\n",
        "race_make_up = groups_df[[\"racePctWhite\", \"racepctblack\", \"racePctAsian\", \"racePctHisp\", \"CrimeCategory\"]]\n",
        "age = groups_df[[\"agePct12t21\", \"agePct12t29\", \"agePct16t24\", \"agePct65up\", \"CrimeCategory\"]]\n",
        "urban_factors = groups_df[[\"numbUrban\", \"pctUrban\", \"CrimeCategory\"]]\n",
        "income_factors = groups_df[[\"medIncome\", \"pctWWage\", \"pctWFarmSelf\", \"pctWInvInc\", \"pctWSocSec\", \"pctWPubAsst\", \"pctWRetire\", \"medFamInc\", \"perCapInc\", \\\n",
        "                            \"whitePerCap\", \"blackPerCap\", \"indianPerCap\", \"AsianPerCap\", \"OtherPerCap\", \"HispPerCap\", \"CrimeCategory\"]]\n",
        "poverty = groups_df[[\"NumUnderPov\", \"PctPopUnderPov\", \"CrimeCategory\"]]\n",
        "education = groups_df[[\"PctLess9thGrade\", \"PctNotHSGrad\", \"PctBSorMore\", \"CrimeCategory\"]]\n",
        "employment = groups_df[[\"PctUnemployed\", \"PctEmploy\", \"PctEmplManu\", \"PctEmplProfServ\", \"PctOccupManu\", \"PctOccupMgmtProf\", \"CrimeCategory\"]]\n",
        "marriage_factors = groups_df[[\"MalePctDivorce\", \"MalePctNevMarr\", \"FemalePctDiv\", \"TotalPctDiv\", \"CrimeCategory\"]]\n",
        "domestic_factors = groups_df[[\"PersPerFam\", \"PctFam2Par\", \"PctKids2Par\", \"PctYoungKids2Par\", \"PctTeen2Par\", \"PctWorkMomYoungKids\", \"PctWorkMom\", \"NumIlleg\",\\\n",
        "                              \"PctIlleg\", \"CrimeCategory\"]]\n",
        "immigration = groups_df[[\"PctImmigRecent\", \"PctImmigRec5\", \"PctImmigRec8\", \"PctImmigRec10\", \"PctRecentImmig\", \"PctRecImmig5\", \"PctRecImmig8\", \"PctRecImmig10\", \\\n",
        "                         \"CrimeCategory\"]]\n",
        "english_proficiency = groups_df[[\"PctSpeakEnglOnly\", \"PctNotSpeakEnglWell\", \"CrimeCategory\"]]\n",
        "housing_factors = groups_df[[\"PctLargHouseOccup\", \"PersPerOccupHous\", \"PersPerOwnOccHous\", \"PersPerRentOccHous\", \"PctPersOwnOccup\", \"PctPersDenseHous\", \\\n",
        "                             \"HousVacant\", \"PctHousOccup\", \"PctHousOwnOcc\", \"PctVacantBoarded\", \"PctVacMore6Mos\", \"OwnOccLowQuart\", \"OwnOccMedVal\", \\\n",
        "                             \"OwnOccHiQuart\", \"PctHousLess3BR\", \"MedNumBR\", \"MedYrHousBuilt\", \"PctHousNoPhone\", \"PctWOFullPlumb\", \"CrimeCategory\"]]\n",
        "housing_cost = groups_df[[\"RentLowQ\", \"RentMedian\", \"RentHighQ\", \"MedRent\", \"MedRentPctHousInc\", \"MedOwnCostPctInc\", \"MedOwnCostPctIncNoMtg\", \\\n",
        "                          \"CrimeCategory\"]]\n",
        "unhoused = groups_df[[\"NumInShelters\", \"NumStreet\", \"CrimeCategory\"]]\n",
        "mobility = groups_df[[\"PctForeignBorn\", \"PctBornSameState\", \"PctSameHouse85\", \"PctSameCity85\", \"PctSameState85\", \"CrimeCategory\"]]\n",
        "policing = groups_df[[\"LemasSwornFT\", \"LemasSwFTPerPop\", \"LemasSwFTFieldOps\", \"LemasSwFTFieldPerPop\", \"LemasTotalReq\", \"LemasTotReqPerPop\", \\\n",
        "                      \"PolicReqPerOffic\", \"PolicPerPop\", \"OfficAssgnDrugUnits\", \"NumKindsDrugsSeiz\", \"PolicAveOTWorked\", \"PolicCars\", \"PolicOperBudg\", \\\n",
        "                      \"LemasPctPolicOnPatr\", \"LemasGangUnitDeploy\", \"LemasPctOfficDrugUn\", \"PolicBudgPerPop\", \"RacialMatchCommPol\", \"PctPolicWhite\", \\\n",
        "                      \"PctPolicBlack\", \"PctPolicHisp\", \"PctPolicAsian\", \"PctPolicMinor\", \"CrimeCategory\"]]\n",
        "density = groups_df[[\"LandArea\", \"PopDens\", \"CrimeCategory\"]]\n",
        "transit = groups_df[[\"PctUsePubTrans\", \"CrimeCategory\"]]"
      ],
      "metadata": {
        "id": "8cvkDD4LgGaL"
      },
      "execution_count": 177,
      "outputs": []
    },
    {
      "cell_type": "markdown",
      "source": [
        "# Determining Optimal Number of Neighbors for Each Group in KNN Model Training"
      ],
      "metadata": {
        "id": "FQH4DciybZp1"
      }
    },
    {
      "cell_type": "code",
      "source": [
        "race_make_up_features = race_make_up.iloc[:, :-1]\n",
        "race_make_up_target = race_make_up.iloc[:, -1]\n",
        "X_train_1, X_test_1, Y_train_1, Y_test_1 = train_test_split(race_make_up_features, race_make_up_target, test_size=0.2, random_state=1)\n",
        "\n",
        "f1_1 = []\n",
        "for i in range(1,40):\n",
        "    neigh_1 = KNeighborsClassifier(n_neighbors = i).fit(X_train_1,Y_train_1)\n",
        "    yhat_1 = neigh_1.predict(X_test_1)\n",
        "    f1_1.append(metrics.f1_score(Y_test_1, yhat_1, average='macro'))\n",
        "print(\"Maximum f1:-\",max(f1_1),\"at K =\",f1_1.index(max(f1_1))+1)\n",
        "\n",
        "MCC_1 = []\n",
        "for i in range (1,40):\n",
        "    neigh_1 = KNeighborsClassifier(n_neighbors = i).fit(X_train_1,Y_train_1)\n",
        "    yhat_1 = neigh_1.predict(X_test_1)\n",
        "    MCC_1.append(matthews_corrcoef(Y_test_1, yhat_1))\n",
        "print(\"Maximum MCC:-\",max(MCC_1),\"at K =\",MCC_1.index(max(MCC_1))+1)\n"
      ],
      "metadata": {
        "colab": {
          "base_uri": "https://localhost:8080/"
        },
        "id": "irWT7Dxjlqp0",
        "outputId": "3a40c7b2-f055-464b-96f3-36bd4f0920c9"
      },
      "execution_count": 178,
      "outputs": [
        {
          "output_type": "stream",
          "name": "stdout",
          "text": [
            "Maximum f1:- 0.521117446106566 at K = 34\n",
            "Maximum MCC:- 0.38559050805530404 at K = 15\n"
          ]
        }
      ]
    },
    {
      "cell_type": "code",
      "source": [
        "#Since our metrics are not aligned, we will check the value of f1 at K=15 and MCC at 34. Since f1 decreases the least, we will choose the value of K=14\n",
        "print(f1_1[14])\n",
        "print(MCC_1[33])"
      ],
      "metadata": {
        "colab": {
          "base_uri": "https://localhost:8080/"
        },
        "id": "UO7kA6Gcify1",
        "outputId": "7e4d0477-5058-49f6-92c1-4370528e6692"
      },
      "execution_count": 179,
      "outputs": [
        {
          "output_type": "stream",
          "name": "stdout",
          "text": [
            "0.5202506385696041\n",
            "0.3789819840980904\n"
          ]
        }
      ]
    },
    {
      "cell_type": "code",
      "source": [
        "age_features = age.iloc[:, :-1]\n",
        "age_target = age.iloc[:, -1]\n",
        "X_train_2, X_test_2, Y_train_2, Y_test_2 = train_test_split(age_features, age_target, test_size=0.2, random_state=1)\n",
        "\n",
        "f1_2 = []\n",
        "for i in range(1,40):\n",
        "    neigh_2 = KNeighborsClassifier(n_neighbors = i).fit(X_train_2,Y_train_2)\n",
        "    yhat_2 = neigh_2.predict(X_test_2)\n",
        "    f1_2.append(metrics.f1_score(Y_test_2, yhat_2, average='macro'))\n",
        "print(\"Maximum f1:-\",max(f1_2),\"at K =\",f1_2.index(max(f1_2))+1)\n",
        "\n",
        "MCC_2 = []\n",
        "for i in range (1,40):\n",
        "    neigh_2 = KNeighborsClassifier(n_neighbors = i).fit(X_train_2,Y_train_2)\n",
        "    yhat_2 = neigh_2.predict(X_test_2)\n",
        "    MCC_2.append(matthews_corrcoef(Y_test_2, yhat_2))\n",
        "print(\"Maximum MCC:-\",max(MCC_2),\"at K =\",MCC_2.index(max(MCC_2))+1)\n"
      ],
      "metadata": {
        "colab": {
          "base_uri": "https://localhost:8080/"
        },
        "id": "J2WKyaNKpVRH",
        "outputId": "d20f6055-b4a5-46d6-f7ce-00bdd595dca6"
      },
      "execution_count": 180,
      "outputs": [
        {
          "output_type": "stream",
          "name": "stdout",
          "text": [
            "Maximum f1:- 0.4283741175406801 at K = 1\n",
            "Maximum MCC:- 0.2329429912558172 at K = 15\n"
          ]
        }
      ]
    },
    {
      "cell_type": "code",
      "source": [
        "#Based on the values of of f1, MCC, and the error, f1 decreased the least when at K=15 and we will therefore choose K=15.\n",
        "print(f1_2[14])\n",
        "print(MCC_2[0])\n"
      ],
      "metadata": {
        "colab": {
          "base_uri": "https://localhost:8080/"
        },
        "id": "f8iifPx-jGqH",
        "outputId": "4299f728-3fb8-484f-8067-431a80ea3457"
      },
      "execution_count": 181,
      "outputs": [
        {
          "output_type": "stream",
          "name": "stdout",
          "text": [
            "0.4189576375014616\n",
            "0.20980974480550008\n"
          ]
        }
      ]
    },
    {
      "cell_type": "code",
      "source": [
        "urban_factors_features = urban_factors.iloc[:, :-1]\n",
        "urban_factors_target = urban_factors.iloc[:, -1]\n",
        "X_train_3, X_test_3, Y_train_3, Y_test_3 = train_test_split(urban_factors_features, urban_factors_target, test_size=0.2, random_state=1)\n",
        "\n",
        "f1_3 = []\n",
        "for i in range(1,40):\n",
        "    neigh_3 = KNeighborsClassifier(n_neighbors = i).fit(X_train_3,Y_train_3)\n",
        "    yhat_3 = neigh_3.predict(X_test_3)\n",
        "    f1_3.append(metrics.f1_score(Y_test_3, yhat_3, average='macro'))\n",
        "print(\"Maximum f1:-\",max(f1_3),\"at K =\",f1_3.index(max(f1_3))+1)\n",
        "\n",
        "MCC_3 = []\n",
        "for i in range (1,40):\n",
        "    neigh = KNeighborsClassifier(n_neighbors = i).fit(X_train_3,Y_train_3)\n",
        "    yhat_3 = neigh.predict(X_test_3)\n",
        "    MCC_3.append(matthews_corrcoef(Y_test_3, yhat_3))\n",
        "print(\"Maximum MCC:-\",max(MCC_3),\"at K =\",MCC_3.index(max(MCC_3))+1)"
      ],
      "metadata": {
        "colab": {
          "base_uri": "https://localhost:8080/"
        },
        "id": "KuRcp8dnpvgF",
        "outputId": "de60c9fc-f459-4820-b118-b82071d943d5"
      },
      "execution_count": 182,
      "outputs": [
        {
          "output_type": "stream",
          "name": "stdout",
          "text": [
            "Maximum f1:- 0.43059952790438166 at K = 1\n",
            "Maximum MCC:- 0.29171309092878245 at K = 20\n"
          ]
        }
      ]
    },
    {
      "cell_type": "code",
      "source": [
        "#One again, f1 decreases the least and so we should choose K=20\n",
        "print(f1_3[19])\n",
        "print(MCC_3[0])"
      ],
      "metadata": {
        "colab": {
          "base_uri": "https://localhost:8080/"
        },
        "id": "nqfcFUMElUn0",
        "outputId": "fc4dc5f9-b6d3-4657-e75f-77857f99399b"
      },
      "execution_count": 183,
      "outputs": [
        {
          "output_type": "stream",
          "name": "stdout",
          "text": [
            "0.42882258170239046\n",
            "0.19555178465858059\n"
          ]
        }
      ]
    },
    {
      "cell_type": "code",
      "source": [
        "#After my initial code threw an error I investigated this group and saw that there was one NA value I have to deal with.\n",
        "income_factors.isna().sum()"
      ],
      "metadata": {
        "colab": {
          "base_uri": "https://localhost:8080/"
        },
        "id": "hA4nQHnqcAhe",
        "outputId": "9f54618a-472a-4324-cefd-effb2c96ea6a"
      },
      "execution_count": 185,
      "outputs": [
        {
          "output_type": "execute_result",
          "data": {
            "text/plain": [
              "medIncome        0\n",
              "pctWWage         0\n",
              "pctWFarmSelf     0\n",
              "pctWInvInc       0\n",
              "pctWSocSec       0\n",
              "pctWPubAsst      0\n",
              "pctWRetire       0\n",
              "medFamInc        0\n",
              "perCapInc        0\n",
              "whitePerCap      0\n",
              "blackPerCap      0\n",
              "indianPerCap     0\n",
              "AsianPerCap      0\n",
              "OtherPerCap      1\n",
              "HispPerCap       0\n",
              "CrimeCategory    0\n",
              "dtype: int64"
            ]
          },
          "metadata": {},
          "execution_count": 185
        }
      ]
    },
    {
      "cell_type": "code",
      "source": [
        "#I chose to fill it with a value from the exisiting attribute as replacing one value shouldn't have a large impact on the model training.\n",
        "income_factors.fillna(income_factors.select_dtypes(include='object').mode().iloc[0], inplace=True)\n",
        "income_factors.isna().sum()"
      ],
      "metadata": {
        "colab": {
          "base_uri": "https://localhost:8080/"
        },
        "id": "sABkxYMlcM-G",
        "outputId": "b7411bbf-3dc7-4b57-fd3f-e1a734640a9c"
      },
      "execution_count": 186,
      "outputs": [
        {
          "output_type": "stream",
          "name": "stderr",
          "text": [
            "<ipython-input-186-cce70e217134>:2: SettingWithCopyWarning: \n",
            "A value is trying to be set on a copy of a slice from a DataFrame\n",
            "\n",
            "See the caveats in the documentation: https://pandas.pydata.org/pandas-docs/stable/user_guide/indexing.html#returning-a-view-versus-a-copy\n",
            "  income_factors.fillna(income_factors.select_dtypes(include='object').mode().iloc[0], inplace=True)\n"
          ]
        },
        {
          "output_type": "execute_result",
          "data": {
            "text/plain": [
              "medIncome        0\n",
              "pctWWage         0\n",
              "pctWFarmSelf     0\n",
              "pctWInvInc       0\n",
              "pctWSocSec       0\n",
              "pctWPubAsst      0\n",
              "pctWRetire       0\n",
              "medFamInc        0\n",
              "perCapInc        0\n",
              "whitePerCap      0\n",
              "blackPerCap      0\n",
              "indianPerCap     0\n",
              "AsianPerCap      0\n",
              "OtherPerCap      0\n",
              "HispPerCap       0\n",
              "CrimeCategory    0\n",
              "dtype: int64"
            ]
          },
          "metadata": {},
          "execution_count": 186
        }
      ]
    },
    {
      "cell_type": "code",
      "source": [
        "income_factors_features = income_factors.iloc[:, :-1]\n",
        "income_factors_target = income_factors.iloc[:, -1]\n",
        "X_train_4, X_test_4, Y_train_4, Y_test_4 = train_test_split(income_factors_features, income_factors_target, test_size=0.2, random_state=1)\n",
        "\n",
        "f1_4 = []\n",
        "for i in range(1,40):\n",
        "    neigh_4 = KNeighborsClassifier(n_neighbors = i).fit(X_train_4,Y_train_4)\n",
        "    yhat_4 = neigh_4.predict(X_test_4)\n",
        "    f1_4.append(metrics.f1_score(Y_test_4, yhat_4, average='macro'))\n",
        "print(\"Maximum f1:-\",max(f1_4),\"at K =\",f1_4.index(max(f1_4))+1)\n",
        "\n",
        "MCC_4 = []\n",
        "for i in range (1,40):\n",
        "    neigh_4 = KNeighborsClassifier(n_neighbors = i).fit(X_train_4,Y_train_4)\n",
        "    yhat_4 = neigh_4.predict(X_test_4)\n",
        "    MCC_4.append(matthews_corrcoef(Y_test_4, yhat_4))\n",
        "print(\"Maximum MCC:-\",max(MCC_4),\"at K =\",MCC_4.index(max(MCC_4))+1)"
      ],
      "metadata": {
        "colab": {
          "base_uri": "https://localhost:8080/"
        },
        "id": "Iej4Avkbp28o",
        "outputId": "f236b6a7-dfee-4f7d-ea60-af0b094d2140"
      },
      "execution_count": 188,
      "outputs": [
        {
          "output_type": "stream",
          "name": "stdout",
          "text": [
            "Maximum f1:- 0.5415680776446296 at K = 3\n",
            "Maximum MCC:- 0.4083493151020328 at K = 5\n"
          ]
        }
      ]
    },
    {
      "cell_type": "code",
      "source": [
        "#Since MCC changed the least, we will choose K=3.\n",
        "print(f1_4[4])\n",
        "print(MCC_4[2])"
      ],
      "metadata": {
        "colab": {
          "base_uri": "https://localhost:8080/"
        },
        "id": "_7RChOtKlnac",
        "outputId": "ba88423d-30c9-4533-8ede-ea2ceafcf892"
      },
      "execution_count": 189,
      "outputs": [
        {
          "output_type": "stream",
          "name": "stdout",
          "text": [
            "0.5108225108225108\n",
            "0.3979369589985626\n"
          ]
        }
      ]
    },
    {
      "cell_type": "code",
      "source": [
        "poverty_features = poverty.iloc[:, :-1]\n",
        "poverty_target = poverty.iloc[:, -1]\n",
        "X_train_5, X_test_5, Y_train_5, Y_test_5 = train_test_split(poverty_features, poverty_target, test_size=0.2, random_state=1)\n",
        "\n",
        "f1_5 = []\n",
        "for i in range(1,40):\n",
        "    neigh_5 = KNeighborsClassifier(n_neighbors = i).fit(X_train_5, Y_train_5)\n",
        "    yhat_5 = neigh_5.predict(X_test_5)\n",
        "    f1_5.append(metrics.f1_score(Y_test_5, yhat_5, average='macro'))\n",
        "print(\"Maximum f1:-\",max(f1_5),\"at K =\",f1_5.index(max(f1_5))+1)\n",
        "\n",
        "MCC_5 = []\n",
        "for i in range (1,40):\n",
        "    neigh_5 = KNeighborsClassifier(n_neighbors = i).fit(X_train_5,Y_train_5)\n",
        "    yhat_5 = neigh_5.predict(X_test_5)\n",
        "    MCC_5.append(matthews_corrcoef(Y_test_5, yhat_5))\n",
        "print(\"Maximum MCC:-\",max(MCC_5),\"at K =\",MCC_5.index(max(MCC_5))+1)"
      ],
      "metadata": {
        "id": "sPTAH_wfwjuG",
        "colab": {
          "base_uri": "https://localhost:8080/"
        },
        "outputId": "ecafdeac-4888-40dc-f781-f5147e97cdeb"
      },
      "execution_count": 190,
      "outputs": [
        {
          "output_type": "stream",
          "name": "stdout",
          "text": [
            "Maximum f1:- 0.5068549485940791 at K = 15\n",
            "Maximum MCC:- 0.40580141205424297 at K = 38\n"
          ]
        }
      ]
    },
    {
      "cell_type": "code",
      "source": [
        "#f1 decreased the least and therefore we should choose K=38\n",
        "print(f1_5[37])\n",
        "print(MCC_5[14])"
      ],
      "metadata": {
        "colab": {
          "base_uri": "https://localhost:8080/"
        },
        "id": "OfrC5D21l7JK",
        "outputId": "cdde0fad-5cd9-427d-e4d1-8f4b1e02f967"
      },
      "execution_count": 191,
      "outputs": [
        {
          "output_type": "stream",
          "name": "stdout",
          "text": [
            "0.48571069656428617\n",
            "0.3788618865443606\n"
          ]
        }
      ]
    },
    {
      "cell_type": "code",
      "source": [
        "education_features = education.iloc[:, :-1]\n",
        "education_target = education.iloc[:, -1]\n",
        "X_train_6, X_test_6, Y_train_6, Y_test_6 = train_test_split(education_features, education_target, test_size=0.2, random_state=1)\n",
        "\n",
        "f1_6 = []\n",
        "for i in range(1,40):\n",
        "    neigh_6 = KNeighborsClassifier(n_neighbors = i).fit(X_train_6, Y_train_6)\n",
        "    yhat_6 = neigh_6.predict(X_test_6)\n",
        "    f1_6.append(metrics.f1_score(Y_test_6, yhat_6, average='macro'))\n",
        "print(\"Maximum f1:-\",max(f1_6),\"at K =\",f1_6.index(max(f1_6))+1)\n",
        "\n",
        "MCC_6 = []\n",
        "for i in range (1,40):\n",
        "    neigh_6 = KNeighborsClassifier(n_neighbors = i).fit(X_train_6,Y_train_6)\n",
        "    yhat_6 = neigh_6.predict(X_test_6)\n",
        "    MCC_6.append(matthews_corrcoef(Y_test_6, yhat_6))\n",
        "print(\"Maximum MCC:-\",max(MCC_6),\"at K =\",MCC_6.index(max(MCC_6))+1)"
      ],
      "metadata": {
        "id": "Fpc7q2OfwxEw",
        "colab": {
          "base_uri": "https://localhost:8080/"
        },
        "outputId": "f08b4d05-dd96-4a67-baef-95a0e0d9a45e"
      },
      "execution_count": 192,
      "outputs": [
        {
          "output_type": "stream",
          "name": "stdout",
          "text": [
            "Maximum f1:- 0.4617581063839149 at K = 4\n",
            "Maximum MCC:- 0.282575488666128 at K = 37\n"
          ]
        }
      ]
    },
    {
      "cell_type": "code",
      "source": [
        "#MCC decreased the least and therefore we will use K=4\n",
        "print(f1_6[36])\n",
        "print(MCC_6[3])"
      ],
      "metadata": {
        "colab": {
          "base_uri": "https://localhost:8080/"
        },
        "id": "w7cOpgkFmQLY",
        "outputId": "1869bb7f-da97-4913-cf11-b5b08209d415"
      },
      "execution_count": 193,
      "outputs": [
        {
          "output_type": "stream",
          "name": "stdout",
          "text": [
            "0.42394487510766576\n",
            "0.2709155728783489\n"
          ]
        }
      ]
    },
    {
      "cell_type": "code",
      "source": [
        "employment_features = employment.iloc[:, :-1]\n",
        "employment_target = employment.iloc[:, -1]\n",
        "X_train_7, X_test_7, Y_train_7, Y_test_7 = train_test_split(employment_features, employment_target, test_size=0.2, random_state=1)\n",
        "\n",
        "f1_7 = []\n",
        "for i in range(1,40):\n",
        "    neigh_7 = KNeighborsClassifier(n_neighbors = i).fit(X_train_7, Y_train_7)\n",
        "    yhat_7 = neigh_7.predict(X_test_7)\n",
        "    f1_7.append(metrics.f1_score(Y_test_7, yhat_7, average='macro'))\n",
        "print(\"Maximum f1:-\",max(f1_7),\"at K =\",f1_7.index(max(f1_7))+1)\n",
        "\n",
        "MCC_7 = []\n",
        "for i in range (1,40):\n",
        "    neigh_7 = KNeighborsClassifier(n_neighbors = i).fit(X_train_7,Y_train_7)\n",
        "    yhat_7 = neigh_7.predict(X_test_7)\n",
        "    MCC_7.append(matthews_corrcoef(Y_test_7, yhat_7))\n",
        "print(\"Maximum MCC:-\",max(MCC_7),\"at K =\",MCC_7.index(max(MCC_7))+1)\n"
      ],
      "metadata": {
        "id": "8qFS5NX0xAyb",
        "colab": {
          "base_uri": "https://localhost:8080/"
        },
        "outputId": "8a02b9ca-5c7c-41d5-a57b-1ef3c0d07988"
      },
      "execution_count": 194,
      "outputs": [
        {
          "output_type": "stream",
          "name": "stdout",
          "text": [
            "Maximum f1:- 0.4448470209339775 at K = 10\n",
            "Maximum MCC:- 0.29096995493742384 at K = 30\n"
          ]
        }
      ]
    },
    {
      "cell_type": "code",
      "source": [
        "#f1 decreased the least and therefore we will use K=30\n",
        "print(f1_7[29])\n",
        "print(MCC_7[9])"
      ],
      "metadata": {
        "colab": {
          "base_uri": "https://localhost:8080/"
        },
        "id": "cNTzMnMEmxEs",
        "outputId": "c5da87c3-d2a7-44fb-9654-d08946232d82"
      },
      "execution_count": 195,
      "outputs": [
        {
          "output_type": "stream",
          "name": "stdout",
          "text": [
            "0.4363815959528821\n",
            "0.24761084693966026\n"
          ]
        }
      ]
    },
    {
      "cell_type": "code",
      "source": [
        "marriage_factors_features = marriage_factors.iloc[:, :-1]\n",
        "marriage_factors_target = marriage_factors.iloc[:, -1]\n",
        "X_train_8, X_test_8, Y_train_8, Y_test_8 = train_test_split(marriage_factors_features, marriage_factors_target, test_size=0.2, random_state=1)\n",
        "f1_8 = []\n",
        "for i in range(1,40):\n",
        "    neigh_8 = KNeighborsClassifier(n_neighbors = i).fit(X_train_8, Y_train_8)\n",
        "    yhat_8 = neigh_8.predict(X_test_8)\n",
        "    f1_8.append(metrics.f1_score(Y_test_8, yhat_8, average='macro'))\n",
        "print(\"Maximum f1:-\",max(f1_8),\"at K =\",f1_8.index(max(f1_8))+1)\n",
        "\n",
        "MCC_8 = []\n",
        "for i in range (1,40):\n",
        "    neigh_8 = KNeighborsClassifier(n_neighbors = i).fit(X_train_8,Y_train_8)\n",
        "    yhat_8 = neigh_8.predict(X_test_8)\n",
        "    MCC_8.append(matthews_corrcoef(Y_test_8, yhat_8))\n",
        "print(\"Maximum MCC:-\",max(MCC_8),\"at K =\",MCC_8.index(max(MCC_8))+1)"
      ],
      "metadata": {
        "id": "BkSx6-ZtxYGy",
        "colab": {
          "base_uri": "https://localhost:8080/"
        },
        "outputId": "0b0d6abe-5566-4965-d423-b0de157baeef"
      },
      "execution_count": 196,
      "outputs": [
        {
          "output_type": "stream",
          "name": "stdout",
          "text": [
            "Maximum f1:- 0.5073006473253198 at K = 7\n",
            "Maximum MCC:- 0.37001572975359515 at K = 20\n"
          ]
        }
      ]
    },
    {
      "cell_type": "code",
      "source": [
        "#f1 decreased the least so we will use K=20\n",
        "print(f1_8[19])\n",
        "print(MCC_8[6])"
      ],
      "metadata": {
        "colab": {
          "base_uri": "https://localhost:8080/"
        },
        "id": "Hz0ff5SEm60H",
        "outputId": "cbd267de-f3ac-4b8a-df66-3ba2f850baaf"
      },
      "execution_count": 197,
      "outputs": [
        {
          "output_type": "stream",
          "name": "stdout",
          "text": [
            "0.4834759877721419\n",
            "0.34829425735456354\n"
          ]
        }
      ]
    },
    {
      "cell_type": "code",
      "source": [
        "#Since the two evaluation metrics are aligned, we will use K=9.\n",
        "domestic_factors_features = domestic_factors.iloc[:, :-1]\n",
        "domestic_factors_target = domestic_factors.iloc[:, -1]\n",
        "X_train_9, X_test_9, Y_train_9, Y_test_9 = train_test_split(domestic_factors_features, domestic_factors_target, test_size=0.2, random_state=1)\n",
        "\n",
        "f1_9 = []\n",
        "for i in range(1,40):\n",
        "    neigh_9 = KNeighborsClassifier(n_neighbors = i).fit(X_train_9, Y_train_9)\n",
        "    yhat_9 = neigh_9.predict(X_test_9)\n",
        "    f1_9.append(metrics.f1_score(Y_test_9, yhat_9, average='macro'))\n",
        "print(\"Maximum f1:-\",max(f1_9),\"at K =\",f1_9.index(max(f1_9))+1)\n",
        "\n",
        "MCC_9 = []\n",
        "for i in range (1,40):\n",
        "    neigh_9 = KNeighborsClassifier(n_neighbors = i).fit(X_train_9,Y_train_9)\n",
        "    yhat_9 = neigh_9.predict(X_test_9)\n",
        "    MCC_9.append(matthews_corrcoef(Y_test_9, yhat_9))\n",
        "print(\"Maximum MCC:-\",max(MCC_9),\"at K =\",MCC_9.index(max(MCC_9))+1)"
      ],
      "metadata": {
        "id": "lfWq1I34xhUU",
        "colab": {
          "base_uri": "https://localhost:8080/"
        },
        "outputId": "a6f02b12-739e-46f5-c1fe-6cc596455487"
      },
      "execution_count": 198,
      "outputs": [
        {
          "output_type": "stream",
          "name": "stdout",
          "text": [
            "Maximum f1:- 0.5707643237204927 at K = 9\n",
            "Maximum MCC:- 0.47572260642453373 at K = 9\n"
          ]
        }
      ]
    },
    {
      "cell_type": "code",
      "source": [
        "#Since the metrics are aligned, we will use K=3\n",
        "immigration_features = immigration.iloc[:, :-1]\n",
        "immigration_target = immigration.iloc[:, -1]\n",
        "X_train_10, X_test_10, Y_train_10, Y_test_10 = train_test_split(immigration_features, immigration_target, test_size=0.2, random_state=1)\n",
        "\n",
        "f1_10 = []\n",
        "for i in range(1,40):\n",
        "    neigh_10 = KNeighborsClassifier(n_neighbors = i).fit(X_train_10, Y_train_10)\n",
        "    yhat_10 = neigh_10.predict(X_test_10)\n",
        "    f1_10.append(metrics.f1_score(Y_test_10, yhat_10, average='macro'))\n",
        "print(\"Maximum f1:-\",max(f1_10),\"at K =\",f1_10.index(max(f1_10))+1)\n",
        "\n",
        "MCC_10 = []\n",
        "for i in range (1,40):\n",
        "    neigh_10 = KNeighborsClassifier(n_neighbors = i).fit(X_train_10,Y_train_10)\n",
        "    yhat_10 = neigh_10.predict(X_test_10)\n",
        "    MCC_10.append(matthews_corrcoef(Y_test_10, yhat_10))\n",
        "print(\"Maximum MCC:-\",max(MCC_10),\"at K =\",MCC_10.index(max(MCC_10))+1)"
      ],
      "metadata": {
        "id": "BdDFJxc6xpDc",
        "colab": {
          "base_uri": "https://localhost:8080/"
        },
        "outputId": "9eb5a179-9a7a-4df8-bef1-d4afa9387c49"
      },
      "execution_count": 199,
      "outputs": [
        {
          "output_type": "stream",
          "name": "stdout",
          "text": [
            "Maximum f1:- 0.44034400547332103 at K = 3\n",
            "Maximum MCC:- 0.23009515476428155 at K = 3\n"
          ]
        }
      ]
    },
    {
      "cell_type": "code",
      "source": [
        "#Since the metrics are aligned, we will use K=7\n",
        "english_proficiency_features = english_proficiency.iloc[:, :-1]\n",
        "english_proficiency_target = english_proficiency.iloc[:, -1]\n",
        "X_train_11, X_test_11, Y_train_11, Y_test_11 = train_test_split(english_proficiency_features, english_proficiency_target, test_size=0.2, random_state=1)\n",
        "\n",
        "f1_11 = []\n",
        "for i in range(1,40):\n",
        "    neigh_11 = KNeighborsClassifier(n_neighbors = i).fit(X_train_11, Y_train_11)\n",
        "    yhat_11 = neigh_11.predict(X_test_11)\n",
        "    f1_11.append(metrics.f1_score(Y_test_11, yhat_11, average='macro'))\n",
        "print(\"Maximum f1:-\",max(f1_11),\"at K =\",f1_11.index(max(f1_11))+1)\n",
        "\n",
        "MCC_11 = []\n",
        "for i in range (1,40):\n",
        "    neigh_11 = KNeighborsClassifier(n_neighbors = i).fit(X_train_11,Y_train_11)\n",
        "    yhat_11 = neigh_11.predict(X_test_11)\n",
        "    MCC_11.append(matthews_corrcoef(Y_test_11, yhat_11))\n",
        "print(\"Maximum MCC:-\",max(MCC_11),\"at K =\",MCC_11.index(max(MCC_11))+1)"
      ],
      "metadata": {
        "id": "lSxJPzI3xxVr",
        "colab": {
          "base_uri": "https://localhost:8080/"
        },
        "outputId": "e38826a7-579e-4ef0-bd27-9c5837da72fa"
      },
      "execution_count": 200,
      "outputs": [
        {
          "output_type": "stream",
          "name": "stdout",
          "text": [
            "Maximum f1:- 0.42106876964448176 at K = 7\n",
            "Maximum MCC:- 0.20002387427440038 at K = 7\n"
          ]
        }
      ]
    },
    {
      "cell_type": "code",
      "source": [
        "#Since the metrics are aligned we will use K=12\n",
        "housing_factors_features = housing_factors.iloc[:, :-1]\n",
        "housing_factors_target = housing_factors.iloc[:, -1]\n",
        "X_train_12, X_test_12, Y_train_12, Y_test_12 = train_test_split(housing_factors_features, housing_factors_target, test_size=0.2, random_state=1)\n",
        "\n",
        "f1_12 = []\n",
        "for i in range(1,40):\n",
        "    neigh_12 = KNeighborsClassifier(n_neighbors = i).fit(X_train_12, Y_train_12)\n",
        "    yhat_12 = neigh_12.predict(X_test_12)\n",
        "    f1_12.append(metrics.f1_score(Y_test_12, yhat_12, average='macro'))\n",
        "print(\"Maximum f1:-\",max(f1_12),\"at K =\",f1_12.index(max(f1_12))+1)\n",
        "\n",
        "MCC_12 = []\n",
        "for i in range (1,40):\n",
        "    neigh_12 = KNeighborsClassifier(n_neighbors = i).fit(X_train_12,Y_train_12)\n",
        "    yhat_12 = neigh_12.predict(X_test_12)\n",
        "    MCC_12.append(matthews_corrcoef(Y_test_12, yhat_12))\n",
        "print(\"Maximum MCC:-\",max(MCC_12),\"at K =\",MCC_12.index(max(MCC_12))+1)"
      ],
      "metadata": {
        "id": "MiMa4Uf5x9yT",
        "colab": {
          "base_uri": "https://localhost:8080/"
        },
        "outputId": "17ffceea-b7d1-479a-d4e5-eb3695ac8eed"
      },
      "execution_count": 201,
      "outputs": [
        {
          "output_type": "stream",
          "name": "stdout",
          "text": [
            "Maximum f1:- 0.5753078756929847 at K = 12\n",
            "Maximum MCC:- 0.47505750255066576 at K = 12\n"
          ]
        }
      ]
    },
    {
      "cell_type": "code",
      "source": [
        "housing_cost_features = housing_cost.iloc[:, :-1]\n",
        "housing_cost_target = housing_cost.iloc[:, -1]\n",
        "X_train_13, X_test_13, Y_train_13, Y_test_13 = train_test_split(housing_cost_features, housing_cost_target, test_size=0.2, random_state=1)\n",
        "\n",
        "f1_13 = []\n",
        "for i in range(1,40):\n",
        "    neigh_13 = KNeighborsClassifier(n_neighbors = i).fit(X_train_13, Y_train_13)\n",
        "    yhat_13 = neigh_13.predict(X_test_13)\n",
        "    f1_13.append(metrics.f1_score(Y_test_13, yhat_13, average='macro'))\n",
        "print(\"Maximum f1:-\",max(f1_13),\"at K =\",f1_13.index(max(f1_13))+1)\n",
        "\n",
        "MCC_13 = []\n",
        "for i in range (1,40):\n",
        "    neigh_13 = KNeighborsClassifier(n_neighbors = i).fit(X_train_13,Y_train_13)\n",
        "    yhat_13 = neigh_13.predict(X_test_13)\n",
        "    MCC_13.append(matthews_corrcoef(Y_test_13, yhat_13))\n",
        "print(\"Maximum MCC:-\",max(MCC_13),\"at K =\",MCC_13.index(max(MCC_13))+1)"
      ],
      "metadata": {
        "id": "Vf1T2dwAyF71",
        "colab": {
          "base_uri": "https://localhost:8080/"
        },
        "outputId": "c5b631c3-a203-4717-aa38-1114e0e8c58c"
      },
      "execution_count": 202,
      "outputs": [
        {
          "output_type": "stream",
          "name": "stdout",
          "text": [
            "Maximum f1:- 0.4378404989405944 at K = 3\n",
            "Maximum MCC:- 0.24098284559866462 at K = 21\n"
          ]
        }
      ]
    },
    {
      "cell_type": "code",
      "source": [
        "#Since MCC decreased the least, we will use K=3\n",
        "print(f1_13[20])\n",
        "print(MCC_13[2])"
      ],
      "metadata": {
        "colab": {
          "base_uri": "https://localhost:8080/"
        },
        "id": "401YL7tun_87",
        "outputId": "ccdfd177-2c6a-4104-dd24-9abd972a577c"
      },
      "execution_count": 203,
      "outputs": [
        {
          "output_type": "stream",
          "name": "stdout",
          "text": [
            "0.4041276021654115\n",
            "0.2346146708032485\n"
          ]
        }
      ]
    },
    {
      "cell_type": "code",
      "source": [
        "unhoused_features = unhoused.iloc[:, :-1]\n",
        "unhoused_target = unhoused.iloc[:, -1]\n",
        "X_train_14, X_test_14, Y_train_14, Y_test_14 = train_test_split(unhoused_features, unhoused_target, test_size=0.2, random_state=1)\n",
        "\n",
        "f1_14 = []\n",
        "for i in range(1,40):\n",
        "    neigh_14 = KNeighborsClassifier(n_neighbors = i).fit(X_train_14, Y_train_14)\n",
        "    yhat_14 = neigh_14.predict(X_test_14)\n",
        "    f1_14.append(metrics.f1_score(Y_test_14, yhat_14, average='macro'))\n",
        "print(\"Maximum f1:-\",max(f1_14),\"at K =\",f1_14.index(max(f1_14))+1)\n",
        "\n",
        "MCC_14 = []\n",
        "for i in range (1,40):\n",
        "    neigh_14 = KNeighborsClassifier(n_neighbors = i).fit(X_train_14,Y_train_14)\n",
        "    yhat_14 = neigh_14.predict(X_test_14)\n",
        "    MCC_14.append(matthews_corrcoef(Y_test_14, yhat_14))\n",
        "print(\"Maximum MCC:-\",max(MCC_14),\"at K =\",MCC_14.index(max(MCC_14))+1)"
      ],
      "metadata": {
        "id": "_rnCXxPryOPa",
        "colab": {
          "base_uri": "https://localhost:8080/"
        },
        "outputId": "fdd0c4a1-7ca3-48d3-b133-c3f3c3ca2dca"
      },
      "execution_count": 204,
      "outputs": [
        {
          "output_type": "stream",
          "name": "stdout",
          "text": [
            "Maximum f1:- 0.5163675500968486 at K = 9\n",
            "Maximum MCC:- 0.3892612888492211 at K = 7\n"
          ]
        }
      ]
    },
    {
      "cell_type": "code",
      "source": [
        "#MCC decreased the least so we will use K=9\n",
        "print(f1_14[6])\n",
        "print(MCC_14[8])"
      ],
      "metadata": {
        "colab": {
          "base_uri": "https://localhost:8080/"
        },
        "id": "SQmXF1akoNFM",
        "outputId": "1759e02a-2b81-4135-954f-63577e9359b8"
      },
      "execution_count": 205,
      "outputs": [
        {
          "output_type": "stream",
          "name": "stdout",
          "text": [
            "0.513540969595364\n",
            "0.3880183407634416\n"
          ]
        }
      ]
    },
    {
      "cell_type": "code",
      "source": [
        "#The metrics are aligned and we will use K=3\n",
        "mobility_features = mobility.iloc[:, :-1]\n",
        "mobility_target = mobility.iloc[:, -1]\n",
        "X_train_15, X_test_15, Y_train_15, Y_test_15 = train_test_split(mobility_features, mobility_target, test_size=0.2, random_state=1)\n",
        "f1_15 = []\n",
        "for i in range(1,40):\n",
        "    neigh_15 = KNeighborsClassifier(n_neighbors = i).fit(X_train_15, Y_train_15)\n",
        "    yhat_15 = neigh_15.predict(X_test_15)\n",
        "    f1_15.append(metrics.f1_score(Y_test_15, yhat_15, average='macro'))\n",
        "print(\"Maximum f1:-\",max(f1_15),\"at K =\",f1_15.index(max(f1_15))+1)\n",
        "\n",
        "MCC_15 = []\n",
        "for i in range (1,40):\n",
        "    neigh_15 = KNeighborsClassifier(n_neighbors = i).fit(X_train_15,Y_train_15)\n",
        "    yhat_15 = neigh_15.predict(X_test_15)\n",
        "    MCC_15.append(matthews_corrcoef(Y_test_15, yhat_15))\n",
        "print(\"Maximum MCC:-\",max(MCC_15),\"at K =\",MCC_15.index(max(MCC_15))+1)"
      ],
      "metadata": {
        "id": "zdzcKMwsyWzT",
        "colab": {
          "base_uri": "https://localhost:8080/"
        },
        "outputId": "8735e0f2-9019-4cc4-98b6-5c7bd3272b10"
      },
      "execution_count": 206,
      "outputs": [
        {
          "output_type": "stream",
          "name": "stdout",
          "text": [
            "Maximum f1:- 0.44243961932989606 at K = 3\n",
            "Maximum MCC:- 0.23520868734938197 at K = 3\n"
          ]
        }
      ]
    },
    {
      "cell_type": "code",
      "source": [
        "density_features = density.iloc[:, :-1]\n",
        "density_target = density.iloc[:, -1]\n",
        "X_train_16, X_test_16, Y_train_16, Y_test_16 = train_test_split(density_features, density_target, test_size=0.2, random_state=1)\n",
        "f1_16 = []\n",
        "for i in range(1,40):\n",
        "    neigh_16 = KNeighborsClassifier(n_neighbors = i).fit(X_train_16, Y_train_16)\n",
        "    yhat_16 = neigh_16.predict(X_test_16)\n",
        "    f1_16.append(metrics.f1_score(Y_test_16, yhat_16, average='macro'))\n",
        "print(\"Maximum f1:-\",max(f1_16),\"at K =\",f1_16.index(max(f1_16))+1)\n",
        "\n",
        "MCC_16 = []\n",
        "for i in range (1,40):\n",
        "    neigh_16 = KNeighborsClassifier(n_neighbors = i).fit(X_train_16,Y_train_16)\n",
        "    yhat_16 = neigh_16.predict(X_test_16)\n",
        "    MCC_16.append(matthews_corrcoef(Y_test_16, yhat_16))\n",
        "print(\"Maximum MCC:-\",max(MCC_16),\"at K =\",MCC_16.index(max(MCC_16))+1)"
      ],
      "metadata": {
        "id": "oAThQgF4yxvl",
        "colab": {
          "base_uri": "https://localhost:8080/"
        },
        "outputId": "26585ac9-0cda-461d-81e4-cedae19336d4"
      },
      "execution_count": 208,
      "outputs": [
        {
          "output_type": "stream",
          "name": "stdout",
          "text": [
            "Maximum f1:- 0.4396525215252152 at K = 1\n",
            "Maximum MCC:- 0.2868789244207991 at K = 33\n"
          ]
        }
      ]
    },
    {
      "cell_type": "code",
      "source": [
        "#f1 decreases the least and therefore will use K=33\n",
        "print(f1_16[32])\n",
        "print(MCC_16[0])"
      ],
      "metadata": {
        "colab": {
          "base_uri": "https://localhost:8080/"
        },
        "id": "QIEFQz4Wohle",
        "outputId": "00240591-9339-4c18-e5fe-155e882e7e23"
      },
      "execution_count": 209,
      "outputs": [
        {
          "output_type": "stream",
          "name": "stdout",
          "text": [
            "0.42304976277170914\n",
            "0.1874849417740299\n"
          ]
        }
      ]
    },
    {
      "cell_type": "code",
      "source": [
        "transit_features = transit.iloc[:, :-1]\n",
        "transit_target = transit.iloc[:, -1]\n",
        "X_train_17, X_test_17, Y_train_17, Y_test_17 = train_test_split(transit_features, transit_target, test_size=0.2, random_state=1)\n",
        "\n",
        "f1_17 = []\n",
        "for i in range(1,40):\n",
        "    neigh_17 = KNeighborsClassifier(n_neighbors = i).fit(X_train_17, Y_train_17)\n",
        "    yhat_17 = neigh_17.predict(X_test_17)\n",
        "    f1_17.append(metrics.f1_score(Y_test_17, yhat_17, average='macro'))\n",
        "print(\"Maximum f1:-\",max(f1_17),\"at K =\",f1_17.index(max(f1_17))+1)\n",
        "\n",
        "MCC_17 = []\n",
        "for i in range (1,40):\n",
        "    neigh_17 = KNeighborsClassifier(n_neighbors = i).fit(X_train_17,Y_train_17)\n",
        "    yhat_17 = neigh_17.predict(X_test_17)\n",
        "    MCC_17.append(matthews_corrcoef(Y_test_17, yhat_17))\n",
        "print(\"Maximum MCC:-\",max(MCC_17),\"at K =\",MCC_17.index(max(MCC_17))+1)"
      ],
      "metadata": {
        "id": "HjIwjagTy5pX",
        "colab": {
          "base_uri": "https://localhost:8080/"
        },
        "outputId": "01fed8b0-dde2-405e-8af8-94158455702f"
      },
      "execution_count": 210,
      "outputs": [
        {
          "output_type": "stream",
          "name": "stdout",
          "text": [
            "Maximum f1:- 0.380228525101797 at K = 1\n",
            "Maximum MCC:- 0.13768026196224092 at K = 6\n"
          ]
        }
      ]
    },
    {
      "cell_type": "code",
      "source": [
        "#Since f1 decreases the least, we will take K=6\n",
        "print(f1_17[5])\n",
        "print(MCC_17[0])"
      ],
      "metadata": {
        "colab": {
          "base_uri": "https://localhost:8080/"
        },
        "id": "GL4Fg9OsozS2",
        "outputId": "38b2f801-c19f-4c2a-8e7f-0a00abe40270"
      },
      "execution_count": 211,
      "outputs": [
        {
          "output_type": "stream",
          "name": "stdout",
          "text": [
            "0.3535724026224129\n",
            "0.07963707499213638\n"
          ]
        }
      ]
    },
    {
      "cell_type": "code",
      "source": [
        "policing_features = policing.iloc[:, :-1]\n",
        "policing_target = policing.iloc[:, -1]\n",
        "X_train_18, X_test_18, Y_train_18, Y_test_18 = train_test_split(policing_features, policing_target, test_size=0.2, random_state=1)\n",
        "\n",
        "f1_18 = []\n",
        "for i in range(1,40):\n",
        "    neigh_18 = KNeighborsClassifier(n_neighbors = i).fit(X_train_18, Y_train_18)\n",
        "    yhat_18 = neigh_18.predict(X_test_18)\n",
        "    f1_18.append(metrics.f1_score(Y_test_18, yhat_18, average='macro'))\n",
        "print(\"Maximum f1:-\",max(f1_18),\"at K =\",f1_18.index(max(f1_18))+1)\n",
        "\n",
        "MCC_18 = []\n",
        "for i in range (1,40):\n",
        "    neigh_18 = KNeighborsClassifier(n_neighbors = i).fit(X_train_18,Y_train_18)\n",
        "    yhat_18 = neigh_18.predict(X_test_18)\n",
        "    MCC_18.append(matthews_corrcoef(Y_test_18, yhat_18))\n",
        "print(\"Maximum MCC:-\",max(MCC_18),\"at K =\",MCC_18.index(max(MCC_18))+1)"
      ],
      "metadata": {
        "colab": {
          "base_uri": "https://localhost:8080/"
        },
        "id": "yt5gJcNTTGz8",
        "outputId": "919115f7-a94f-4061-fb70-a1dba27d3628"
      },
      "execution_count": 212,
      "outputs": [
        {
          "output_type": "stream",
          "name": "stdout",
          "text": [
            "Maximum f1:- 0.4593903407685196 at K = 17\n",
            "Maximum MCC:- 0.36928598432832527 at K = 18\n"
          ]
        }
      ]
    },
    {
      "cell_type": "code",
      "source": [
        "#f1 decreased the least and therefore we will use K=18.\n",
        "print(f1_18[17])\n",
        "print(MCC_18[16])"
      ],
      "metadata": {
        "colab": {
          "base_uri": "https://localhost:8080/"
        },
        "id": "J63fChJJo-PW",
        "outputId": "b2fce494-f2d9-489f-d015-a22edbdf303e"
      },
      "execution_count": 213,
      "outputs": [
        {
          "output_type": "stream",
          "name": "stdout",
          "text": [
            "0.4592467336095521\n",
            "0.358750749261073\n"
          ]
        }
      ]
    }
  ]
}