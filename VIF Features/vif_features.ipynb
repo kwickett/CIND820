{
  "nbformat": 4,
  "nbformat_minor": 0,
  "metadata": {
    "colab": {
      "provenance": []
    },
    "kernelspec": {
      "name": "python3",
      "display_name": "Python 3"
    },
    "language_info": {
      "name": "python"
    }
  },
  "cells": [
    {
      "cell_type": "markdown",
      "source": [
        "# Importing Packages and Prepared Data"
      ],
      "metadata": {
        "id": "Tey1A9mmyKNP"
      }
    },
    {
      "cell_type": "code",
      "execution_count": 1,
      "metadata": {
        "colab": {
          "base_uri": "https://localhost:8080/"
        },
        "id": "rGt7b7ww43Lr",
        "outputId": "189a6bb6-96b3-4880-b56f-473727dc7455"
      },
      "outputs": [
        {
          "output_type": "stream",
          "name": "stdout",
          "text": [
            "Mounted at /content/gdrive\n"
          ]
        }
      ],
      "source": [
        "import numpy as np\n",
        "from numpy import mean, std\n",
        "from scipy.stats import sem\n",
        "import pandas as pd\n",
        "from sklearn.model_selection import train_test_split\n",
        "from sklearn import tree\n",
        "from sklearn.linear_model import LogisticRegression\n",
        "from sklearn.metrics import classification_report\n",
        "from sklearn.metrics import accuracy_score, f1_score, matthews_corrcoef\n",
        "from sklearn.model_selection import RepeatedKFold, RepeatedStratifiedKFold, cross_val_score\n",
        "from sklearn import metrics\n",
        "from sklearn.neighbors import KNeighborsClassifier\n",
        "from matplotlib import pyplot as plt\n",
        "from google.colab import drive\n",
        "drive.mount('/content/gdrive')"
      ]
    },
    {
      "cell_type": "code",
      "source": [
        "#Dropping 'ViolentCrimesPerPop' because it is exactly related to 'CrimeCategory' and will therefore bias the predictive values of the features.\n",
        "vif_df_5 = pd.read_csv(\"/content/gdrive/MyDrive/vif_elimination_5.csv\")\n",
        "vif_df_5 = vif_df_5.drop([\"ViolentCrimesPerPop\"], axis=1)\n",
        "vif_df_5.head()"
      ],
      "metadata": {
        "colab": {
          "base_uri": "https://localhost:8080/",
          "height": 255
        },
        "id": "_URd03-j5ETQ",
        "outputId": "cca7db6e-60dd-47f7-93d3-d463f496aef3"
      },
      "execution_count": 2,
      "outputs": [
        {
          "output_type": "execute_result",
          "data": {
            "text/plain": [
              "   state  fold  racepctblack  racePctAsian  racePctHisp  agePct12t21  \\\n",
              "0      8     1          0.02          0.12         0.17         0.34   \n",
              "1     53     1          0.12          0.45         0.07         0.26   \n",
              "2     24     1          0.49          0.17         0.04         0.39   \n",
              "3     34     1          1.00          0.12         0.10         0.51   \n",
              "4     42     1          0.02          0.09         0.05         0.38   \n",
              "\n",
              "   pctUrban  pctWFarmSelf  pctWPubAsst  pctWRetire  ...  NumStreet  \\\n",
              "0       1.0          0.34         0.15        0.43  ...        0.0   \n",
              "1       1.0          0.11         0.29        0.39  ...        0.0   \n",
              "2       0.0          0.19         0.40        0.84  ...        0.0   \n",
              "3       1.0          0.21         0.20        0.82  ...        0.0   \n",
              "4       0.9          0.16         0.11        0.71  ...        0.0   \n",
              "\n",
              "   PctBornSameState  PctSameHouse85  PctSameCity85  PctSameState85  LandArea  \\\n",
              "0              0.42            0.50           0.51            0.64      0.12   \n",
              "1              0.50            0.34           0.60            0.52      0.02   \n",
              "2              0.49            0.54           0.67            0.56      0.01   \n",
              "3              0.30            0.73           0.64            0.65      0.02   \n",
              "4              0.72            0.64           0.61            0.53      0.04   \n",
              "\n",
              "   PopDens  PctUsePubTrans  LemasPctOfficDrugUn  CrimeCategory  \n",
              "0     0.26            0.20                 0.32       Very Low  \n",
              "1     0.12            0.45                 0.00           High  \n",
              "2     0.21            0.02                 0.00         Medium  \n",
              "3     0.39            0.28                 0.00       Very Low  \n",
              "4     0.09            0.02                 0.00       Very Low  \n",
              "\n",
              "[5 rows x 58 columns]"
            ],
            "text/html": [
              "\n",
              "  <div id=\"df-e7c53558-47c9-45fe-8c5c-53d76c8901c6\" class=\"colab-df-container\">\n",
              "    <div>\n",
              "<style scoped>\n",
              "    .dataframe tbody tr th:only-of-type {\n",
              "        vertical-align: middle;\n",
              "    }\n",
              "\n",
              "    .dataframe tbody tr th {\n",
              "        vertical-align: top;\n",
              "    }\n",
              "\n",
              "    .dataframe thead th {\n",
              "        text-align: right;\n",
              "    }\n",
              "</style>\n",
              "<table border=\"1\" class=\"dataframe\">\n",
              "  <thead>\n",
              "    <tr style=\"text-align: right;\">\n",
              "      <th></th>\n",
              "      <th>state</th>\n",
              "      <th>fold</th>\n",
              "      <th>racepctblack</th>\n",
              "      <th>racePctAsian</th>\n",
              "      <th>racePctHisp</th>\n",
              "      <th>agePct12t21</th>\n",
              "      <th>pctUrban</th>\n",
              "      <th>pctWFarmSelf</th>\n",
              "      <th>pctWPubAsst</th>\n",
              "      <th>pctWRetire</th>\n",
              "      <th>...</th>\n",
              "      <th>NumStreet</th>\n",
              "      <th>PctBornSameState</th>\n",
              "      <th>PctSameHouse85</th>\n",
              "      <th>PctSameCity85</th>\n",
              "      <th>PctSameState85</th>\n",
              "      <th>LandArea</th>\n",
              "      <th>PopDens</th>\n",
              "      <th>PctUsePubTrans</th>\n",
              "      <th>LemasPctOfficDrugUn</th>\n",
              "      <th>CrimeCategory</th>\n",
              "    </tr>\n",
              "  </thead>\n",
              "  <tbody>\n",
              "    <tr>\n",
              "      <th>0</th>\n",
              "      <td>8</td>\n",
              "      <td>1</td>\n",
              "      <td>0.02</td>\n",
              "      <td>0.12</td>\n",
              "      <td>0.17</td>\n",
              "      <td>0.34</td>\n",
              "      <td>1.0</td>\n",
              "      <td>0.34</td>\n",
              "      <td>0.15</td>\n",
              "      <td>0.43</td>\n",
              "      <td>...</td>\n",
              "      <td>0.0</td>\n",
              "      <td>0.42</td>\n",
              "      <td>0.50</td>\n",
              "      <td>0.51</td>\n",
              "      <td>0.64</td>\n",
              "      <td>0.12</td>\n",
              "      <td>0.26</td>\n",
              "      <td>0.20</td>\n",
              "      <td>0.32</td>\n",
              "      <td>Very Low</td>\n",
              "    </tr>\n",
              "    <tr>\n",
              "      <th>1</th>\n",
              "      <td>53</td>\n",
              "      <td>1</td>\n",
              "      <td>0.12</td>\n",
              "      <td>0.45</td>\n",
              "      <td>0.07</td>\n",
              "      <td>0.26</td>\n",
              "      <td>1.0</td>\n",
              "      <td>0.11</td>\n",
              "      <td>0.29</td>\n",
              "      <td>0.39</td>\n",
              "      <td>...</td>\n",
              "      <td>0.0</td>\n",
              "      <td>0.50</td>\n",
              "      <td>0.34</td>\n",
              "      <td>0.60</td>\n",
              "      <td>0.52</td>\n",
              "      <td>0.02</td>\n",
              "      <td>0.12</td>\n",
              "      <td>0.45</td>\n",
              "      <td>0.00</td>\n",
              "      <td>High</td>\n",
              "    </tr>\n",
              "    <tr>\n",
              "      <th>2</th>\n",
              "      <td>24</td>\n",
              "      <td>1</td>\n",
              "      <td>0.49</td>\n",
              "      <td>0.17</td>\n",
              "      <td>0.04</td>\n",
              "      <td>0.39</td>\n",
              "      <td>0.0</td>\n",
              "      <td>0.19</td>\n",
              "      <td>0.40</td>\n",
              "      <td>0.84</td>\n",
              "      <td>...</td>\n",
              "      <td>0.0</td>\n",
              "      <td>0.49</td>\n",
              "      <td>0.54</td>\n",
              "      <td>0.67</td>\n",
              "      <td>0.56</td>\n",
              "      <td>0.01</td>\n",
              "      <td>0.21</td>\n",
              "      <td>0.02</td>\n",
              "      <td>0.00</td>\n",
              "      <td>Medium</td>\n",
              "    </tr>\n",
              "    <tr>\n",
              "      <th>3</th>\n",
              "      <td>34</td>\n",
              "      <td>1</td>\n",
              "      <td>1.00</td>\n",
              "      <td>0.12</td>\n",
              "      <td>0.10</td>\n",
              "      <td>0.51</td>\n",
              "      <td>1.0</td>\n",
              "      <td>0.21</td>\n",
              "      <td>0.20</td>\n",
              "      <td>0.82</td>\n",
              "      <td>...</td>\n",
              "      <td>0.0</td>\n",
              "      <td>0.30</td>\n",
              "      <td>0.73</td>\n",
              "      <td>0.64</td>\n",
              "      <td>0.65</td>\n",
              "      <td>0.02</td>\n",
              "      <td>0.39</td>\n",
              "      <td>0.28</td>\n",
              "      <td>0.00</td>\n",
              "      <td>Very Low</td>\n",
              "    </tr>\n",
              "    <tr>\n",
              "      <th>4</th>\n",
              "      <td>42</td>\n",
              "      <td>1</td>\n",
              "      <td>0.02</td>\n",
              "      <td>0.09</td>\n",
              "      <td>0.05</td>\n",
              "      <td>0.38</td>\n",
              "      <td>0.9</td>\n",
              "      <td>0.16</td>\n",
              "      <td>0.11</td>\n",
              "      <td>0.71</td>\n",
              "      <td>...</td>\n",
              "      <td>0.0</td>\n",
              "      <td>0.72</td>\n",
              "      <td>0.64</td>\n",
              "      <td>0.61</td>\n",
              "      <td>0.53</td>\n",
              "      <td>0.04</td>\n",
              "      <td>0.09</td>\n",
              "      <td>0.02</td>\n",
              "      <td>0.00</td>\n",
              "      <td>Very Low</td>\n",
              "    </tr>\n",
              "  </tbody>\n",
              "</table>\n",
              "<p>5 rows × 58 columns</p>\n",
              "</div>\n",
              "    <div class=\"colab-df-buttons\">\n",
              "\n",
              "  <div class=\"colab-df-container\">\n",
              "    <button class=\"colab-df-convert\" onclick=\"convertToInteractive('df-e7c53558-47c9-45fe-8c5c-53d76c8901c6')\"\n",
              "            title=\"Convert this dataframe to an interactive table.\"\n",
              "            style=\"display:none;\">\n",
              "\n",
              "  <svg xmlns=\"http://www.w3.org/2000/svg\" height=\"24px\" viewBox=\"0 -960 960 960\">\n",
              "    <path d=\"M120-120v-720h720v720H120Zm60-500h600v-160H180v160Zm220 220h160v-160H400v160Zm0 220h160v-160H400v160ZM180-400h160v-160H180v160Zm440 0h160v-160H620v160ZM180-180h160v-160H180v160Zm440 0h160v-160H620v160Z\"/>\n",
              "  </svg>\n",
              "    </button>\n",
              "\n",
              "  <style>\n",
              "    .colab-df-container {\n",
              "      display:flex;\n",
              "      gap: 12px;\n",
              "    }\n",
              "\n",
              "    .colab-df-convert {\n",
              "      background-color: #E8F0FE;\n",
              "      border: none;\n",
              "      border-radius: 50%;\n",
              "      cursor: pointer;\n",
              "      display: none;\n",
              "      fill: #1967D2;\n",
              "      height: 32px;\n",
              "      padding: 0 0 0 0;\n",
              "      width: 32px;\n",
              "    }\n",
              "\n",
              "    .colab-df-convert:hover {\n",
              "      background-color: #E2EBFA;\n",
              "      box-shadow: 0px 1px 2px rgba(60, 64, 67, 0.3), 0px 1px 3px 1px rgba(60, 64, 67, 0.15);\n",
              "      fill: #174EA6;\n",
              "    }\n",
              "\n",
              "    .colab-df-buttons div {\n",
              "      margin-bottom: 4px;\n",
              "    }\n",
              "\n",
              "    [theme=dark] .colab-df-convert {\n",
              "      background-color: #3B4455;\n",
              "      fill: #D2E3FC;\n",
              "    }\n",
              "\n",
              "    [theme=dark] .colab-df-convert:hover {\n",
              "      background-color: #434B5C;\n",
              "      box-shadow: 0px 1px 3px 1px rgba(0, 0, 0, 0.15);\n",
              "      filter: drop-shadow(0px 1px 2px rgba(0, 0, 0, 0.3));\n",
              "      fill: #FFFFFF;\n",
              "    }\n",
              "  </style>\n",
              "\n",
              "    <script>\n",
              "      const buttonEl =\n",
              "        document.querySelector('#df-e7c53558-47c9-45fe-8c5c-53d76c8901c6 button.colab-df-convert');\n",
              "      buttonEl.style.display =\n",
              "        google.colab.kernel.accessAllowed ? 'block' : 'none';\n",
              "\n",
              "      async function convertToInteractive(key) {\n",
              "        const element = document.querySelector('#df-e7c53558-47c9-45fe-8c5c-53d76c8901c6');\n",
              "        const dataTable =\n",
              "          await google.colab.kernel.invokeFunction('convertToInteractive',\n",
              "                                                    [key], {});\n",
              "        if (!dataTable) return;\n",
              "\n",
              "        const docLinkHtml = 'Like what you see? Visit the ' +\n",
              "          '<a target=\"_blank\" href=https://colab.research.google.com/notebooks/data_table.ipynb>data table notebook</a>'\n",
              "          + ' to learn more about interactive tables.';\n",
              "        element.innerHTML = '';\n",
              "        dataTable['output_type'] = 'display_data';\n",
              "        await google.colab.output.renderOutput(dataTable, element);\n",
              "        const docLink = document.createElement('div');\n",
              "        docLink.innerHTML = docLinkHtml;\n",
              "        element.appendChild(docLink);\n",
              "      }\n",
              "    </script>\n",
              "  </div>\n",
              "\n",
              "\n",
              "<div id=\"df-4f469da9-624f-4a18-badb-80a01d78af06\">\n",
              "  <button class=\"colab-df-quickchart\" onclick=\"quickchart('df-4f469da9-624f-4a18-badb-80a01d78af06')\"\n",
              "            title=\"Suggest charts\"\n",
              "            style=\"display:none;\">\n",
              "\n",
              "<svg xmlns=\"http://www.w3.org/2000/svg\" height=\"24px\"viewBox=\"0 0 24 24\"\n",
              "     width=\"24px\">\n",
              "    <g>\n",
              "        <path d=\"M19 3H5c-1.1 0-2 .9-2 2v14c0 1.1.9 2 2 2h14c1.1 0 2-.9 2-2V5c0-1.1-.9-2-2-2zM9 17H7v-7h2v7zm4 0h-2V7h2v10zm4 0h-2v-4h2v4z\"/>\n",
              "    </g>\n",
              "</svg>\n",
              "  </button>\n",
              "\n",
              "<style>\n",
              "  .colab-df-quickchart {\n",
              "      --bg-color: #E8F0FE;\n",
              "      --fill-color: #1967D2;\n",
              "      --hover-bg-color: #E2EBFA;\n",
              "      --hover-fill-color: #174EA6;\n",
              "      --disabled-fill-color: #AAA;\n",
              "      --disabled-bg-color: #DDD;\n",
              "  }\n",
              "\n",
              "  [theme=dark] .colab-df-quickchart {\n",
              "      --bg-color: #3B4455;\n",
              "      --fill-color: #D2E3FC;\n",
              "      --hover-bg-color: #434B5C;\n",
              "      --hover-fill-color: #FFFFFF;\n",
              "      --disabled-bg-color: #3B4455;\n",
              "      --disabled-fill-color: #666;\n",
              "  }\n",
              "\n",
              "  .colab-df-quickchart {\n",
              "    background-color: var(--bg-color);\n",
              "    border: none;\n",
              "    border-radius: 50%;\n",
              "    cursor: pointer;\n",
              "    display: none;\n",
              "    fill: var(--fill-color);\n",
              "    height: 32px;\n",
              "    padding: 0;\n",
              "    width: 32px;\n",
              "  }\n",
              "\n",
              "  .colab-df-quickchart:hover {\n",
              "    background-color: var(--hover-bg-color);\n",
              "    box-shadow: 0 1px 2px rgba(60, 64, 67, 0.3), 0 1px 3px 1px rgba(60, 64, 67, 0.15);\n",
              "    fill: var(--button-hover-fill-color);\n",
              "  }\n",
              "\n",
              "  .colab-df-quickchart-complete:disabled,\n",
              "  .colab-df-quickchart-complete:disabled:hover {\n",
              "    background-color: var(--disabled-bg-color);\n",
              "    fill: var(--disabled-fill-color);\n",
              "    box-shadow: none;\n",
              "  }\n",
              "\n",
              "  .colab-df-spinner {\n",
              "    border: 2px solid var(--fill-color);\n",
              "    border-color: transparent;\n",
              "    border-bottom-color: var(--fill-color);\n",
              "    animation:\n",
              "      spin 1s steps(1) infinite;\n",
              "  }\n",
              "\n",
              "  @keyframes spin {\n",
              "    0% {\n",
              "      border-color: transparent;\n",
              "      border-bottom-color: var(--fill-color);\n",
              "      border-left-color: var(--fill-color);\n",
              "    }\n",
              "    20% {\n",
              "      border-color: transparent;\n",
              "      border-left-color: var(--fill-color);\n",
              "      border-top-color: var(--fill-color);\n",
              "    }\n",
              "    30% {\n",
              "      border-color: transparent;\n",
              "      border-left-color: var(--fill-color);\n",
              "      border-top-color: var(--fill-color);\n",
              "      border-right-color: var(--fill-color);\n",
              "    }\n",
              "    40% {\n",
              "      border-color: transparent;\n",
              "      border-right-color: var(--fill-color);\n",
              "      border-top-color: var(--fill-color);\n",
              "    }\n",
              "    60% {\n",
              "      border-color: transparent;\n",
              "      border-right-color: var(--fill-color);\n",
              "    }\n",
              "    80% {\n",
              "      border-color: transparent;\n",
              "      border-right-color: var(--fill-color);\n",
              "      border-bottom-color: var(--fill-color);\n",
              "    }\n",
              "    90% {\n",
              "      border-color: transparent;\n",
              "      border-bottom-color: var(--fill-color);\n",
              "    }\n",
              "  }\n",
              "</style>\n",
              "\n",
              "  <script>\n",
              "    async function quickchart(key) {\n",
              "      const quickchartButtonEl =\n",
              "        document.querySelector('#' + key + ' button');\n",
              "      quickchartButtonEl.disabled = true;  // To prevent multiple clicks.\n",
              "      quickchartButtonEl.classList.add('colab-df-spinner');\n",
              "      try {\n",
              "        const charts = await google.colab.kernel.invokeFunction(\n",
              "            'suggestCharts', [key], {});\n",
              "      } catch (error) {\n",
              "        console.error('Error during call to suggestCharts:', error);\n",
              "      }\n",
              "      quickchartButtonEl.classList.remove('colab-df-spinner');\n",
              "      quickchartButtonEl.classList.add('colab-df-quickchart-complete');\n",
              "    }\n",
              "    (() => {\n",
              "      let quickchartButtonEl =\n",
              "        document.querySelector('#df-4f469da9-624f-4a18-badb-80a01d78af06 button');\n",
              "      quickchartButtonEl.style.display =\n",
              "        google.colab.kernel.accessAllowed ? 'block' : 'none';\n",
              "    })();\n",
              "  </script>\n",
              "</div>\n",
              "\n",
              "    </div>\n",
              "  </div>\n"
            ],
            "application/vnd.google.colaboratory.intrinsic+json": {
              "type": "dataframe",
              "variable_name": "vif_df_5"
            }
          },
          "metadata": {},
          "execution_count": 2
        }
      ]
    },
    {
      "cell_type": "code",
      "source": [
        "vif_df_3 = pd.read_csv(\"/content/gdrive/MyDrive/vif_elimination_3.csv\")\n",
        "vif_df_3 = vif_df_3.drop([\"ViolentCrimesPerPop\"], axis=1)\n",
        "vif_df_3.head()"
      ],
      "metadata": {
        "colab": {
          "base_uri": "https://localhost:8080/",
          "height": 255
        },
        "id": "rzM_3uKU8b7c",
        "outputId": "d5a7efe7-10a4-49a0-96ed-6788dcc916e0"
      },
      "execution_count": 3,
      "outputs": [
        {
          "output_type": "execute_result",
          "data": {
            "text/plain": [
              "   state  fold  racepctblack  racePctAsian  racePctHisp  agePct12t21  \\\n",
              "0      8     1          0.02          0.12         0.17         0.34   \n",
              "1     53     1          0.12          0.45         0.07         0.26   \n",
              "2     24     1          0.49          0.17         0.04         0.39   \n",
              "3     34     1          1.00          0.12         0.10         0.51   \n",
              "4     42     1          0.02          0.09         0.05         0.38   \n",
              "\n",
              "   pctUrban  pctWFarmSelf  pctWPubAsst  pctWRetire  ...  NumStreet  \\\n",
              "0       1.0          0.34         0.15        0.43  ...        0.0   \n",
              "1       1.0          0.11         0.29        0.39  ...        0.0   \n",
              "2       0.0          0.19         0.40        0.84  ...        0.0   \n",
              "3       1.0          0.21         0.20        0.82  ...        0.0   \n",
              "4       0.9          0.16         0.11        0.71  ...        0.0   \n",
              "\n",
              "   PctBornSameState  PctSameHouse85  PctSameCity85  PctSameState85  LandArea  \\\n",
              "0              0.42            0.50           0.51            0.64      0.12   \n",
              "1              0.50            0.34           0.60            0.52      0.02   \n",
              "2              0.49            0.54           0.67            0.56      0.01   \n",
              "3              0.30            0.73           0.64            0.65      0.02   \n",
              "4              0.72            0.64           0.61            0.53      0.04   \n",
              "\n",
              "   PopDens  PctUsePubTrans  LemasPctOfficDrugUn  CrimeCategory  \n",
              "0     0.26            0.20                 0.32            Low  \n",
              "1     0.12            0.45                 0.00           High  \n",
              "2     0.21            0.02                 0.00           High  \n",
              "3     0.39            0.28                 0.00            Low  \n",
              "4     0.09            0.02                 0.00            Low  \n",
              "\n",
              "[5 rows x 57 columns]"
            ],
            "text/html": [
              "\n",
              "  <div id=\"df-adfc8a6c-ceca-421b-918c-f2c60cd119ee\" class=\"colab-df-container\">\n",
              "    <div>\n",
              "<style scoped>\n",
              "    .dataframe tbody tr th:only-of-type {\n",
              "        vertical-align: middle;\n",
              "    }\n",
              "\n",
              "    .dataframe tbody tr th {\n",
              "        vertical-align: top;\n",
              "    }\n",
              "\n",
              "    .dataframe thead th {\n",
              "        text-align: right;\n",
              "    }\n",
              "</style>\n",
              "<table border=\"1\" class=\"dataframe\">\n",
              "  <thead>\n",
              "    <tr style=\"text-align: right;\">\n",
              "      <th></th>\n",
              "      <th>state</th>\n",
              "      <th>fold</th>\n",
              "      <th>racepctblack</th>\n",
              "      <th>racePctAsian</th>\n",
              "      <th>racePctHisp</th>\n",
              "      <th>agePct12t21</th>\n",
              "      <th>pctUrban</th>\n",
              "      <th>pctWFarmSelf</th>\n",
              "      <th>pctWPubAsst</th>\n",
              "      <th>pctWRetire</th>\n",
              "      <th>...</th>\n",
              "      <th>NumStreet</th>\n",
              "      <th>PctBornSameState</th>\n",
              "      <th>PctSameHouse85</th>\n",
              "      <th>PctSameCity85</th>\n",
              "      <th>PctSameState85</th>\n",
              "      <th>LandArea</th>\n",
              "      <th>PopDens</th>\n",
              "      <th>PctUsePubTrans</th>\n",
              "      <th>LemasPctOfficDrugUn</th>\n",
              "      <th>CrimeCategory</th>\n",
              "    </tr>\n",
              "  </thead>\n",
              "  <tbody>\n",
              "    <tr>\n",
              "      <th>0</th>\n",
              "      <td>8</td>\n",
              "      <td>1</td>\n",
              "      <td>0.02</td>\n",
              "      <td>0.12</td>\n",
              "      <td>0.17</td>\n",
              "      <td>0.34</td>\n",
              "      <td>1.0</td>\n",
              "      <td>0.34</td>\n",
              "      <td>0.15</td>\n",
              "      <td>0.43</td>\n",
              "      <td>...</td>\n",
              "      <td>0.0</td>\n",
              "      <td>0.42</td>\n",
              "      <td>0.50</td>\n",
              "      <td>0.51</td>\n",
              "      <td>0.64</td>\n",
              "      <td>0.12</td>\n",
              "      <td>0.26</td>\n",
              "      <td>0.20</td>\n",
              "      <td>0.32</td>\n",
              "      <td>Low</td>\n",
              "    </tr>\n",
              "    <tr>\n",
              "      <th>1</th>\n",
              "      <td>53</td>\n",
              "      <td>1</td>\n",
              "      <td>0.12</td>\n",
              "      <td>0.45</td>\n",
              "      <td>0.07</td>\n",
              "      <td>0.26</td>\n",
              "      <td>1.0</td>\n",
              "      <td>0.11</td>\n",
              "      <td>0.29</td>\n",
              "      <td>0.39</td>\n",
              "      <td>...</td>\n",
              "      <td>0.0</td>\n",
              "      <td>0.50</td>\n",
              "      <td>0.34</td>\n",
              "      <td>0.60</td>\n",
              "      <td>0.52</td>\n",
              "      <td>0.02</td>\n",
              "      <td>0.12</td>\n",
              "      <td>0.45</td>\n",
              "      <td>0.00</td>\n",
              "      <td>High</td>\n",
              "    </tr>\n",
              "    <tr>\n",
              "      <th>2</th>\n",
              "      <td>24</td>\n",
              "      <td>1</td>\n",
              "      <td>0.49</td>\n",
              "      <td>0.17</td>\n",
              "      <td>0.04</td>\n",
              "      <td>0.39</td>\n",
              "      <td>0.0</td>\n",
              "      <td>0.19</td>\n",
              "      <td>0.40</td>\n",
              "      <td>0.84</td>\n",
              "      <td>...</td>\n",
              "      <td>0.0</td>\n",
              "      <td>0.49</td>\n",
              "      <td>0.54</td>\n",
              "      <td>0.67</td>\n",
              "      <td>0.56</td>\n",
              "      <td>0.01</td>\n",
              "      <td>0.21</td>\n",
              "      <td>0.02</td>\n",
              "      <td>0.00</td>\n",
              "      <td>High</td>\n",
              "    </tr>\n",
              "    <tr>\n",
              "      <th>3</th>\n",
              "      <td>34</td>\n",
              "      <td>1</td>\n",
              "      <td>1.00</td>\n",
              "      <td>0.12</td>\n",
              "      <td>0.10</td>\n",
              "      <td>0.51</td>\n",
              "      <td>1.0</td>\n",
              "      <td>0.21</td>\n",
              "      <td>0.20</td>\n",
              "      <td>0.82</td>\n",
              "      <td>...</td>\n",
              "      <td>0.0</td>\n",
              "      <td>0.30</td>\n",
              "      <td>0.73</td>\n",
              "      <td>0.64</td>\n",
              "      <td>0.65</td>\n",
              "      <td>0.02</td>\n",
              "      <td>0.39</td>\n",
              "      <td>0.28</td>\n",
              "      <td>0.00</td>\n",
              "      <td>Low</td>\n",
              "    </tr>\n",
              "    <tr>\n",
              "      <th>4</th>\n",
              "      <td>42</td>\n",
              "      <td>1</td>\n",
              "      <td>0.02</td>\n",
              "      <td>0.09</td>\n",
              "      <td>0.05</td>\n",
              "      <td>0.38</td>\n",
              "      <td>0.9</td>\n",
              "      <td>0.16</td>\n",
              "      <td>0.11</td>\n",
              "      <td>0.71</td>\n",
              "      <td>...</td>\n",
              "      <td>0.0</td>\n",
              "      <td>0.72</td>\n",
              "      <td>0.64</td>\n",
              "      <td>0.61</td>\n",
              "      <td>0.53</td>\n",
              "      <td>0.04</td>\n",
              "      <td>0.09</td>\n",
              "      <td>0.02</td>\n",
              "      <td>0.00</td>\n",
              "      <td>Low</td>\n",
              "    </tr>\n",
              "  </tbody>\n",
              "</table>\n",
              "<p>5 rows × 57 columns</p>\n",
              "</div>\n",
              "    <div class=\"colab-df-buttons\">\n",
              "\n",
              "  <div class=\"colab-df-container\">\n",
              "    <button class=\"colab-df-convert\" onclick=\"convertToInteractive('df-adfc8a6c-ceca-421b-918c-f2c60cd119ee')\"\n",
              "            title=\"Convert this dataframe to an interactive table.\"\n",
              "            style=\"display:none;\">\n",
              "\n",
              "  <svg xmlns=\"http://www.w3.org/2000/svg\" height=\"24px\" viewBox=\"0 -960 960 960\">\n",
              "    <path d=\"M120-120v-720h720v720H120Zm60-500h600v-160H180v160Zm220 220h160v-160H400v160Zm0 220h160v-160H400v160ZM180-400h160v-160H180v160Zm440 0h160v-160H620v160ZM180-180h160v-160H180v160Zm440 0h160v-160H620v160Z\"/>\n",
              "  </svg>\n",
              "    </button>\n",
              "\n",
              "  <style>\n",
              "    .colab-df-container {\n",
              "      display:flex;\n",
              "      gap: 12px;\n",
              "    }\n",
              "\n",
              "    .colab-df-convert {\n",
              "      background-color: #E8F0FE;\n",
              "      border: none;\n",
              "      border-radius: 50%;\n",
              "      cursor: pointer;\n",
              "      display: none;\n",
              "      fill: #1967D2;\n",
              "      height: 32px;\n",
              "      padding: 0 0 0 0;\n",
              "      width: 32px;\n",
              "    }\n",
              "\n",
              "    .colab-df-convert:hover {\n",
              "      background-color: #E2EBFA;\n",
              "      box-shadow: 0px 1px 2px rgba(60, 64, 67, 0.3), 0px 1px 3px 1px rgba(60, 64, 67, 0.15);\n",
              "      fill: #174EA6;\n",
              "    }\n",
              "\n",
              "    .colab-df-buttons div {\n",
              "      margin-bottom: 4px;\n",
              "    }\n",
              "\n",
              "    [theme=dark] .colab-df-convert {\n",
              "      background-color: #3B4455;\n",
              "      fill: #D2E3FC;\n",
              "    }\n",
              "\n",
              "    [theme=dark] .colab-df-convert:hover {\n",
              "      background-color: #434B5C;\n",
              "      box-shadow: 0px 1px 3px 1px rgba(0, 0, 0, 0.15);\n",
              "      filter: drop-shadow(0px 1px 2px rgba(0, 0, 0, 0.3));\n",
              "      fill: #FFFFFF;\n",
              "    }\n",
              "  </style>\n",
              "\n",
              "    <script>\n",
              "      const buttonEl =\n",
              "        document.querySelector('#df-adfc8a6c-ceca-421b-918c-f2c60cd119ee button.colab-df-convert');\n",
              "      buttonEl.style.display =\n",
              "        google.colab.kernel.accessAllowed ? 'block' : 'none';\n",
              "\n",
              "      async function convertToInteractive(key) {\n",
              "        const element = document.querySelector('#df-adfc8a6c-ceca-421b-918c-f2c60cd119ee');\n",
              "        const dataTable =\n",
              "          await google.colab.kernel.invokeFunction('convertToInteractive',\n",
              "                                                    [key], {});\n",
              "        if (!dataTable) return;\n",
              "\n",
              "        const docLinkHtml = 'Like what you see? Visit the ' +\n",
              "          '<a target=\"_blank\" href=https://colab.research.google.com/notebooks/data_table.ipynb>data table notebook</a>'\n",
              "          + ' to learn more about interactive tables.';\n",
              "        element.innerHTML = '';\n",
              "        dataTable['output_type'] = 'display_data';\n",
              "        await google.colab.output.renderOutput(dataTable, element);\n",
              "        const docLink = document.createElement('div');\n",
              "        docLink.innerHTML = docLinkHtml;\n",
              "        element.appendChild(docLink);\n",
              "      }\n",
              "    </script>\n",
              "  </div>\n",
              "\n",
              "\n",
              "<div id=\"df-08260409-0284-4c94-8d0e-7caf52d28ae6\">\n",
              "  <button class=\"colab-df-quickchart\" onclick=\"quickchart('df-08260409-0284-4c94-8d0e-7caf52d28ae6')\"\n",
              "            title=\"Suggest charts\"\n",
              "            style=\"display:none;\">\n",
              "\n",
              "<svg xmlns=\"http://www.w3.org/2000/svg\" height=\"24px\"viewBox=\"0 0 24 24\"\n",
              "     width=\"24px\">\n",
              "    <g>\n",
              "        <path d=\"M19 3H5c-1.1 0-2 .9-2 2v14c0 1.1.9 2 2 2h14c1.1 0 2-.9 2-2V5c0-1.1-.9-2-2-2zM9 17H7v-7h2v7zm4 0h-2V7h2v10zm4 0h-2v-4h2v4z\"/>\n",
              "    </g>\n",
              "</svg>\n",
              "  </button>\n",
              "\n",
              "<style>\n",
              "  .colab-df-quickchart {\n",
              "      --bg-color: #E8F0FE;\n",
              "      --fill-color: #1967D2;\n",
              "      --hover-bg-color: #E2EBFA;\n",
              "      --hover-fill-color: #174EA6;\n",
              "      --disabled-fill-color: #AAA;\n",
              "      --disabled-bg-color: #DDD;\n",
              "  }\n",
              "\n",
              "  [theme=dark] .colab-df-quickchart {\n",
              "      --bg-color: #3B4455;\n",
              "      --fill-color: #D2E3FC;\n",
              "      --hover-bg-color: #434B5C;\n",
              "      --hover-fill-color: #FFFFFF;\n",
              "      --disabled-bg-color: #3B4455;\n",
              "      --disabled-fill-color: #666;\n",
              "  }\n",
              "\n",
              "  .colab-df-quickchart {\n",
              "    background-color: var(--bg-color);\n",
              "    border: none;\n",
              "    border-radius: 50%;\n",
              "    cursor: pointer;\n",
              "    display: none;\n",
              "    fill: var(--fill-color);\n",
              "    height: 32px;\n",
              "    padding: 0;\n",
              "    width: 32px;\n",
              "  }\n",
              "\n",
              "  .colab-df-quickchart:hover {\n",
              "    background-color: var(--hover-bg-color);\n",
              "    box-shadow: 0 1px 2px rgba(60, 64, 67, 0.3), 0 1px 3px 1px rgba(60, 64, 67, 0.15);\n",
              "    fill: var(--button-hover-fill-color);\n",
              "  }\n",
              "\n",
              "  .colab-df-quickchart-complete:disabled,\n",
              "  .colab-df-quickchart-complete:disabled:hover {\n",
              "    background-color: var(--disabled-bg-color);\n",
              "    fill: var(--disabled-fill-color);\n",
              "    box-shadow: none;\n",
              "  }\n",
              "\n",
              "  .colab-df-spinner {\n",
              "    border: 2px solid var(--fill-color);\n",
              "    border-color: transparent;\n",
              "    border-bottom-color: var(--fill-color);\n",
              "    animation:\n",
              "      spin 1s steps(1) infinite;\n",
              "  }\n",
              "\n",
              "  @keyframes spin {\n",
              "    0% {\n",
              "      border-color: transparent;\n",
              "      border-bottom-color: var(--fill-color);\n",
              "      border-left-color: var(--fill-color);\n",
              "    }\n",
              "    20% {\n",
              "      border-color: transparent;\n",
              "      border-left-color: var(--fill-color);\n",
              "      border-top-color: var(--fill-color);\n",
              "    }\n",
              "    30% {\n",
              "      border-color: transparent;\n",
              "      border-left-color: var(--fill-color);\n",
              "      border-top-color: var(--fill-color);\n",
              "      border-right-color: var(--fill-color);\n",
              "    }\n",
              "    40% {\n",
              "      border-color: transparent;\n",
              "      border-right-color: var(--fill-color);\n",
              "      border-top-color: var(--fill-color);\n",
              "    }\n",
              "    60% {\n",
              "      border-color: transparent;\n",
              "      border-right-color: var(--fill-color);\n",
              "    }\n",
              "    80% {\n",
              "      border-color: transparent;\n",
              "      border-right-color: var(--fill-color);\n",
              "      border-bottom-color: var(--fill-color);\n",
              "    }\n",
              "    90% {\n",
              "      border-color: transparent;\n",
              "      border-bottom-color: var(--fill-color);\n",
              "    }\n",
              "  }\n",
              "</style>\n",
              "\n",
              "  <script>\n",
              "    async function quickchart(key) {\n",
              "      const quickchartButtonEl =\n",
              "        document.querySelector('#' + key + ' button');\n",
              "      quickchartButtonEl.disabled = true;  // To prevent multiple clicks.\n",
              "      quickchartButtonEl.classList.add('colab-df-spinner');\n",
              "      try {\n",
              "        const charts = await google.colab.kernel.invokeFunction(\n",
              "            'suggestCharts', [key], {});\n",
              "      } catch (error) {\n",
              "        console.error('Error during call to suggestCharts:', error);\n",
              "      }\n",
              "      quickchartButtonEl.classList.remove('colab-df-spinner');\n",
              "      quickchartButtonEl.classList.add('colab-df-quickchart-complete');\n",
              "    }\n",
              "    (() => {\n",
              "      let quickchartButtonEl =\n",
              "        document.querySelector('#df-08260409-0284-4c94-8d0e-7caf52d28ae6 button');\n",
              "      quickchartButtonEl.style.display =\n",
              "        google.colab.kernel.accessAllowed ? 'block' : 'none';\n",
              "    })();\n",
              "  </script>\n",
              "</div>\n",
              "\n",
              "    </div>\n",
              "  </div>\n"
            ],
            "application/vnd.google.colaboratory.intrinsic+json": {
              "type": "dataframe",
              "variable_name": "vif_df_3"
            }
          },
          "metadata": {},
          "execution_count": 3
        }
      ]
    },
    {
      "cell_type": "code",
      "source": [
        "#Creating features and targets for training models.\n",
        "features_5 = vif_df_5.iloc[:, :-1]\n",
        "target_5 = vif_df_5.iloc[:, -1]\n",
        "features_3 = vif_df_3.iloc[:, :-1]\n",
        "target_3 = vif_df_3.iloc[:, -1]"
      ],
      "metadata": {
        "id": "LaPfcGxA5Spy"
      },
      "execution_count": 4,
      "outputs": []
    },
    {
      "cell_type": "markdown",
      "source": [
        "# Decision Tree Classifiers"
      ],
      "metadata": {
        "id": "hYmMFSBKywZ1"
      }
    },
    {
      "cell_type": "code",
      "source": [
        "#Splitting the data into 80% training data, 20% testing data\n",
        "X_train_5, X_test_5, y_train_5, y_test_5 = train_test_split(features_5, target_5, test_size=0.2,random_state=109)"
      ],
      "metadata": {
        "id": "3vY3Pi4u5W4v"
      },
      "execution_count": 5,
      "outputs": []
    },
    {
      "cell_type": "code",
      "source": [
        "#Initializing Decision Tree Classifier\n",
        "clf_5 = tree.DecisionTreeClassifier()\n",
        "clf_5 = clf_5.fit(X_train_5, y_train_5)"
      ],
      "metadata": {
        "id": "yoCtzHqD5ZeH"
      },
      "execution_count": 6,
      "outputs": []
    },
    {
      "cell_type": "code",
      "source": [
        "#Initial testing shows an f1 score of 0.34 and a Matthews Correlation Coefficient of 0.28. 'Very Low' is as usual overrepresented in the sample and the model\n",
        "#struggles to perform on every metric for other classes, particularly 'High' and 'Medium'\n",
        "y_pred_5= clf_5.predict(X_test_5)\n",
        "print(classification_report(y_test_5, y_pred_5))\n",
        "print('Matthews:',matthews_corrcoef(y_test_5, y_pred_5))"
      ],
      "metadata": {
        "colab": {
          "base_uri": "https://localhost:8080/"
        },
        "id": "iEVLRmtV5cP3",
        "outputId": "ae8df115-238b-4ee4-ba8d-c98f7c1e547f"
      },
      "execution_count": 7,
      "outputs": [
        {
          "output_type": "stream",
          "name": "stdout",
          "text": [
            "              precision    recall  f1-score   support\n",
            "\n",
            "        High       0.12      0.14      0.13        21\n",
            "         Low       0.32      0.29      0.31        92\n",
            "      Medium       0.11      0.13      0.12        31\n",
            "   Very High       0.36      0.27      0.31        15\n",
            "    Very Low       0.79      0.80      0.80       240\n",
            "\n",
            "    accuracy                           0.58       399\n",
            "   macro avg       0.34      0.33      0.33       399\n",
            "weighted avg       0.58      0.58      0.58       399\n",
            "\n",
            "Matthews: 0.26362396026431556\n"
          ]
        }
      ]
    },
    {
      "cell_type": "code",
      "source": [
        "clf_sk_5 = tree.DecisionTreeClassifier()"
      ],
      "metadata": {
        "id": "C7WJHf8-6bN0"
      },
      "execution_count": 8,
      "outputs": []
    },
    {
      "cell_type": "markdown",
      "source": [
        "Cross-Validating The Model\n",
        "\n",
        "I used two cross-validation methods: RepeatedKFold validation and StratifiedKFold validation. I chose to use both as I can see from my initial test that one class is over-represented in the data, which means that stratified sampling for cross-validation could be effective in improving the performance of the model."
      ],
      "metadata": {
        "id": "tyLHTiDEeGAT"
      }
    },
    {
      "cell_type": "code",
      "source": [
        "#For this Stratified K-Fold model I chose 4 repeats as it optimizes the model by providing asymmetrical distribution as well as a fairly low standard of error\n",
        "#without sacrificing the f1 score and without having too many outliers.\n",
        "def evaluate_model(X, y, repeats):\n",
        " cv = RepeatedStratifiedKFold(n_splits=10, n_repeats=repeats, random_state=1)\n",
        " model = tree.DecisionTreeClassifier()\n",
        " scores_clf_5 = cross_val_score(model, features_5, target_5, scoring='f1_macro', cv=cv, n_jobs=-1)\n",
        " return scores_clf_5\n",
        "repeats = range(1,16)\n",
        "results_clf_5 = list()\n",
        "for r in repeats:\n",
        " scores_clf_5 = evaluate_model(features_5, target_5, r)\n",
        " print('>%d f1=%.4f se=%.3f' % (r, mean(scores_clf_5), sem(scores_clf_5)))\n",
        " results_clf_5.append(scores_clf_5)\n",
        "\n",
        "plt.boxplot(results_clf_5, labels=[str(r) for r in repeats], showmeans=True)\n",
        "plt.show()"
      ],
      "metadata": {
        "colab": {
          "base_uri": "https://localhost:8080/",
          "height": 702
        },
        "id": "h1Fzp_eI6bqR",
        "outputId": "2a849a3b-ccba-4dc8-940e-f5467750e6ca"
      },
      "execution_count": 9,
      "outputs": [
        {
          "output_type": "stream",
          "name": "stdout",
          "text": [
            ">1 f1=0.3625 se=0.010\n",
            ">2 f1=0.3817 se=0.007\n",
            ">3 f1=0.3864 se=0.008\n",
            ">4 f1=0.3940 se=0.008\n",
            ">5 f1=0.3827 se=0.007\n",
            ">6 f1=0.3803 se=0.007\n",
            ">7 f1=0.3845 se=0.005\n",
            ">8 f1=0.3802 se=0.005\n",
            ">9 f1=0.3781 se=0.005\n",
            ">10 f1=0.3848 se=0.005\n",
            ">11 f1=0.3868 se=0.005\n",
            ">12 f1=0.3879 se=0.004\n",
            ">13 f1=0.3864 se=0.004\n",
            ">14 f1=0.3817 se=0.004\n",
            ">15 f1=0.3822 se=0.004\n"
          ]
        },
        {
          "output_type": "display_data",
          "data": {
            "text/plain": [
              "<Figure size 640x480 with 1 Axes>"
            ],
            "image/png": "[encoded data removed]"
          },
          "metadata": {}
        }
      ]
    },
    {
      "cell_type": "code",
      "source": [
        "#This Stratified K-fold model results in an average f1 score of 0.39 which is slightly higher than the initial test, as well as MCC score of 0.327 which\n",
        "#is also higher than the initial test. The MCC score is also more closely related to the f1 score, which indicates that this metric is more accurate to the\n",
        "#model's performance on positive and negative identifications.\n",
        "skf_5 = RepeatedStratifiedKFold(n_splits=10, n_repeats=4, random_state=1)\n",
        "lst_accu_stratified = []\n",
        "\n",
        "for train_index, test_index in skf_5.split(features_5, target_5):\n",
        "    x_train_fold, x_test_fold = features_5.iloc[train_index], features_5.iloc[test_index]\n",
        "    y_train_fold, y_test_fold = target_5[train_index], target_5[test_index]\n",
        "    clf_sk_5.fit(x_train_fold, y_train_fold)\n",
        "    y_pred = clf_sk_5.predict(x_test_fold)\n",
        "    lst_accu_stratified.append(clf_sk_5.score(x_test_fold, y_test_fold))\n",
        "\n",
        "print('\\nMaximum Accuracy that can be obtained from this model is:',\n",
        "      max(lst_accu_stratified)*100, '%')\n",
        "print('\\nMinimum Accuracy:',\n",
        "      min(lst_accu_stratified)*100, '%')\n",
        "print('\\nOverall Accuracy:',\n",
        "      mean(lst_accu_stratified)*100, '%')\n",
        "print('\\nStandard Deviation is:', std(lst_accu_stratified))\n",
        "scores = cross_val_score(clf_sk_5, features_5, target_5, scoring='f1_macro', cv=skf_5, n_jobs=-1)\n",
        "print('F1: %.3f (%.3f)' % (mean(scores), std(scores)))\n",
        "scores_matthews = cross_val_score(clf_sk_5, features_5, target_5, scoring='matthews_corrcoef', cv=skf_5, n_jobs=-1)\n",
        "print('Matthews: %.3f (%.3f)' % (mean(scores_matthews), std(scores_matthews)))"
      ],
      "metadata": {
        "colab": {
          "base_uri": "https://localhost:8080/"
        },
        "id": "s6mrZ_0x6edF",
        "outputId": "09311189-3b5f-4da4-ed98-970decebc27d"
      },
      "execution_count": 10,
      "outputs": [
        {
          "output_type": "stream",
          "name": "stdout",
          "text": [
            "\n",
            "Maximum Accuracy that can be obtained from this model is: 68.34170854271356 %\n",
            "\n",
            "Minimum Accuracy: 56.00000000000001 %\n",
            "\n",
            "Overall Accuracy: 60.7821608040201 %\n",
            "\n",
            "Standard Deviation is: 0.02917350803159302\n",
            "F1: 0.388 (0.049)\n",
            "Matthews: 0.333 (0.045)\n"
          ]
        }
      ]
    },
    {
      "cell_type": "code",
      "source": [
        "#In this case, 10 repeats is the most optimal for the model based on previously discussed metrics.\n",
        "def evaluate_model(X, y, repeats):\n",
        " cv = RepeatedKFold(n_splits=10, n_repeats=repeats, random_state=1)\n",
        " model = tree.DecisionTreeClassifier()\n",
        " scores_clf_5 = cross_val_score(model, features_5, target_5, scoring='f1_macro', cv=cv, n_jobs=-1)\n",
        " return scores_clf_5\n",
        "repeats = range(1,16)\n",
        "results_clf_5 = list()\n",
        "for r in repeats:\n",
        " scores_clf_5 = evaluate_model(features_5, target_5, r)\n",
        " print('>%d f1=%.4f se=%.3f' % (r, mean(scores_clf_5), sem(scores_clf_5)))\n",
        " results_clf_5.append(scores_clf_5)\n",
        "\n",
        "plt.boxplot(results_clf_5, labels=[str(r) for r in repeats], showmeans=True)\n",
        "plt.show()"
      ],
      "metadata": {
        "colab": {
          "base_uri": "https://localhost:8080/",
          "height": 702
        },
        "id": "ctNdObZA7vcF",
        "outputId": "0320e577-7cb9-4208-b4e2-afad4aeea342"
      },
      "execution_count": 11,
      "outputs": [
        {
          "output_type": "stream",
          "name": "stdout",
          "text": [
            ">1 f1=0.3725 se=0.011\n",
            ">2 f1=0.3774 se=0.010\n",
            ">3 f1=0.3659 se=0.008\n",
            ">4 f1=0.3777 se=0.007\n",
            ">5 f1=0.3772 se=0.006\n",
            ">6 f1=0.3726 se=0.006\n",
            ">7 f1=0.3744 se=0.005\n",
            ">8 f1=0.3789 se=0.005\n",
            ">9 f1=0.3759 se=0.004\n",
            ">10 f1=0.3795 se=0.004\n",
            ">11 f1=0.3736 se=0.004\n",
            ">12 f1=0.3823 se=0.004\n",
            ">13 f1=0.3744 se=0.003\n",
            ">14 f1=0.3774 se=0.003\n",
            ">15 f1=0.3780 se=0.003\n"
          ]
        },
        {
          "output_type": "display_data",
          "data": {
            "text/plain": [
              "<Figure size 640x480 with 1 Axes>"
            ],
            "image/png": "[encoded data removed]"
          },
          "metadata": {}
        }
      ]
    },
    {
      "cell_type": "code",
      "source": [
        "#The f1 score on the repeated K-fold model is 0.38, while the MCC score is 0.33, again indicating that the f1 score is more representative of the model's actual\n",
        "#performance than in the initial test. Though the f1 score is fairly stable across cross-validation models, the increase in MCC and the closer it becomes to f1\n",
        "#score indicates that cross-validation should be used to train accurate models for this dataset.\n",
        "cv_5 = RepeatedKFold(n_splits=10, n_repeats=10, random_state=1)\n",
        "acc_scores = cross_val_score(clf_5, features_5, target_5, scoring='accuracy', cv=cv_5, n_jobs=-1)\n",
        "print('Accuracy: %.3f (%.3f)' % (mean(acc_scores), std(acc_scores)))\n",
        "scores_f1 = cross_val_score(clf_5, features_5, target_5, scoring='f1_macro', cv=cv_5, n_jobs=-1)\n",
        "print('F1: %.3f (%.3f)' % (mean(scores_f1), std(scores_f1)))\n",
        "scores_matthews = cross_val_score(clf_5, features_5, target_5, scoring='matthews_corrcoef', cv=cv_5, n_jobs=-1)\n",
        "print('Matthews: %.3f (%.3f)' % (mean(scores_matthews), std(scores_matthews)))"
      ],
      "metadata": {
        "colab": {
          "base_uri": "https://localhost:8080/"
        },
        "id": "2C1lGOX3_ku-",
        "outputId": "80caea36-ab35-4fef-ab1d-85d3d3e2f82f"
      },
      "execution_count": 12,
      "outputs": [
        {
          "output_type": "stream",
          "name": "stdout",
          "text": [
            "Accuracy: 0.602 (0.032)\n",
            "F1: 0.379 (0.043)\n",
            "Matthews: 0.324 (0.043)\n"
          ]
        }
      ]
    },
    {
      "cell_type": "markdown",
      "source": [
        "Repeating with the 3 Class Dataset"
      ],
      "metadata": {
        "id": "vv22LbYJeMwJ"
      }
    },
    {
      "cell_type": "code",
      "source": [
        "X_train_3, X_test_3, y_train_3, y_test_3 = train_test_split(features_3, target_3, test_size=0.2,random_state=109)"
      ],
      "metadata": {
        "id": "uNjj638DJUbp"
      },
      "execution_count": 13,
      "outputs": []
    },
    {
      "cell_type": "code",
      "source": [
        "clf_3 = tree.DecisionTreeClassifier()\n",
        "clf_3 = clf_3.fit(X_train_3, y_train_3)"
      ],
      "metadata": {
        "id": "K5iRyFvzJWXP"
      },
      "execution_count": 14,
      "outputs": []
    },
    {
      "cell_type": "code",
      "source": [
        "#The f1 score of this model is improved from the model trained on 5 classes, however the MCC score indicates that the f1 score may not be accurate to the model's\n",
        "#performance, as it falls behind at 0.32.\n",
        "y_pred_3 = clf_3.predict(X_test_3)\n",
        "print(classification_report(y_test_3, y_pred_3))\n",
        "print('Matthews:',matthews_corrcoef(y_test_3, y_pred_3))"
      ],
      "metadata": {
        "colab": {
          "base_uri": "https://localhost:8080/"
        },
        "id": "8Vu4nfETJZaW",
        "outputId": "6c973ee2-4c13-4ce5-d1e2-031a03960be9"
      },
      "execution_count": 15,
      "outputs": [
        {
          "output_type": "stream",
          "name": "stdout",
          "text": [
            "              precision    recall  f1-score   support\n",
            "\n",
            "        High       0.52      0.55      0.54        67\n",
            "         Low       0.81      0.81      0.81       270\n",
            "      Medium       0.19      0.18      0.18        62\n",
            "\n",
            "    accuracy                           0.67       399\n",
            "   macro avg       0.51      0.51      0.51       399\n",
            "weighted avg       0.67      0.67      0.67       399\n",
            "\n",
            "Matthews: 0.3277336394768182\n"
          ]
        }
      ]
    },
    {
      "cell_type": "code",
      "source": [
        "clf_sk_3 = tree.DecisionTreeClassifier()"
      ],
      "metadata": {
        "id": "4w9y2V808y8d"
      },
      "execution_count": 16,
      "outputs": []
    },
    {
      "cell_type": "code",
      "source": [
        "#Based on previously mentioned metrics, I chose to use 12 repeats for this Stratified K-fold model.\n",
        "def evaluate_model(X, y, repeats):\n",
        " cv = RepeatedStratifiedKFold(n_splits=10, n_repeats=repeats, random_state=1)\n",
        " model = tree.DecisionTreeClassifier()\n",
        " scores_clf_3 = cross_val_score(model, features_3, target_3, scoring='f1_macro', cv=cv, n_jobs=-1)\n",
        " return scores_clf_3\n",
        "repeats = range(1,16)\n",
        "results_clf_3 = list()\n",
        "for r in repeats:\n",
        " scores_clf_3 = evaluate_model(features_3, target_3, r)\n",
        " print('>%d f1=%.4f se=%.3f' % (r, mean(scores_clf_3), sem(scores_clf_3)))\n",
        " results_clf_3.append(scores_clf_3)\n",
        "\n",
        "plt.boxplot(results_clf_3, labels=[str(r) for r in repeats], showmeans=True)\n",
        "plt.show()"
      ],
      "metadata": {
        "colab": {
          "base_uri": "https://localhost:8080/",
          "height": 702
        },
        "id": "L4NK9q_D82tk",
        "outputId": "eeb07211-b320-4a75-a191-c86238eaa41e"
      },
      "execution_count": 17,
      "outputs": [
        {
          "output_type": "stream",
          "name": "stdout",
          "text": [
            ">1 f1=0.5819 se=0.007\n",
            ">2 f1=0.5622 se=0.008\n",
            ">3 f1=0.5576 se=0.007\n",
            ">4 f1=0.5599 se=0.006\n",
            ">5 f1=0.5577 se=0.005\n",
            ">6 f1=0.5651 se=0.004\n",
            ">7 f1=0.5582 se=0.004\n",
            ">8 f1=0.5540 se=0.004\n",
            ">9 f1=0.5550 se=0.004\n",
            ">10 f1=0.5569 se=0.004\n",
            ">11 f1=0.5544 se=0.003\n",
            ">12 f1=0.5561 se=0.003\n",
            ">13 f1=0.5555 se=0.003\n",
            ">14 f1=0.5551 se=0.003\n",
            ">15 f1=0.5559 se=0.003\n"
          ]
        },
        {
          "output_type": "display_data",
          "data": {
            "text/plain": [
              "<Figure size 640x480 with 1 Axes>"
            ],
            "image/png": "[encoded data removed]"
          },
          "metadata": {}
        }
      ]
    },
    {
      "cell_type": "code",
      "source": [
        "#The average f1 score improves slightly to 0.56, while the MCC score still trails behind at 0.41, though the two values are closer than before.\n",
        "skf_3 = RepeatedStratifiedKFold(n_splits=10, n_repeats=12, random_state=1)\n",
        "lst_accu_stratified = []\n",
        "\n",
        "for train_index, test_index in skf_3.split(features_3, target_3):\n",
        "    x_train_fold, x_test_fold = features_3.iloc[train_index], features_3.iloc[test_index]\n",
        "    y_train_fold, y_test_fold = target_3[train_index], target_3[test_index]\n",
        "    clf_sk_3.fit(x_train_fold, y_train_fold)\n",
        "    y_pred = clf_sk_3.predict(x_test_fold)\n",
        "    lst_accu_stratified.append(clf_sk_3.score(x_test_fold, y_test_fold))\n",
        "\n",
        "print('\\nMaximum Accuracy That can be obtained from this model is:',\n",
        "      max(lst_accu_stratified)*100, '%')\n",
        "print('\\nMinimum Accuracy:',\n",
        "      min(lst_accu_stratified)*100, '%')\n",
        "print('\\nOverall Accuracy:',\n",
        "      mean(lst_accu_stratified)*100, '%')\n",
        "print('\\nStandard Deviation is:', std(lst_accu_stratified))\n",
        "scores = cross_val_score(clf_sk_3, features_3, target_3, scoring='f1_macro', cv=skf_3, n_jobs=-1)\n",
        "print('F1: %.3f (%.3f)' % (mean(scores), std(scores)))\n",
        "scores_matthews = cross_val_score(clf_sk_3, features_3, target_3, scoring='matthews_corrcoef', cv=skf_3, n_jobs=-1)\n",
        "print('Matthews: %.3f (%.3f)' % (mean(scores_matthews), std(scores_matthews)))"
      ],
      "metadata": {
        "colab": {
          "base_uri": "https://localhost:8080/"
        },
        "id": "p0jlhvBd9aQa",
        "outputId": "3fe54605-282d-4add-95ec-28947dcd1a83"
      },
      "execution_count": 18,
      "outputs": [
        {
          "output_type": "stream",
          "name": "stdout",
          "text": [
            "\n",
            "Maximum Accuracy That can be obtained from this model is: 76.88442211055276 %\n",
            "\n",
            "Minimum Accuracy: 62.0 %\n",
            "\n",
            "Overall Accuracy: 70.34455611390285 %\n",
            "\n",
            "Standard Deviation is: 0.029213336890341734\n",
            "F1: 0.558 (0.037)\n",
            "Matthews: 0.409 (0.052)\n"
          ]
        }
      ]
    },
    {
      "cell_type": "code",
      "source": [
        "#For this Repeated K-fold model I chose 14 repeats based on evaluation metrics.\n",
        "def evaluate_model(X, y, repeats):\n",
        " cv = RepeatedKFold(n_splits=10, n_repeats=repeats, random_state=1)\n",
        " model = tree.DecisionTreeClassifier()\n",
        " scores_clf_3 = cross_val_score(model, features_3, target_3, scoring='f1_macro', cv=cv, n_jobs=-1)\n",
        " return scores_clf_3\n",
        "repeats = range(1,16)\n",
        "results_clf_3 = list()\n",
        "for r in repeats:\n",
        " scores_clf_3 = evaluate_model(features_3, target_3, r)\n",
        " print('>%d f1=%.4f se=%.3f' % (r, mean(scores_clf_3), sem(scores_clf_3)))\n",
        " results_clf_3.append(scores_clf_3)\n",
        "\n",
        "plt.boxplot(results_clf_3, labels=[str(r) for r in repeats], showmeans=True)\n",
        "plt.show()"
      ],
      "metadata": {
        "colab": {
          "base_uri": "https://localhost:8080/",
          "height": 705
        },
        "id": "bG_69CFF9gDb",
        "outputId": "c56618be-adbc-4787-fc6e-6dca25871494"
      },
      "execution_count": 19,
      "outputs": [
        {
          "output_type": "stream",
          "name": "stdout",
          "text": [
            ">1 f1=0.5506 se=0.010\n",
            ">2 f1=0.5497 se=0.009\n",
            ">3 f1=0.5485 se=0.009\n",
            ">4 f1=0.5454 se=0.006\n",
            ">5 f1=0.5476 se=0.006\n",
            ">6 f1=0.5555 se=0.006\n",
            ">7 f1=0.5495 se=0.005\n",
            ">8 f1=0.5509 se=0.004\n",
            ">9 f1=0.5523 se=0.004\n",
            ">10 f1=0.5508 se=0.004\n",
            ">11 f1=0.5518 se=0.003\n",
            ">12 f1=0.5548 se=0.003\n",
            ">13 f1=0.5510 se=0.003\n",
            ">14 f1=0.5505 se=0.003\n",
            ">15 f1=0.5517 se=0.003\n"
          ]
        },
        {
          "output_type": "display_data",
          "data": {
            "text/plain": [
              "<Figure size 640x480 with 1 Axes>"
            ],
            "image/png": "[encoded data removed]"
          },
          "metadata": {}
        }
      ]
    },
    {
      "cell_type": "code",
      "source": [
        "#Once again, the f1 score and thhe MCC score are stable but not closely related at 0.55 and 0.40 respectively. This tells me that though the model is stable, the\n",
        "#f1 score should not be relied upon as the evaluation metric, and cross-validation should definitely be used to train the model.\n",
        "cv_3 = RepeatedKFold(n_splits=10, n_repeats=7, random_state=1)\n",
        "acc_scores = cross_val_score(clf_3, features_3, target_3, scoring='accuracy', cv=cv_3, n_jobs=-1)\n",
        "print('Accuracy: %.3f (%.3f)' % (mean(acc_scores), std(acc_scores)))\n",
        "scores = cross_val_score(clf_3, features_3, target_3, scoring='f1_macro', cv=cv_3, n_jobs=-1)\n",
        "print('F1: %.3f (%.3f)' % (mean(scores), std(scores)))\n",
        "scores_matthews = cross_val_score(clf_3, features_3, target_3, scoring='matthews_corrcoef', cv=cv_3, n_jobs=-1)\n",
        "print('Matthews: %.3f (%.3f)' % (mean(scores_matthews), std(scores_matthews)))"
      ],
      "metadata": {
        "colab": {
          "base_uri": "https://localhost:8080/"
        },
        "id": "mOIfxmsk9qcK",
        "outputId": "bf621272-b79a-4231-b1e2-45a3cad8621e"
      },
      "execution_count": 20,
      "outputs": [
        {
          "output_type": "stream",
          "name": "stdout",
          "text": [
            "Accuracy: 0.700 (0.027)\n",
            "F1: 0.548 (0.042)\n",
            "Matthews: 0.401 (0.058)\n"
          ]
        }
      ]
    },
    {
      "cell_type": "markdown",
      "source": [
        "# Logistic Regression Models"
      ],
      "metadata": {
        "id": "mnBSxqJK8BVi"
      }
    },
    {
      "cell_type": "code",
      "source": [
        "X_train_set_5, X_test_set_5, Y_train_set_5, Y_test_set_5 = train_test_split(features_5, target_5, train_size=0.8, random_state=25)"
      ],
      "metadata": {
        "id": "3CsD8iri-DYK"
      },
      "execution_count": 21,
      "outputs": []
    },
    {
      "cell_type": "code",
      "source": [
        "lr_model_5 = LogisticRegression(multi_class='multinomial', solver='lbfgs', max_iter=10000)\n",
        "lr_model_5.fit(X_train_set_5, Y_train_set_5)"
      ],
      "metadata": {
        "colab": {
          "base_uri": "https://localhost:8080/",
          "height": 74
        },
        "id": "QFbGU3dk-Isq",
        "outputId": "02b22ed2-00b9-44c1-e666-2b3e46e7a6a3"
      },
      "execution_count": 22,
      "outputs": [
        {
          "output_type": "execute_result",
          "data": {
            "text/plain": [
              "LogisticRegression(max_iter=10000, multi_class='multinomial')"
            ],
            "text/html": [
              "<style>#sk-container-id-1 {color: black;background-color: white;}#sk-container-id-1 pre{padding: 0;}#sk-container-id-1 div.sk-toggleable {background-color: white;}#sk-container-id-1 label.sk-toggleable__label {cursor: pointer;display: block;width: 100%;margin-bottom: 0;padding: 0.3em;box-sizing: border-box;text-align: center;}#sk-container-id-1 label.sk-toggleable__label-arrow:before {content: \"▸\";float: left;margin-right: 0.25em;color: #696969;}#sk-container-id-1 label.sk-toggleable__label-arrow:hover:before {color: black;}#sk-container-id-1 div.sk-estimator:hover label.sk-toggleable__label-arrow:before {color: black;}#sk-container-id-1 div.sk-toggleable__content {max-height: 0;max-width: 0;overflow: hidden;text-align: left;background-color: #f0f8ff;}#sk-container-id-1 div.sk-toggleable__content pre {margin: 0.2em;color: black;border-radius: 0.25em;background-color: #f0f8ff;}#sk-container-id-1 input.sk-toggleable__control:checked~div.sk-toggleable__content {max-height: 200px;max-width: 100%;overflow: auto;}#sk-container-id-1 input.sk-toggleable__control:checked~label.sk-toggleable__label-arrow:before {content: \"▾\";}#sk-container-id-1 div.sk-estimator input.sk-toggleable__control:checked~label.sk-toggleable__label {background-color: #d4ebff;}#sk-container-id-1 div.sk-label input.sk-toggleable__control:checked~label.sk-toggleable__label {background-color: #d4ebff;}#sk-container-id-1 input.sk-hidden--visually {border: 0;clip: rect(1px 1px 1px 1px);clip: rect(1px, 1px, 1px, 1px);height: 1px;margin: -1px;overflow: hidden;padding: 0;position: absolute;width: 1px;}#sk-container-id-1 div.sk-estimator {font-family: monospace;background-color: #f0f8ff;border: 1px dotted black;border-radius: 0.25em;box-sizing: border-box;margin-bottom: 0.5em;}#sk-container-id-1 div.sk-estimator:hover {background-color: #d4ebff;}#sk-container-id-1 div.sk-parallel-item::after {content: \"\";width: 100%;border-bottom: 1px solid gray;flex-grow: 1;}#sk-container-id-1 div.sk-label:hover label.sk-toggleable__label {background-color: #d4ebff;}#sk-container-id-1 div.sk-serial::before {content: \"\";position: absolute;border-left: 1px solid gray;box-sizing: border-box;top: 0;bottom: 0;left: 50%;z-index: 0;}#sk-container-id-1 div.sk-serial {display: flex;flex-direction: column;align-items: center;background-color: white;padding-right: 0.2em;padding-left: 0.2em;position: relative;}#sk-container-id-1 div.sk-item {position: relative;z-index: 1;}#sk-container-id-1 div.sk-parallel {display: flex;align-items: stretch;justify-content: center;background-color: white;position: relative;}#sk-container-id-1 div.sk-item::before, #sk-container-id-1 div.sk-parallel-item::before {content: \"\";position: absolute;border-left: 1px solid gray;box-sizing: border-box;top: 0;bottom: 0;left: 50%;z-index: -1;}#sk-container-id-1 div.sk-parallel-item {display: flex;flex-direction: column;z-index: 1;position: relative;background-color: white;}#sk-container-id-1 div.sk-parallel-item:first-child::after {align-self: flex-end;width: 50%;}#sk-container-id-1 div.sk-parallel-item:last-child::after {align-self: flex-start;width: 50%;}#sk-container-id-1 div.sk-parallel-item:only-child::after {width: 0;}#sk-container-id-1 div.sk-dashed-wrapped {border: 1px dashed gray;margin: 0 0.4em 0.5em 0.4em;box-sizing: border-box;padding-bottom: 0.4em;background-color: white;}#sk-container-id-1 div.sk-label label {font-family: monospace;font-weight: bold;display: inline-block;line-height: 1.2em;}#sk-container-id-1 div.sk-label-container {text-align: center;}#sk-container-id-1 div.sk-container {/* jupyter's `normalize.less` sets `[hidden] { display: none; }` but bootstrap.min.css set `[hidden] { display: none !important; }` so we also need the `!important` here to be able to override the default hidden behavior on the sphinx rendered scikit-learn.org. See: https://github.com/scikit-learn/scikit-learn/issues/21755 */display: inline-block !important;position: relative;}#sk-container-id-1 div.sk-text-repr-fallback {display: none;}</style><div id=\"sk-container-id-1\" class=\"sk-top-container\"><div class=\"sk-text-repr-fallback\"><pre>LogisticRegression(max_iter=10000, multi_class=&#x27;multinomial&#x27;)</pre><b>In a Jupyter environment, please rerun this cell to show the HTML representation or trust the notebook. <br />On GitHub, the HTML representation is unable to render, please try loading this page with nbviewer.org.</b></div><div class=\"sk-container\" hidden><div class=\"sk-item\"><div class=\"sk-estimator sk-toggleable\"><input class=\"sk-toggleable__control sk-hidden--visually\" id=\"sk-estimator-id-1\" type=\"checkbox\" checked><label for=\"sk-estimator-id-1\" class=\"sk-toggleable__label sk-toggleable__label-arrow\">LogisticRegression</label><div class=\"sk-toggleable__content\"><pre>LogisticRegression(max_iter=10000, multi_class=&#x27;multinomial&#x27;)</pre></div></div></div></div></div>"
            ]
          },
          "metadata": {},
          "execution_count": 22
        }
      ]
    },
    {
      "cell_type": "code",
      "source": [
        "#f1 score for initial test is 0.40 and fairly closely related to MCC score of 0.36.\n",
        "y_pred_lr_5 = lr_model_5.predict(X_test_set_5)\n",
        "print(classification_report(Y_test_set_5, y_pred_lr_5))\n",
        "print('Matthews:', matthews_corrcoef(Y_test_set_5, y_pred_lr_5))"
      ],
      "metadata": {
        "colab": {
          "base_uri": "https://localhost:8080/"
        },
        "id": "cFAO-fBd-LJh",
        "outputId": "628ff3a8-7118-4631-c65a-55a9008aa0d1"
      },
      "execution_count": 23,
      "outputs": [
        {
          "output_type": "stream",
          "name": "stdout",
          "text": [
            "              precision    recall  f1-score   support\n",
            "\n",
            "        High       0.33      0.04      0.06        28\n",
            "         Low       0.37      0.32      0.34        91\n",
            "      Medium       0.13      0.12      0.12        25\n",
            "   Very High       0.61      0.70      0.65        20\n",
            "    Very Low       0.78      0.90      0.84       235\n",
            "\n",
            "    accuracy                           0.65       399\n",
            "   macro avg       0.44      0.42      0.40       399\n",
            "weighted avg       0.61      0.65      0.62       399\n",
            "\n",
            "Matthews: 0.3644843515221849\n"
          ]
        }
      ]
    },
    {
      "cell_type": "code",
      "source": [
        "lr_model_sk_5 = LogisticRegression(multi_class='multinomial', solver='lbfgs', max_iter=10000)"
      ],
      "metadata": {
        "id": "WEYBdM3G-eML"
      },
      "execution_count": 24,
      "outputs": []
    },
    {
      "cell_type": "code",
      "source": [
        "#Based on evaluation metrics, I chose 13 repeats for this model. Once again, it is worth nothing that Logistic Regression models are considerably more time\n",
        "#consuming than other models, with initialization for Straified K-fold validation taking 18mins.\n",
        "def evaluate_model(X, y, repeats):\n",
        " cv = RepeatedStratifiedKFold(n_splits=10, n_repeats=repeats, random_state=1)\n",
        " model = LogisticRegression(multi_class='multinomial', solver='lbfgs', max_iter=10000)\n",
        " scores_lr_5 = cross_val_score(model, features_5, target_5, scoring='f1_macro', cv=cv, n_jobs=-1)\n",
        " return scores_lr_5\n",
        "repeats = range(1,16)\n",
        "results_lr_5 = list()\n",
        "for r in repeats:\n",
        " scores_lr_5 = evaluate_model(features_5, target_5, r)\n",
        " print('>%d f1=%.4f se=%.3f' % (r, mean(scores_lr_5), sem(scores_lr_5)))\n",
        " results_lr_5.append(scores_lr_5)\n",
        "\n",
        "plt.boxplot(results_lr_5, labels=[str(r) for r in repeats], showmeans=True)\n",
        "plt.show()"
      ],
      "metadata": {
        "colab": {
          "base_uri": "https://localhost:8080/",
          "height": 702
        },
        "id": "r0Hsahtj-hkH",
        "outputId": "d2f7d0bf-b87e-4b50-ee54-adcb3a55db61"
      },
      "execution_count": 25,
      "outputs": [
        {
          "output_type": "stream",
          "name": "stdout",
          "text": [
            ">1 f1=0.4134 se=0.009\n",
            ">2 f1=0.4179 se=0.009\n",
            ">3 f1=0.4160 se=0.008\n",
            ">4 f1=0.4152 se=0.007\n",
            ">5 f1=0.4140 se=0.006\n",
            ">6 f1=0.4147 se=0.005\n",
            ">7 f1=0.4161 se=0.005\n",
            ">8 f1=0.4161 se=0.004\n",
            ">9 f1=0.4162 se=0.004\n",
            ">10 f1=0.4156 se=0.004\n",
            ">11 f1=0.4162 se=0.004\n",
            ">12 f1=0.4154 se=0.004\n",
            ">13 f1=0.4156 se=0.003\n",
            ">14 f1=0.4157 se=0.003\n",
            ">15 f1=0.4155 se=0.003\n"
          ]
        },
        {
          "output_type": "display_data",
          "data": {
            "text/plain": [
              "<Figure size 640x480 with 1 Axes>"
            ],
            "image/png": "[encoded data removed]"
          },
          "metadata": {}
        }
      ]
    },
    {
      "cell_type": "code",
      "source": [
        "#f1 score remains relatively stable at 0.41, while MCC score increases to 0.43 and becomes more closely related to f1 score, indicating that\n",
        "#Stratified K-fold cross-validation improves the performance of the model. Again, the effiency is low at 11 mins to perform cross-validation.\n",
        "skf_lr_5 = RepeatedStratifiedKFold(n_splits=10, n_repeats=13, random_state=1)\n",
        "lst_accu_stratified = []\n",
        "\n",
        "for train_index, test_index in skf_lr_5.split(features_5, target_5):\n",
        "    x_train_fold, x_test_fold = features_5.iloc[train_index], features_5.iloc[test_index]\n",
        "    y_train_fold, y_test_fold = target_5[train_index], target_5[test_index]\n",
        "    lr_model_sk_5.fit(x_train_fold, y_train_fold)\n",
        "    y_pred = lr_model_sk_5.predict(x_test_fold)\n",
        "    lst_accu_stratified.append(lr_model_sk_5.score(x_test_fold, y_test_fold))\n",
        "\n",
        "print('\\nMaximum Accuracy That can be obtained from this model is:',\n",
        "      max(lst_accu_stratified)*100, '%')\n",
        "print('\\nMinimum Accuracy:',\n",
        "      min(lst_accu_stratified)*100, '%')\n",
        "print('\\nOverall Accuracy:',\n",
        "      mean(lst_accu_stratified)*100, '%')\n",
        "print('\\nStandard Deviation is:', std(lst_accu_stratified))\n",
        "scores = cross_val_score(lr_model_sk_5, features_5, target_5, scoring='f1_macro', cv=skf_lr_5, n_jobs=-1)\n",
        "print('F1: %.3f (%.3f)' % (mean(scores), std(scores)))\n",
        "scores_matthews = cross_val_score(lr_model_sk_5, features_5, target_5, scoring='matthews_corrcoef', cv=skf_lr_5, n_jobs=-1)\n",
        "print('Matthews: %.3f (%.3f)' % (mean(scores_matthews), std(scores_matthews)))"
      ],
      "metadata": {
        "colab": {
          "base_uri": "https://localhost:8080/"
        },
        "id": "jFiaKQsQB5hc",
        "outputId": "09f47114-1e8f-469f-d880-d1721170e511"
      },
      "execution_count": 26,
      "outputs": [
        {
          "output_type": "stream",
          "name": "stdout",
          "text": [
            "\n",
            "Maximum Accuracy That can be obtained from this model is: 73.5 %\n",
            "\n",
            "Minimum Accuracy: 61.30653266331658 %\n",
            "\n",
            "Overall Accuracy: 68.66810977966757 %\n",
            "\n",
            "Standard Deviation is: 0.02298535093893014\n",
            "F1: 0.416 (0.038)\n",
            "Matthews: 0.432 (0.044)\n"
          ]
        }
      ]
    },
    {
      "cell_type": "code",
      "source": [
        "#For this model I chose to use 8 repeats based on evaluation metrics. Initialization took 17mins.\n",
        "def evaluate_model(X, y, repeats):\n",
        " cv = RepeatedKFold(n_splits=10, n_repeats=repeats, random_state=1)\n",
        " model = LogisticRegression(multi_class='multinomial', solver='lbfgs', max_iter=1000)\n",
        " scores_lr_5 = cross_val_score(model, features_5, target_5, scoring='f1_macro', cv=cv, n_jobs=-1)\n",
        " return scores_lr_5\n",
        "repeats = range(1,16)\n",
        "results_lr_5 = list()\n",
        "for r in repeats:\n",
        " scores_lr_5 = evaluate_model(features_5, target_5, r)\n",
        " print('>%d f1=%.4f se=%.3f' % (r, mean(scores_lr_5), sem(scores_lr_5)))\n",
        " results_lr_5.append(scores_lr_5)\n",
        "\n",
        "plt.boxplot(results_lr_5, labels=[str(r) for r in repeats], showmeans=True)\n",
        "plt.show()"
      ],
      "metadata": {
        "id": "xWduXpkQ-lF3",
        "colab": {
          "base_uri": "https://localhost:8080/",
          "height": 702
        },
        "outputId": "c093ea2a-b0af-4282-a32b-42fb8bd03d0f"
      },
      "execution_count": 27,
      "outputs": [
        {
          "output_type": "stream",
          "name": "stdout",
          "text": [
            ">1 f1=0.4103 se=0.008\n",
            ">2 f1=0.4047 se=0.009\n",
            ">3 f1=0.4113 se=0.007\n",
            ">4 f1=0.4116 se=0.006\n",
            ">5 f1=0.4124 se=0.006\n",
            ">6 f1=0.4129 se=0.005\n",
            ">7 f1=0.4123 se=0.005\n",
            ">8 f1=0.4128 se=0.004\n",
            ">9 f1=0.4134 se=0.004\n",
            ">10 f1=0.4119 se=0.004\n",
            ">11 f1=0.4118 se=0.004\n",
            ">12 f1=0.4105 se=0.004\n",
            ">13 f1=0.4102 se=0.003\n",
            ">14 f1=0.4109 se=0.003\n",
            ">15 f1=0.4112 se=0.003\n"
          ]
        },
        {
          "output_type": "display_data",
          "data": {
            "text/plain": [
              "<Figure size 640x480 with 1 Axes>"
            ],
            "image/png": "[encoded data removed]"
          },
          "metadata": {}
        }
      ]
    },
    {
      "cell_type": "code",
      "source": [
        "#f1 score and MCC score are the same Stratified K-fold at 0.41 and 0.43 respectively. Indicates that either cross-validation technique can be used to improve\n",
        "#model performance but that overall it remains stable. Smaller number of repeats resulted in shorter processing time of 4min.\n",
        "cv_5 = RepeatedKFold(n_splits=10, n_repeats=8, random_state=1)\n",
        "acc_scores = cross_val_score(lr_model_5, features_5, target_5, scoring='accuracy', cv=cv_5, n_jobs=-1)\n",
        "print('Accuracy: %.3f (%.3f)' % (mean(acc_scores), std(acc_scores)))\n",
        "scores_f1 = cross_val_score(lr_model_5, features_5, target_5, scoring='f1_macro', cv=cv_5, n_jobs=-1)\n",
        "print('F1: %.3f (%.3f)' % (mean(scores_f1), std(scores_f1)))\n",
        "scores_matthews = cross_val_score(lr_model_5, features_5, target_5, scoring='matthews_corrcoef', cv=cv_5, n_jobs=-1)\n",
        "print('Matthews: %.3f (%.3f)' % (mean(scores_matthews), std(scores_matthews)))"
      ],
      "metadata": {
        "id": "7Vp-23EHDbrP",
        "colab": {
          "base_uri": "https://localhost:8080/"
        },
        "outputId": "ee319d9e-4ea5-4b7f-e065-4254d1c219a7"
      },
      "execution_count": 28,
      "outputs": [
        {
          "output_type": "stream",
          "name": "stdout",
          "text": [
            "Accuracy: 0.685 (0.025)\n",
            "F1: 0.411 (0.039)\n",
            "Matthews: 0.429 (0.038)\n"
          ]
        }
      ]
    },
    {
      "cell_type": "markdown",
      "source": [
        "Repeating with the 3 Class Dataset"
      ],
      "metadata": {
        "id": "1zJO66OleUSs"
      }
    },
    {
      "cell_type": "code",
      "source": [
        "X_train_set_3, X_test_set_3, Y_train_set_3, Y_test_set_3 = train_test_split(features_3, target_3, train_size=0.8, random_state=25)"
      ],
      "metadata": {
        "id": "0SnpAFvuJvHg"
      },
      "execution_count": 29,
      "outputs": []
    },
    {
      "cell_type": "code",
      "source": [
        "lr_model_3 = LogisticRegression(multi_class='multinomial', solver='lbfgs', max_iter=20000)\n",
        "lr_model_3.fit(X_train_set_3, Y_train_set_3)"
      ],
      "metadata": {
        "colab": {
          "base_uri": "https://localhost:8080/",
          "height": 74
        },
        "id": "k1Y49eABJyOb",
        "outputId": "0a27cf2b-30ed-4cc8-ae07-de6ff0708c3a"
      },
      "execution_count": 30,
      "outputs": [
        {
          "output_type": "execute_result",
          "data": {
            "text/plain": [
              "LogisticRegression(max_iter=20000, multi_class='multinomial')"
            ],
            "text/html": [
              "<style>#sk-container-id-2 {color: black;background-color: white;}#sk-container-id-2 pre{padding: 0;}#sk-container-id-2 div.sk-toggleable {background-color: white;}#sk-container-id-2 label.sk-toggleable__label {cursor: pointer;display: block;width: 100%;margin-bottom: 0;padding: 0.3em;box-sizing: border-box;text-align: center;}#sk-container-id-2 label.sk-toggleable__label-arrow:before {content: \"▸\";float: left;margin-right: 0.25em;color: #696969;}#sk-container-id-2 label.sk-toggleable__label-arrow:hover:before {color: black;}#sk-container-id-2 div.sk-estimator:hover label.sk-toggleable__label-arrow:before {color: black;}#sk-container-id-2 div.sk-toggleable__content {max-height: 0;max-width: 0;overflow: hidden;text-align: left;background-color: #f0f8ff;}#sk-container-id-2 div.sk-toggleable__content pre {margin: 0.2em;color: black;border-radius: 0.25em;background-color: #f0f8ff;}#sk-container-id-2 input.sk-toggleable__control:checked~div.sk-toggleable__content {max-height: 200px;max-width: 100%;overflow: auto;}#sk-container-id-2 input.sk-toggleable__control:checked~label.sk-toggleable__label-arrow:before {content: \"▾\";}#sk-container-id-2 div.sk-estimator input.sk-toggleable__control:checked~label.sk-toggleable__label {background-color: #d4ebff;}#sk-container-id-2 div.sk-label input.sk-toggleable__control:checked~label.sk-toggleable__label {background-color: #d4ebff;}#sk-container-id-2 input.sk-hidden--visually {border: 0;clip: rect(1px 1px 1px 1px);clip: rect(1px, 1px, 1px, 1px);height: 1px;margin: -1px;overflow: hidden;padding: 0;position: absolute;width: 1px;}#sk-container-id-2 div.sk-estimator {font-family: monospace;background-color: #f0f8ff;border: 1px dotted black;border-radius: 0.25em;box-sizing: border-box;margin-bottom: 0.5em;}#sk-container-id-2 div.sk-estimator:hover {background-color: #d4ebff;}#sk-container-id-2 div.sk-parallel-item::after {content: \"\";width: 100%;border-bottom: 1px solid gray;flex-grow: 1;}#sk-container-id-2 div.sk-label:hover label.sk-toggleable__label {background-color: #d4ebff;}#sk-container-id-2 div.sk-serial::before {content: \"\";position: absolute;border-left: 1px solid gray;box-sizing: border-box;top: 0;bottom: 0;left: 50%;z-index: 0;}#sk-container-id-2 div.sk-serial {display: flex;flex-direction: column;align-items: center;background-color: white;padding-right: 0.2em;padding-left: 0.2em;position: relative;}#sk-container-id-2 div.sk-item {position: relative;z-index: 1;}#sk-container-id-2 div.sk-parallel {display: flex;align-items: stretch;justify-content: center;background-color: white;position: relative;}#sk-container-id-2 div.sk-item::before, #sk-container-id-2 div.sk-parallel-item::before {content: \"\";position: absolute;border-left: 1px solid gray;box-sizing: border-box;top: 0;bottom: 0;left: 50%;z-index: -1;}#sk-container-id-2 div.sk-parallel-item {display: flex;flex-direction: column;z-index: 1;position: relative;background-color: white;}#sk-container-id-2 div.sk-parallel-item:first-child::after {align-self: flex-end;width: 50%;}#sk-container-id-2 div.sk-parallel-item:last-child::after {align-self: flex-start;width: 50%;}#sk-container-id-2 div.sk-parallel-item:only-child::after {width: 0;}#sk-container-id-2 div.sk-dashed-wrapped {border: 1px dashed gray;margin: 0 0.4em 0.5em 0.4em;box-sizing: border-box;padding-bottom: 0.4em;background-color: white;}#sk-container-id-2 div.sk-label label {font-family: monospace;font-weight: bold;display: inline-block;line-height: 1.2em;}#sk-container-id-2 div.sk-label-container {text-align: center;}#sk-container-id-2 div.sk-container {/* jupyter's `normalize.less` sets `[hidden] { display: none; }` but bootstrap.min.css set `[hidden] { display: none !important; }` so we also need the `!important` here to be able to override the default hidden behavior on the sphinx rendered scikit-learn.org. See: https://github.com/scikit-learn/scikit-learn/issues/21755 */display: inline-block !important;position: relative;}#sk-container-id-2 div.sk-text-repr-fallback {display: none;}</style><div id=\"sk-container-id-2\" class=\"sk-top-container\"><div class=\"sk-text-repr-fallback\"><pre>LogisticRegression(max_iter=20000, multi_class=&#x27;multinomial&#x27;)</pre><b>In a Jupyter environment, please rerun this cell to show the HTML representation or trust the notebook. <br />On GitHub, the HTML representation is unable to render, please try loading this page with nbviewer.org.</b></div><div class=\"sk-container\" hidden><div class=\"sk-item\"><div class=\"sk-estimator sk-toggleable\"><input class=\"sk-toggleable__control sk-hidden--visually\" id=\"sk-estimator-id-2\" type=\"checkbox\" checked><label for=\"sk-estimator-id-2\" class=\"sk-toggleable__label sk-toggleable__label-arrow\">LogisticRegression</label><div class=\"sk-toggleable__content\"><pre>LogisticRegression(max_iter=20000, multi_class=&#x27;multinomial&#x27;)</pre></div></div></div></div></div>"
            ]
          },
          "metadata": {},
          "execution_count": 30
        }
      ]
    },
    {
      "cell_type": "code",
      "source": [
        "#f1 score is improved from 5-class model at 0.57 withh a closely related MCC score of 0.53\n",
        "y_pred_3 = lr_model_3.predict(X_test_set_3)\n",
        "print(classification_report(Y_test_set_3, y_pred_3))\n",
        "print('Matthews:', matthews_corrcoef(Y_test_set_3, y_pred_3))"
      ],
      "metadata": {
        "colab": {
          "base_uri": "https://localhost:8080/"
        },
        "id": "S7n4vmEBJ0Kr",
        "outputId": "247eb401-5c0d-49a1-cf05-543c5ce1a1bd"
      },
      "execution_count": 31,
      "outputs": [
        {
          "output_type": "stream",
          "name": "stdout",
          "text": [
            "              precision    recall  f1-score   support\n",
            "\n",
            "        High       0.71      0.74      0.72        73\n",
            "         Low       0.82      0.95      0.88       265\n",
            "      Medium       0.27      0.07      0.11        61\n",
            "\n",
            "    accuracy                           0.78       399\n",
            "   macro avg       0.60      0.59      0.57       399\n",
            "weighted avg       0.72      0.78      0.74       399\n",
            "\n",
            "Matthews: 0.5273057587455766\n"
          ]
        }
      ]
    },
    {
      "cell_type": "code",
      "source": [
        "lr_model_sk_3 = LogisticRegression(multi_class='multinomial', solver='lbfgs', max_iter=20000)"
      ],
      "metadata": {
        "id": "zU--vtFmJ28z"
      },
      "execution_count": 32,
      "outputs": []
    },
    {
      "cell_type": "code",
      "source": [
        "#For this Stratified K-fold method I chose 12 repeats based on previously mentioned evaluation metrics. Processing time still costly at 15min.\n",
        "def evaluate_model(X, y, repeats):\n",
        " cv = RepeatedStratifiedKFold(n_splits=10, n_repeats=repeats, random_state=1)\n",
        " model = LogisticRegression(multi_class='multinomial', solver='lbfgs', max_iter=20000)\n",
        " scores_lr_3 = cross_val_score(model, features_3, target_3, scoring='f1_macro', cv=cv, n_jobs=-1)\n",
        " return scores_lr_3\n",
        "repeats = range(1,16)\n",
        "results_lr_3 = list()\n",
        "for r in repeats:\n",
        " scores_lr_3 = evaluate_model(features_3, target_3, r)\n",
        " print('>%d f1=%.4f se=%.3f' % (r, mean(scores_lr_3), sem(scores_lr_3)))\n",
        " results_lr_3.append(scores_lr_3)\n",
        "\n",
        "plt.boxplot(results_lr_3, labels=[str(r) for r in repeats], showmeans=True)\n",
        "plt.show()"
      ],
      "metadata": {
        "id": "M3hMlyJeJ5j0",
        "colab": {
          "base_uri": "https://localhost:8080/",
          "height": 703
        },
        "outputId": "5ce019e3-2f78-4786-98c8-f41bf6d95a1e"
      },
      "execution_count": 33,
      "outputs": [
        {
          "output_type": "stream",
          "name": "stdout",
          "text": [
            ">1 f1=0.5745 se=0.013\n",
            ">2 f1=0.5696 se=0.008\n",
            ">3 f1=0.5704 se=0.007\n",
            ">4 f1=0.5717 se=0.006\n",
            ">5 f1=0.5715 se=0.005\n",
            ">6 f1=0.5706 se=0.004\n",
            ">7 f1=0.5693 se=0.004\n",
            ">8 f1=0.5692 se=0.004\n",
            ">9 f1=0.5702 se=0.004\n",
            ">10 f1=0.5705 se=0.004\n",
            ">11 f1=0.5715 se=0.003\n",
            ">12 f1=0.5716 se=0.003\n",
            ">13 f1=0.5715 se=0.003\n",
            ">14 f1=0.5715 se=0.003\n",
            ">15 f1=0.5717 se=0.003\n"
          ]
        },
        {
          "output_type": "display_data",
          "data": {
            "text/plain": [
              "<Figure size 640x480 with 1 Axes>"
            ],
            "image/png": "[encoded data removed]"
          },
          "metadata": {}
        }
      ]
    },
    {
      "cell_type": "code",
      "source": [
        "#f1 score and MCC score are stable at 0.57 and 0.52 respectively, indicating the model's stability before and after cross-validation. Processing time improved from\n",
        "#5-class model at 5 min.\n",
        "skf_lr_3 = RepeatedStratifiedKFold(n_splits=10, n_repeats=12, random_state=1)\n",
        "lst_accu_stratified = []\n",
        "\n",
        "for train_index, test_index in skf_lr_3.split(features_3, target_3):\n",
        "    x_train_fold, x_test_fold = features_3.iloc[train_index], features_3.iloc[test_index]\n",
        "    y_train_fold, y_test_fold = target_3[train_index], target_3[test_index]\n",
        "    lr_model_sk_3.fit(x_train_fold, y_train_fold)\n",
        "    y_pred = lr_model_sk_3.predict(x_test_fold)\n",
        "    lst_accu_stratified.append(lr_model_sk_3.score(x_test_fold, y_test_fold))\n",
        "\n",
        "print('\\nMaximum Accuracy That can be obtained from this model is:',\n",
        "      max(lst_accu_stratified)*100, '%')\n",
        "print('\\nMinimum Accuracy:',\n",
        "      min(lst_accu_stratified)*100, '%')\n",
        "print('\\nOverall Accuracy:',\n",
        "      mean(lst_accu_stratified)*100, '%')\n",
        "print('\\nStandard Deviation is:', std(lst_accu_stratified))\n",
        "scores_f1 = cross_val_score(lr_model_sk_3, features_3, target_3, scoring='f1_macro', cv=skf_lr_3, n_jobs=-1)\n",
        "print('F1: %.3f (%.3f)' % (mean(scores_f1), std(scores_f1)))\n",
        "scores_matthews = cross_val_score(lr_model_sk_3, features_3, target_3, scoring='matthews_corrcoef', cv=skf_lr_3, n_jobs=-1)\n",
        "print('Matthews: %.3f (%.3f)' % (mean(scores_matthews), std(scores_matthews)))"
      ],
      "metadata": {
        "id": "mh4V2PoRJ7fW",
        "colab": {
          "base_uri": "https://localhost:8080/"
        },
        "outputId": "4914e2ff-f6a8-4db0-9cf8-3f7b5212e12f"
      },
      "execution_count": 34,
      "outputs": [
        {
          "output_type": "stream",
          "name": "stdout",
          "text": [
            "\n",
            "Maximum Accuracy That can be obtained from this model is: 83.91959798994975 %\n",
            "\n",
            "Minimum Accuracy: 73.5 %\n",
            "\n",
            "Overall Accuracy: 78.03867252931323 %\n",
            "\n",
            "Standard Deviation is: 0.02073122472525576\n",
            "F1: 0.572 (0.037)\n",
            "Matthews: 0.521 (0.050)\n"
          ]
        }
      ]
    },
    {
      "cell_type": "code",
      "source": [
        "#For this model, 8 repeats is optimal. Processing time is still an issue at 15 mins.\n",
        "def evaluate_model(X, y, repeats):\n",
        " cv = RepeatedKFold(n_splits=10, n_repeats=repeats, random_state=1)\n",
        " model = LogisticRegression(multi_class='multinomial', solver='lbfgs', max_iter=20000)\n",
        " scores_lr_3 = cross_val_score(model, features_3, target_3, scoring='f1_macro', cv=cv, n_jobs=-1)\n",
        " return scores_lr_3\n",
        "repeats = range(1,16)\n",
        "results_lr_3 = list()\n",
        "for r in repeats:\n",
        " scores_lr_3 = evaluate_model(features_3, target_3, r)\n",
        " print('>%d f1=%.4f se=%.3f' % (r, mean(scores_lr_3), sem(scores_lr_3)))\n",
        " results_lr_3.append(scores_lr_3)\n",
        "\n",
        "plt.boxplot(results_lr_3, labels=[str(r) for r in repeats], showmeans=True)\n",
        "plt.show()"
      ],
      "metadata": {
        "id": "f8-qSs_UKDNY",
        "colab": {
          "base_uri": "https://localhost:8080/",
          "height": 702
        },
        "outputId": "c0756c7f-9125-4611-e9b2-7274cd341cbd"
      },
      "execution_count": 35,
      "outputs": [
        {
          "output_type": "stream",
          "name": "stdout",
          "text": [
            ">1 f1=0.5736 se=0.014\n",
            ">2 f1=0.5744 se=0.010\n",
            ">3 f1=0.5728 se=0.008\n",
            ">4 f1=0.5737 se=0.007\n",
            ">5 f1=0.5755 se=0.006\n",
            ">6 f1=0.5741 se=0.005\n",
            ">7 f1=0.5755 se=0.005\n",
            ">8 f1=0.5750 se=0.004\n",
            ">9 f1=0.5748 se=0.004\n",
            ">10 f1=0.5750 se=0.004\n",
            ">11 f1=0.5763 se=0.004\n",
            ">12 f1=0.5766 se=0.003\n",
            ">13 f1=0.5763 se=0.003\n",
            ">14 f1=0.5756 se=0.003\n",
            ">15 f1=0.5754 se=0.003\n"
          ]
        },
        {
          "output_type": "display_data",
          "data": {
            "text/plain": [
              "<Figure size 640x480 with 1 Axes>"
            ],
            "image/png": "[encoded data removed]"
          },
          "metadata": {}
        }
      ]
    },
    {
      "cell_type": "code",
      "source": [
        "#f1 score and MCC score are still almost the same at 0.58 and 0.52. Model is stable and performs slightly worse when True Negative values are included.\n",
        "cv_3 = RepeatedKFold(n_splits=10, n_repeats=8, random_state=1)\n",
        "acc_scores = cross_val_score(lr_model_3, features_3, target_3, scoring='accuracy', cv=cv_3, n_jobs=-1)\n",
        "print('Accuracy: %.3f (%.3f)' % (mean(acc_scores), std(acc_scores)))\n",
        "scores_f1 = cross_val_score(lr_model_3, features_3, target_3, scoring='f1_macro', cv=cv_3, n_jobs=-1)\n",
        "print('F1: %.3f (%.3f)' % (mean(scores_f1), std(scores_f1)))\n",
        "scores_matthews = cross_val_score(lr_model_3, features_3, target_3, scoring='matthews_corrcoef', cv=cv_3, n_jobs=-1)\n",
        "print('Matthews: %.3f (%.3f)' % (mean(scores_matthews), std(scores_matthews)))"
      ],
      "metadata": {
        "colab": {
          "base_uri": "https://localhost:8080/"
        },
        "id": "r_SgQV8MKGM9",
        "outputId": "75be7b88-4ed6-4d19-f983-be2bf47da879"
      },
      "execution_count": 36,
      "outputs": [
        {
          "output_type": "stream",
          "name": "stdout",
          "text": [
            "Accuracy: 0.781 (0.026)\n",
            "F1: 0.575 (0.039)\n",
            "Matthews: 0.520 (0.058)\n"
          ]
        }
      ]
    },
    {
      "cell_type": "markdown",
      "source": [
        "# K Nearest Neighbors Classifiers"
      ],
      "metadata": {
        "id": "FbXiWC9VAi7C"
      }
    },
    {
      "cell_type": "code",
      "source": [
        "x_train_5, x_test_5, Y_train_5, Y_test_5 = train_test_split(features_5, target_5, train_size = 0.8, random_state=42)"
      ],
      "metadata": {
        "id": "y9UwoAxsY6PO"
      },
      "execution_count": 37,
      "outputs": []
    },
    {
      "cell_type": "code",
      "source": [
        "#Initializing K Nearest Neighbors and finding optimal number of neighbors. Here the best choice is K=7.\n",
        "f1 = []\n",
        "for i in range(1,40):\n",
        "    neigh = KNeighborsClassifier(n_neighbors = i).fit(x_train_5,Y_train_5)\n",
        "    yhat_5 = neigh.predict(x_test_5)\n",
        "    f1.append(metrics.f1_score(Y_test_5, yhat_5, average='macro'))\n",
        "print(\"Maximum f1:-\",max(f1),\"at K =\",f1.index(max(f1)))\n",
        "MCC = []\n",
        "for i in range (1,40):\n",
        "    neigh = KNeighborsClassifier(n_neighbors = i).fit(x_train_5,Y_train_5)\n",
        "    yhat_5 = neigh.predict(x_test_5)\n",
        "    MCC.append(matthews_corrcoef(Y_test_5, yhat_5))\n",
        "print(\"Maximum MCC:-\",max(MCC),\"at K =\",MCC.index(max(MCC)))"
      ],
      "metadata": {
        "colab": {
          "base_uri": "https://localhost:8080/"
        },
        "id": "qq8AmOcHY9N0",
        "outputId": "9966d74b-0c92-4898-b47a-fda56570744b"
      },
      "execution_count": 38,
      "outputs": [
        {
          "output_type": "stream",
          "name": "stdout",
          "text": [
            "Maximum f1:- 0.3353371711125221 at K = 7\n",
            "Maximum MCC:- 0.33750191378454775 at K = 7\n"
          ]
        }
      ]
    },
    {
      "cell_type": "code",
      "source": [
        "#The initial f1 score is 0.29 and the MCC scoroe is 0.33, indicating the model is more accurate when including True Negative values.\n",
        "classifier_5 = KNeighborsClassifier(n_neighbors=7)\n",
        "classifier_5.fit(x_train_5, Y_train_5)\n",
        "Y_pred_5 = classifier_5.predict(x_test_5)\n",
        "print(classification_report(Y_test_5, Y_pred_5))\n",
        "print('Matthews:', matthews_corrcoef(Y_test_5, Y_pred_5))"
      ],
      "metadata": {
        "id": "NUajeIj3BDqg",
        "colab": {
          "base_uri": "https://localhost:8080/"
        },
        "outputId": "23a5af38-0cf4-47e7-a06a-2b5d81c13790"
      },
      "execution_count": 39,
      "outputs": [
        {
          "output_type": "stream",
          "name": "stdout",
          "text": [
            "              precision    recall  f1-score   support\n",
            "\n",
            "        High       0.20      0.06      0.10        16\n",
            "         Low       0.33      0.44      0.38        72\n",
            "      Medium       0.25      0.08      0.12        38\n",
            "   Very High       0.00      0.00      0.00        11\n",
            "    Very Low       0.81      0.89      0.85       262\n",
            "\n",
            "    accuracy                           0.67       399\n",
            "   macro avg       0.32      0.29      0.29       399\n",
            "weighted avg       0.63      0.67      0.64       399\n",
            "\n",
            "Matthews: 0.3276388453716856\n"
          ]
        }
      ]
    },
    {
      "cell_type": "code",
      "source": [
        "classifier_sk_5 = KNeighborsClassifier(n_neighbors=7)"
      ],
      "metadata": {
        "id": "XkT0vh_EZP9K"
      },
      "execution_count": 40,
      "outputs": []
    },
    {
      "cell_type": "code",
      "source": [
        "#Though none of the choices are perfectly symmetrical, I chose 15 repeats at is the closest to symmetrical, has no outliers, and has a low standard of error\n",
        "#without sacrificing the f1 score.\n",
        "def evaluate_model(X, y, repeats):\n",
        " cv = RepeatedStratifiedKFold(n_splits=10, n_repeats=repeats, random_state=1)\n",
        " model = KNeighborsClassifier(n_neighbors=7)\n",
        " scores_knn_5 = cross_val_score(model, features_5, target_5, scoring='f1_macro', cv=cv, n_jobs=-1)\n",
        " return scores_knn_5\n",
        "repeats = range(1,16)\n",
        "results_knn_5 = list()\n",
        "for r in repeats:\n",
        " scores_knn_5 = evaluate_model(features_5, target_5, r)\n",
        " print('>%d f1=%.4f se=%.3f' % (r, mean(scores_knn_5), sem(scores_knn_5)))\n",
        " results_knn_5.append(scores_knn_5)\n",
        "\n",
        "plt.boxplot(results_knn_5, labels=[str(r) for r in repeats], showmeans=True)\n",
        "plt.show()"
      ],
      "metadata": {
        "colab": {
          "base_uri": "https://localhost:8080/",
          "height": 704
        },
        "id": "W7ys7moMZZJW",
        "outputId": "dbb3b721-4cce-404d-ab42-9b389263a5bc"
      },
      "execution_count": 41,
      "outputs": [
        {
          "output_type": "stream",
          "name": "stdout",
          "text": [
            ">1 f1=0.3352 se=0.015\n",
            ">2 f1=0.3298 se=0.008\n",
            ">3 f1=0.3322 se=0.007\n",
            ">4 f1=0.3338 se=0.006\n",
            ">5 f1=0.3334 se=0.005\n",
            ">6 f1=0.3330 se=0.005\n",
            ">7 f1=0.3330 se=0.004\n",
            ">8 f1=0.3316 se=0.004\n",
            ">9 f1=0.3312 se=0.004\n",
            ">10 f1=0.3309 se=0.004\n",
            ">11 f1=0.3311 se=0.004\n",
            ">12 f1=0.3312 se=0.004\n",
            ">13 f1=0.3317 se=0.004\n",
            ">14 f1=0.3305 se=0.004\n",
            ">15 f1=0.3309 se=0.003\n"
          ]
        },
        {
          "output_type": "display_data",
          "data": {
            "text/plain": [
              "<Figure size 640x480 with 1 Axes>"
            ],
            "image/png": "[encoded data removed]"
          },
          "metadata": {}
        }
      ]
    },
    {
      "cell_type": "code",
      "source": [
        "#The f1 score improves slightly to 0.33 and the MCC score remains almost the same at 0.32. The fact that the scores are now more closely related\n",
        "#indicates the the Stratified K-Fold cross validation technique has improved the performance of the model.\n",
        "skf_knn_5 = RepeatedStratifiedKFold(n_splits=10, n_repeats=10, random_state=1)\n",
        "lst_accu_stratified = []\n",
        "\n",
        "for train_index, test_index in skf_knn_5.split(features_5, target_5):\n",
        "    x_train_fold, x_test_fold = features_5.iloc[train_index], features_5.iloc[test_index]\n",
        "    y_train_fold, y_test_fold = target_5[train_index], target_5[test_index]\n",
        "    classifier_sk_5.fit(x_train_fold, y_train_fold)\n",
        "    y_pred = classifier_sk_5.predict(x_test_fold)\n",
        "    lst_accu_stratified.append(classifier_sk_5.score(x_test_fold, y_test_fold))\n",
        "\n",
        "print('\\nMaximum Accuracy That can be obtained from this model is:',\n",
        "      max(lst_accu_stratified)*100, '%')\n",
        "print('\\nMinimum Accuracy:',\n",
        "      min(lst_accu_stratified)*100, '%')\n",
        "print('\\nOverall Accuracy:',\n",
        "      mean(lst_accu_stratified)*100, '%')\n",
        "print('\\nStandard Deviation is:', std(lst_accu_stratified))\n",
        "scores_f1 = cross_val_score(classifier_sk_5, features_5, target_5, scoring='f1_macro', cv=skf_knn_5, n_jobs=-1)\n",
        "print('F1: %.3f (%.3f)' % (mean(scores_f1), std(scores_f1)))\n",
        "scores_matthews = cross_val_score(classifier_sk_5, features_5, target_5, scoring='matthews_corrcoef', cv=skf_knn_5, n_jobs=-1)\n",
        "print('Matthews: %.3f (%.3f)' % (mean(scores_matthews), std(scores_matthews)))"
      ],
      "metadata": {
        "colab": {
          "base_uri": "https://localhost:8080/"
        },
        "id": "WBnb60ENZqZT",
        "outputId": "8845bc02-4fb2-4510-ff2e-5d47fbaca1e3"
      },
      "execution_count": 42,
      "outputs": [
        {
          "output_type": "stream",
          "name": "stdout",
          "text": [
            "\n",
            "Maximum Accuracy That can be obtained from this model is: 67.33668341708542 %\n",
            "\n",
            "Minimum Accuracy: 57.78894472361809 %\n",
            "\n",
            "Overall Accuracy: 63.105829145728656 %\n",
            "\n",
            "Standard Deviation is: 0.021917235431490212\n",
            "F1: 0.331 (0.040)\n",
            "Matthews: 0.316 (0.041)\n"
          ]
        }
      ]
    },
    {
      "cell_type": "code",
      "source": [
        "#For this model, 10 appears to be the optimal number of repeats, as the standard error begins to stabilize, it is relatively symmetrical, and has no outliers.\n",
        "def evaluate_model(X, y, repeats):\n",
        " cv = RepeatedKFold(n_splits=10, n_repeats=repeats, random_state=1)\n",
        " model = KNeighborsClassifier(n_neighbors=7)\n",
        " scores_knn_5 = cross_val_score(model, features_5, target_5, scoring='f1_macro', cv=cv, n_jobs=-1)\n",
        " return scores_knn_5\n",
        "repeats = range(1,16)\n",
        "results_knn_5 = list()\n",
        "for r in repeats:\n",
        " scores_knn_5 = evaluate_model(features_5, target_5, r)\n",
        " print('>%d f1=%.4f se=%.3f' % (r, mean(scores_knn_5), sem(scores_knn_5)))\n",
        " results_knn_5.append(scores_knn_5)\n",
        "\n",
        "plt.boxplot(results_knn_5, labels=[str(r) for r in repeats], showmeans=True)\n",
        "plt.show()"
      ],
      "metadata": {
        "colab": {
          "base_uri": "https://localhost:8080/",
          "height": 702
        },
        "id": "m1GJ2sBaZ1s0",
        "outputId": "d21c3f22-a63f-4238-8735-be999ceb8210"
      },
      "execution_count": 43,
      "outputs": [
        {
          "output_type": "stream",
          "name": "stdout",
          "text": [
            ">1 f1=0.3251 se=0.014\n",
            ">2 f1=0.3265 se=0.011\n",
            ">3 f1=0.3253 se=0.008\n",
            ">4 f1=0.3292 se=0.007\n",
            ">5 f1=0.3248 se=0.006\n",
            ">6 f1=0.3266 se=0.005\n",
            ">7 f1=0.3253 se=0.005\n",
            ">8 f1=0.3268 se=0.005\n",
            ">9 f1=0.3277 se=0.004\n",
            ">10 f1=0.3289 se=0.004\n",
            ">11 f1=0.3299 se=0.004\n",
            ">12 f1=0.3285 se=0.004\n",
            ">13 f1=0.3281 se=0.004\n",
            ">14 f1=0.3282 se=0.004\n",
            ">15 f1=0.3286 se=0.004\n"
          ]
        },
        {
          "output_type": "display_data",
          "data": {
            "text/plain": [
              "<Figure size 640x480 with 1 Axes>"
            ],
            "image/png": "[encoded data removed]"
          },
          "metadata": {}
        }
      ]
    },
    {
      "cell_type": "code",
      "source": [
        "#Once again, f1 and MCC remain the same at 0.33 and 0.32. This indicates that the model is stable and improved by the use of cross-validation techniques.\n",
        "cv_5 = RepeatedKFold(n_splits=10, n_repeats=10, random_state=1)\n",
        "acc_scores = cross_val_score(classifier_5, features_5, target_5, scoring='accuracy', cv=cv_5, n_jobs=-1)\n",
        "print('Accuracy: %.3f (%.3f)' % (mean(acc_scores), std(acc_scores)))\n",
        "scores_f1 = cross_val_score(classifier_5, features_5, target_5, scoring='f1_macro', cv=cv_5, n_jobs=-1)\n",
        "print('F1: %.3f (%.3f)' % (mean(scores_f1), std(scores_f1)))\n",
        "scores_matthews = cross_val_score(classifier_5, features_5, target_5, scoring='matthews_corrcoef', cv=cv_5, n_jobs=-1)\n",
        "print('Matthews: %.3f (%.3f)' % (mean(scores_matthews), std(scores_matthews)))"
      ],
      "metadata": {
        "colab": {
          "base_uri": "https://localhost:8080/"
        },
        "id": "yuJ9L74kaFzL",
        "outputId": "2b539604-2758-4256-928a-88a794c70744"
      },
      "execution_count": 44,
      "outputs": [
        {
          "output_type": "stream",
          "name": "stdout",
          "text": [
            "Accuracy: 0.632 (0.033)\n",
            "F1: 0.329 (0.043)\n",
            "Matthews: 0.318 (0.045)\n"
          ]
        }
      ]
    },
    {
      "cell_type": "markdown",
      "source": [
        "Repeating with the 3 Class Dataset"
      ],
      "metadata": {
        "id": "wbMOMMLVeaDJ"
      }
    },
    {
      "cell_type": "code",
      "source": [
        "#Intializing KNN model for optimal number of neighbors. We will choose 3 because it is in between our two evaluation metrics' optimal number of neighbors.\n",
        "x_train_3, x_test_3, Y_train_3, Y_test_3 = train_test_split(features_3, target_3, train_size = 0.8, random_state=42)\n",
        "\n",
        "f1 = []\n",
        "for i in range(1,40):\n",
        "    neigh = KNeighborsClassifier(n_neighbors = i).fit(x_train_3,Y_train_3)\n",
        "    yhat_3 = neigh.predict(x_test_3)\n",
        "    f1.append(metrics.f1_score(Y_test_3, yhat_3, average='macro'))\n",
        "print(\"Maximum f1:-\",max(f1),\"at K =\",f1.index(max(f1)))\n",
        "\n",
        "MCC = []\n",
        "for i in range (1,40):\n",
        "    neigh = KNeighborsClassifier(n_neighbors = i).fit(x_train_3,Y_train_3)\n",
        "    yhat_3 = neigh.predict(x_test_3)\n",
        "    MCC.append(matthews_corrcoef(Y_test_3, yhat_3))\n",
        "print(\"Maximum MCC:-\",max(MCC),\"at K =\",MCC.index(max(MCC)))"
      ],
      "metadata": {
        "id": "cbKRc3knBUfx",
        "colab": {
          "base_uri": "https://localhost:8080/"
        },
        "outputId": "f35eab64-43c8-46ef-a275-1999f377513a"
      },
      "execution_count": 45,
      "outputs": [
        {
          "output_type": "stream",
          "name": "stdout",
          "text": [
            "Maximum f1:- 0.527985355128693 at K = 2\n",
            "Maximum MCC:- 0.4018410212914906 at K = 4\n"
          ]
        }
      ]
    },
    {
      "cell_type": "code",
      "source": [
        "#f1 score of initial test is 0.53, however the MCC score lags behind at 0.40.\n",
        "classifier_3 = KNeighborsClassifier(n_neighbors=3)\n",
        "classifier_3.fit(x_train_3, Y_train_3)\n",
        "\n",
        "y_pred_3 = classifier_3.predict(x_test_3)\n",
        "print(classification_report(Y_test_3, y_pred_3))\n",
        "print('Matthews:', matthews_corrcoef(Y_test_3, y_pred_3))"
      ],
      "metadata": {
        "colab": {
          "base_uri": "https://localhost:8080/"
        },
        "id": "FbjotycjaY9I",
        "outputId": "dbaa9a41-40e2-4534-cd6a-39f93de398a7"
      },
      "execution_count": 46,
      "outputs": [
        {
          "output_type": "stream",
          "name": "stdout",
          "text": [
            "              precision    recall  f1-score   support\n",
            "\n",
            "        High       0.46      0.57      0.51        65\n",
            "         Low       0.85      0.87      0.86       285\n",
            "      Medium       0.30      0.16      0.21        49\n",
            "\n",
            "    accuracy                           0.74       399\n",
            "   macro avg       0.54      0.54      0.53       399\n",
            "weighted avg       0.72      0.74      0.73       399\n",
            "\n",
            "Matthews: 0.39922273081171467\n"
          ]
        }
      ]
    },
    {
      "cell_type": "code",
      "source": [
        "classifier_sk_3 = KNeighborsClassifier(n_neighbors=3)"
      ],
      "metadata": {
        "id": "wtaTu40MabGE"
      },
      "execution_count": 47,
      "outputs": []
    },
    {
      "cell_type": "code",
      "source": [
        "#For this model I chose 5 repeats based on previously mentioned evaluation metrics.\n",
        "def evaluate_model(X, y, repeats):\n",
        " cv = RepeatedStratifiedKFold(n_splits=10, n_repeats=repeats, random_state=1)\n",
        " model = KNeighborsClassifier(n_neighbors=3)\n",
        " scores_knn_3 = cross_val_score(model, features_3, target_3, scoring='f1_macro', cv=cv, n_jobs=-1)\n",
        " return scores_knn_3\n",
        "repeats = range(1,16)\n",
        "results_knn_3 = list()\n",
        "for r in repeats:\n",
        " scores_knn_3 = evaluate_model(features_3, target_3, r)\n",
        " print('>%d f1=%.4f se=%.3f' % (r, mean(scores_knn_3), sem(scores_knn_3)))\n",
        " results_knn_3.append(scores_knn_3)\n",
        "\n",
        "plt.boxplot(results_knn_3, labels=[str(r) for r in repeats], showmeans=True)\n",
        "plt.show()"
      ],
      "metadata": {
        "colab": {
          "base_uri": "https://localhost:8080/",
          "height": 702
        },
        "id": "UvY2_-glag-r",
        "outputId": "37d437ff-7dde-4b2c-b929-5d2d879e6c9c"
      },
      "execution_count": 48,
      "outputs": [
        {
          "output_type": "stream",
          "name": "stdout",
          "text": [
            ">1 f1=0.5256 se=0.012\n",
            ">2 f1=0.5364 se=0.008\n",
            ">3 f1=0.5346 se=0.007\n",
            ">4 f1=0.5350 se=0.005\n",
            ">5 f1=0.5362 se=0.005\n",
            ">6 f1=0.5352 se=0.005\n",
            ">7 f1=0.5332 se=0.004\n",
            ">8 f1=0.5339 se=0.004\n",
            ">9 f1=0.5334 se=0.004\n",
            ">10 f1=0.5335 se=0.004\n",
            ">11 f1=0.5342 se=0.004\n",
            ">12 f1=0.5331 se=0.003\n",
            ">13 f1=0.5328 se=0.003\n",
            ">14 f1=0.5335 se=0.003\n",
            ">15 f1=0.5336 se=0.003\n"
          ]
        },
        {
          "output_type": "display_data",
          "data": {
            "text/plain": [
              "<Figure size 640x480 with 1 Axes>"
            ],
            "image/png": "[encoded data removed]"
          },
          "metadata": {}
        }
      ]
    },
    {
      "cell_type": "code",
      "source": [
        "#After Stratified K-fold cross-validation, f1 score is 0.54 and MCC score difference has not improved at 0.41.\n",
        "skf_knn_3 = RepeatedStratifiedKFold(n_splits=10, n_repeats=5, random_state=1)\n",
        "lst_accu_stratified = []\n",
        "\n",
        "for train_index, test_index in skf_knn_3.split(features_3, target_3):\n",
        "    x_train_fold, x_test_fold = features_3.iloc[train_index], features_3.iloc[test_index]\n",
        "    y_train_fold, y_test_fold = target_3[train_index], target_3[test_index]\n",
        "    classifier_sk_3.fit(x_train_fold, y_train_fold)\n",
        "    y_pred = classifier_sk_3.predict(x_test_fold)\n",
        "    lst_accu_stratified.append(classifier_sk_3.score(x_test_fold, y_test_fold))\n",
        "\n",
        "print('\\nMaximum Accuracy That can be obtained from this model is:',\n",
        "      max(lst_accu_stratified)*100, '%')\n",
        "print('\\nMinimum Accuracy:',\n",
        "      min(lst_accu_stratified)*100, '%')\n",
        "print('\\nOverall Accuracy:',\n",
        "      mean(lst_accu_stratified)*100, '%')\n",
        "print('\\nStandard Deviation is:', std(lst_accu_stratified))\n",
        "scores_f1 = cross_val_score(classifier_sk_3, features_3, target_3, scoring='f1_macro', cv=skf_knn_3, n_jobs=-1)\n",
        "print('F1: %.3f (%.3f)' % (mean(scores_f1), std(scores_f1)))\n",
        "scores_matthews = cross_val_score(classifier_sk_3, features_3, target_3, scoring='matthews_corrcoef', cv=skf_knn_3, n_jobs=-1)\n",
        "print('Matthews: %.3f (%.3f)' % (mean(scores_matthews), std(scores_matthews)))\n"
      ],
      "metadata": {
        "colab": {
          "base_uri": "https://localhost:8080/"
        },
        "id": "lrGlrVrna0fx",
        "outputId": "3c04cb44-5d68-4d52-f3bc-f785df5cba5a"
      },
      "execution_count": 49,
      "outputs": [
        {
          "output_type": "stream",
          "name": "stdout",
          "text": [
            "\n",
            "Maximum Accuracy That can be obtained from this model is: 79.39698492462311 %\n",
            "\n",
            "Minimum Accuracy: 65.5 %\n",
            "\n",
            "Overall Accuracy: 71.97567839195979 %\n",
            "\n",
            "Standard Deviation is: 0.027270568993587378\n",
            "F1: 0.536 (0.038)\n",
            "Matthews: 0.412 (0.058)\n"
          ]
        }
      ]
    },
    {
      "cell_type": "code",
      "source": [
        "#For this model I chose 9 repeats as it is very symmetrically distributed and though it has a slightly higher standard of error than 13 repeats which is similarly\n",
        "#distributed, its average f1 score is higher and therefore is more desireable.\n",
        "def evaluate_model(X, y, repeats):\n",
        " cv = RepeatedKFold(n_splits=10, n_repeats=repeats, random_state=1)\n",
        " model = KNeighborsClassifier(n_neighbors=3)\n",
        " scores_knn_3 = cross_val_score(model, features_3, target_3, scoring='f1_macro', cv=cv, n_jobs=-1)\n",
        " return scores_knn_3\n",
        "repeats = range(1,16)\n",
        "results_knn_3 = list()\n",
        "for r in repeats:\n",
        " scores_knn_3 = evaluate_model(features_3, target_3, r)\n",
        " print('>%d f1=%.4f se=%.3f' % (r, mean(scores_knn_3), sem(scores_knn_3)))\n",
        " results_knn_3.append(scores_knn_3)\n",
        "\n",
        "plt.boxplot(results_knn_3, labels=[str(r) for r in repeats], showmeans=True)\n",
        "plt.show()"
      ],
      "metadata": {
        "colab": {
          "base_uri": "https://localhost:8080/",
          "height": 704
        },
        "id": "_eh-ZyJBbOLt",
        "outputId": "eef8a78e-10ae-454c-a12d-040a2661bdab"
      },
      "execution_count": 50,
      "outputs": [
        {
          "output_type": "stream",
          "name": "stdout",
          "text": [
            ">1 f1=0.5288 se=0.011\n",
            ">2 f1=0.5262 se=0.008\n",
            ">3 f1=0.5246 se=0.007\n",
            ">4 f1=0.5273 se=0.006\n",
            ">5 f1=0.5287 se=0.006\n",
            ">6 f1=0.5269 se=0.005\n",
            ">7 f1=0.5282 se=0.005\n",
            ">8 f1=0.5297 se=0.004\n",
            ">9 f1=0.5301 se=0.004\n",
            ">10 f1=0.5300 se=0.004\n",
            ">11 f1=0.5301 se=0.003\n",
            ">12 f1=0.5299 se=0.003\n",
            ">13 f1=0.5293 se=0.003\n",
            ">14 f1=0.5297 se=0.003\n",
            ">15 f1=0.5302 se=0.003\n"
          ]
        },
        {
          "output_type": "display_data",
          "data": {
            "text/plain": [
              "<Figure size 640x480 with 1 Axes>"
            ],
            "image/png": "[encoded data removed]"
          },
          "metadata": {}
        }
      ]
    },
    {
      "cell_type": "code",
      "source": [
        "#Values remain similar at 0.53 and 0.40 for f1 and MCC respectively. Though this indicates a stable model, f1 score is therefore not entirely representative of\n",
        "#the model's performance, and MCC should be considered as it more clearly represents the impact of both negative and positive values.\n",
        "cv_3 = RepeatedKFold(n_splits=10, n_repeats=9, random_state=1)\n",
        "acc_scores = cross_val_score(classifier_3, features_3, target_3, scoring='accuracy', cv=cv_3, n_jobs=-1)\n",
        "print('Accuracy: %.3f (%.3f)' % (mean(acc_scores), std(acc_scores)))\n",
        "scores_f1 = cross_val_score(classifier_3, features_3, target_3, scoring='f1_macro', cv=cv_3, n_jobs=-1)\n",
        "print('F1: %.3f (%.3f)' % (mean(scores_f1), std(scores_f1)))\n",
        "scores_matthews = cross_val_score(classifier_3, features_3, target_3, scoring='matthews_corrcoef', cv=cv_3, n_jobs=-1)\n",
        "print('Matthews: %.3f (%.3f)' % (mean(scores_matthews), std(scores_matthews)))"
      ],
      "metadata": {
        "colab": {
          "base_uri": "https://localhost:8080/"
        },
        "id": "IQX3fhoXbScM",
        "outputId": "c4c2dcc7-5d86-426f-fc77-a97fe19e2d8d"
      },
      "execution_count": 51,
      "outputs": [
        {
          "output_type": "stream",
          "name": "stdout",
          "text": [
            "Accuracy: 0.715 (0.027)\n",
            "F1: 0.530 (0.036)\n",
            "Matthews: 0.402 (0.049)\n"
          ]
        }
      ]
    }
  ]
}