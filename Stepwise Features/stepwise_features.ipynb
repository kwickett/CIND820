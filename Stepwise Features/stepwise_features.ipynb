{
  "nbformat": 4,
  "nbformat_minor": 0,
  "metadata": {
    "colab": {
      "provenance": []
    },
    "kernelspec": {
      "name": "python3",
      "display_name": "Python 3"
    },
    "language_info": {
      "name": "python"
    }
  },
  "cells": [
    {
      "cell_type": "markdown",
      "source": [
        "#Analysis on Features Chosen Through Stepwise Regression Technique"
      ],
      "metadata": {
        "id": "tbwdnX0TPAa2"
      }
    },
    {
      "cell_type": "markdown",
      "source": [
        "# Importing Packages and Prepared Data\n",
        "\n",
        "Two datasets were created: One where the target is split into five classes, and one where it is split into three. Both are loaded and both will undergo the same model testing."
      ],
      "metadata": {
        "id": "lvjz7TU9PKb9"
      }
    },
    {
      "cell_type": "code",
      "execution_count": 1,
      "metadata": {
        "colab": {
          "base_uri": "https://localhost:8080/"
        },
        "id": "64LzCzJR0RNl",
        "outputId": "42e77470-71f0-440e-ca7e-d44c483509df"
      },
      "outputs": [
        {
          "output_type": "stream",
          "name": "stdout",
          "text": [
            "Mounted at /content/gdrive\n"
          ]
        }
      ],
      "source": [
        "import numpy as np\n",
        "from numpy import mean, std\n",
        "from scipy.stats import sem\n",
        "import pandas as pd\n",
        "from sklearn.model_selection import train_test_split\n",
        "from sklearn import tree\n",
        "from sklearn.linear_model import LogisticRegression\n",
        "from sklearn.metrics import classification_report\n",
        "from sklearn.metrics import accuracy_score, f1_score, matthews_corrcoef\n",
        "from sklearn.model_selection import RepeatedKFold, RepeatedStratifiedKFold, cross_val_score\n",
        "from sklearn import metrics\n",
        "from sklearn.neighbors import KNeighborsClassifier\n",
        "from matplotlib import pyplot as plt\n",
        "from google.colab import drive\n",
        "drive.mount('/content/gdrive')"
      ]
    },
    {
      "cell_type": "code",
      "source": [
        "stepwise_df_5 = pd.read_csv(\"/content/gdrive/MyDrive/stepwise_df_5.csv\")\n",
        "stepwise_df_3 = pd.read_csv(\"/content/gdrive/MyDrive/stepwise_df_3.csv\")"
      ],
      "metadata": {
        "id": "dbJek-9D1LPR"
      },
      "execution_count": 2,
      "outputs": []
    },
    {
      "cell_type": "markdown",
      "source": [
        "# Decision Tree Classifiers"
      ],
      "metadata": {
        "id": "jI9Bim2acLzO"
      }
    },
    {
      "cell_type": "code",
      "source": [
        "#Splitting the dataset into targets and features.\n",
        "features_5 = stepwise_df_5.iloc[:, :-1]\n",
        "target_5 = stepwise_df_5.iloc[:, -1]"
      ],
      "metadata": {
        "id": "tFh1nZ6a4I3w"
      },
      "execution_count": 3,
      "outputs": []
    },
    {
      "cell_type": "code",
      "source": [
        "#Splitting the model into 80% training data and 20% testing data.\n",
        "X_train_5, X_test_5, y_train_5, y_test_5 = train_test_split(features_5, target_5, test_size=0.2,random_state=109)"
      ],
      "metadata": {
        "id": "M4rLINIX4RUm"
      },
      "execution_count": 4,
      "outputs": []
    },
    {
      "cell_type": "code",
      "source": [
        "#Initializing the Decision Tree Classifier.\n",
        "clf_5 = tree.DecisionTreeClassifier()"
      ],
      "metadata": {
        "id": "CB0T9fSS4U1w"
      },
      "execution_count": 5,
      "outputs": []
    },
    {
      "cell_type": "code",
      "source": [
        "#I am first testing the model on the training and test data to see initial results. f1 score is 0.38 and the Matthews correlation coefficient is 0.31\n",
        "#I can see that the 'Very Low' class is over-represented in my samples, and the model performs better across all metrics when predicting this class.\n",
        "clf_5.fit(X_train_5, y_train_5)\n",
        "y_pred_5 = clf_5.predict(X_test_5)\n",
        "print(classification_report(y_test_5, y_pred_5))\n",
        "print('Matthews:',matthews_corrcoef(y_test_5, y_pred_5))"
      ],
      "metadata": {
        "colab": {
          "base_uri": "https://localhost:8080/"
        },
        "id": "Y6-FcE5fUlwy",
        "outputId": "b5ffd427-46b4-4b17-e3c7-3aded724817d"
      },
      "execution_count": 6,
      "outputs": [
        {
          "output_type": "stream",
          "name": "stdout",
          "text": [
            "              precision    recall  f1-score   support\n",
            "\n",
            "        High       0.20      0.14      0.17        21\n",
            "         Low       0.35      0.37      0.36        92\n",
            "      Medium       0.15      0.23      0.18        31\n",
            "   Very High       0.67      0.40      0.50        15\n",
            "    Very Low       0.81      0.78      0.80       240\n",
            "\n",
            "    accuracy                           0.60       399\n",
            "   macro avg       0.44      0.38      0.40       399\n",
            "weighted avg       0.62      0.60      0.60       399\n",
            "\n",
            "Matthews: 0.30899627469609264\n"
          ]
        }
      ]
    },
    {
      "cell_type": "markdown",
      "source": [
        "Cross-Validating The Model\n",
        "\n",
        "I used  two cross-validation methods: RepeatedKFold validation and StratifiedKFold validation. I chose to use both as I can see from my initial test that one class is over-represented in the data, which means that stratified sampling for cross-validation could be effective in improving the performance of the model."
      ],
      "metadata": {
        "id": "tfUiZZtPcAVn"
      }
    },
    {
      "cell_type": "code",
      "source": [
        "#Initializing the model for stratified KFold cross-validation.\n",
        "clf_sk_5 = tree.DecisionTreeClassifier()"
      ],
      "metadata": {
        "id": "4WfoYn1qVZ2K"
      },
      "execution_count": 7,
      "outputs": []
    },
    {
      "cell_type": "code",
      "source": [
        "#Executing a loop to determine the amount of repeats that will optimize the model. I am basing the optimization on the f1 score rather than the accuracy because\n",
        "#precision and recall are metrics I want to consider in my evaluation, and accuracy does not give a full picture of the model's performance, especially in a skewed\n",
        "#dataset.\n",
        "#Based on the boxplot, 14 repeats with 10 splits is the most stable model because the median (orange line) and the mean (green triangle) are closely aligned, which\n",
        "#indicates symmetrically distributed data.\n",
        "#There are no outliers, the standard error is low at 0.004, and the f1 score is only slightly lower than the highest achieved by the model.\n",
        "def evaluate_model(X, y, repeats):\n",
        " cv = RepeatedStratifiedKFold(n_splits=10, n_repeats=repeats, random_state=1)\n",
        " model = tree.DecisionTreeClassifier()\n",
        " scores_clf_5 = cross_val_score(model, features_5, target_5, scoring='f1_macro', cv=cv, n_jobs=-1)\n",
        " return scores_clf_5\n",
        "repeats = range(1,16)\n",
        "results_clf_5 = list()\n",
        "for r in repeats:\n",
        " scores_clf_5 = evaluate_model(features_5, target_5, r)\n",
        " print('>%d f1=%.4f se=%.3f' % (r, mean(scores_clf_5), sem(scores_clf_5)))\n",
        " results_clf_5.append(scores_clf_5)\n",
        "\n",
        "plt.boxplot(results_clf_5, labels=[str(r) for r in repeats], showmeans=True)\n",
        "plt.show()"
      ],
      "metadata": {
        "colab": {
          "base_uri": "https://localhost:8080/",
          "height": 702
        },
        "id": "q-EVdo2BRrGL",
        "outputId": "0e1c7de6-ba8f-4d28-ad61-142ae86d1a73"
      },
      "execution_count": 8,
      "outputs": [
        {
          "output_type": "stream",
          "name": "stdout",
          "text": [
            ">1 f1=0.3938 se=0.011\n",
            ">2 f1=0.4008 se=0.006\n",
            ">3 f1=0.3866 se=0.007\n",
            ">4 f1=0.3835 se=0.006\n",
            ">5 f1=0.3893 se=0.006\n",
            ">6 f1=0.3859 se=0.005\n",
            ">7 f1=0.3826 se=0.005\n",
            ">8 f1=0.3845 se=0.005\n",
            ">9 f1=0.3857 se=0.004\n",
            ">10 f1=0.3837 se=0.004\n",
            ">11 f1=0.3842 se=0.004\n",
            ">12 f1=0.3854 se=0.004\n",
            ">13 f1=0.3835 se=0.004\n",
            ">14 f1=0.3838 se=0.003\n",
            ">15 f1=0.3833 se=0.003\n"
          ]
        },
        {
          "output_type": "display_data",
          "data": {
            "text/plain": [
              "<Figure size 640x480 with 1 Axes>"
            ],
            "image/png": "[encoded data removed]"
          },
          "metadata": {}
        }
      ]
    },
    {
      "cell_type": "code",
      "source": [
        "#Running the Repeated Stratified K Fold validation. The f1 score has not increased significantly based on the cross-validation, nor has the MCC score,\n",
        "#which indicates that the model is stable across all folds despite the class imbalance.\n",
        "skf_5 = RepeatedStratifiedKFold(n_splits=10, n_repeats=14, random_state=1)\n",
        "lst_accu_stratified = []\n",
        "\n",
        "for train_index, test_index in skf_5.split(features_5, target_5):\n",
        "    x_train_fold, x_test_fold = features_5.iloc[train_index], features_5.iloc[test_index]\n",
        "    y_train_fold, y_test_fold = target_5[train_index], target_5[test_index]\n",
        "    clf_sk_5.fit(x_train_fold, y_train_fold)\n",
        "    y_pred = clf_sk_5.predict(x_test_fold)\n",
        "    lst_accu_stratified.append(clf_sk_5.score(x_test_fold, y_test_fold))\n",
        "\n",
        "print('List of possible accuracy:', lst_accu_stratified)\n",
        "print('\\nMaximum Accuracy that can be obtained from this model is:',\n",
        "      max(lst_accu_stratified)*100, '%')\n",
        "print('\\nMinimum Accuracy:',\n",
        "      min(lst_accu_stratified)*100, '%')\n",
        "print('\\nOverall Accuracy:',\n",
        "      mean(lst_accu_stratified)*100, '%')\n",
        "print('\\nStandard Deviation is:', std(lst_accu_stratified))\n",
        "scores = cross_val_score(clf_sk_5, features_5, target_5, scoring='f1_macro', cv=skf_5, n_jobs=-1)\n",
        "print('F1: %.3f (%.3f)' % (mean(scores), std(scores)))\n",
        "scores_matthews = cross_val_score(clf_sk_5, features_5, target_5, scoring='matthews_corrcoef', cv=skf_5, n_jobs=-1)\n",
        "print('Matthews: %.3f (%.3f)' % (mean(scores_matthews), std(scores_matthews)))"
      ],
      "metadata": {
        "colab": {
          "base_uri": "https://localhost:8080/"
        },
        "id": "qwu0qL6ndalj",
        "outputId": "df1d648c-74df-44ba-b0e0-3946c2a773a0"
      },
      "execution_count": 9,
      "outputs": [
        {
          "output_type": "stream",
          "name": "stdout",
          "text": [
            "List of possible accuracy: [0.625, 0.635, 0.665, 0.595, 0.6432160804020101, 0.6231155778894473, 0.6130653266331658, 0.6331658291457286, 0.6180904522613065, 0.5879396984924623, 0.635, 0.67, 0.59, 0.625, 0.6482412060301508, 0.5879396984924623, 0.6080402010050251, 0.6331658291457286, 0.6231155778894473, 0.6130653266331658, 0.555, 0.6, 0.615, 0.625, 0.592964824120603, 0.5678391959798995, 0.5829145728643216, 0.592964824120603, 0.6030150753768844, 0.6080402010050251, 0.57, 0.625, 0.625, 0.63, 0.5829145728643216, 0.5577889447236181, 0.6231155778894473, 0.6030150753768844, 0.6080402010050251, 0.6331658291457286, 0.62, 0.61, 0.615, 0.64, 0.5879396984924623, 0.6180904522613065, 0.5979899497487438, 0.6030150753768844, 0.6180904522613065, 0.5979899497487438, 0.585, 0.625, 0.58, 0.595, 0.6331658291457286, 0.6180904522613065, 0.6231155778894473, 0.5628140703517588, 0.6381909547738693, 0.5678391959798995, 0.58, 0.605, 0.6, 0.62, 0.6381909547738693, 0.6130653266331658, 0.5879396984924623, 0.6381909547738693, 0.6331658291457286, 0.6030150753768844, 0.605, 0.655, 0.625, 0.605, 0.5628140703517588, 0.5829145728643216, 0.5728643216080402, 0.6180904522613065, 0.5879396984924623, 0.5829145728643216, 0.605, 0.575, 0.625, 0.565, 0.592964824120603, 0.5778894472361809, 0.6130653266331658, 0.5879396984924623, 0.6180904522613065, 0.5879396984924623, 0.61, 0.56, 0.58, 0.565, 0.5979899497487438, 0.6130653266331658, 0.6080402010050251, 0.6432160804020101, 0.6432160804020101, 0.6080402010050251, 0.61, 0.59, 0.615, 0.56, 0.592964824120603, 0.6331658291457286, 0.5728643216080402, 0.6130653266331658, 0.6532663316582915, 0.6381909547738693, 0.545, 0.645, 0.58, 0.65, 0.6582914572864321, 0.6432160804020101, 0.592964824120603, 0.5829145728643216, 0.5879396984924623, 0.6381909547738693, 0.6, 0.525, 0.545, 0.62, 0.5778894472361809, 0.5829145728643216, 0.5778894472361809, 0.6432160804020101, 0.6834170854271356, 0.6180904522613065, 0.625, 0.61, 0.6, 0.56, 0.5778894472361809, 0.5778894472361809, 0.5778894472361809, 0.6733668341708543, 0.5778894472361809, 0.6180904522613065]\n",
            "\n",
            "Maximum Accuracy that can be obtained from this model is: 68.34170854271356 %\n",
            "\n",
            "Minimum Accuracy: 52.5 %\n",
            "\n",
            "Overall Accuracy: 60.62521536252693 %\n",
            "\n",
            "Standard Deviation is: 0.028493288205812543\n",
            "F1: 0.386 (0.041)\n",
            "Matthews: 0.331 (0.045)\n"
          ]
        }
      ]
    },
    {
      "cell_type": "code",
      "source": [
        "#I am also running the loop on the RepeatedKFold model to determine the number of optimal repeats. Here 13 repeats is the most optimal choice. Again, the\n",
        "#mean and the median are closely aligned, there are no outliers, and the standard deviation is low at 0.004.\n",
        "def evaluate_model(X, y, repeats):\n",
        " cv = RepeatedKFold(n_splits=10, n_repeats=repeats, random_state=1)\n",
        " model = tree.DecisionTreeClassifier()\n",
        " scores_clf_5 = cross_val_score(model, features_5, target_5, scoring='f1_macro', cv=cv, n_jobs=-1)\n",
        " return scores_clf_5\n",
        "repeats = range(1,16)\n",
        "results_clf_5 = list()\n",
        "for r in repeats:\n",
        " scores_clf_5 = evaluate_model(features_5, target_5, r)\n",
        " print('>%d f1=%.4f se=%.3f' % (r, mean(scores_clf_5), sem(scores_clf_5)))\n",
        " results_clf_5.append(scores_clf_5)\n",
        "\n",
        "plt.boxplot(results_clf_5, labels=[str(r) for r in repeats], showmeans=True)\n",
        "plt.show()"
      ],
      "metadata": {
        "colab": {
          "base_uri": "https://localhost:8080/",
          "height": 702
        },
        "id": "9ldrz4htbl0s",
        "outputId": "6c604914-efd8-4a3d-e835-3afa72e7fcb2"
      },
      "execution_count": 10,
      "outputs": [
        {
          "output_type": "stream",
          "name": "stdout",
          "text": [
            ">1 f1=0.3849 se=0.016\n",
            ">2 f1=0.3838 se=0.009\n",
            ">3 f1=0.3851 se=0.009\n",
            ">4 f1=0.3818 se=0.009\n",
            ">5 f1=0.3781 se=0.007\n",
            ">6 f1=0.3758 se=0.006\n",
            ">7 f1=0.3745 se=0.005\n",
            ">8 f1=0.3818 se=0.005\n",
            ">9 f1=0.3767 se=0.005\n",
            ">10 f1=0.3766 se=0.005\n",
            ">11 f1=0.3758 se=0.004\n",
            ">12 f1=0.3805 se=0.004\n",
            ">13 f1=0.3812 se=0.004\n",
            ">14 f1=0.3786 se=0.004\n",
            ">15 f1=0.3757 se=0.004\n"
          ]
        },
        {
          "output_type": "display_data",
          "data": {
            "text/plain": [
              "<Figure size 640x480 with 1 Axes>"
            ],
            "image/png": "[encoded data removed]"
          },
          "metadata": {}
        }
      ]
    },
    {
      "cell_type": "code",
      "source": [
        "#With the optimizied repeats, the model averaged an f1 score of 0.378 and a MCC score of 0.32 which is about the same as the Stratified K-Fold and the initial test,\n",
        "#indicating that the model is stable and could be trained with or without cross-validation.\n",
        "cv_5 = RepeatedKFold(n_splits=10, n_repeats=13, random_state=1)\n",
        "acc_scores = cross_val_score(clf_5, features_5, target_5, scoring='accuracy', cv=cv_5, n_jobs=-1)\n",
        "print('Accuracy: %.3f (%.3f)' % (mean(acc_scores), std(acc_scores)))\n",
        "scores_f1 = cross_val_score(clf_5, features_5, target_5, scoring='f1_macro', cv=cv_5, n_jobs=-1)\n",
        "print('F1: %.3f (%.3f)' % (mean(scores_f1), std(scores_f1)))\n",
        "scores_matthews = cross_val_score(clf_5, features_5, target_5, scoring='matthews_corrcoef', cv=cv_5, n_jobs=-1)\n",
        "print('Matthews: %.3f (%.3f)' % (mean(scores_matthews), std(scores_matthews)))"
      ],
      "metadata": {
        "colab": {
          "base_uri": "https://localhost:8080/"
        },
        "id": "KRHuKo0fXio7",
        "outputId": "126fce6c-da6d-4d28-8dc6-fbfa52d9dbe7"
      },
      "execution_count": 11,
      "outputs": [
        {
          "output_type": "stream",
          "name": "stdout",
          "text": [
            "Accuracy: 0.600 (0.038)\n",
            "F1: 0.378 (0.048)\n",
            "Matthews: 0.326 (0.052)\n"
          ]
        }
      ]
    },
    {
      "cell_type": "markdown",
      "source": [
        "Repeating with 3 class dataset"
      ],
      "metadata": {
        "id": "Ajvkym3gfrz7"
      }
    },
    {
      "cell_type": "code",
      "source": [
        "features_3 = stepwise_df_3.iloc[:, :-1]\n",
        "target_3 = stepwise_df_3.iloc[:, -1]"
      ],
      "metadata": {
        "id": "OP_mYy8eFIHr"
      },
      "execution_count": 12,
      "outputs": []
    },
    {
      "cell_type": "code",
      "source": [
        "X_train_3, X_test_3, y_train_3, y_test_3 = train_test_split(features_3, target_3, test_size=0.2,random_state=109)"
      ],
      "metadata": {
        "id": "Q22uQyuMFNJL"
      },
      "execution_count": 13,
      "outputs": []
    },
    {
      "cell_type": "code",
      "source": [
        "clf_3 = tree.DecisionTreeClassifier()"
      ],
      "metadata": {
        "id": "3xFGJSxhFPDF"
      },
      "execution_count": 14,
      "outputs": []
    },
    {
      "cell_type": "code",
      "source": [
        "#Initial testing already shows improvement on f1 score, which has increased to 0.52, however the Matthews Correlation Coefficient is significantly lowoer at 0.34,\n",
        "#indicating that the f1 score may not be indicative of the model's true performance.\n",
        "clf_3.fit(X_train_3, y_train_3)\n",
        "y_pred_3 = clf_3.predict(X_test_3)\n",
        "print(classification_report(y_test_3, y_pred_3))\n",
        "print('Matthews:',matthews_corrcoef(y_test_3, y_pred_3))"
      ],
      "metadata": {
        "colab": {
          "base_uri": "https://localhost:8080/"
        },
        "id": "fh7rQwKzYJNS",
        "outputId": "d3ccef5a-c3dd-46e8-d759-f0d19899b015"
      },
      "execution_count": 15,
      "outputs": [
        {
          "output_type": "stream",
          "name": "stdout",
          "text": [
            "              precision    recall  f1-score   support\n",
            "\n",
            "        High       0.50      0.55      0.52        67\n",
            "         Low       0.82      0.82      0.82       270\n",
            "      Medium       0.28      0.26      0.27        62\n",
            "\n",
            "    accuracy                           0.69       399\n",
            "   macro avg       0.54      0.54      0.54       399\n",
            "weighted avg       0.69      0.69      0.69       399\n",
            "\n",
            "Matthews: 0.36360964813442986\n"
          ]
        }
      ]
    },
    {
      "cell_type": "code",
      "source": [
        "clf_sk_3 = tree.DecisionTreeClassifier()"
      ],
      "metadata": {
        "id": "Nu-pD1enX7Ea"
      },
      "execution_count": 16,
      "outputs": []
    },
    {
      "cell_type": "code",
      "source": [
        "#Based on the boxplot, 5 repeats seems to be the optimal number for this model. Though other repeats have a slightly lower standard of error, 5 repeats is the\n",
        "#only choice with a symmetric distribution and without a large number of outliers.\n",
        "def evaluate_model(X, y, repeats):\n",
        " cv = RepeatedStratifiedKFold(n_splits=10, n_repeats=repeats, random_state=1)\n",
        " model = tree.DecisionTreeClassifier()\n",
        " scores_clf_3 = cross_val_score(model, features_3, target_3, scoring='f1_macro', cv=cv, n_jobs=-1)\n",
        " return scores_clf_3\n",
        "repeats = range(1,16)\n",
        "results_clf_3 = list()\n",
        "for r in repeats:\n",
        " scores_clf_3 = evaluate_model(features_3, target_3, r)\n",
        " print('>%d f1=%.4f se=%.3f' % (r, mean(scores_clf_3), sem(scores_clf_3)))\n",
        " results_clf_3.append(scores_clf_3)\n",
        "\n",
        "plt.boxplot(results_clf_3, labels=[str(r) for r in repeats], showmeans=True)\n",
        "plt.show()"
      ],
      "metadata": {
        "colab": {
          "base_uri": "https://localhost:8080/",
          "height": 702
        },
        "id": "38BHeirtfU2I",
        "outputId": "2d443089-2e1d-4c39-c4ac-d0177d080117"
      },
      "execution_count": 17,
      "outputs": [
        {
          "output_type": "stream",
          "name": "stdout",
          "text": [
            ">1 f1=0.5410 se=0.011\n",
            ">2 f1=0.5509 se=0.008\n",
            ">3 f1=0.5413 se=0.005\n",
            ">4 f1=0.5469 se=0.006\n",
            ">5 f1=0.5487 se=0.005\n",
            ">6 f1=0.5456 se=0.005\n",
            ">7 f1=0.5495 se=0.004\n",
            ">8 f1=0.5516 se=0.004\n",
            ">9 f1=0.5535 se=0.004\n",
            ">10 f1=0.5508 se=0.004\n",
            ">11 f1=0.5524 se=0.004\n",
            ">12 f1=0.5508 se=0.003\n",
            ">13 f1=0.5497 se=0.003\n",
            ">14 f1=0.5496 se=0.003\n",
            ">15 f1=0.5494 se=0.003\n"
          ]
        },
        {
          "output_type": "display_data",
          "data": {
            "text/plain": [
              "<Figure size 640x480 with 1 Axes>"
            ],
            "image/png": "[encoded data removed]"
          },
          "metadata": {}
        }
      ]
    },
    {
      "cell_type": "code",
      "source": [
        "#After Stratified K Fold, the average f1 score has increased slightly to 0.54 from 0.52. However, the MCC still falls behind at 0.39, though the gap is closed\n",
        "#slightly by the model.\n",
        "skf_3 = RepeatedStratifiedKFold(n_splits=10, n_repeats=5, random_state=1)\n",
        "lst_accu_stratified = []\n",
        "\n",
        "for train_index, test_index in skf_3.split(features_3, target_3):\n",
        "    x_train_fold, x_test_fold = features_3.iloc[train_index], features_3.iloc[test_index]\n",
        "    y_train_fold, y_test_fold = target_3[train_index], target_3[test_index]\n",
        "    clf_sk_3.fit(x_train_fold, y_train_fold)\n",
        "    y_pred = clf_sk_3.predict(x_test_fold)\n",
        "    lst_accu_stratified.append(clf_sk_3.score(x_test_fold, y_test_fold))\n",
        "\n",
        "print('\\nMaximum Accuracy That can be obtained from this model is:',\n",
        "      max(lst_accu_stratified)*100, '%')\n",
        "print('\\nMinimum Accuracy:',\n",
        "      min(lst_accu_stratified)*100, '%')\n",
        "print('\\nOverall Accuracy:',\n",
        "      mean(lst_accu_stratified)*100, '%')\n",
        "print('\\nStandard Deviation is:', std(lst_accu_stratified))\n",
        "scores = cross_val_score(clf_sk_3, features_3, target_3, scoring='f1_macro', cv=skf_3, n_jobs=-1)\n",
        "print('F1: %.3f (%.3f)' % (mean(scores), std(scores)))\n",
        "scores_matthews = cross_val_score(clf_sk_3, features_3, target_3, scoring='matthews_corrcoef', cv=skf_3, n_jobs=-1)\n",
        "print('Matthews: %.3f (%.3f)' % (mean(scores_matthews), std(scores_matthews)))"
      ],
      "metadata": {
        "colab": {
          "base_uri": "https://localhost:8080/"
        },
        "id": "Zpeqh-Kmeg3K",
        "outputId": "21990a9b-1f26-493d-8164-971d1157181b"
      },
      "execution_count": 18,
      "outputs": [
        {
          "output_type": "stream",
          "name": "stdout",
          "text": [
            "\n",
            "Maximum Accuracy That can be obtained from this model is: 75.37688442211056 %\n",
            "\n",
            "Minimum Accuracy: 65.32663316582915 %\n",
            "\n",
            "Overall Accuracy: 69.31854271356784 %\n",
            "\n",
            "Standard Deviation is: 0.023227263665342897\n",
            "F1: 0.549 (0.032)\n",
            "Matthews: 0.384 (0.050)\n"
          ]
        }
      ]
    },
    {
      "cell_type": "code",
      "source": [
        "#Repeating with the Repeated K Fold cross-validation method. 14 repeats appears to be optimal. While both 4 and 14 show symmetric distributions without outliers,\n",
        "#14 has a much smaller standard of error without sacrificing much on f1 score.\n",
        "def evaluate_model(X, y, repeats):\n",
        " cv = RepeatedKFold(n_splits=10, n_repeats=repeats, random_state=1)\n",
        " model = tree.DecisionTreeClassifier()\n",
        " scores_clf_3 = cross_val_score(model, features_3, target_3, scoring='f1_macro', cv=cv, n_jobs=-1)\n",
        " return scores_clf_3\n",
        "repeats = range(1,16)\n",
        "results_clf_3 = list()\n",
        "for r in repeats:\n",
        " scores_clf_3 = evaluate_model(features_3, target_3, r)\n",
        " print('>%d f1=%.4f se=%.3f' % (r, mean(scores_clf_3), sem(scores_clf_3)))\n",
        " results_clf_3.append(scores_clf_3)\n",
        "\n",
        "plt.boxplot(results_clf_3, labels=[str(r) for r in repeats], showmeans=True)\n",
        "plt.show()"
      ],
      "metadata": {
        "colab": {
          "base_uri": "https://localhost:8080/",
          "height": 702
        },
        "id": "-km4i8Yagu8A",
        "outputId": "018d7457-aaac-42be-da66-2bfbf0872195"
      },
      "execution_count": 19,
      "outputs": [
        {
          "output_type": "stream",
          "name": "stdout",
          "text": [
            ">1 f1=0.5649 se=0.018\n",
            ">2 f1=0.5599 se=0.010\n",
            ">3 f1=0.5549 se=0.007\n",
            ">4 f1=0.5519 se=0.007\n",
            ">5 f1=0.5537 se=0.005\n",
            ">6 f1=0.5491 se=0.005\n",
            ">7 f1=0.5436 se=0.005\n",
            ">8 f1=0.5456 se=0.004\n",
            ">9 f1=0.5497 se=0.004\n",
            ">10 f1=0.5485 se=0.004\n",
            ">11 f1=0.5468 se=0.003\n",
            ">12 f1=0.5468 se=0.003\n",
            ">13 f1=0.5447 se=0.003\n",
            ">14 f1=0.5507 se=0.003\n",
            ">15 f1=0.5503 se=0.003\n"
          ]
        },
        {
          "output_type": "display_data",
          "data": {
            "text/plain": [
              "<Figure size 640x480 with 1 Axes>"
            ],
            "image/png": "[encoded data removed]"
          },
          "metadata": {}
        }
      ]
    },
    {
      "cell_type": "code",
      "source": [
        "cv_3 = RepeatedKFold(n_splits=10, n_repeats=14, random_state=1)"
      ],
      "metadata": {
        "id": "tGthAseeZMvz"
      },
      "execution_count": 20,
      "outputs": []
    },
    {
      "cell_type": "code",
      "source": [
        "#F1 score has remained fairly stable across all three models, with the RepeatedKFold performing the best at 0.55. However, the MCC score still falls behind the f1\n",
        "#score, indicating that the model is not performing as well on negative predictions as it is on positive predictions. Cross-validation should be used to train\n",
        "#the Decision Tree model in this case to close the gap between f1 and MCC slightly.\n",
        "acc_scores = cross_val_score(clf_3, features_3, target_3, scoring='accuracy', cv=cv_3, n_jobs=-1)\n",
        "print('Accuracy: %.3f (%.3f)' % (mean(acc_scores), std(acc_scores)))\n",
        "scores = cross_val_score(clf_3, features_3, target_3, scoring='f1_macro', cv=cv_3, n_jobs=-1)\n",
        "print('F1: %.3f (%.3f)' % (mean(scores), std(scores)))\n",
        "scores_matthews = cross_val_score(clf_3, features_3, target_3, scoring='matthews_corrcoef', cv=cv_3, n_jobs=-1)\n",
        "print('Matthews: %.3f (%.3f)' % (mean(scores_matthews), std(scores_matthews)))"
      ],
      "metadata": {
        "colab": {
          "base_uri": "https://localhost:8080/"
        },
        "id": "yenYX04d7JBH",
        "outputId": "8ccde781-3c0b-4bcc-aa21-756018e37c6c"
      },
      "execution_count": 21,
      "outputs": [
        {
          "output_type": "stream",
          "name": "stdout",
          "text": [
            "Accuracy: 0.699 (0.029)\n",
            "F1: 0.550 (0.036)\n",
            "Matthews: 0.401 (0.053)\n"
          ]
        }
      ]
    },
    {
      "cell_type": "markdown",
      "source": [
        "# Logistic Regression Models\n",
        "\n",
        "I will train the logistic regression models in the same way, with both methods of cross-validation considered."
      ],
      "metadata": {
        "id": "jmlnBlKakeFe"
      }
    },
    {
      "cell_type": "code",
      "source": [
        "X_train_set_5, X_test_set_5, Y_train_set_5, Y_test_set_5 = train_test_split(features_5, target_5, train_size=0.8, random_state=25)"
      ],
      "metadata": {
        "id": "G2R3CJ7fVmMa"
      },
      "execution_count": 22,
      "outputs": []
    },
    {
      "cell_type": "code",
      "source": [
        "lr_model_5 = LogisticRegression(multi_class='multinomial', solver='lbfgs', max_iter=1000)\n",
        "lr_model_5.fit(X_train_set_5, Y_train_set_5)"
      ],
      "metadata": {
        "colab": {
          "base_uri": "https://localhost:8080/",
          "height": 74
        },
        "id": "Wf8g5FID7-BN",
        "outputId": "4a8562c1-62e0-4937-c322-ca4debb25059"
      },
      "execution_count": 23,
      "outputs": [
        {
          "output_type": "execute_result",
          "data": {
            "text/plain": [
              "LogisticRegression(max_iter=1000, multi_class='multinomial')"
            ],
            "text/html": [
              "<style>#sk-container-id-1 {color: black;background-color: white;}#sk-container-id-1 pre{padding: 0;}#sk-container-id-1 div.sk-toggleable {background-color: white;}#sk-container-id-1 label.sk-toggleable__label {cursor: pointer;display: block;width: 100%;margin-bottom: 0;padding: 0.3em;box-sizing: border-box;text-align: center;}#sk-container-id-1 label.sk-toggleable__label-arrow:before {content: \"▸\";float: left;margin-right: 0.25em;color: #696969;}#sk-container-id-1 label.sk-toggleable__label-arrow:hover:before {color: black;}#sk-container-id-1 div.sk-estimator:hover label.sk-toggleable__label-arrow:before {color: black;}#sk-container-id-1 div.sk-toggleable__content {max-height: 0;max-width: 0;overflow: hidden;text-align: left;background-color: #f0f8ff;}#sk-container-id-1 div.sk-toggleable__content pre {margin: 0.2em;color: black;border-radius: 0.25em;background-color: #f0f8ff;}#sk-container-id-1 input.sk-toggleable__control:checked~div.sk-toggleable__content {max-height: 200px;max-width: 100%;overflow: auto;}#sk-container-id-1 input.sk-toggleable__control:checked~label.sk-toggleable__label-arrow:before {content: \"▾\";}#sk-container-id-1 div.sk-estimator input.sk-toggleable__control:checked~label.sk-toggleable__label {background-color: #d4ebff;}#sk-container-id-1 div.sk-label input.sk-toggleable__control:checked~label.sk-toggleable__label {background-color: #d4ebff;}#sk-container-id-1 input.sk-hidden--visually {border: 0;clip: rect(1px 1px 1px 1px);clip: rect(1px, 1px, 1px, 1px);height: 1px;margin: -1px;overflow: hidden;padding: 0;position: absolute;width: 1px;}#sk-container-id-1 div.sk-estimator {font-family: monospace;background-color: #f0f8ff;border: 1px dotted black;border-radius: 0.25em;box-sizing: border-box;margin-bottom: 0.5em;}#sk-container-id-1 div.sk-estimator:hover {background-color: #d4ebff;}#sk-container-id-1 div.sk-parallel-item::after {content: \"\";width: 100%;border-bottom: 1px solid gray;flex-grow: 1;}#sk-container-id-1 div.sk-label:hover label.sk-toggleable__label {background-color: #d4ebff;}#sk-container-id-1 div.sk-serial::before {content: \"\";position: absolute;border-left: 1px solid gray;box-sizing: border-box;top: 0;bottom: 0;left: 50%;z-index: 0;}#sk-container-id-1 div.sk-serial {display: flex;flex-direction: column;align-items: center;background-color: white;padding-right: 0.2em;padding-left: 0.2em;position: relative;}#sk-container-id-1 div.sk-item {position: relative;z-index: 1;}#sk-container-id-1 div.sk-parallel {display: flex;align-items: stretch;justify-content: center;background-color: white;position: relative;}#sk-container-id-1 div.sk-item::before, #sk-container-id-1 div.sk-parallel-item::before {content: \"\";position: absolute;border-left: 1px solid gray;box-sizing: border-box;top: 0;bottom: 0;left: 50%;z-index: -1;}#sk-container-id-1 div.sk-parallel-item {display: flex;flex-direction: column;z-index: 1;position: relative;background-color: white;}#sk-container-id-1 div.sk-parallel-item:first-child::after {align-self: flex-end;width: 50%;}#sk-container-id-1 div.sk-parallel-item:last-child::after {align-self: flex-start;width: 50%;}#sk-container-id-1 div.sk-parallel-item:only-child::after {width: 0;}#sk-container-id-1 div.sk-dashed-wrapped {border: 1px dashed gray;margin: 0 0.4em 0.5em 0.4em;box-sizing: border-box;padding-bottom: 0.4em;background-color: white;}#sk-container-id-1 div.sk-label label {font-family: monospace;font-weight: bold;display: inline-block;line-height: 1.2em;}#sk-container-id-1 div.sk-label-container {text-align: center;}#sk-container-id-1 div.sk-container {/* jupyter's `normalize.less` sets `[hidden] { display: none; }` but bootstrap.min.css set `[hidden] { display: none !important; }` so we also need the `!important` here to be able to override the default hidden behavior on the sphinx rendered scikit-learn.org. See: https://github.com/scikit-learn/scikit-learn/issues/21755 */display: inline-block !important;position: relative;}#sk-container-id-1 div.sk-text-repr-fallback {display: none;}</style><div id=\"sk-container-id-1\" class=\"sk-top-container\"><div class=\"sk-text-repr-fallback\"><pre>LogisticRegression(max_iter=1000, multi_class=&#x27;multinomial&#x27;)</pre><b>In a Jupyter environment, please rerun this cell to show the HTML representation or trust the notebook. <br />On GitHub, the HTML representation is unable to render, please try loading this page with nbviewer.org.</b></div><div class=\"sk-container\" hidden><div class=\"sk-item\"><div class=\"sk-estimator sk-toggleable\"><input class=\"sk-toggleable__control sk-hidden--visually\" id=\"sk-estimator-id-1\" type=\"checkbox\" checked><label for=\"sk-estimator-id-1\" class=\"sk-toggleable__label sk-toggleable__label-arrow\">LogisticRegression</label><div class=\"sk-toggleable__content\"><pre>LogisticRegression(max_iter=1000, multi_class=&#x27;multinomial&#x27;)</pre></div></div></div></div></div>"
            ]
          },
          "metadata": {},
          "execution_count": 23
        }
      ]
    },
    {
      "cell_type": "code",
      "source": [
        "#Initial results show an f1 score of 0.41 and again demonstrates that 'Very Low' is overrepresented in the sample. f1 score and MCC score are very closely related\n",
        "#indicating that the initial f1 score is an accurate representation of the model's performance.\n",
        "y_pred_lr_5 = lr_model_5.predict(X_test_set_5)\n",
        "print(classification_report(Y_test_set_5, y_pred_lr_5))\n",
        "print('Matthews:',matthews_corrcoef(Y_test_set_5, y_pred_lr_5))"
      ],
      "metadata": {
        "colab": {
          "base_uri": "https://localhost:8080/"
        },
        "id": "FxJ8l63wkjOf",
        "outputId": "3d01a85e-b847-49c9-8b66-75b2c54535c1"
      },
      "execution_count": 24,
      "outputs": [
        {
          "output_type": "stream",
          "name": "stdout",
          "text": [
            "              precision    recall  f1-score   support\n",
            "\n",
            "        High       0.25      0.04      0.06        28\n",
            "         Low       0.41      0.34      0.37        91\n",
            "      Medium       0.22      0.20      0.21        25\n",
            "   Very High       0.55      0.60      0.57        20\n",
            "    Very Low       0.79      0.93      0.85       235\n",
            "\n",
            "    accuracy                           0.67       399\n",
            "   macro avg       0.44      0.42      0.41       399\n",
            "weighted avg       0.62      0.67      0.63       399\n",
            "\n",
            "Matthews: 0.39956811327771175\n"
          ]
        }
      ]
    },
    {
      "cell_type": "code",
      "source": [
        "lr_model_sk_5 = LogisticRegression(multi_class='multinomial', solver='lbfgs', max_iter=1000)"
      ],
      "metadata": {
        "id": "I6To60N0ko_-"
      },
      "execution_count": 25,
      "outputs": []
    },
    {
      "cell_type": "code",
      "source": [
        "#Based on the boxplot, the model is most stable at 14 repeats. It is the most symmetrically distributed with the lowest standard of error.\n",
        "#It is worth noting that this model is much less time efficient than the Decision Tree model,\n",
        "#taking 7 minutes to execute vs 2 minutes.\n",
        "def evaluate_model(X, y, repeats):\n",
        " cv = RepeatedStratifiedKFold(n_splits=10, n_repeats=repeats, random_state=1)\n",
        " model = LogisticRegression(multi_class='multinomial', solver='lbfgs', max_iter=1000)\n",
        " scores_lr_5 = cross_val_score(model, features_5, target_5, scoring='f1_macro', cv=cv, n_jobs=-1)\n",
        " return scores_lr_5\n",
        "repeats = range(1,16)\n",
        "results_lr_5 = list()\n",
        "for r in repeats:\n",
        " scores_lr_5 = evaluate_model(features_5, target_5, r)\n",
        " print('>%d f1=%.4f se=%.3f' % (r, mean(scores_lr_5), sem(scores_lr_5)))\n",
        " results_lr_5.append(scores_lr_5)\n",
        "\n",
        "plt.boxplot(results_lr_5, labels=[str(r) for r in repeats], showmeans=True)\n",
        "plt.show()"
      ],
      "metadata": {
        "colab": {
          "base_uri": "https://localhost:8080/",
          "height": 702
        },
        "id": "IFM9Up6DincO",
        "outputId": "355c4692-8a82-45bb-b0ef-18d7c7620fa8"
      },
      "execution_count": 26,
      "outputs": [
        {
          "output_type": "stream",
          "name": "stdout",
          "text": [
            ">1 f1=0.4084 se=0.010\n",
            ">2 f1=0.4111 se=0.009\n",
            ">3 f1=0.4104 se=0.007\n",
            ">4 f1=0.4063 se=0.006\n",
            ">5 f1=0.4061 se=0.006\n",
            ">6 f1=0.4047 se=0.005\n",
            ">7 f1=0.4040 se=0.005\n",
            ">8 f1=0.4030 se=0.005\n",
            ">9 f1=0.4027 se=0.004\n",
            ">10 f1=0.4021 se=0.004\n",
            ">11 f1=0.4027 se=0.004\n",
            ">12 f1=0.4033 se=0.004\n",
            ">13 f1=0.4034 se=0.004\n",
            ">14 f1=0.4036 se=0.003\n",
            ">15 f1=0.4032 se=0.003\n"
          ]
        },
        {
          "output_type": "display_data",
          "data": {
            "text/plain": [
              "<Figure size 640x480 with 1 Axes>"
            ],
            "image/png": "[encoded data removed]"
          },
          "metadata": {}
        }
      ]
    },
    {
      "cell_type": "code",
      "source": [
        "#In the Stratified K-Fold model, the average F1 score is almost the same as the initial result at 0.40, and while the MCC score has improved slightly, the\n",
        "#two still remain closely related.\n",
        "skf_lr_5 = RepeatedStratifiedKFold(n_splits=10, n_repeats=14, random_state=1)\n",
        "lst_accu_stratified = []\n",
        "\n",
        "for train_index, test_index in skf_lr_5.split(features_5, target_5):\n",
        "    x_train_fold, x_test_fold = features_5.iloc[train_index], features_5.iloc[test_index]\n",
        "    y_train_fold, y_test_fold = target_5[train_index], target_5[test_index]\n",
        "    lr_model_sk_5.fit(x_train_fold, y_train_fold)\n",
        "    y_pred = lr_model_sk_5.predict(x_test_fold)\n",
        "    lst_accu_stratified.append(lr_model_sk_5.score(x_test_fold, y_test_fold))\n",
        "\n",
        "print('\\nMaximum Accuracy That can be obtained from this model is:',\n",
        "      max(lst_accu_stratified)*100, '%')\n",
        "print('\\nMinimum Accuracy:',\n",
        "      min(lst_accu_stratified)*100, '%')\n",
        "print('\\nOverall Accuracy:',\n",
        "      mean(lst_accu_stratified)*100, '%')\n",
        "print('\\nStandard Deviation is:', std(lst_accu_stratified))\n",
        "scores = cross_val_score(lr_model_sk_5, features_5, target_5, scoring='f1_macro', cv=skf_lr_5, n_jobs=-1)\n",
        "print('F1: %.3f (%.3f)' % (mean(scores), std(scores)))\n",
        "scores_matthews = cross_val_score(lr_model_sk_5, features_5, target_5, scoring='matthews_corrcoef', cv=skf_lr_5, n_jobs=-1)\n",
        "print('Matthews: %.3f (%.3f)' % (mean(scores_matthews), std(scores_matthews)))"
      ],
      "metadata": {
        "colab": {
          "base_uri": "https://localhost:8080/"
        },
        "id": "_HQPLGofe8H9",
        "outputId": "6c75f470-ae7d-4b54-96da-4f4bdb84063e"
      },
      "execution_count": 27,
      "outputs": [
        {
          "output_type": "stream",
          "name": "stdout",
          "text": [
            "\n",
            "Maximum Accuracy That can be obtained from this model is: 75.0 %\n",
            "\n",
            "Minimum Accuracy: 63.5 %\n",
            "\n",
            "Overall Accuracy: 68.71782124910266 %\n",
            "\n",
            "Standard Deviation is: 0.022938521378365304\n",
            "F1: 0.404 (0.041)\n",
            "Matthews: 0.430 (0.045)\n"
          ]
        }
      ]
    },
    {
      "cell_type": "code",
      "source": [
        "#I repeated the loop on the Repeated K-Fold cross-validation method. In this case, 15 repeats is the most optimal even though it has outliers, as it is the most\n",
        "#symmetrically distributed and has a low standard of error without sacrificing the f1 score.\n",
        "def evaluate_model(X, y, repeats):\n",
        " cv = RepeatedKFold(n_splits=10, n_repeats=repeats, random_state=1)\n",
        " model = LogisticRegression(multi_class='multinomial', solver='lbfgs', max_iter=1000)\n",
        " scores_lr_5 = cross_val_score(model, features_5, target_5, scoring='f1_macro', cv=cv, n_jobs=-1)\n",
        " return scores_lr_5\n",
        "repeats = range(1,16)\n",
        "results_lr_5 = list()\n",
        "for r in repeats:\n",
        " scores_lr_5 = evaluate_model(features_5, target_5, r)\n",
        " print('>%d f1=%.4f se=%.3f' % (r, mean(scores_lr_5), sem(scores_lr_5)))\n",
        " results_lr_5.append(scores_lr_5)\n",
        "\n",
        "plt.boxplot(results_lr_5, labels=[str(r) for r in repeats], showmeans=True)\n",
        "plt.show()"
      ],
      "metadata": {
        "colab": {
          "base_uri": "https://localhost:8080/",
          "height": 702
        },
        "id": "IvMYGi6gqzR5",
        "outputId": "66f3f4f5-9d14-45a9-fa59-ab436911c091"
      },
      "execution_count": 28,
      "outputs": [
        {
          "output_type": "stream",
          "name": "stdout",
          "text": [
            ">1 f1=0.3939 se=0.009\n",
            ">2 f1=0.3907 se=0.009\n",
            ">3 f1=0.3954 se=0.007\n",
            ">4 f1=0.3963 se=0.006\n",
            ">5 f1=0.3968 se=0.005\n",
            ">6 f1=0.3961 se=0.005\n",
            ">7 f1=0.3951 se=0.005\n",
            ">8 f1=0.3962 se=0.004\n",
            ">9 f1=0.3961 se=0.004\n",
            ">10 f1=0.3957 se=0.004\n",
            ">11 f1=0.3958 se=0.004\n",
            ">12 f1=0.3959 se=0.004\n",
            ">13 f1=0.3964 se=0.003\n",
            ">14 f1=0.3972 se=0.003\n",
            ">15 f1=0.3973 se=0.003\n"
          ]
        },
        {
          "output_type": "display_data",
          "data": {
            "text/plain": [
              "<Figure size 640x480 with 1 Axes>"
            ],
            "image/png": "[encoded data removed]"
          },
          "metadata": {}
        }
      ]
    },
    {
      "cell_type": "code",
      "source": [
        "#The average f1 score for the Repeated K-fold cross-validation is 0.40 and the MCC score is 0.43,which is about the same as the initial test results and\n",
        "#indicates the model is stable.\n",
        "cv_5 = RepeatedKFold(n_splits=10, n_repeats=15, random_state=1)\n",
        "acc_scores = cross_val_score(lr_model_5, features_5, target_5, scoring='accuracy', cv=cv_5, n_jobs=-1)\n",
        "print('Accuracy: %.3f (%.3f)' % (mean(acc_scores), std(acc_scores)))\n",
        "scores_f1 = cross_val_score(lr_model_5, features_5, target_5, scoring='f1_macro', cv=cv_5, n_jobs=-1)\n",
        "print('F1: %.3f (%.3f)' % (mean(scores_f1), std(scores_f1)))\n",
        "scores_matthews = cross_val_score(lr_model_5, features_5, target_5, scoring='matthews_corrcoef', cv=cv_5, n_jobs=-1)\n",
        "print('Matthews: %.3f (%.3f)' % (mean(scores_matthews), std(scores_matthews)))"
      ],
      "metadata": {
        "colab": {
          "base_uri": "https://localhost:8080/"
        },
        "id": "jjLmpFLulKYI",
        "outputId": "a21a2be1-de57-4a86-c8ad-cc0b079b9a5c"
      },
      "execution_count": 29,
      "outputs": [
        {
          "output_type": "stream",
          "name": "stdout",
          "text": [
            "Accuracy: 0.687 (0.029)\n",
            "F1: 0.397 (0.040)\n",
            "Matthews: 0.431 (0.040)\n"
          ]
        }
      ]
    },
    {
      "cell_type": "markdown",
      "source": [
        "Repeating with the 3 Class Dataset"
      ],
      "metadata": {
        "id": "Gejhx6Bkeq2A"
      }
    },
    {
      "cell_type": "code",
      "source": [
        "X_train_set_3, X_test_set_3, Y_train_set_3, Y_test_set_3 = train_test_split(features_3, target_3, train_size=0.8, random_state=25)"
      ],
      "metadata": {
        "id": "PZQUo8u65Xur"
      },
      "execution_count": 30,
      "outputs": []
    },
    {
      "cell_type": "code",
      "source": [
        "lr_model_3 = LogisticRegression(multi_class='multinomial', solver='lbfgs', max_iter=1000)\n",
        "lr_model_3.fit(X_train_set_3, Y_train_set_3)"
      ],
      "metadata": {
        "colab": {
          "base_uri": "https://localhost:8080/",
          "height": 74
        },
        "id": "D08aiOOD-7q4",
        "outputId": "6eb4d1e4-9178-4b3a-dc0a-108d8d468246"
      },
      "execution_count": 31,
      "outputs": [
        {
          "output_type": "execute_result",
          "data": {
            "text/plain": [
              "LogisticRegression(max_iter=1000, multi_class='multinomial')"
            ],
            "text/html": [
              "<style>#sk-container-id-2 {color: black;background-color: white;}#sk-container-id-2 pre{padding: 0;}#sk-container-id-2 div.sk-toggleable {background-color: white;}#sk-container-id-2 label.sk-toggleable__label {cursor: pointer;display: block;width: 100%;margin-bottom: 0;padding: 0.3em;box-sizing: border-box;text-align: center;}#sk-container-id-2 label.sk-toggleable__label-arrow:before {content: \"▸\";float: left;margin-right: 0.25em;color: #696969;}#sk-container-id-2 label.sk-toggleable__label-arrow:hover:before {color: black;}#sk-container-id-2 div.sk-estimator:hover label.sk-toggleable__label-arrow:before {color: black;}#sk-container-id-2 div.sk-toggleable__content {max-height: 0;max-width: 0;overflow: hidden;text-align: left;background-color: #f0f8ff;}#sk-container-id-2 div.sk-toggleable__content pre {margin: 0.2em;color: black;border-radius: 0.25em;background-color: #f0f8ff;}#sk-container-id-2 input.sk-toggleable__control:checked~div.sk-toggleable__content {max-height: 200px;max-width: 100%;overflow: auto;}#sk-container-id-2 input.sk-toggleable__control:checked~label.sk-toggleable__label-arrow:before {content: \"▾\";}#sk-container-id-2 div.sk-estimator input.sk-toggleable__control:checked~label.sk-toggleable__label {background-color: #d4ebff;}#sk-container-id-2 div.sk-label input.sk-toggleable__control:checked~label.sk-toggleable__label {background-color: #d4ebff;}#sk-container-id-2 input.sk-hidden--visually {border: 0;clip: rect(1px 1px 1px 1px);clip: rect(1px, 1px, 1px, 1px);height: 1px;margin: -1px;overflow: hidden;padding: 0;position: absolute;width: 1px;}#sk-container-id-2 div.sk-estimator {font-family: monospace;background-color: #f0f8ff;border: 1px dotted black;border-radius: 0.25em;box-sizing: border-box;margin-bottom: 0.5em;}#sk-container-id-2 div.sk-estimator:hover {background-color: #d4ebff;}#sk-container-id-2 div.sk-parallel-item::after {content: \"\";width: 100%;border-bottom: 1px solid gray;flex-grow: 1;}#sk-container-id-2 div.sk-label:hover label.sk-toggleable__label {background-color: #d4ebff;}#sk-container-id-2 div.sk-serial::before {content: \"\";position: absolute;border-left: 1px solid gray;box-sizing: border-box;top: 0;bottom: 0;left: 50%;z-index: 0;}#sk-container-id-2 div.sk-serial {display: flex;flex-direction: column;align-items: center;background-color: white;padding-right: 0.2em;padding-left: 0.2em;position: relative;}#sk-container-id-2 div.sk-item {position: relative;z-index: 1;}#sk-container-id-2 div.sk-parallel {display: flex;align-items: stretch;justify-content: center;background-color: white;position: relative;}#sk-container-id-2 div.sk-item::before, #sk-container-id-2 div.sk-parallel-item::before {content: \"\";position: absolute;border-left: 1px solid gray;box-sizing: border-box;top: 0;bottom: 0;left: 50%;z-index: -1;}#sk-container-id-2 div.sk-parallel-item {display: flex;flex-direction: column;z-index: 1;position: relative;background-color: white;}#sk-container-id-2 div.sk-parallel-item:first-child::after {align-self: flex-end;width: 50%;}#sk-container-id-2 div.sk-parallel-item:last-child::after {align-self: flex-start;width: 50%;}#sk-container-id-2 div.sk-parallel-item:only-child::after {width: 0;}#sk-container-id-2 div.sk-dashed-wrapped {border: 1px dashed gray;margin: 0 0.4em 0.5em 0.4em;box-sizing: border-box;padding-bottom: 0.4em;background-color: white;}#sk-container-id-2 div.sk-label label {font-family: monospace;font-weight: bold;display: inline-block;line-height: 1.2em;}#sk-container-id-2 div.sk-label-container {text-align: center;}#sk-container-id-2 div.sk-container {/* jupyter's `normalize.less` sets `[hidden] { display: none; }` but bootstrap.min.css set `[hidden] { display: none !important; }` so we also need the `!important` here to be able to override the default hidden behavior on the sphinx rendered scikit-learn.org. See: https://github.com/scikit-learn/scikit-learn/issues/21755 */display: inline-block !important;position: relative;}#sk-container-id-2 div.sk-text-repr-fallback {display: none;}</style><div id=\"sk-container-id-2\" class=\"sk-top-container\"><div class=\"sk-text-repr-fallback\"><pre>LogisticRegression(max_iter=1000, multi_class=&#x27;multinomial&#x27;)</pre><b>In a Jupyter environment, please rerun this cell to show the HTML representation or trust the notebook. <br />On GitHub, the HTML representation is unable to render, please try loading this page with nbviewer.org.</b></div><div class=\"sk-container\" hidden><div class=\"sk-item\"><div class=\"sk-estimator sk-toggleable\"><input class=\"sk-toggleable__control sk-hidden--visually\" id=\"sk-estimator-id-2\" type=\"checkbox\" checked><label for=\"sk-estimator-id-2\" class=\"sk-toggleable__label sk-toggleable__label-arrow\">LogisticRegression</label><div class=\"sk-toggleable__content\"><pre>LogisticRegression(max_iter=1000, multi_class=&#x27;multinomial&#x27;)</pre></div></div></div></div></div>"
            ]
          },
          "metadata": {},
          "execution_count": 31
        }
      ]
    },
    {
      "cell_type": "code",
      "source": [
        "#The starting f1 score for the model using 3 classes in the target attribute is much higher than that with 5 at 0.60 compared to 0.41, and the MCC is closely\n",
        "#related at 0.58\n",
        "#'Low' is still overrepresented in the sample, and the model seems to struggle the most with recall on 'Medium'.\n",
        "y_pred_lr_3 = lr_model_3.predict(X_test_set_3)\n",
        "print(classification_report(Y_test_set_3, y_pred_3))\n",
        "print('Matthews:',matthews_corrcoef(Y_test_set_3, y_pred_lr_3))"
      ],
      "metadata": {
        "colab": {
          "base_uri": "https://localhost:8080/"
        },
        "id": "bfR6ixN2mIky",
        "outputId": "e5413f7f-37ac-4515-d603-b3ca4d6cf3c7"
      },
      "execution_count": 32,
      "outputs": [
        {
          "output_type": "stream",
          "name": "stdout",
          "text": [
            "              precision    recall  f1-score   support\n",
            "\n",
            "        High       0.11      0.11      0.11        73\n",
            "         Low       0.64      0.65      0.64       265\n",
            "      Medium       0.14      0.13      0.14        61\n",
            "\n",
            "    accuracy                           0.47       399\n",
            "   macro avg       0.30      0.30      0.30       399\n",
            "weighted avg       0.47      0.47      0.47       399\n",
            "\n",
            "Matthews: 0.5806331666648982\n"
          ]
        }
      ]
    },
    {
      "cell_type": "code",
      "source": [
        "lr_model_sk_3 = LogisticRegression(multi_class='multinomial', solver='lbfgs', max_iter=1000)"
      ],
      "metadata": {
        "id": "5Ova1PrDmPPa"
      },
      "execution_count": 33,
      "outputs": []
    },
    {
      "cell_type": "code",
      "source": [
        "#Here 11 repeats is the most stable chocie with a symmetric distribution, a low standard of error, and an f1 score that is close to the highest achieved.\n",
        "#Processing time still longer at 7mins.\n",
        "def evaluate_model(X, y, repeats):\n",
        " cv = RepeatedStratifiedKFold(n_splits=10, n_repeats=repeats, random_state=1)\n",
        " model = LogisticRegression(multi_class='multinomial', solver='lbfgs', max_iter=1000)\n",
        " scores_lr_3 = cross_val_score(model, features_3, target_3, scoring='f1_macro', cv=cv, n_jobs=-1)\n",
        " return scores_lr_3\n",
        "repeats = range(1,16)\n",
        "results_lr_3 = list()\n",
        "for r in repeats:\n",
        " scores_lr_3 = evaluate_model(features_3, target_3, r)\n",
        " print('>%d f1=%.4f se=%.3f' % (r, mean(scores_lr_3), sem(scores_lr_3)))\n",
        " results_lr_3.append(scores_lr_3)\n",
        "\n",
        "plt.boxplot(results_lr_3, labels=[str(r) for r in repeats], showmeans=True)\n",
        "plt.show()"
      ],
      "metadata": {
        "colab": {
          "base_uri": "https://localhost:8080/",
          "height": 702
        },
        "id": "cmG8NqMw15l5",
        "outputId": "b556c461-47b6-4e8f-b738-858a54690197"
      },
      "execution_count": 34,
      "outputs": [
        {
          "output_type": "stream",
          "name": "stdout",
          "text": [
            ">1 f1=0.5878 se=0.011\n",
            ">2 f1=0.5875 se=0.008\n",
            ">3 f1=0.5870 se=0.007\n",
            ">4 f1=0.5897 se=0.006\n",
            ">5 f1=0.5900 se=0.005\n",
            ">6 f1=0.5900 se=0.005\n",
            ">7 f1=0.5892 se=0.004\n",
            ">8 f1=0.5886 se=0.004\n",
            ">9 f1=0.5890 se=0.004\n",
            ">10 f1=0.5890 se=0.004\n",
            ">11 f1=0.5893 se=0.003\n",
            ">12 f1=0.5892 se=0.003\n",
            ">13 f1=0.5890 se=0.003\n",
            ">14 f1=0.5892 se=0.003\n",
            ">15 f1=0.5893 se=0.003\n"
          ]
        },
        {
          "output_type": "display_data",
          "data": {
            "text/plain": [
              "<Figure size 640x480 with 1 Axes>"
            ],
            "image/png": "[encoded data removed]"
          },
          "metadata": {}
        }
      ]
    },
    {
      "cell_type": "code",
      "source": [
        "#The average f1 score on the Stratified K-fold cross-validation model is 0.589 which is close to the f1 score achieved before cross-validation, as is the MCC\n",
        "#score at 0.56.\n",
        "skf_lr_3 = RepeatedStratifiedKFold(n_splits=10, n_repeats=11, random_state=1)\n",
        "lst_accu_stratified = []\n",
        "\n",
        "for train_index, test_index in skf_lr_3.split(features_3, target_3):\n",
        "    x_train_fold, x_test_fold = features_3.iloc[train_index], features_3.iloc[test_index]\n",
        "    y_train_fold, y_test_fold = target_3[train_index], target_3[test_index]\n",
        "    lr_model_sk_3.fit(x_train_fold, y_train_fold)\n",
        "    y_pred = lr_model_sk_3.predict(x_test_fold)\n",
        "    lst_accu_stratified.append(lr_model_sk_3.score(x_test_fold, y_test_fold))\n",
        "\n",
        "print('\\nMaximum Accuracy That can be obtained from this model is:',\n",
        "      max(lst_accu_stratified)*100, '%')\n",
        "print('\\nMinimum Accuracy:',\n",
        "      min(lst_accu_stratified)*100, '%')\n",
        "print('\\nOverall Accuracy:',\n",
        "      mean(lst_accu_stratified)*100, '%')\n",
        "print('\\nStandard Deviation is:', std(lst_accu_stratified))\n",
        "scores_f1 = cross_val_score(lr_model_sk_3, features_3, target_3, scoring='f1_macro', cv=skf_lr_3, n_jobs=-1)\n",
        "print('F1: %.3f (%.3f)' % (mean(scores_f1), std(scores_f1)))\n",
        "scores_matthews = cross_val_score(lr_model_sk_3, features_3, target_3, scoring='matthews_corrcoef', cv=skf_lr_3, n_jobs=-1)\n",
        "print('Matthews: %.3f (%.3f)' % (mean(scores_matthews), std(scores_matthews)))"
      ],
      "metadata": {
        "colab": {
          "base_uri": "https://localhost:8080/"
        },
        "id": "gZbWVB1ufiOh",
        "outputId": "97b639cb-ab5b-420f-ca1d-b011c3cf9b5b"
      },
      "execution_count": 35,
      "outputs": [
        {
          "output_type": "stream",
          "name": "stdout",
          "text": [
            "\n",
            "Maximum Accuracy That can be obtained from this model is: 84.42211055276381 %\n",
            "\n",
            "Minimum Accuracy: 75.5 %\n",
            "\n",
            "Overall Accuracy: 79.8399497487437 %\n",
            "\n",
            "Standard Deviation is: 0.019444565713432387\n",
            "F1: 0.589 (0.036)\n",
            "Matthews: 0.563 (0.047)\n"
          ]
        }
      ]
    },
    {
      "cell_type": "code",
      "source": [
        "#Based on this model I would use 13 repeats at it is the most symmetrically distributed, and despite the outliers has a low standard of error.\n",
        "def evaluate_model(X, y, repeats):\n",
        " cv = RepeatedKFold(n_splits=10, n_repeats=repeats, random_state=1)\n",
        " model = LogisticRegression(multi_class='multinomial', solver='lbfgs', max_iter=1000)\n",
        " scores_lr_3 = cross_val_score(model, features_3, target_3, scoring='f1_macro', cv=cv, n_jobs=-1)\n",
        " return scores_lr_3\n",
        "repeats = range(1,16)\n",
        "results_lr_3 = list()\n",
        "for r in repeats:\n",
        " scores_lr_3 = evaluate_model(features_3, target_3, r)\n",
        " print('>%d f1=%.4f se=%.3f' % (r, mean(scores_lr_3), sem(scores_lr_3)))\n",
        " results_lr_3.append(scores_lr_3)\n",
        "\n",
        "plt.boxplot(results_lr_3, labels=[str(r) for r in repeats], showmeans=True)\n",
        "plt.show()"
      ],
      "metadata": {
        "colab": {
          "base_uri": "https://localhost:8080/",
          "height": 702
        },
        "id": "fjr3PPMj2ElH",
        "outputId": "a481aa55-28b3-4a56-f2d5-81a600a1b298"
      },
      "execution_count": 36,
      "outputs": [
        {
          "output_type": "stream",
          "name": "stdout",
          "text": [
            ">1 f1=0.5880 se=0.018\n",
            ">2 f1=0.5886 se=0.010\n",
            ">3 f1=0.5868 se=0.008\n",
            ">4 f1=0.5871 se=0.007\n",
            ">5 f1=0.5879 se=0.006\n",
            ">6 f1=0.5875 se=0.006\n",
            ">7 f1=0.5874 se=0.005\n",
            ">8 f1=0.5878 se=0.005\n",
            ">9 f1=0.5880 se=0.004\n",
            ">10 f1=0.5877 se=0.004\n",
            ">11 f1=0.5879 se=0.004\n",
            ">12 f1=0.5878 se=0.004\n",
            ">13 f1=0.5877 se=0.003\n",
            ">14 f1=0.5876 se=0.003\n",
            ">15 f1=0.5875 se=0.003\n"
          ]
        },
        {
          "output_type": "display_data",
          "data": {
            "text/plain": [
              "<Figure size 640x480 with 1 Axes>"
            ],
            "image/png": "[encoded data removed]"
          },
          "metadata": {}
        }
      ]
    },
    {
      "cell_type": "code",
      "source": [
        "#The f1 score for this model is 0.59 and the MCC score is 0.56 which again is close to the score given by the model before cross-validation.\n",
        "#This indicates a stable model and demonstrates that this score is an accurate representation of the model's performance.\n",
        "cv_3 = RepeatedKFold(n_splits=10, n_repeats=13, random_state=1)\n",
        "acc_scores = cross_val_score(lr_model_3, features_3, target_3, scoring='accuracy', cv=cv_3, n_jobs=-1)\n",
        "print('Accuracy: %.3f (%.3f)' % (mean(acc_scores), std(acc_scores)))\n",
        "scores_f1 = cross_val_score(lr_model_3, features_3, target_3, scoring='f1_macro', cv=cv_3, n_jobs=-1)\n",
        "print('F1: %.3f (%.3f)' % (mean(scores_f1), std(scores_f1)))\n",
        "scores_matthews = cross_val_score(lr_model_3, features_3, target_3, scoring='matthews_corrcoef', cv=cv_3, n_jobs=-1)\n",
        "print('Matthews: %.3f (%.3f)' % (mean(scores_matthews), std(scores_matthews)))"
      ],
      "metadata": {
        "colab": {
          "base_uri": "https://localhost:8080/"
        },
        "id": "P-JU2AwJmeve",
        "outputId": "741f43d7-c401-4f23-874b-0148c1747a40"
      },
      "execution_count": 37,
      "outputs": [
        {
          "output_type": "stream",
          "name": "stdout",
          "text": [
            "Accuracy: 0.798 (0.026)\n",
            "F1: 0.588 (0.039)\n",
            "Matthews: 0.560 (0.053)\n"
          ]
        }
      ]
    },
    {
      "cell_type": "markdown",
      "source": [
        "# KNN Nearest Neighbors Classifiers"
      ],
      "metadata": {
        "id": "grzgBlkFnN5y"
      }
    },
    {
      "cell_type": "code",
      "source": [
        "#Splitting the data\n",
        "x_train_5, x_test_5, Y_train_5, Y_test_5 = train_test_split(features_5, target_5, train_size = 0.8, random_state=42)"
      ],
      "metadata": {
        "id": "EDPY0EHjesl0"
      },
      "execution_count": 38,
      "outputs": []
    },
    {
      "cell_type": "code",
      "source": [
        "#K Nearest Neighbors classifiers also requires some preprocessing to determine the optimal number of neighbors to consider, which I implement here with a loop\n",
        "#to determine the number of neighbors which both optimizes the f1 score and the MCC score. In this case, I will take the 6 neighbors because the MCC score can\n",
        "#be more important to evaluating the model's performance.\n",
        "f1 = []\n",
        "for i in range(1,40):\n",
        "    neigh = KNeighborsClassifier(n_neighbors = i).fit(x_train_5,Y_train_5)\n",
        "    yhat_5 = neigh.predict(x_test_5)\n",
        "    f1.append(metrics.f1_score(Y_test_5, yhat_5, average='macro'))\n",
        "print(\"Maximum f1:-\",max(f1),\"at K =\",f1.index(max(f1)))\n",
        "\n",
        "MCC = []\n",
        "for i in range (1,40):\n",
        "    neigh = KNeighborsClassifier(n_neighbors = i).fit(x_train_5,Y_train_5)\n",
        "    yhat_5 = neigh.predict(x_test_5)\n",
        "    MCC.append(matthews_corrcoef(Y_test_5, yhat_5))\n",
        "print(\"Maximum MCC:-\",max(MCC),\"at K =\",MCC.index(max(MCC)))"
      ],
      "metadata": {
        "colab": {
          "base_uri": "https://localhost:8080/"
        },
        "id": "bTyRjk-ooLLx",
        "outputId": "4f49249d-13eb-46bc-accd-3a824ff37f6c"
      },
      "execution_count": 42,
      "outputs": [
        {
          "output_type": "stream",
          "name": "stdout",
          "text": [
            "Maximum f1:- 0.4097353668492005 at K = 5\n",
            "Maximum MCC:- 0.42402414143259837 at K = 6\n"
          ]
        }
      ]
    },
    {
      "cell_type": "code",
      "source": [
        "#The f1 score on initial testing is 0.41, and the MCC is similar at 0.42\n",
        "#Again we see that 'Very Low' is overrepresented, and the model struggles with both precision and recall on all other classes.\n",
        "classifier_5 = KNeighborsClassifier(n_neighbors=6)\n",
        "classifier_5.fit(x_train_5, Y_train_5)\n",
        "Y_pred_5 = classifier_5.predict(x_test_5)\n",
        "print(classification_report(Y_test_5, Y_pred_5))\n",
        "print('Matthews:',matthews_corrcoef(Y_test_5, Y_pred_5))"
      ],
      "metadata": {
        "colab": {
          "base_uri": "https://localhost:8080/"
        },
        "id": "eVYbXP9CpJFz",
        "outputId": "cb9edeab-e9b9-4665-b011-472a43461955"
      },
      "execution_count": 43,
      "outputs": [
        {
          "output_type": "stream",
          "name": "stdout",
          "text": [
            "              precision    recall  f1-score   support\n",
            "\n",
            "        High       0.30      0.19      0.23        16\n",
            "         Low       0.40      0.47      0.43        72\n",
            "      Medium       0.35      0.21      0.26        38\n",
            "   Very High       0.40      0.18      0.25        11\n",
            "    Very Low       0.85      0.90      0.88       262\n",
            "\n",
            "    accuracy                           0.71       399\n",
            "   macro avg       0.46      0.39      0.41       399\n",
            "weighted avg       0.69      0.71      0.69       399\n",
            "\n",
            "Matthews: 0.41777392284905246\n"
          ]
        }
      ]
    },
    {
      "cell_type": "code",
      "source": [
        "classifier_sk_5 = KNeighborsClassifier(n_neighbors=6)"
      ],
      "metadata": {
        "id": "jgWDuwfKnhOn"
      },
      "execution_count": 44,
      "outputs": []
    },
    {
      "cell_type": "code",
      "source": [
        "#Once again I will choose the number of repeats that results in the most symmetrically distributed data with the lowest standard of error\n",
        "#without sacrificing f1 score, which in this case is 6 repeats.\n",
        "def evaluate_model(X, y, repeats):\n",
        " cv = RepeatedStratifiedKFold(n_splits=10, n_repeats=repeats, random_state=1)\n",
        " model = KNeighborsClassifier(n_neighbors=6)\n",
        " scores_knn_5 = cross_val_score(model, features_5, target_5, scoring='f1_macro', cv=cv, n_jobs=-1)\n",
        " return scores_knn_5\n",
        "repeats = range(1,16)\n",
        "results_knn_5 = list()\n",
        "for r in repeats:\n",
        " scores_knn_5 = evaluate_model(features_5, target_5, r)\n",
        " print('>%d f1=%.4f se=%.3f' % (r, mean(scores_knn_5), sem(scores_knn_5)))\n",
        " results_knn_5.append(scores_knn_5)\n",
        "\n",
        "plt.boxplot(results_knn_5, labels=[str(r) for r in repeats], showmeans=True)\n",
        "plt.show()"
      ],
      "metadata": {
        "colab": {
          "base_uri": "https://localhost:8080/",
          "height": 702
        },
        "id": "CO6f1geI2vWk",
        "outputId": "01880141-3a17-48a7-946b-2ea45c440624"
      },
      "execution_count": 45,
      "outputs": [
        {
          "output_type": "stream",
          "name": "stdout",
          "text": [
            ">1 f1=0.4027 se=0.015\n",
            ">2 f1=0.4050 se=0.012\n",
            ">3 f1=0.4025 se=0.010\n",
            ">4 f1=0.4025 se=0.008\n",
            ">5 f1=0.4035 se=0.007\n",
            ">6 f1=0.4035 se=0.006\n",
            ">7 f1=0.4030 se=0.006\n",
            ">8 f1=0.4020 se=0.005\n",
            ">9 f1=0.4027 se=0.005\n",
            ">10 f1=0.4016 se=0.004\n",
            ">11 f1=0.4038 se=0.004\n",
            ">12 f1=0.4032 se=0.004\n",
            ">13 f1=0.4018 se=0.004\n",
            ">14 f1=0.4022 se=0.004\n",
            ">15 f1=0.4033 se=0.004\n"
          ]
        },
        {
          "output_type": "display_data",
          "data": {
            "text/plain": [
              "<Figure size 640x480 with 1 Axes>"
            ],
            "image/png": "[encoded data removed]"
          },
          "metadata": {}
        }
      ]
    },
    {
      "cell_type": "code",
      "source": [
        "#The average f1 score achieved by this model is 0.40, which is almost the same as our initial testing model and though the MCC score drops slightly to 0.39,\n",
        "#it is still close to the f1 score and indicates that these two metrics are an accurate representation of the model's performance.\n",
        "skf_knn_5 = RepeatedStratifiedKFold(n_splits=10, n_repeats=6, random_state=1)\n",
        "lst_accu_stratified = []\n",
        "\n",
        "for train_index, test_index in skf_knn_5.split(features_5, target_5):\n",
        "    x_train_fold, x_test_fold = features_5.iloc[train_index], features_5.iloc[test_index]\n",
        "    y_train_fold, y_test_fold = target_5[train_index], target_5[test_index]\n",
        "    classifier_sk_5.fit(x_train_fold, y_train_fold)\n",
        "    y_pred = classifier_sk_5.predict(x_test_fold)\n",
        "    lst_accu_stratified.append(classifier_sk_5.score(x_test_fold, y_test_fold))\n",
        "\n",
        "print('\\nMaximum Accuracy That can be obtained from this model is:',\n",
        "      max(lst_accu_stratified)*100, '%')\n",
        "print('\\nMinimum Accuracy:',\n",
        "      min(lst_accu_stratified)*100, '%')\n",
        "print('\\nOverall Accuracy:',\n",
        "      mean(lst_accu_stratified)*100, '%')\n",
        "print('\\nStandard Deviation is:', std(lst_accu_stratified))\n",
        "scores_f1 = cross_val_score(classifier_sk_5, features_5, target_5, scoring='f1_macro', cv=skf_knn_5, n_jobs=-1)\n",
        "print('F1: %.3f (%.3f)' % (mean(scores_f1), std(scores_f1)))\n",
        "scores_matthews = cross_val_score(classifier_sk_5, features_5, target_5, scoring='matthews_corrcoef', cv=skf_knn_5, n_jobs=-1)\n",
        "print('Matthews: %.3f (%.3f)' % (mean(scores_matthews), std(scores_matthews)))"
      ],
      "metadata": {
        "colab": {
          "base_uri": "https://localhost:8080/"
        },
        "id": "ckaFap8Of46X",
        "outputId": "483c4d18-e348-42dc-c3bf-5afeb2796154"
      },
      "execution_count": 46,
      "outputs": [
        {
          "output_type": "stream",
          "name": "stdout",
          "text": [
            "\n",
            "Maximum Accuracy That can be obtained from this model is: 73.0 %\n",
            "\n",
            "Minimum Accuracy: 60.5 %\n",
            "\n",
            "Overall Accuracy: 65.42035175879397 %\n",
            "\n",
            "Standard Deviation is: 0.02194358511050167\n",
            "F1: 0.403 (0.048)\n",
            "Matthews: 0.387 (0.040)\n"
          ]
        }
      ]
    },
    {
      "cell_type": "code",
      "source": [
        "#For the Repeated K-fold model, the optimal number of repeats is 14 based on the distribution, the f1 score, and the low standard of error.\n",
        "def evaluate_model(X, y, repeats):\n",
        " cv = RepeatedKFold(n_splits=10, n_repeats=repeats, random_state=1)\n",
        " model = KNeighborsClassifier(n_neighbors=6)\n",
        " scores_knn_5 = cross_val_score(model, features_5, target_5, scoring='f1_macro', cv=cv, n_jobs=-1)\n",
        " return scores_knn_5\n",
        "repeats = range(1,16)\n",
        "results_knn_5 = list()\n",
        "for r in repeats:\n",
        " scores_knn_5 = evaluate_model(features_5, target_5, r)\n",
        " print('>%d f1=%.4f se=%.3f' % (r, mean(scores_knn_5), sem(scores_knn_5)))\n",
        " results_knn_5.append(scores_knn_5)\n",
        "\n",
        "plt.boxplot(results_knn_5, labels=[str(r) for r in repeats], showmeans=True)\n",
        "plt.show()"
      ],
      "metadata": {
        "colab": {
          "base_uri": "https://localhost:8080/",
          "height": 702
        },
        "id": "Yc2fiVFc4BIE",
        "outputId": "eab2ec7d-61a5-4dec-c23d-a16743343998"
      },
      "execution_count": 47,
      "outputs": [
        {
          "output_type": "stream",
          "name": "stdout",
          "text": [
            ">1 f1=0.4060 se=0.013\n",
            ">2 f1=0.4079 se=0.008\n",
            ">3 f1=0.4029 se=0.008\n",
            ">4 f1=0.4034 se=0.008\n",
            ">5 f1=0.4017 se=0.007\n",
            ">6 f1=0.3981 se=0.006\n",
            ">7 f1=0.3993 se=0.006\n",
            ">8 f1=0.3980 se=0.006\n",
            ">9 f1=0.3974 se=0.005\n",
            ">10 f1=0.3959 se=0.005\n",
            ">11 f1=0.3972 se=0.005\n",
            ">12 f1=0.3972 se=0.005\n",
            ">13 f1=0.3960 se=0.005\n",
            ">14 f1=0.3949 se=0.004\n",
            ">15 f1=0.3954 se=0.004\n"
          ]
        },
        {
          "output_type": "display_data",
          "data": {
            "text/plain": [
              "<Figure size 640x480 with 1 Axes>"
            ],
            "image/png": "[encoded data removed]"
          },
          "metadata": {}
        }
      ]
    },
    {
      "cell_type": "code",
      "source": [
        "#The average f1 score achieved by this model is 0.40 and the MCC is 0.39, which is once again very close to our initial test,\n",
        "#which indicates that the model is stable.\n",
        "cv_5 = RepeatedKFold(n_splits=10, n_repeats=14, random_state=1)\n",
        "acc_scores = cross_val_score(classifier_5, features_5, target_5, scoring='accuracy', cv=cv_5, n_jobs=-1)\n",
        "print('Accuracy: %.3f (%.3f)' % (mean(acc_scores), std(acc_scores)))\n",
        "scores_f1 = cross_val_score(classifier_5, features_5, target_5, scoring='f1_macro', cv=cv_5, n_jobs=-1)\n",
        "print('F1: %.3f (%.3f)' % (mean(scores_f1), std(scores_f1)))\n",
        "scores_matthews = cross_val_score(classifier_5, features_5, target_5, scoring='matthews_corrcoef', cv=cv_5, n_jobs=-1)\n",
        "print('Matthews: %.3f (%.3f)' % (mean(scores_matthews), std(scores_matthews)))"
      ],
      "metadata": {
        "colab": {
          "base_uri": "https://localhost:8080/"
        },
        "id": "pLFO6ReCvWKA",
        "outputId": "4b4905e1-48e0-4621-d54d-8179b1d40499"
      },
      "execution_count": 48,
      "outputs": [
        {
          "output_type": "stream",
          "name": "stdout",
          "text": [
            "Accuracy: 0.654 (0.034)\n",
            "F1: 0.395 (0.053)\n",
            "Matthews: 0.386 (0.047)\n"
          ]
        }
      ]
    },
    {
      "cell_type": "markdown",
      "source": [
        "Repeating with the 3 Class Dataset"
      ],
      "metadata": {
        "id": "16RhTuYfe2_A"
      }
    },
    {
      "cell_type": "code",
      "source": [
        "#Repeating the KNN optimization process with the dataset that has 3 classes indicates that the optimal numebr of neighbors is 7.\n",
        "x_train_3, x_test_3, Y_train_3, Y_test_3 = train_test_split(features_3, target_3, train_size = 0.8, random_state=42)\n",
        "acc = []\n",
        "for i in range(1,40):\n",
        "    neigh = KNeighborsClassifier(n_neighbors = i).fit(x_train_3,Y_train_3)\n",
        "    yhat_3 = neigh.predict(x_test_3)\n",
        "    acc.append(metrics.f1_score(Y_test_3, yhat_3, average='macro'))\n",
        "print(\"Maximum f1:-\",max(acc),\"at K =\",acc.index(max(acc)))\n",
        "MCC = []\n",
        "for i in range (1,40):\n",
        "    neigh = KNeighborsClassifier(n_neighbors = i).fit(x_train_3,Y_train_3)\n",
        "    yhat_3 = neigh.predict(x_test_3)\n",
        "    MCC.append(matthews_corrcoef(Y_test_3, yhat_3))\n",
        "print(\"Maximum MCC:-\",max(MCC),\"at K =\",MCC.index(max(MCC)))\n"
      ],
      "metadata": {
        "id": "6fedkxOpfKx5",
        "colab": {
          "base_uri": "https://localhost:8080/"
        },
        "outputId": "2631850a-23d5-4dc6-b328-68714f2eb863"
      },
      "execution_count": 49,
      "outputs": [
        {
          "output_type": "stream",
          "name": "stdout",
          "text": [
            "Maximum f1:- 0.5960072197695959 at K = 7\n",
            "Maximum MCC:- 0.5081705921737846 at K = 7\n"
          ]
        }
      ]
    },
    {
      "cell_type": "code",
      "source": [
        "#Based on initial training and testing, the f1 score is 0.57, significantly better than the model with 5 classes. However, the MCC score falls behind at 0.48.\n",
        "#Though 'Low' is still overrepresented, precision and recall metrics are improved for other classes.\n",
        "classifier_3 = KNeighborsClassifier(n_neighbors=7)\n",
        "classifier_3.fit(x_train_3, Y_train_3)\n",
        "\n",
        "y_pred_3 = classifier_3.predict(x_test_3)\n",
        "print(classification_report(Y_test_3, y_pred_3))\n",
        "print('Matthews:',matthews_corrcoef(Y_test_3, y_pred_3))"
      ],
      "metadata": {
        "colab": {
          "base_uri": "https://localhost:8080/"
        },
        "id": "jZQw0fyjprId",
        "outputId": "6f735b25-742d-412b-d016-ac6893e73a75"
      },
      "execution_count": 50,
      "outputs": [
        {
          "output_type": "stream",
          "name": "stdout",
          "text": [
            "              precision    recall  f1-score   support\n",
            "\n",
            "        High       0.62      0.57      0.59        65\n",
            "         Low       0.84      0.94      0.89       285\n",
            "      Medium       0.42      0.16      0.24        49\n",
            "\n",
            "    accuracy                           0.79       399\n",
            "   macro avg       0.63      0.56      0.57       399\n",
            "weighted avg       0.75      0.79      0.76       399\n",
            "\n",
            "Matthews: 0.4764548029449716\n"
          ]
        }
      ]
    },
    {
      "cell_type": "code",
      "source": [
        "classifier_sk_3 = KNeighborsClassifier(n_neighbors=7)"
      ],
      "metadata": {
        "id": "OaxbNDQrqLR3"
      },
      "execution_count": 51,
      "outputs": []
    },
    {
      "cell_type": "code",
      "source": [
        "#Based on the boxplot for the Stratified K-fold model, I chose to use 14 repeats.\n",
        "def evaluate_model(X, y, repeats):\n",
        " cv = RepeatedStratifiedKFold(n_splits=10, n_repeats=repeats, random_state=1)\n",
        " model = KNeighborsClassifier(n_neighbors=7)\n",
        " scores_knn_3 = cross_val_score(model, features_3, target_3, scoring='f1_macro', cv=cv, n_jobs=-1)\n",
        " return scores_knn_3\n",
        "repeats = range(1,16)\n",
        "results_knn_3 = list()\n",
        "for r in repeats:\n",
        " scores_knn_3 = evaluate_model(features_3, target_3, r)\n",
        " print('>%d f1=%.4f se=%.3f' % (r, mean(scores_knn_3), sem(scores_knn_3)))\n",
        " results_knn_3.append(scores_knn_3)\n",
        "\n",
        "plt.boxplot(results_knn_3, labels=[str(r) for r in repeats], showmeans=True)\n",
        "plt.show()"
      ],
      "metadata": {
        "colab": {
          "base_uri": "https://localhost:8080/",
          "height": 702
        },
        "id": "jk61W7vO4fra",
        "outputId": "47414712-d81d-485b-d386-a288b8b5826e"
      },
      "execution_count": 52,
      "outputs": [
        {
          "output_type": "stream",
          "name": "stdout",
          "text": [
            ">1 f1=0.5762 se=0.013\n",
            ">2 f1=0.5752 se=0.011\n",
            ">3 f1=0.5803 se=0.008\n",
            ">4 f1=0.5802 se=0.008\n",
            ">5 f1=0.5802 se=0.007\n",
            ">6 f1=0.5783 se=0.006\n",
            ">7 f1=0.5791 se=0.005\n",
            ">8 f1=0.5795 se=0.005\n",
            ">9 f1=0.5805 se=0.004\n",
            ">10 f1=0.5816 se=0.004\n",
            ">11 f1=0.5820 se=0.004\n",
            ">12 f1=0.5821 se=0.004\n",
            ">13 f1=0.5821 se=0.003\n",
            ">14 f1=0.5819 se=0.003\n",
            ">15 f1=0.5818 se=0.003\n"
          ]
        },
        {
          "output_type": "display_data",
          "data": {
            "text/plain": [
              "<Figure size 640x480 with 1 Axes>"
            ],
            "image/png": "[encoded data removed]"
          },
          "metadata": {}
        }
      ]
    },
    {
      "cell_type": "code",
      "source": [
        "#The average f1 score with the Stratified K-fold model is 0.58, almost the same as the initial model. The MCC score has improved to 0.50, indicating that\n",
        "#this cross-validation technique has improved the performance of the KNN model.\n",
        "skf_knn_3 = RepeatedStratifiedKFold(n_splits=10, n_repeats=14, random_state=27)\n",
        "lst_accu_stratified = []\n",
        "\n",
        "for train_index, test_index in skf_knn_3.split(features_3, target_3):\n",
        "    x_train_fold, x_test_fold = features_3.iloc[train_index], features_3.iloc[test_index]\n",
        "    y_train_fold, y_test_fold = target_3[train_index], target_3[test_index]\n",
        "    classifier_sk_3.fit(x_train_fold, y_train_fold)\n",
        "    y_pred = classifier_sk_3.predict(x_test_fold)\n",
        "    lst_accu_stratified.append(classifier_sk_3.score(x_test_fold, y_test_fold))\n",
        "\n",
        "print('\\nMaximum Accuracy That can be obtained from this model is:',\n",
        "      max(lst_accu_stratified)*100, '%')\n",
        "print('\\nMinimum Accuracy:',\n",
        "      min(lst_accu_stratified)*100, '%')\n",
        "print('\\nOverall Accuracy:',\n",
        "      mean(lst_accu_stratified)*100, '%')\n",
        "print('\\nStandard Deviation is:', std(lst_accu_stratified))\n",
        "scores_f1 = cross_val_score(classifier_sk_3, features_3, target_3, scoring='f1_macro', cv=skf_knn_3, n_jobs=-1)\n",
        "print('F1: %.3f (%.3f)' % (mean(scores_f1), std(scores_f1)))\n",
        "scores_matthews = cross_val_score(classifier_sk_3, features_3, target_3, scoring='matthews_corrcoef', cv=skf_knn_3, n_jobs=-1)\n",
        "print('Matthews: %.3f (%.3f)' % (mean(scores_matthews), std(scores_matthews)))\n"
      ],
      "metadata": {
        "colab": {
          "base_uri": "https://localhost:8080/"
        },
        "id": "o_m33VvVgFAh",
        "outputId": "7ab34001-7953-47dd-9966-7716183017f3"
      },
      "execution_count": 53,
      "outputs": [
        {
          "output_type": "stream",
          "name": "stdout",
          "text": [
            "\n",
            "Maximum Accuracy That can be obtained from this model is: 81.90954773869346 %\n",
            "\n",
            "Minimum Accuracy: 71.85929648241206 %\n",
            "\n",
            "Overall Accuracy: 76.92410265613783 %\n",
            "\n",
            "Standard Deviation is: 0.02045004637800439\n",
            "F1: 0.576 (0.039)\n",
            "Matthews: 0.496 (0.049)\n"
          ]
        }
      ]
    },
    {
      "cell_type": "code",
      "source": [
        "#In this case I chose 8 repeats because as repeats increase, though the data inside the IQR is fairly stable, there are too many outliers, while 8 repeats maintains\n",
        "#a symmetrical distribution with few outliers, and a low standard of error.\n",
        "def evaluate_model(X, y, repeats):\n",
        " cv = RepeatedKFold(n_splits=10, n_repeats=repeats, random_state=1)\n",
        " model = KNeighborsClassifier(n_neighbors=7)\n",
        " scores_knn_3 = cross_val_score(model, features_3, target_3, scoring='f1_macro', cv=cv, n_jobs=-1)\n",
        " return scores_knn_3\n",
        "repeats = range(1,16)\n",
        "results_knn_3 = list()\n",
        "for r in repeats:\n",
        " scores_knn_3 = evaluate_model(features_3, target_3, r)\n",
        " print('>%d f1=%.4f se=%.3f' % (r, mean(scores_knn_3), sem(scores_knn_3)))\n",
        " results_knn_3.append(scores_knn_3)\n",
        "\n",
        "plt.boxplot(results_knn_3, labels=[str(r) for r in repeats], showmeans=True)\n",
        "plt.show()"
      ],
      "metadata": {
        "colab": {
          "base_uri": "https://localhost:8080/",
          "height": 702
        },
        "id": "d1ysv5aQ5SHJ",
        "outputId": "1dcfc1f7-0b53-4189-f176-4a175af74c94"
      },
      "execution_count": 54,
      "outputs": [
        {
          "output_type": "stream",
          "name": "stdout",
          "text": [
            ">1 f1=0.5774 se=0.012\n",
            ">2 f1=0.5821 se=0.010\n",
            ">3 f1=0.5782 se=0.007\n",
            ">4 f1=0.5806 se=0.007\n",
            ">5 f1=0.5806 se=0.007\n",
            ">6 f1=0.5787 se=0.006\n",
            ">7 f1=0.5800 se=0.005\n",
            ">8 f1=0.5781 se=0.005\n",
            ">9 f1=0.5775 se=0.004\n",
            ">10 f1=0.5771 se=0.004\n",
            ">11 f1=0.5778 se=0.004\n",
            ">12 f1=0.5786 se=0.003\n",
            ">13 f1=0.5778 se=0.003\n",
            ">14 f1=0.5777 se=0.003\n",
            ">15 f1=0.5778 se=0.003\n"
          ]
        },
        {
          "output_type": "display_data",
          "data": {
            "text/plain": [
              "<Figure size 640x480 with 1 Axes>"
            ],
            "image/png": "[encoded data removed]"
          },
          "metadata": {}
        }
      ]
    },
    {
      "cell_type": "code",
      "source": [
        "#The f1 score remains stable at 0.58, as does the MCC score at 0.50. This indicates to me that cross-validation is essential to improving this model's performance\n",
        "#on predicting both positive and negative values in each class.\n",
        "cv_3 = RepeatedKFold(n_splits=10, n_repeats=8, random_state=1)\n",
        "acc_scores = cross_val_score(classifier_3, features_3, target_3, scoring='accuracy', cv=cv_3, n_jobs=-1)\n",
        "print('Accuracy: %.3f (%.3f)' % (mean(acc_scores), std(acc_scores)))\n",
        "scores_f1 = cross_val_score(classifier_3, features_3, target_3, scoring='f1_macro', cv=cv_3, n_jobs=-1)\n",
        "print('F1: %.3f (%.3f)' % (mean(scores_f1), std(scores_f1)))\n",
        "scores_matthews = cross_val_score(classifier_3, features_3, target_3, scoring='matthews_corrcoef', cv=cv_3, n_jobs=-1)\n",
        "print('Matthews: %.3f (%.3f)' % (mean(scores_matthews), std(scores_matthews)))"
      ],
      "metadata": {
        "colab": {
          "base_uri": "https://localhost:8080/"
        },
        "id": "5o0ESnlDwcTK",
        "outputId": "92b32ddb-dbdd-44e0-b480-959254990fd4"
      },
      "execution_count": 55,
      "outputs": [
        {
          "output_type": "stream",
          "name": "stdout",
          "text": [
            "Accuracy: 0.770 (0.028)\n",
            "F1: 0.578 (0.040)\n",
            "Matthews: 0.496 (0.059)\n"
          ]
        }
      ]
    }
  ]
}