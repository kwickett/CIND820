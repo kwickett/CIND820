{
  "nbformat": 4,
  "nbformat_minor": 0,
  "metadata": {
    "colab": {
      "provenance": []
    },
    "kernelspec": {
      "name": "python3",
      "display_name": "Python 3"
    },
    "language_info": {
      "name": "python"
    }
  },
  "cells": [
    {
      "cell_type": "code",
      "execution_count": null,
      "metadata": {
        "colab": {
          "base_uri": "https://localhost:8080/"
        },
        "id": "mO0UWgpsfRhl",
        "outputId": "e7a0497c-488b-4297-b00b-cccbe4fb98bf"
      },
      "outputs": [
        {
          "output_type": "stream",
          "name": "stdout",
          "text": [
            "Collecting ucimlrepo\n",
            "  Downloading ucimlrepo-0.0.7-py3-none-any.whl (8.0 kB)\n",
            "Requirement already satisfied: pandas>=1.0.0 in /usr/local/lib/python3.10/dist-packages (from ucimlrepo) (2.0.3)\n",
            "Requirement already satisfied: certifi>=2020.12.5 in /usr/local/lib/python3.10/dist-packages (from ucimlrepo) (2024.7.4)\n",
            "Requirement already satisfied: python-dateutil>=2.8.2 in /usr/local/lib/python3.10/dist-packages (from pandas>=1.0.0->ucimlrepo) (2.8.2)\n",
            "Requirement already satisfied: pytz>=2020.1 in /usr/local/lib/python3.10/dist-packages (from pandas>=1.0.0->ucimlrepo) (2023.4)\n",
            "Requirement already satisfied: tzdata>=2022.1 in /usr/local/lib/python3.10/dist-packages (from pandas>=1.0.0->ucimlrepo) (2024.1)\n",
            "Requirement already satisfied: numpy>=1.21.0 in /usr/local/lib/python3.10/dist-packages (from pandas>=1.0.0->ucimlrepo) (1.25.2)\n",
            "Requirement already satisfied: six>=1.5 in /usr/local/lib/python3.10/dist-packages (from python-dateutil>=2.8.2->pandas>=1.0.0->ucimlrepo) (1.16.0)\n",
            "Installing collected packages: ucimlrepo\n",
            "Successfully installed ucimlrepo-0.0.7\n"
          ]
        }
      ],
      "source": [
        "pip install ucimlrepo"
      ]
    },
    {
      "cell_type": "code",
      "source": [
        "import numpy as np\n",
        "import pandas as pd\n",
        "from ucimlrepo import fetch_ucirepo\n",
        "from numpy import mean\n",
        "from numpy import std\n",
        "from scipy.stats import sem\n",
        "from sklearn.model_selection import train_test_split\n",
        "from sklearn import tree\n",
        "from sklearn.metrics import classification_report\n",
        "from sklearn.metrics import accuracy_score, f1_score\n",
        "from sklearn.metrics import matthews_corrcoef\n",
        "from sklearn.model_selection import RepeatedKFold, cross_val_score, RepeatedStratifiedKFold\n",
        "from sklearn import metrics\n",
        "from sklearn.neighbors import KNeighborsClassifier\n",
        "from matplotlib import pyplot as plt"
      ],
      "metadata": {
        "id": "wnAqmVrHpk2n"
      },
      "execution_count": null,
      "outputs": []
    },
    {
      "cell_type": "code",
      "source": [
        "communities_and_crime = fetch_ucirepo(id=183)\n",
        "\n",
        "X = communities_and_crime.data.features\n",
        "y = communities_and_crime.data.targets"
      ],
      "metadata": {
        "id": "NW2ALDLmpnrf"
      },
      "execution_count": null,
      "outputs": []
    },
    {
      "cell_type": "code",
      "source": [
        "groups_df = X.join(y)"
      ],
      "metadata": {
        "id": "Yjs6fbrvppse"
      },
      "execution_count": null,
      "outputs": []
    },
    {
      "cell_type": "code",
      "source": [
        "groups_df = groups_df.replace('?', np.nan)"
      ],
      "metadata": {
        "id": "xURTaLyWprgY"
      },
      "execution_count": null,
      "outputs": []
    },
    {
      "cell_type": "code",
      "source": [
        "groups_df[\"CrimeCategory\"] = pd.cut(x=groups_df['ViolentCrimesPerPop'],\n",
        "                     bins=[-0.1, 0.25, 0.40, 1],\n",
        "                     labels=['Low', 'Medium', 'High'])"
      ],
      "metadata": {
        "id": "31L43rjMptZ5"
      },
      "execution_count": null,
      "outputs": []
    },
    {
      "cell_type": "code",
      "source": [
        "race_make_up = groups_df[[\"racePctWhite\", \"racepctblack\", \"racePctAsian\", \"racePctHisp\", \"CrimeCategory\"]]\n",
        "age = groups_df[[\"agePct12t21\", \"agePct12t29\", \"agePct16t24\", \"agePct65up\", \"CrimeCategory\"]]\n",
        "urban_factors = groups_df[[\"numbUrban\", \"pctUrban\", \"CrimeCategory\"]]\n",
        "income_factors = groups_df[[\"medIncome\", \"pctWWage\", \"pctWFarmSelf\", \"pctWInvInc\", \"pctWSocSec\", \"pctWPubAsst\", \"pctWRetire\", \"medFamInc\", \"perCapInc\", \\\n",
        "                            \"whitePerCap\", \"blackPerCap\", \"indianPerCap\", \"AsianPerCap\", \"OtherPerCap\", \"HispPerCap\", \"CrimeCategory\"]]\n",
        "poverty = groups_df[[\"NumUnderPov\", \"PctPopUnderPov\", \"CrimeCategory\"]]\n",
        "education = groups_df[[\"PctLess9thGrade\", \"PctNotHSGrad\", \"PctBSorMore\", \"CrimeCategory\"]]\n",
        "employment = groups_df[[\"PctUnemployed\", \"PctEmploy\", \"PctEmplManu\", \"PctEmplProfServ\", \"PctOccupManu\", \"PctOccupMgmtProf\", \"CrimeCategory\"]]\n",
        "marriage_factors = groups_df[[\"MalePctDivorce\", \"MalePctNevMarr\", \"FemalePctDiv\", \"TotalPctDiv\", \"CrimeCategory\"]]\n",
        "domestic_factors = groups_df[[\"PersPerFam\", \"PctFam2Par\", \"PctKids2Par\", \"PctYoungKids2Par\", \"PctTeen2Par\", \"PctWorkMomYoungKids\", \"PctWorkMom\", \"NumIlleg\",\\\n",
        "                              \"PctIlleg\", \"CrimeCategory\"]]\n",
        "immigration = groups_df[[\"PctImmigRecent\", \"PctImmigRec5\", \"PctImmigRec8\", \"PctImmigRec10\", \"PctRecentImmig\", \"PctRecImmig5\", \"PctRecImmig8\", \"PctRecImmig10\", \\\n",
        "                         \"CrimeCategory\"]]\n",
        "english_proficiency = groups_df[[\"PctSpeakEnglOnly\", \"PctNotSpeakEnglWell\", \"CrimeCategory\"]]\n",
        "housing_factors = groups_df[[\"PctLargHouseOccup\", \"PersPerOccupHous\", \"PersPerOwnOccHous\", \"PersPerRentOccHous\", \"PctPersOwnOccup\", \"PctPersDenseHous\", \\\n",
        "                             \"HousVacant\", \"PctHousOccup\", \"PctHousOwnOcc\", \"PctVacantBoarded\", \"PctVacMore6Mos\", \"OwnOccLowQuart\", \"OwnOccMedVal\", \\\n",
        "                             \"OwnOccHiQuart\", \"PctHousLess3BR\", \"MedNumBR\", \"MedYrHousBuilt\", \"PctHousNoPhone\", \"PctWOFullPlumb\", \"CrimeCategory\"]]\n",
        "housing_cost = groups_df[[\"RentLowQ\", \"RentMedian\", \"RentHighQ\", \"MedRent\", \"MedRentPctHousInc\", \"MedOwnCostPctInc\", \"MedOwnCostPctIncNoMtg\", \\\n",
        "                          \"CrimeCategory\"]]\n",
        "unhoused = groups_df[[\"NumInShelters\", \"NumStreet\", \"CrimeCategory\"]]\n",
        "mobility = groups_df[[\"PctForeignBorn\", \"PctBornSameState\", \"PctSameHouse85\", \"PctSameCity85\", \"PctSameState85\", \"CrimeCategory\"]]\n",
        "policing = groups_df[[\"LemasSwornFT\", \"LemasSwFTPerPop\", \"LemasSwFTFieldOps\", \"LemasSwFTFieldPerPop\", \"LemasTotalReq\", \"LemasTotReqPerPop\", \\\n",
        "                      \"PolicReqPerOffic\", \"PolicPerPop\", \"OfficAssgnDrugUnits\", \"NumKindsDrugsSeiz\", \"PolicAveOTWorked\", \"PolicCars\", \"PolicOperBudg\", \\\n",
        "                      \"LemasPctPolicOnPatr\", \"LemasGangUnitDeploy\", \"LemasPctOfficDrugUn\", \"PolicBudgPerPop\", \"RacialMatchCommPol\", \"PctPolicWhite\", \\\n",
        "                      \"PctPolicBlack\", \"PctPolicHisp\", \"PctPolicAsian\", \"PctPolicMinor\", \"CrimeCategory\"]]\n",
        "density = groups_df[[\"LandArea\", \"PopDens\", \"CrimeCategory\"]]\n",
        "transit = groups_df[[\"PctUsePubTrans\", \"CrimeCategory\"]]"
      ],
      "metadata": {
        "id": "8cvkDD4LgGaL"
      },
      "execution_count": null,
      "outputs": []
    },
    {
      "cell_type": "markdown",
      "source": [
        "# Group 1: Racial Make-Up of the Community"
      ],
      "metadata": {
        "id": "AZZYk6Gzp1fl"
      }
    },
    {
      "cell_type": "code",
      "source": [
        "race_make_up_features = race_make_up.iloc[:, :-1]\n",
        "race_make_up_target = race_make_up.iloc[:, -1]\n",
        "X_train_1, X_test_1, Y_train_1, Y_test_1 = train_test_split(race_make_up_features, race_make_up_target, test_size=0.2, random_state=1)\n",
        "classifier_1 = KNeighborsClassifier(n_neighbors=14)\n",
        "classifier_1.fit(X_train_1, Y_train_1)\n",
        "\n",
        "#From our initial test we can see that the f1 score is 0.5 but the MCC score is falling behind at 0.37.\n",
        "\n",
        "y_pred_1 = classifier_1.predict(X_test_1)\n",
        "print(classification_report(Y_test_1, y_pred_1))\n",
        "print('Matthews:',matthews_corrcoef(Y_test_1, y_pred_1))"
      ],
      "metadata": {
        "colab": {
          "base_uri": "https://localhost:8080/"
        },
        "id": "plW423hUpx_M",
        "outputId": "81c2a9d4-2dd7-4635-f28e-d20af61e2c18"
      },
      "execution_count": null,
      "outputs": [
        {
          "output_type": "stream",
          "name": "stdout",
          "text": [
            "              precision    recall  f1-score   support\n",
            "\n",
            "        High       0.50      0.56      0.53        62\n",
            "         Low       0.80      0.91      0.85       270\n",
            "      Medium       0.29      0.09      0.14        67\n",
            "\n",
            "    accuracy                           0.72       399\n",
            "   macro avg       0.53      0.52      0.50       399\n",
            "weighted avg       0.66      0.72      0.68       399\n",
            "\n",
            "Matthews: 0.3716650134705757\n"
          ]
        }
      ]
    },
    {
      "cell_type": "code",
      "source": [
        "#Based on the boxplot, I will be choosing 11 repeats.\n",
        "def evaluate_model(X, y, repeats):\n",
        " cv = RepeatedStratifiedKFold(n_splits=10, n_repeats=repeats, random_state=1)\n",
        " model = KNeighborsClassifier(n_neighbors=14)\n",
        " scores_knn_1 = cross_val_score(model, race_make_up_features, race_make_up_target, scoring='f1_macro', cv=cv, n_jobs=-1)\n",
        " return scores_knn_1\n",
        "repeats = range(1,16)\n",
        "results_knn_1 = list()\n",
        "for r in repeats:\n",
        " scores_knn_1 = evaluate_model(race_make_up_features, race_make_up_target, r)\n",
        " print('>%d f1=%.4f se=%.3f' % (r, mean(scores_knn_1), sem(scores_knn_1)))\n",
        " results_knn_1.append(scores_knn_1)\n",
        "\n",
        "plt.boxplot(results_knn_1, labels=[str(r) for r in repeats], showmeans=True)\n",
        "plt.show()"
      ],
      "metadata": {
        "colab": {
          "base_uri": "https://localhost:8080/",
          "height": 702
        },
        "id": "7VcPCu40qmv4",
        "outputId": "d3d8f54c-b179-46af-a316-41a97abc5c15"
      },
      "execution_count": null,
      "outputs": [
        {
          "output_type": "stream",
          "name": "stdout",
          "text": [
            ">1 f1=0.5364 se=0.013\n",
            ">2 f1=0.5356 se=0.008\n",
            ">3 f1=0.5379 se=0.007\n",
            ">4 f1=0.5376 se=0.006\n",
            ">5 f1=0.5393 se=0.005\n",
            ">6 f1=0.5383 se=0.005\n",
            ">7 f1=0.5374 se=0.004\n",
            ">8 f1=0.5349 se=0.004\n",
            ">9 f1=0.5346 se=0.004\n",
            ">10 f1=0.5342 se=0.003\n",
            ">11 f1=0.5349 se=0.003\n",
            ">12 f1=0.5347 se=0.003\n",
            ">13 f1=0.5349 se=0.003\n",
            ">14 f1=0.5344 se=0.003\n",
            ">15 f1=0.5347 se=0.003\n"
          ]
        },
        {
          "output_type": "display_data",
          "data": {
            "text/plain": [
              "<Figure size 640x480 with 1 Axes>"
            ],
            "image/png": "[encoded data removed]"
          },
          "metadata": {}
        }
      ]
    },
    {
      "cell_type": "code",
      "source": [
        "#After optimizing the Stratified K-Fold, the f1 score and the MCC score are more closely aligned, indicating that cross-validation has improved the\n",
        "#performance of the model.\n",
        "classifier_sk_1 = KNeighborsClassifier(n_neighbors=14)\n",
        "skf_knn_1 = RepeatedStratifiedKFold(n_splits=10, n_repeats=11, random_state=1)\n",
        "lst_accu_stratified = []\n",
        "\n",
        "for train_index, test_index in skf_knn_1.split(race_make_up_features, race_make_up_target):\n",
        "    x_train_fold, x_test_fold = race_make_up_features.iloc[train_index], race_make_up_features.iloc[test_index]\n",
        "    y_train_fold, y_test_fold = race_make_up_target[train_index], race_make_up_target[test_index]\n",
        "    classifier_sk_1.fit(x_train_fold, y_train_fold)\n",
        "    y_pred = classifier_sk_1.predict(x_test_fold)\n",
        "    lst_accu_stratified.append(classifier_sk_1.score(x_test_fold, y_test_fold))\n",
        "\n",
        "print('\\nMaximum Accuracy That can be obtained from this model is:',\n",
        "      max(lst_accu_stratified)*100, '%')\n",
        "print('\\nMinimum Accuracy:',\n",
        "      min(lst_accu_stratified)*100, '%')\n",
        "print('\\nOverall Accuracy:',\n",
        "      mean(lst_accu_stratified)*100, '%')\n",
        "print('\\nStandard Deviation is:', std(lst_accu_stratified))\n",
        "scores_f1 = cross_val_score(classifier_sk_1, race_make_up_features, race_make_up_target, scoring='f1_macro', cv=skf_knn_1, n_jobs=-1)\n",
        "print('F1: %.3f (%.3f)' % (mean(scores_f1), std(scores_f1)))\n",
        "scores_matthews = cross_val_score(classifier_sk_1, race_make_up_features, race_make_up_target, scoring='matthews_corrcoef', cv=skf_knn_1, n_jobs=-1)\n",
        "print('Matthews: %.3f (%.3f)' % (mean(scores_matthews), std(scores_matthews)))\n"
      ],
      "metadata": {
        "colab": {
          "base_uri": "https://localhost:8080/"
        },
        "id": "FUjiJEgwp6EC",
        "outputId": "7c7dab0d-9c83-45d0-8850-eaff4e84ba56"
      },
      "execution_count": null,
      "outputs": [
        {
          "output_type": "stream",
          "name": "stdout",
          "text": [
            "\n",
            "Maximum Accuracy That can be obtained from this model is: 79.5 %\n",
            "\n",
            "Minimum Accuracy: 70.0 %\n",
            "\n",
            "Overall Accuracy: 75.10708085883965 %\n",
            "\n",
            "Standard Deviation is: 0.02113102018852472\n",
            "F1: 0.535 (0.035)\n",
            "Matthews: 0.453 (0.049)\n"
          ]
        }
      ]
    },
    {
      "cell_type": "code",
      "source": [
        "#Based on the evaluation metrics, I will choose 5 repeats for the Repeated K-Fold\n",
        "def evaluate_model(X, y, repeats):\n",
        " cv = RepeatedKFold(n_splits=10, n_repeats=repeats, random_state=1)\n",
        " model = KNeighborsClassifier(n_neighbors=14)\n",
        " scores_knn_1 = cross_val_score(model, race_make_up_features, race_make_up_target, scoring='f1_macro', cv=cv, n_jobs=-1)\n",
        " return scores_knn_1\n",
        "repeats = range(1,16)\n",
        "results_knn_1 = list()\n",
        "for r in repeats:\n",
        " scores_knn_1 = evaluate_model(race_make_up_features, race_make_up_target, r)\n",
        " print('>%d f1=%.4f se=%.3f' % (r, mean(scores_knn_1), sem(scores_knn_1)))\n",
        " results_knn_1.append(scores_knn_1)\n",
        "\n",
        "plt.boxplot(results_knn_1, labels=[str(r) for r in repeats], showmeans=True)\n",
        "plt.show()"
      ],
      "metadata": {
        "colab": {
          "base_uri": "https://localhost:8080/",
          "height": 702
        },
        "id": "cTugHPVtspum",
        "outputId": "0ea77d21-fd69-4196-b075-87433f4bf232"
      },
      "execution_count": null,
      "outputs": [
        {
          "output_type": "stream",
          "name": "stdout",
          "text": [
            ">1 f1=0.5362 se=0.015\n",
            ">2 f1=0.5363 se=0.009\n",
            ">3 f1=0.5381 se=0.007\n",
            ">4 f1=0.5390 se=0.006\n",
            ">5 f1=0.5360 se=0.005\n",
            ">6 f1=0.5341 se=0.005\n",
            ">7 f1=0.5337 se=0.004\n",
            ">8 f1=0.5340 se=0.004\n",
            ">9 f1=0.5334 se=0.004\n",
            ">10 f1=0.5333 se=0.004\n",
            ">11 f1=0.5340 se=0.003\n",
            ">12 f1=0.5339 se=0.003\n",
            ">13 f1=0.5345 se=0.003\n",
            ">14 f1=0.5343 se=0.003\n",
            ">15 f1=0.5344 se=0.003\n"
          ]
        },
        {
          "output_type": "display_data",
          "data": {
            "text/plain": [
              "<Figure size 640x480 with 1 Axes>"
            ],
            "image/png": "[encoded data removed]"
          },
          "metadata": {}
        }
      ]
    },
    {
      "cell_type": "code",
      "source": [
        "#The final f1 score and MCC scorees have remained relatively steady after cross-validation. I will now repeat this process with the same metrics for the next 17\n",
        "#groups.\n",
        "cv_1 = RepeatedKFold(n_splits=10, n_repeats=5, random_state=1)\n",
        "scores_f1 = cross_val_score(classifier_1, race_make_up_features, race_make_up_target, scoring='f1_macro', cv=cv_1, n_jobs=-1)\n",
        "print('F1: %.3f (%.3f)' % (mean(scores_f1), std(scores_f1)))\n",
        "scores_matthews = cross_val_score(classifier_1, race_make_up_features, race_make_up_target, scoring='matthews_corrcoef', cv=cv_1, n_jobs=-1)\n",
        "print('Matthews: %.3f (%.3f)' % (mean(scores_matthews), std(scores_matthews)))"
      ],
      "metadata": {
        "colab": {
          "base_uri": "https://localhost:8080/"
        },
        "id": "210AOrR1tKmj",
        "outputId": "0e157510-cc76-49ec-a275-fb65b4a38082"
      },
      "execution_count": null,
      "outputs": [
        {
          "output_type": "stream",
          "name": "stdout",
          "text": [
            "F1: 0.536 (0.037)\n",
            "Matthews: 0.451 (0.058)\n"
          ]
        }
      ]
    },
    {
      "cell_type": "markdown",
      "source": [
        "# Group 2: Age"
      ],
      "metadata": {
        "id": "lDKhOveQt-N-"
      }
    },
    {
      "cell_type": "code",
      "source": [
        "age_features = age.iloc[:, :-1]\n",
        "age_target = age.iloc[:, -1]\n",
        "X_train_2, X_test_2, Y_train_2, Y_test_2 = train_test_split(age_features, age_target, test_size=0.2, random_state=1)\n",
        "classifier_2 = KNeighborsClassifier(n_neighbors=15)\n",
        "classifier_2.fit(X_train_2, Y_train_2)\n",
        "\n",
        "#From our initial test we can see the f1 score is 0.42 and the MCC score is 0.23, which are not closely aligned.\n",
        "\n",
        "y_pred_2 = classifier_2.predict(X_test_2)\n",
        "print(classification_report(Y_test_2, y_pred_2))\n",
        "print('Matthews:',matthews_corrcoef(Y_test_2, y_pred_2))"
      ],
      "metadata": {
        "colab": {
          "base_uri": "https://localhost:8080/"
        },
        "id": "xAp1mWuNuBJ9",
        "outputId": "2816b91f-f0a3-4678-b9a4-440a2b5d8bd3"
      },
      "execution_count": null,
      "outputs": [
        {
          "output_type": "stream",
          "name": "stdout",
          "text": [
            "              precision    recall  f1-score   support\n",
            "\n",
            "        High       0.35      0.40      0.38        62\n",
            "         Low       0.76      0.87      0.81       270\n",
            "      Medium       0.17      0.04      0.07        67\n",
            "\n",
            "    accuracy                           0.66       399\n",
            "   macro avg       0.43      0.44      0.42       399\n",
            "weighted avg       0.60      0.66      0.62       399\n",
            "\n",
            "Matthews: 0.2329429912558172\n"
          ]
        }
      ]
    },
    {
      "cell_type": "code",
      "source": [
        "def evaluate_model(X, y, repeats):\n",
        " cv = RepeatedStratifiedKFold(n_splits=10, n_repeats=repeats, random_state=1)\n",
        " model = KNeighborsClassifier(n_neighbors=15)\n",
        " scores_knn_2 = cross_val_score(model, age_features, age_target, scoring='f1_macro', cv=cv, n_jobs=-1)\n",
        " return scores_knn_2\n",
        "repeats = range(1,16)\n",
        "results_knn_2 = list()\n",
        "for r in repeats:\n",
        " scores_knn_2 = evaluate_model(age_features, age_target, r)\n",
        " print('>%d f1=%.4f se=%.3f' % (r, mean(scores_knn_2), sem(scores_knn_2)))\n",
        " results_knn_2.append(scores_knn_2)\n",
        "\n",
        "plt.boxplot(results_knn_2, labels=[str(r) for r in repeats], showmeans=True)\n",
        "plt.show()"
      ],
      "metadata": {
        "colab": {
          "base_uri": "https://localhost:8080/",
          "height": 702
        },
        "id": "YBpeXS8-uqIb",
        "outputId": "d266674c-ee5a-4028-ce4e-3c19e5108525"
      },
      "execution_count": null,
      "outputs": [
        {
          "output_type": "stream",
          "name": "stdout",
          "text": [
            ">1 f1=0.4104 se=0.012\n",
            ">2 f1=0.4036 se=0.008\n",
            ">3 f1=0.4069 se=0.006\n",
            ">4 f1=0.4060 se=0.005\n",
            ">5 f1=0.4065 se=0.004\n",
            ">6 f1=0.4042 se=0.004\n",
            ">7 f1=0.4048 se=0.003\n",
            ">8 f1=0.4062 se=0.003\n",
            ">9 f1=0.4059 se=0.003\n",
            ">10 f1=0.4059 se=0.003\n",
            ">11 f1=0.4054 se=0.003\n",
            ">12 f1=0.4053 se=0.003\n",
            ">13 f1=0.4052 se=0.002\n",
            ">14 f1=0.4056 se=0.002\n",
            ">15 f1=0.4057 se=0.002\n"
          ]
        },
        {
          "output_type": "display_data",
          "data": {
            "text/plain": [
              "<Figure size 640x480 with 1 Axes>"
            ],
            "image/png": "[encoded data removed]"
          },
          "metadata": {}
        }
      ]
    },
    {
      "cell_type": "code",
      "source": [
        "classifier_sk_2 = KNeighborsClassifier(n_neighbors=15)\n",
        "skf_knn_2 = RepeatedStratifiedKFold(n_splits=10, n_repeats=15, random_state=1)\n",
        "lst_accu_stratified = []\n",
        "\n",
        "for train_index, test_index in skf_knn_2.split(age_features, age_target):\n",
        "    x_train_fold, x_test_fold = age_features.iloc[train_index], age_features.iloc[test_index]\n",
        "    y_train_fold, y_test_fold = age_target[train_index], age_target[test_index]\n",
        "    classifier_sk_2.fit(x_train_fold, y_train_fold)\n",
        "    y_pred = classifier_sk_2.predict(x_test_fold)\n",
        "    lst_accu_stratified.append(classifier_sk_2.score(x_test_fold, y_test_fold))\n",
        "\n",
        "print('\\nMaximum Accuracy That can be obtained from this model is:',\n",
        "      max(lst_accu_stratified)*100, '%')\n",
        "print('\\nMinimum Accuracy:',\n",
        "      min(lst_accu_stratified)*100, '%')\n",
        "print('\\nOverall Accuracy:',\n",
        "      mean(lst_accu_stratified)*100, '%')\n",
        "print('\\nStandard Deviation is:', std(lst_accu_stratified))\n",
        "scores_f1 = cross_val_score(classifier_sk_2, age_features, age_target, scoring='f1_macro', cv=skf_knn_2, n_jobs=-1)\n",
        "print('F1: %.3f (%.3f)' % (mean(scores_f1), std(scores_f1)))\n",
        "scores_matthews = cross_val_score(classifier_sk_2, age_features, age_target, scoring='matthews_corrcoef', cv=skf_knn_2, n_jobs=-1)\n",
        "print('Matthews: %.3f (%.3f)' % (mean(scores_matthews), std(scores_matthews)))"
      ],
      "metadata": {
        "colab": {
          "base_uri": "https://localhost:8080/"
        },
        "id": "18D0_k6QvAtH",
        "outputId": "4a924613-4b2e-448f-e414-121b6e06d6bf"
      },
      "execution_count": null,
      "outputs": [
        {
          "output_type": "stream",
          "name": "stdout",
          "text": [
            "\n",
            "Maximum Accuracy That can be obtained from this model is: 71.5 %\n",
            "\n",
            "Minimum Accuracy: 60.5 %\n",
            "\n",
            "Overall Accuracy: 66.75365159128978 %\n",
            "\n",
            "Standard Deviation is: 0.021250491692959745\n",
            "F1: 0.406 (0.028)\n",
            "Matthews: 0.223 (0.050)\n"
          ]
        }
      ]
    },
    {
      "cell_type": "code",
      "source": [
        "def evaluate_model(X, y, repeats):\n",
        " cv = RepeatedKFold(n_splits=10, n_repeats=repeats, random_state=1)\n",
        " model = KNeighborsClassifier(n_neighbors=15)\n",
        " scores_knn_2 = cross_val_score(model, age_features, age_target, scoring='f1_macro', cv=cv, n_jobs=-1)\n",
        " return scores_knn_2\n",
        "repeats = range(1,16)\n",
        "results_knn_2 = list()\n",
        "for r in repeats:\n",
        " scores_knn_2 = evaluate_model(age_features, age_target, r)\n",
        " print('>%d f1=%.4f se=%.3f' % (r, mean(scores_knn_2), sem(scores_knn_2)))\n",
        " results_knn_2.append(scores_knn_2)\n",
        "\n",
        "plt.boxplot(results_knn_2, labels=[str(r) for r in repeats], showmeans=True)\n",
        "plt.show()"
      ],
      "metadata": {
        "colab": {
          "base_uri": "https://localhost:8080/",
          "height": 702
        },
        "id": "FpJ8OMXzwT6H",
        "outputId": "5ffea26a-7906-412d-a75c-76104aaec669"
      },
      "execution_count": null,
      "outputs": [
        {
          "output_type": "stream",
          "name": "stdout",
          "text": [
            ">1 f1=0.4046 se=0.009\n",
            ">2 f1=0.4035 se=0.008\n",
            ">3 f1=0.4037 se=0.006\n",
            ">4 f1=0.4033 se=0.005\n",
            ">5 f1=0.4034 se=0.004\n",
            ">6 f1=0.4025 se=0.004\n",
            ">7 f1=0.4025 se=0.004\n",
            ">8 f1=0.4035 se=0.003\n",
            ">9 f1=0.4032 se=0.003\n",
            ">10 f1=0.4035 se=0.003\n",
            ">11 f1=0.4034 se=0.003\n",
            ">12 f1=0.4027 se=0.003\n",
            ">13 f1=0.4020 se=0.003\n",
            ">14 f1=0.4026 se=0.003\n",
            ">15 f1=0.4021 se=0.003\n"
          ]
        },
        {
          "output_type": "display_data",
          "data": {
            "text/plain": [
              "<Figure size 640x480 with 1 Axes>"
            ],
            "image/png": "[encoded data removed]"
          },
          "metadata": {}
        }
      ]
    },
    {
      "cell_type": "code",
      "source": [
        "cv_2 = RepeatedKFold(n_splits=10, n_repeats=15, random_state=1)\n",
        "scores_f1 = cross_val_score(classifier_2, age_features, age_target, scoring='f1_macro', cv=cv_2, n_jobs=-1)\n",
        "print('F1: %.3f (%.3f)' % (mean(scores_f1), std(scores_f1)))\n",
        "scores_matthews = cross_val_score(classifier_1, age_features, age_target, scoring='matthews_corrcoef', cv=cv_2, n_jobs=-1)\n",
        "print('Matthews: %.3f (%.3f)' % (mean(scores_matthews), std(scores_matthews)))\n"
      ],
      "metadata": {
        "colab": {
          "base_uri": "https://localhost:8080/"
        },
        "id": "i-F-3POFwrai",
        "outputId": "4cb12e69-6f45-4e9e-b9d9-d1ee0b28b654"
      },
      "execution_count": null,
      "outputs": [
        {
          "output_type": "stream",
          "name": "stdout",
          "text": [
            "F1: 0.402 (0.031)\n",
            "Matthews: 0.218 (0.049)\n"
          ]
        }
      ]
    },
    {
      "cell_type": "markdown",
      "source": [
        "# Group 3: Urban Factors"
      ],
      "metadata": {
        "id": "SfJpFYIIxcFa"
      }
    },
    {
      "cell_type": "code",
      "source": [
        "urban_factors_features = urban_factors.iloc[:, :-1]\n",
        "urban_factors_target = urban_factors.iloc[:, -1]\n",
        "X_train_3, X_test_3, Y_train_3, Y_test_3 = train_test_split(urban_factors_features, urban_factors_target, test_size=0.2, random_state=1)\n",
        "classifier_3 = KNeighborsClassifier(n_neighbors=20)\n",
        "classifier_3.fit(X_train_3, Y_train_3)\n",
        "\n",
        "#Starting f1 is 0.43, starting MCC is 0.29\n",
        "\n",
        "y_pred_3 = classifier_3.predict(X_test_3)\n",
        "print(classification_report(Y_test_3, y_pred_3))\n",
        "print('Matthews:',matthews_corrcoef(Y_test_3, y_pred_3))"
      ],
      "metadata": {
        "colab": {
          "base_uri": "https://localhost:8080/"
        },
        "id": "WgSBHDSXxnj6",
        "outputId": "4b11f532-9ee8-48e2-ceed-39f9188137c0"
      },
      "execution_count": null,
      "outputs": [
        {
          "output_type": "stream",
          "name": "stdout",
          "text": [
            "              precision    recall  f1-score   support\n",
            "\n",
            "        High       0.67      0.26      0.37        62\n",
            "         Low       0.72      0.99      0.83       270\n",
            "      Medium       1.00      0.04      0.09        67\n",
            "\n",
            "    accuracy                           0.71       399\n",
            "   macro avg       0.79      0.43      0.43       399\n",
            "weighted avg       0.76      0.71      0.63       399\n",
            "\n",
            "Matthews: 0.29171309092878245\n"
          ]
        }
      ]
    },
    {
      "cell_type": "code",
      "source": [
        "def evaluate_model(X, y, repeats):\n",
        " cv = RepeatedStratifiedKFold(n_splits=10, n_repeats=repeats, random_state=1)\n",
        " model = KNeighborsClassifier(n_neighbors=20)\n",
        " scores_knn_3 = cross_val_score(model, urban_factors_features, urban_factors_target, scoring='f1_macro', cv=cv, n_jobs=-1)\n",
        " return scores_knn_3\n",
        "repeats = range(1,16)\n",
        "results_knn_3 = list()\n",
        "for r in repeats:\n",
        " scores_knn_3 = evaluate_model(urban_factors_features, urban_factors_target, r)\n",
        " print('>%d f1=%.4f se=%.3f' % (r, mean(scores_knn_3), sem(scores_knn_3)))\n",
        " results_knn_3.append(scores_knn_3)\n",
        "\n",
        "plt.boxplot(results_knn_3, labels=[str(r) for r in repeats], showmeans=True)\n",
        "plt.show()"
      ],
      "metadata": {
        "colab": {
          "base_uri": "https://localhost:8080/",
          "height": 702
        },
        "id": "q3_9Skzfx6s-",
        "outputId": "4bd20246-9eb1-4a76-922f-f12a8846a7e2"
      },
      "execution_count": null,
      "outputs": [
        {
          "output_type": "stream",
          "name": "stdout",
          "text": [
            ">1 f1=0.3773 se=0.011\n",
            ">2 f1=0.3790 se=0.006\n",
            ">3 f1=0.3802 se=0.005\n",
            ">4 f1=0.3786 se=0.005\n",
            ">5 f1=0.3798 se=0.005\n",
            ">6 f1=0.3802 se=0.005\n",
            ">7 f1=0.3804 se=0.004\n",
            ">8 f1=0.3811 se=0.004\n",
            ">9 f1=0.3816 se=0.004\n",
            ">10 f1=0.3820 se=0.004\n",
            ">11 f1=0.3818 se=0.003\n",
            ">12 f1=0.3815 se=0.003\n",
            ">13 f1=0.3814 se=0.003\n",
            ">14 f1=0.3822 se=0.003\n",
            ">15 f1=0.3823 se=0.003\n"
          ]
        },
        {
          "output_type": "display_data",
          "data": {
            "text/plain": [
              "<Figure size 640x480 with 1 Axes>"
            ],
            "image/png": "[encoded data removed]"
          },
          "metadata": {}
        }
      ]
    },
    {
      "cell_type": "code",
      "source": [
        "classifier_sk_3 = KNeighborsClassifier(n_neighbors=20)\n",
        "skf_knn_3 = RepeatedStratifiedKFold(n_splits=10, n_repeats=12, random_state=1)\n",
        "lst_accu_stratified = []\n",
        "\n",
        "for train_index, test_index in skf_knn_3.split(urban_factors_features, urban_factors_target):\n",
        "    x_train_fold, x_test_fold = urban_factors_features.iloc[train_index], urban_factors_features.iloc[test_index]\n",
        "    y_train_fold, y_test_fold = urban_factors_target[train_index], urban_factors_target[test_index]\n",
        "    classifier_sk_3.fit(x_train_fold, y_train_fold)\n",
        "    y_pred = classifier_sk_3.predict(x_test_fold)\n",
        "    lst_accu_stratified.append(classifier_sk_3.score(x_test_fold, y_test_fold))\n",
        "\n",
        "print('\\nMaximum Accuracy That can be obtained from this model is:',\n",
        "      max(lst_accu_stratified)*100, '%')\n",
        "print('\\nMinimum Accuracy:',\n",
        "      min(lst_accu_stratified)*100, '%')\n",
        "print('\\nOverall Accuracy:',\n",
        "      mean(lst_accu_stratified)*100, '%')\n",
        "print('\\nStandard Deviation is:', std(lst_accu_stratified))\n",
        "scores_f1 = cross_val_score(classifier_sk_3, urban_factors_features, urban_factors_target, scoring='f1_macro', cv=skf_knn_3, n_jobs=-1)\n",
        "print('F1: %.3f (%.3f)' % (mean(scores_f1), std(scores_f1)))\n",
        "scores_matthews = cross_val_score(classifier_sk_3, urban_factors_features, urban_factors_target, scoring='matthews_corrcoef', cv=skf_knn_3, n_jobs=-1)\n",
        "print('Matthews: %.3f (%.3f)' % (mean(scores_matthews), std(scores_matthews)))"
      ],
      "metadata": {
        "colab": {
          "base_uri": "https://localhost:8080/"
        },
        "id": "ztqXFBR0yMAZ",
        "outputId": "8fa6087b-d940-4fce-dc7b-89fcde37f532"
      },
      "execution_count": null,
      "outputs": [
        {
          "output_type": "stream",
          "name": "stdout",
          "text": [
            "\n",
            "Maximum Accuracy That can be obtained from this model is: 72.8643216080402 %\n",
            "\n",
            "Minimum Accuracy: 58.5 %\n",
            "\n",
            "Overall Accuracy: 69.0287688442211 %\n",
            "\n",
            "Standard Deviation is: 0.022289225417875754\n",
            "F1: 0.381 (0.034)\n",
            "Matthews: 0.220 (0.065)\n"
          ]
        }
      ]
    },
    {
      "cell_type": "code",
      "source": [
        "def evaluate_model(X, y, repeats):\n",
        " cv = RepeatedKFold(n_splits=10, n_repeats=repeats, random_state=1)\n",
        " model = KNeighborsClassifier(n_neighbors=20)\n",
        " scores_knn_3 = cross_val_score(model, urban_factors_features, urban_factors_target, scoring='f1_macro', cv=cv, n_jobs=-1)\n",
        " return scores_knn_3\n",
        "repeats = range(1,16)\n",
        "results_knn_3 = list()\n",
        "for r in repeats:\n",
        " scores_knn_3 = evaluate_model(urban_factors_features, urban_factors_target, r)\n",
        " print('>%d f1=%.4f se=%.3f' % (r, mean(scores_knn_3), sem(scores_knn_3)))\n",
        " results_knn_3.append(scores_knn_3)\n",
        "\n",
        "plt.boxplot(results_knn_3, labels=[str(r) for r in repeats], showmeans=True)\n",
        "plt.show()"
      ],
      "metadata": {
        "colab": {
          "base_uri": "https://localhost:8080/",
          "height": 702
        },
        "id": "7GdaDOWFzIvQ",
        "outputId": "5725ff81-c0c9-4cab-9752-b04aef2578de"
      },
      "execution_count": null,
      "outputs": [
        {
          "output_type": "stream",
          "name": "stdout",
          "text": [
            ">1 f1=0.3705 se=0.011\n",
            ">2 f1=0.3773 se=0.009\n",
            ">3 f1=0.3781 se=0.006\n",
            ">4 f1=0.3797 se=0.006\n",
            ">5 f1=0.3819 se=0.005\n",
            ">6 f1=0.3825 se=0.004\n",
            ">7 f1=0.3828 se=0.004\n",
            ">8 f1=0.3816 se=0.004\n",
            ">9 f1=0.3821 se=0.003\n",
            ">10 f1=0.3824 se=0.003\n",
            ">11 f1=0.3828 se=0.003\n",
            ">12 f1=0.3833 se=0.003\n",
            ">13 f1=0.3831 se=0.003\n",
            ">14 f1=0.3832 se=0.003\n",
            ">15 f1=0.3829 se=0.003\n"
          ]
        },
        {
          "output_type": "display_data",
          "data": {
            "text/plain": [
              "<Figure size 640x480 with 1 Axes>"
            ],
            "image/png": "[encoded data removed]"
          },
          "metadata": {}
        }
      ]
    },
    {
      "cell_type": "code",
      "source": [
        "cv_3 = RepeatedKFold(n_splits=10, n_repeats=12, random_state=1)\n",
        "scores_f1 = cross_val_score(classifier_3, urban_factors_features, urban_factors_target, scoring='f1_macro', cv=cv_3, n_jobs=-1)\n",
        "print('F1: %.3f (%.3f)' % (mean(scores_f1), std(scores_f1)))\n",
        "scores_matthews = cross_val_score(classifier_3, urban_factors_features, urban_factors_target, scoring='matthews_corrcoef', cv=cv_3, n_jobs=-1)\n",
        "print('Matthews: %.3f (%.3f)' % (mean(scores_matthews), std(scores_matthews)))\n"
      ],
      "metadata": {
        "colab": {
          "base_uri": "https://localhost:8080/"
        },
        "id": "6DXbiTEXzTAa",
        "outputId": "5ec5657b-3ce2-4db2-cb46-c17ad3f350a2"
      },
      "execution_count": null,
      "outputs": [
        {
          "output_type": "stream",
          "name": "stdout",
          "text": [
            "F1: 0.383 (0.032)\n",
            "Matthews: 0.223 (0.061)\n"
          ]
        }
      ]
    },
    {
      "cell_type": "markdown",
      "source": [
        "# Group 4: Income Factors"
      ],
      "metadata": {
        "id": "bngrfI4v0w5F"
      }
    },
    {
      "cell_type": "code",
      "source": [
        "#Income factors has 1 NA value as discovered in preprocessing, here I am replacing it with another value from the same column. Because there is only one missing\n",
        "#value it should not have a great impact on the model.\n",
        "income_factors.fillna(income_factors.select_dtypes(include='object').mode().iloc[0], inplace=True)\n",
        "income_factors.isna().sum()"
      ],
      "metadata": {
        "colab": {
          "base_uri": "https://localhost:8080/"
        },
        "id": "sEvs0rmN1WDB",
        "outputId": "ee06d2c6-3f28-4e4e-da71-5352b4fe78f2"
      },
      "execution_count": null,
      "outputs": [
        {
          "output_type": "stream",
          "name": "stderr",
          "text": [
            "<ipython-input-23-65d4316290ca>:3: SettingWithCopyWarning: \n",
            "A value is trying to be set on a copy of a slice from a DataFrame\n",
            "\n",
            "See the caveats in the documentation: https://pandas.pydata.org/pandas-docs/stable/user_guide/indexing.html#returning-a-view-versus-a-copy\n",
            "  income_factors.fillna(income_factors.select_dtypes(include='object').mode().iloc[0], inplace=True)\n"
          ]
        },
        {
          "output_type": "execute_result",
          "data": {
            "text/plain": [
              "medIncome        0\n",
              "pctWWage         0\n",
              "pctWFarmSelf     0\n",
              "pctWInvInc       0\n",
              "pctWSocSec       0\n",
              "pctWPubAsst      0\n",
              "pctWRetire       0\n",
              "medFamInc        0\n",
              "perCapInc        0\n",
              "whitePerCap      0\n",
              "blackPerCap      0\n",
              "indianPerCap     0\n",
              "AsianPerCap      0\n",
              "OtherPerCap      0\n",
              "HispPerCap       0\n",
              "CrimeCategory    0\n",
              "dtype: int64"
            ]
          },
          "metadata": {},
          "execution_count": 23
        }
      ]
    },
    {
      "cell_type": "code",
      "source": [
        "income_factors_features = income_factors.iloc[:, :-1]\n",
        "income_factors_target = income_factors.iloc[:, -1]\n",
        "X_train_4, X_test_4, Y_train_4, Y_test_4 = train_test_split(income_factors_features, income_factors_target, test_size=0.2, random_state=1)\n",
        "classifier_4 = KNeighborsClassifier(n_neighbors=3)\n",
        "classifier_4.fit(X_train_4, Y_train_4)\n",
        "\n",
        "#Starting f1 is 0.54, starting MCC is 0.40\n",
        "\n",
        "y_pred_4 = classifier_4.predict(X_test_4)\n",
        "print(classification_report(Y_test_4, y_pred_4))\n",
        "print('Matthews:',matthews_corrcoef(Y_test_4, y_pred_4))"
      ],
      "metadata": {
        "colab": {
          "base_uri": "https://localhost:8080/"
        },
        "id": "9jRPGIpA1GjF",
        "outputId": "805c63f8-4514-400b-e508-312f017791ec"
      },
      "execution_count": null,
      "outputs": [
        {
          "output_type": "stream",
          "name": "stdout",
          "text": [
            "              precision    recall  f1-score   support\n",
            "\n",
            "        High       0.42      0.65      0.51        62\n",
            "         Low       0.82      0.85      0.84       270\n",
            "      Medium       0.52      0.19      0.28        67\n",
            "\n",
            "    accuracy                           0.71       399\n",
            "   macro avg       0.59      0.56      0.54       399\n",
            "weighted avg       0.71      0.71      0.69       399\n",
            "\n",
            "Matthews: 0.3979369589985626\n"
          ]
        }
      ]
    },
    {
      "cell_type": "code",
      "source": [
        "def evaluate_model(X, y, repeats):\n",
        " cv = RepeatedStratifiedKFold(n_splits=10, n_repeats=repeats, random_state=1)\n",
        " model = KNeighborsClassifier(n_neighbors=3)\n",
        " scores_knn_4 = cross_val_score(model, income_factors_features, income_factors_target, scoring='f1_macro', cv=cv, n_jobs=-1)\n",
        " return scores_knn_4\n",
        "repeats = range(1,16)\n",
        "results_knn_4 = list()\n",
        "for r in repeats:\n",
        " scores_knn_4 = evaluate_model(income_factors_features, income_factors_target, r)\n",
        " print('>%d f1=%.4f se=%.3f' % (r, mean(scores_knn_4), sem(scores_knn_4)))\n",
        " results_knn_4.append(scores_knn_4)\n",
        "\n",
        "plt.boxplot(results_knn_4, labels=[str(r) for r in repeats], showmeans=True)\n",
        "plt.show()"
      ],
      "metadata": {
        "colab": {
          "base_uri": "https://localhost:8080/",
          "height": 702
        },
        "id": "TXDZvNoV1h7z",
        "outputId": "7a04341b-d84b-48fa-cea1-80e8bcd88ffe"
      },
      "execution_count": null,
      "outputs": [
        {
          "output_type": "stream",
          "name": "stdout",
          "text": [
            ">1 f1=0.5266 se=0.013\n",
            ">2 f1=0.5286 se=0.009\n",
            ">3 f1=0.5286 se=0.007\n",
            ">4 f1=0.5274 se=0.005\n",
            ">5 f1=0.5292 se=0.005\n",
            ">6 f1=0.5289 se=0.005\n",
            ">7 f1=0.5298 se=0.004\n",
            ">8 f1=0.5296 se=0.004\n",
            ">9 f1=0.5302 se=0.004\n",
            ">10 f1=0.5302 se=0.004\n",
            ">11 f1=0.5300 se=0.003\n",
            ">12 f1=0.5299 se=0.003\n",
            ">13 f1=0.5304 se=0.003\n",
            ">14 f1=0.5308 se=0.003\n",
            ">15 f1=0.5307 se=0.003\n"
          ]
        },
        {
          "output_type": "display_data",
          "data": {
            "text/plain": [
              "<Figure size 640x480 with 1 Axes>"
            ],
            "image/png": "[encoded data removed]"
          },
          "metadata": {}
        }
      ]
    },
    {
      "cell_type": "code",
      "source": [
        "classifier_sk_4 = KNeighborsClassifier(n_neighbors=3)\n",
        "skf_knn_4 = RepeatedStratifiedKFold(n_splits=10, n_repeats=11, random_state=1)\n",
        "lst_accu_stratified = []\n",
        "\n",
        "for train_index, test_index in skf_knn_4.split(income_factors_features, income_factors_target):\n",
        "    x_train_fold, x_test_fold = income_factors_features.iloc[train_index], income_factors_features.iloc[test_index]\n",
        "    y_train_fold, y_test_fold = income_factors_target[train_index], income_factors_target[test_index]\n",
        "    classifier_sk_4.fit(x_train_fold, y_train_fold)\n",
        "    y_pred = classifier_sk_4.predict(x_test_fold)\n",
        "    lst_accu_stratified.append(classifier_sk_4.score(x_test_fold, y_test_fold))\n",
        "\n",
        "print('\\nMaximum Accuracy That can be obtained from this model is:',\n",
        "      max(lst_accu_stratified)*100, '%')\n",
        "print('\\nMinimum Accuracy:',\n",
        "      min(lst_accu_stratified)*100, '%')\n",
        "print('\\nOverall Accuracy:',\n",
        "      mean(lst_accu_stratified)*100, '%')\n",
        "print('\\nStandard Deviation is:', std(lst_accu_stratified))\n",
        "scores_f1 = cross_val_score(classifier_sk_4, income_factors_features, income_factors_target, scoring='f1_macro', cv=skf_knn_4, n_jobs=-1)\n",
        "print('F1: %.3f (%.3f)' % (mean(scores_f1), std(scores_f1)))\n",
        "scores_matthews = cross_val_score(classifier_sk_4, income_factors_features, income_factors_target, scoring='matthews_corrcoef', cv=skf_knn_4, n_jobs=-1)\n",
        "print('Matthews: %.3f (%.3f)' % (mean(scores_matthews), std(scores_matthews)))"
      ],
      "metadata": {
        "colab": {
          "base_uri": "https://localhost:8080/"
        },
        "id": "Hci92l2X17_i",
        "outputId": "6319cbe6-5cf7-4f18-d960-0bcae9d14394"
      },
      "execution_count": null,
      "outputs": [
        {
          "output_type": "stream",
          "name": "stdout",
          "text": [
            "\n",
            "Maximum Accuracy That can be obtained from this model is: 76.5 %\n",
            "\n",
            "Minimum Accuracy: 64.82412060301507 %\n",
            "\n",
            "Overall Accuracy: 70.9773412517131 %\n",
            "\n",
            "Standard Deviation is: 0.023921971990109106\n",
            "F1: 0.530 (0.036)\n",
            "Matthews: 0.411 (0.046)\n"
          ]
        }
      ]
    },
    {
      "cell_type": "code",
      "source": [
        "def evaluate_model(X, y, repeats):\n",
        " cv = RepeatedKFold(n_splits=10, n_repeats=repeats, random_state=1)\n",
        " model = KNeighborsClassifier(n_neighbors=3)\n",
        " scores_knn_4 = cross_val_score(model, income_factors_features, income_factors_target, scoring='f1_macro', cv=cv, n_jobs=-1)\n",
        " return scores_knn_4\n",
        "repeats = range(1,16)\n",
        "results_knn_4 = list()\n",
        "for r in repeats:\n",
        " scores_knn_4 = evaluate_model(income_factors_features, income_factors_target, r)\n",
        " print('>%d f1=%.4f se=%.3f' % (r, mean(scores_knn_4), sem(scores_knn_4)))\n",
        " results_knn_4.append(scores_knn_4)\n",
        "\n",
        "plt.boxplot(results_knn_4, labels=[str(r) for r in repeats], showmeans=True)\n",
        "plt.show()"
      ],
      "metadata": {
        "colab": {
          "base_uri": "https://localhost:8080/",
          "height": 702
        },
        "id": "hwHzkhK91tsl",
        "outputId": "e0dd1e99-eee4-436c-f6f8-a73f44f1d1e2"
      },
      "execution_count": null,
      "outputs": [
        {
          "output_type": "stream",
          "name": "stdout",
          "text": [
            ">1 f1=0.5188 se=0.015\n",
            ">2 f1=0.5293 se=0.010\n",
            ">3 f1=0.5287 se=0.008\n",
            ">4 f1=0.5288 se=0.006\n",
            ">5 f1=0.5288 se=0.005\n",
            ">6 f1=0.5285 se=0.005\n",
            ">7 f1=0.5290 se=0.004\n",
            ">8 f1=0.5289 se=0.004\n",
            ">9 f1=0.5293 se=0.004\n",
            ">10 f1=0.5297 se=0.003\n",
            ">11 f1=0.5300 se=0.003\n",
            ">12 f1=0.5299 se=0.003\n",
            ">13 f1=0.5295 se=0.003\n",
            ">14 f1=0.5299 se=0.003\n",
            ">15 f1=0.5299 se=0.003\n"
          ]
        },
        {
          "output_type": "display_data",
          "data": {
            "text/plain": [
              "<Figure size 640x480 with 1 Axes>"
            ],
            "image/png": "[encoded data removed]"
          },
          "metadata": {}
        }
      ]
    },
    {
      "cell_type": "code",
      "source": [
        "cv_4 = RepeatedKFold(n_splits=10, n_repeats=10, random_state=1)\n",
        "scores_f1 = cross_val_score(classifier_4, income_factors_features, income_factors_target, scoring='f1_macro', cv=cv_4, n_jobs=-1)\n",
        "print('F1: %.3f (%.3f)' % (mean(scores_f1), std(scores_f1)))\n",
        "scores_matthews = cross_val_score(classifier_4, income_factors_features, income_factors_target, scoring='matthews_corrcoef', cv=cv_4, n_jobs=-1)\n",
        "print('Matthews: %.3f (%.3f)' % (mean(scores_matthews), std(scores_matthews)))"
      ],
      "metadata": {
        "colab": {
          "base_uri": "https://localhost:8080/"
        },
        "id": "XUkk1ge42lZR",
        "outputId": "e87b9763-2f95-4f53-ecc3-54b56a0d76d6"
      },
      "execution_count": null,
      "outputs": [
        {
          "output_type": "stream",
          "name": "stdout",
          "text": [
            "F1: 0.530 (0.034)\n",
            "Matthews: 0.410 (0.048)\n"
          ]
        }
      ]
    },
    {
      "cell_type": "markdown",
      "source": [
        "# Group 5: Poverty"
      ],
      "metadata": {
        "id": "HedeBmMO3aCR"
      }
    },
    {
      "cell_type": "code",
      "source": [
        "poverty_features = poverty.iloc[:, :-1]\n",
        "poverty_target = poverty.iloc[:, -1]\n",
        "X_train_5, X_test_5, Y_train_5, Y_test_5 = train_test_split(poverty_features, poverty_target, test_size=0.2, random_state=1)\n",
        "\n",
        "classifier_5 = KNeighborsClassifier(n_neighbors=38)\n",
        "classifier_5.fit(X_train_5, Y_train_5)\n",
        "\n",
        "#Starting f1 is 0.49, starting MCC is 0.40\n",
        "\n",
        "y_pred_5 = classifier_5.predict(X_test_5)\n",
        "print(classification_report(Y_test_5, y_pred_5))\n",
        "print('Matthews:',matthews_corrcoef(Y_test_5, y_pred_5))"
      ],
      "metadata": {
        "colab": {
          "base_uri": "https://localhost:8080/"
        },
        "id": "IIzcH-7z3jnq",
        "outputId": "af987417-1098-4aa6-9000-15b51d24b8c1"
      },
      "execution_count": null,
      "outputs": [
        {
          "output_type": "stream",
          "name": "stdout",
          "text": [
            "              precision    recall  f1-score   support\n",
            "\n",
            "        High       0.62      0.60      0.61        62\n",
            "         Low       0.76      0.96      0.85       270\n",
            "      Medium       0.00      0.00      0.00        67\n",
            "\n",
            "    accuracy                           0.74       399\n",
            "   macro avg       0.46      0.52      0.49       399\n",
            "weighted avg       0.61      0.74      0.67       399\n",
            "\n",
            "Matthews: 0.40580141205424297\n"
          ]
        },
        {
          "output_type": "stream",
          "name": "stderr",
          "text": [
            "/usr/local/lib/python3.10/dist-packages/sklearn/metrics/_classification.py:1344: UndefinedMetricWarning: Precision and F-score are ill-defined and being set to 0.0 in labels with no predicted samples. Use `zero_division` parameter to control this behavior.\n",
            "  _warn_prf(average, modifier, msg_start, len(result))\n",
            "/usr/local/lib/python3.10/dist-packages/sklearn/metrics/_classification.py:1344: UndefinedMetricWarning: Precision and F-score are ill-defined and being set to 0.0 in labels with no predicted samples. Use `zero_division` parameter to control this behavior.\n",
            "  _warn_prf(average, modifier, msg_start, len(result))\n",
            "/usr/local/lib/python3.10/dist-packages/sklearn/metrics/_classification.py:1344: UndefinedMetricWarning: Precision and F-score are ill-defined and being set to 0.0 in labels with no predicted samples. Use `zero_division` parameter to control this behavior.\n",
            "  _warn_prf(average, modifier, msg_start, len(result))\n"
          ]
        }
      ]
    },
    {
      "cell_type": "code",
      "source": [
        "def evaluate_model(X, y, repeats):\n",
        " cv = RepeatedStratifiedKFold(n_splits=10, n_repeats=repeats, random_state=1)\n",
        " model = KNeighborsClassifier(n_neighbors=38)\n",
        " scores_knn_5 = cross_val_score(model, poverty_features, income_factors_target, scoring='f1_macro', cv=cv, n_jobs=-1)\n",
        " return scores_knn_5\n",
        "repeats = range(1,16)\n",
        "results_knn_5 = list()\n",
        "for r in repeats:\n",
        " scores_knn_5 = evaluate_model(poverty_features, income_factors_target, r)\n",
        " print('>%d f1=%.4f se=%.3f' % (r, mean(scores_knn_5), sem(scores_knn_5)))\n",
        " results_knn_5.append(scores_knn_5)\n",
        "\n",
        "plt.boxplot(results_knn_5, labels=[str(r) for r in repeats], showmeans=True)\n",
        "plt.show()"
      ],
      "metadata": {
        "colab": {
          "base_uri": "https://localhost:8080/",
          "height": 702
        },
        "id": "Qsby_n2w4FBM",
        "outputId": "64958468-419a-4023-f8b4-8c656684b5b7"
      },
      "execution_count": null,
      "outputs": [
        {
          "output_type": "stream",
          "name": "stdout",
          "text": [
            ">1 f1=0.4561 se=0.011\n",
            ">2 f1=0.4535 se=0.006\n",
            ">3 f1=0.4535 se=0.004\n",
            ">4 f1=0.4529 se=0.004\n",
            ">5 f1=0.4532 se=0.003\n",
            ">6 f1=0.4527 se=0.003\n",
            ">7 f1=0.4529 se=0.003\n",
            ">8 f1=0.4526 se=0.003\n",
            ">9 f1=0.4533 se=0.003\n",
            ">10 f1=0.4537 se=0.003\n",
            ">11 f1=0.4544 se=0.002\n",
            ">12 f1=0.4548 se=0.002\n",
            ">13 f1=0.4543 se=0.002\n",
            ">14 f1=0.4545 se=0.002\n",
            ">15 f1=0.4543 se=0.002\n"
          ]
        },
        {
          "output_type": "display_data",
          "data": {
            "text/plain": [
              "<Figure size 640x480 with 1 Axes>"
            ],
            "image/png": "[encoded data removed]"
          },
          "metadata": {}
        }
      ]
    },
    {
      "cell_type": "code",
      "source": [
        "classifier_sk_5 = KNeighborsClassifier(n_neighbors=38)\n",
        "skf_knn_5 = RepeatedStratifiedKFold(n_splits=10, n_repeats=13, random_state=1)\n",
        "lst_accu_stratified = []\n",
        "\n",
        "for train_index, test_index in skf_knn_5.split(poverty_features, income_factors_target):\n",
        "    x_train_fold, x_test_fold = poverty_features.iloc[train_index], poverty_features.iloc[test_index]\n",
        "    y_train_fold, y_test_fold = poverty_target[train_index], poverty_target[test_index]\n",
        "    classifier_sk_5.fit(x_train_fold, y_train_fold)\n",
        "    y_pred = classifier_sk_5.predict(x_test_fold)\n",
        "    lst_accu_stratified.append(classifier_sk_5.score(x_test_fold, y_test_fold))\n",
        "\n",
        "print('\\nMaximum Accuracy That can be obtained from this model is:',\n",
        "      max(lst_accu_stratified)*100, '%')\n",
        "print('\\nMinimum Accuracy:',\n",
        "      min(lst_accu_stratified)*100, '%')\n",
        "print('\\nOverall Accuracy:',\n",
        "      mean(lst_accu_stratified)*100, '%')\n",
        "print('\\nStandard Deviation is:', std(lst_accu_stratified))\n",
        "scores_f1 = cross_val_score(classifier_sk_5, poverty_features, poverty_target, scoring='f1_macro', cv=skf_knn_5, n_jobs=-1)\n",
        "print('F1: %.3f (%.3f)' % (mean(scores_f1), std(scores_f1)))\n",
        "scores_matthews = cross_val_score(classifier_sk_5, poverty_features, poverty_target, scoring='matthews_corrcoef', cv=skf_knn_5, n_jobs=-1)\n",
        "print('Matthews: %.3f (%.3f)' % (mean(scores_matthews), std(scores_matthews)))"
      ],
      "metadata": {
        "colab": {
          "base_uri": "https://localhost:8080/"
        },
        "id": "C-_kXijK4TDx",
        "outputId": "a27d5342-5d54-458d-eb45-a2874f42ce7f"
      },
      "execution_count": null,
      "outputs": [
        {
          "output_type": "stream",
          "name": "stdout",
          "text": [
            "\n",
            "Maximum Accuracy That can be obtained from this model is: 76.88442211055276 %\n",
            "\n",
            "Minimum Accuracy: 67.8391959798995 %\n",
            "\n",
            "Overall Accuracy: 72.14014302280634 %\n",
            "\n",
            "Standard Deviation is: 0.018193620443311336\n",
            "F1: 0.454 (0.025)\n",
            "Matthews: 0.354 (0.050)\n"
          ]
        }
      ]
    },
    {
      "cell_type": "code",
      "source": [
        "def evaluate_model(X, y, repeats):\n",
        " cv = RepeatedKFold(n_splits=10, n_repeats=repeats, random_state=1)\n",
        " model = KNeighborsClassifier(n_neighbors=38)\n",
        " scores_knn_5 = cross_val_score(model, poverty_features, income_factors_target, scoring='f1_macro', cv=cv, n_jobs=-1)\n",
        " return scores_knn_5\n",
        "repeats = range(1,16)\n",
        "results_knn_5 = list()\n",
        "for r in repeats:\n",
        " scores_knn_5 = evaluate_model(poverty_features, income_factors_target, r)\n",
        " print('>%d f1=%.4f se=%.3f' % (r, mean(scores_knn_5), sem(scores_knn_5)))\n",
        " results_knn_5.append(scores_knn_5)\n",
        "\n",
        "plt.boxplot(results_knn_5, labels=[str(r) for r in repeats], showmeans=True)\n",
        "plt.show()"
      ],
      "metadata": {
        "colab": {
          "base_uri": "https://localhost:8080/",
          "height": 703
        },
        "id": "JoUFaoXP4Rax",
        "outputId": "7c68682c-e920-414e-f78f-d20379e605f2"
      },
      "execution_count": null,
      "outputs": [
        {
          "output_type": "stream",
          "name": "stdout",
          "text": [
            ">1 f1=0.4525 se=0.009\n",
            ">2 f1=0.4503 se=0.007\n",
            ">3 f1=0.4511 se=0.005\n",
            ">4 f1=0.4543 se=0.004\n",
            ">5 f1=0.4540 se=0.003\n",
            ">6 f1=0.4546 se=0.003\n",
            ">7 f1=0.4560 se=0.003\n",
            ">8 f1=0.4560 se=0.003\n",
            ">9 f1=0.4552 se=0.003\n",
            ">10 f1=0.4545 se=0.003\n",
            ">11 f1=0.4538 se=0.003\n",
            ">12 f1=0.4535 se=0.002\n",
            ">13 f1=0.4534 se=0.002\n",
            ">14 f1=0.4538 se=0.002\n",
            ">15 f1=0.4540 se=0.002\n"
          ]
        },
        {
          "output_type": "display_data",
          "data": {
            "text/plain": [
              "<Figure size 640x480 with 1 Axes>"
            ],
            "image/png": "[encoded data removed]"
          },
          "metadata": {}
        }
      ]
    },
    {
      "cell_type": "code",
      "source": [
        "cv_5 = RepeatedKFold(n_splits=10, n_repeats=8, random_state=1)\n",
        "scores_f1 = cross_val_score(classifier_5, poverty_features, poverty_target, scoring='f1_macro', cv=cv_5, n_jobs=-1)\n",
        "print('F1: %.3f (%.3f)' % (mean(scores_f1), std(scores_f1)))\n",
        "scores_matthews = cross_val_score(classifier_5, poverty_features, poverty_target, scoring='matthews_corrcoef', cv=cv_5, n_jobs=-1)\n",
        "print('Matthews: %.3f (%.3f)' % (mean(scores_matthews), std(scores_matthews)))"
      ],
      "metadata": {
        "colab": {
          "base_uri": "https://localhost:8080/"
        },
        "id": "uTqkxzwt4uFR",
        "outputId": "efcfef10-4ce7-4d4a-b878-7db56bb57d2f"
      },
      "execution_count": null,
      "outputs": [
        {
          "output_type": "stream",
          "name": "stdout",
          "text": [
            "F1: 0.456 (0.028)\n",
            "Matthews: 0.358 (0.056)\n"
          ]
        }
      ]
    },
    {
      "cell_type": "markdown",
      "source": [
        "# Group 6: Education"
      ],
      "metadata": {
        "id": "GYGdNofQ6-yC"
      }
    },
    {
      "cell_type": "code",
      "source": [
        "education_features = education.iloc[:, :-1]\n",
        "education_target = education.iloc[:, -1]\n",
        "X_train_6, X_test_6, Y_train_6, Y_test_6 = train_test_split(education_features, education_target, test_size=0.2, random_state=1)\n",
        "\n",
        "classifier_6 = KNeighborsClassifier(n_neighbors=4)\n",
        "classifier_6.fit(X_train_6, Y_train_6)\n",
        "\n",
        "#Starting f1 is 0.46, starting MCC is 0.27\n",
        "\n",
        "y_pred_6 = classifier_6.predict(X_test_6)\n",
        "print(classification_report(Y_test_6, y_pred_6))\n",
        "print('Matthews:',matthews_corrcoef(Y_test_6, y_pred_6))\n",
        "\n"
      ],
      "metadata": {
        "colab": {
          "base_uri": "https://localhost:8080/"
        },
        "id": "wLF8XfRP7KdM",
        "outputId": "a2d95bd0-148c-4a3f-f902-fd3b3be0b8a2"
      },
      "execution_count": null,
      "outputs": [
        {
          "output_type": "stream",
          "name": "stdout",
          "text": [
            "              precision    recall  f1-score   support\n",
            "\n",
            "        High       0.37      0.47      0.41        62\n",
            "         Low       0.76      0.86      0.81       270\n",
            "      Medium       0.39      0.10      0.16        67\n",
            "\n",
            "    accuracy                           0.67       399\n",
            "   macro avg       0.51      0.48      0.46       399\n",
            "weighted avg       0.64      0.67      0.64       399\n",
            "\n",
            "Matthews: 0.2709155728783489\n"
          ]
        }
      ]
    },
    {
      "cell_type": "code",
      "source": [
        "def evaluate_model(X, y, repeats):\n",
        " cv = RepeatedStratifiedKFold(n_splits=10, n_repeats=repeats, random_state=1)\n",
        " model = KNeighborsClassifier(n_neighbors=4)\n",
        " scores_knn_6 = cross_val_score(model, education_features, education_target, scoring='f1_macro', cv=cv, n_jobs=-1)\n",
        " return scores_knn_6\n",
        "repeats = range(1,16)\n",
        "results_knn_6 = list()\n",
        "for r in repeats:\n",
        " scores_knn_6 = evaluate_model(education_features, education_target, r)\n",
        " print('>%d f1=%.4f se=%.3f' % (r, mean(scores_knn_6), sem(scores_knn_6)))\n",
        " results_knn_6.append(scores_knn_6)\n",
        "\n",
        "plt.boxplot(results_knn_6, labels=[str(r) for r in repeats], showmeans=True)\n",
        "plt.show()"
      ],
      "metadata": {
        "colab": {
          "base_uri": "https://localhost:8080/",
          "height": 702
        },
        "id": "aYPIIwYd7jKd",
        "outputId": "f19970a3-2a3e-4669-97b3-44da48bbc0f9"
      },
      "execution_count": null,
      "outputs": [
        {
          "output_type": "stream",
          "name": "stdout",
          "text": [
            ">1 f1=0.4422 se=0.009\n",
            ">2 f1=0.4469 se=0.007\n",
            ">3 f1=0.4464 se=0.006\n",
            ">4 f1=0.4484 se=0.005\n",
            ">5 f1=0.4463 se=0.004\n",
            ">6 f1=0.4463 se=0.004\n",
            ">7 f1=0.4461 se=0.004\n",
            ">8 f1=0.4476 se=0.004\n",
            ">9 f1=0.4478 se=0.004\n",
            ">10 f1=0.4478 se=0.003\n",
            ">11 f1=0.4475 se=0.003\n",
            ">12 f1=0.4469 se=0.003\n",
            ">13 f1=0.4457 se=0.003\n",
            ">14 f1=0.4452 se=0.003\n",
            ">15 f1=0.4444 se=0.003\n"
          ]
        },
        {
          "output_type": "display_data",
          "data": {
            "text/plain": [
              "<Figure size 640x480 with 1 Axes>"
            ],
            "image/png": "[encoded data removed]"
          },
          "metadata": {}
        }
      ]
    },
    {
      "cell_type": "code",
      "source": [
        "classifier_sk_6 = KNeighborsClassifier(n_neighbors=4)\n",
        "skf_knn_6 = RepeatedStratifiedKFold(n_splits=10, n_repeats=13, random_state=1)\n",
        "lst_accu_stratified = []\n",
        "\n",
        "for train_index, test_index in skf_knn_6.split(education_features, education_target):\n",
        "    x_train_fold, x_test_fold = education_features.iloc[train_index], education_features.iloc[test_index]\n",
        "    y_train_fold, y_test_fold = education_target[train_index], education_target[test_index]\n",
        "    classifier_sk_6.fit(x_train_fold, y_train_fold)\n",
        "    y_pred = classifier_sk_6.predict(x_test_fold)\n",
        "    lst_accu_stratified.append(classifier_sk_6.score(x_test_fold, y_test_fold))\n",
        "\n",
        "print('\\nMaximum Accuracy That can be obtained from this model is:',\n",
        "      max(lst_accu_stratified)*100, '%')\n",
        "print('\\nMinimum Accuracy:',\n",
        "      min(lst_accu_stratified)*100, '%')\n",
        "print('\\nOverall Accuracy:',\n",
        "      mean(lst_accu_stratified)*100, '%')\n",
        "print('\\nStandard Deviation is:', std(lst_accu_stratified))\n",
        "scores_f1 = cross_val_score(classifier_sk_6, education_features, education_target, scoring='f1_macro', cv=skf_knn_6, n_jobs=-1)\n",
        "print('F1: %.3f (%.3f)' % (mean(scores_f1), std(scores_f1)))\n",
        "scores_matthews = cross_val_score(classifier_sk_6, education_features, education_target, scoring='matthews_corrcoef', cv=skf_knn_6, n_jobs=-1)\n",
        "print('Matthews: %.3f (%.3f)' % (mean(scores_matthews), std(scores_matthews)))"
      ],
      "metadata": {
        "colab": {
          "base_uri": "https://localhost:8080/"
        },
        "id": "aN-QZUCH75jI",
        "outputId": "6f09613f-9ed3-4ee0-e3ed-2e5ff31ca564"
      },
      "execution_count": null,
      "outputs": [
        {
          "output_type": "stream",
          "name": "stdout",
          "text": [
            "\n",
            "Maximum Accuracy That can be obtained from this model is: 72.8643216080402 %\n",
            "\n",
            "Minimum Accuracy: 61.0 %\n",
            "\n",
            "Overall Accuracy: 65.68556242752223 %\n",
            "\n",
            "Standard Deviation is: 0.021351717517144497\n",
            "F1: 0.446 (0.033)\n",
            "Matthews: 0.251 (0.050)\n"
          ]
        }
      ]
    },
    {
      "cell_type": "code",
      "source": [
        "def evaluate_model(X, y, repeats):\n",
        " cv = RepeatedKFold(n_splits=10, n_repeats=repeats, random_state=1)\n",
        " model = KNeighborsClassifier(n_neighbors=4)\n",
        " scores_knn_6 = cross_val_score(model, education_features, education_target, scoring='f1_macro', cv=cv, n_jobs=-1)\n",
        " return scores_knn_6\n",
        "repeats = range(1,16)\n",
        "results_knn_6 = list()\n",
        "for r in repeats:\n",
        " scores_knn_6 = evaluate_model(education_features, education_target, r)\n",
        " print('>%d f1=%.4f se=%.3f' % (r, mean(scores_knn_6), sem(scores_knn_6)))\n",
        " results_knn_6.append(scores_knn_6)\n",
        "\n",
        "plt.boxplot(results_knn_6, labels=[str(r) for r in repeats], showmeans=True)\n",
        "plt.show()"
      ],
      "metadata": {
        "colab": {
          "base_uri": "https://localhost:8080/",
          "height": 702
        },
        "id": "mHDVPBrD7xbt",
        "outputId": "122539ad-ff33-4ccc-88c9-d497d7aa85df"
      },
      "execution_count": null,
      "outputs": [
        {
          "output_type": "stream",
          "name": "stdout",
          "text": [
            ">1 f1=0.4526 se=0.008\n",
            ">2 f1=0.4472 se=0.005\n",
            ">3 f1=0.4438 se=0.005\n",
            ">4 f1=0.4454 se=0.005\n",
            ">5 f1=0.4448 se=0.004\n",
            ">6 f1=0.4439 se=0.004\n",
            ">7 f1=0.4435 se=0.003\n",
            ">8 f1=0.4432 se=0.003\n",
            ">9 f1=0.4432 se=0.003\n",
            ">10 f1=0.4430 se=0.003\n",
            ">11 f1=0.4430 se=0.003\n",
            ">12 f1=0.4436 se=0.003\n",
            ">13 f1=0.4440 se=0.003\n",
            ">14 f1=0.4439 se=0.003\n",
            ">15 f1=0.4440 se=0.003\n"
          ]
        },
        {
          "output_type": "display_data",
          "data": {
            "text/plain": [
              "<Figure size 640x480 with 1 Axes>"
            ],
            "image/png": "[encoded data removed]"
          },
          "metadata": {}
        }
      ]
    },
    {
      "cell_type": "code",
      "source": [
        "cv_6 = RepeatedKFold(n_splits=10, n_repeats=9, random_state=1)\n",
        "scores_f1 = cross_val_score(classifier_6, education_features, education_target, scoring='f1_macro', cv=cv_6, n_jobs=-1)\n",
        "print('F1: %.3f (%.3f)' % (mean(scores_f1), std(scores_f1)))\n",
        "scores_matthews = cross_val_score(classifier_6, education_features, education_target, scoring='matthews_corrcoef', cv=cv_6, n_jobs=-1)\n",
        "print('Matthews: %.3f (%.3f)' % (mean(scores_matthews), std(scores_matthews)))"
      ],
      "metadata": {
        "colab": {
          "base_uri": "https://localhost:8080/"
        },
        "id": "5dQPh9s_8Vjo",
        "outputId": "e2ad7a31-72ff-4f89-b363-f4c5052fb9eb"
      },
      "execution_count": null,
      "outputs": [
        {
          "output_type": "stream",
          "name": "stdout",
          "text": [
            "F1: 0.443 (0.031)\n",
            "Matthews: 0.249 (0.052)\n"
          ]
        }
      ]
    },
    {
      "cell_type": "markdown",
      "source": [
        "# Group 7: Employment"
      ],
      "metadata": {
        "id": "xKjpDuWX8kKf"
      }
    },
    {
      "cell_type": "code",
      "source": [
        "employment_features = employment.iloc[:, :-1]\n",
        "employment_target = employment.iloc[:, -1]\n",
        "X_train_7, X_test_7, Y_train_7, Y_test_7 = train_test_split(employment_features, employment_target, test_size=0.2, random_state=1)"
      ],
      "metadata": {
        "id": "sX-njjrY8__1"
      },
      "execution_count": null,
      "outputs": []
    },
    {
      "cell_type": "code",
      "source": [
        "classifier_7 = KNeighborsClassifier(n_neighbors=30)\n",
        "classifier_7.fit(X_train_7, Y_train_7)\n",
        "\n",
        "#Starting f1 is 0.44, starting MCC is 0.29\n",
        "\n",
        "y_pred_7 = classifier_7.predict(X_test_7)\n",
        "print(classification_report(Y_test_7, y_pred_7))\n",
        "print('Matthews:',matthews_corrcoef(Y_test_7, y_pred_7))"
      ],
      "metadata": {
        "colab": {
          "base_uri": "https://localhost:8080/"
        },
        "id": "eFLkSF8s9C-V",
        "outputId": "0ef51c0d-5bd3-492a-9a55-d063edb71858"
      },
      "execution_count": null,
      "outputs": [
        {
          "output_type": "stream",
          "name": "stdout",
          "text": [
            "              precision    recall  f1-score   support\n",
            "\n",
            "        High       0.39      0.47      0.43        62\n",
            "         Low       0.76      0.90      0.83       270\n",
            "      Medium       0.40      0.03      0.06        67\n",
            "\n",
            "    accuracy                           0.69       399\n",
            "   macro avg       0.52      0.47      0.44       399\n",
            "weighted avg       0.64      0.69      0.64       399\n",
            "\n",
            "Matthews: 0.29096995493742384\n"
          ]
        }
      ]
    },
    {
      "cell_type": "code",
      "source": [
        "def evaluate_model(X, y, repeats):\n",
        " cv = RepeatedStratifiedKFold(n_splits=10, n_repeats=repeats, random_state=1)\n",
        " model = KNeighborsClassifier(n_neighbors=30)\n",
        " scores_knn_7 = cross_val_score(model, employment_features, employment_target, scoring='f1_macro', cv=cv, n_jobs=-1)\n",
        " return scores_knn_7\n",
        "repeats = range(1,16)\n",
        "results_knn_7 = list()\n",
        "for r in repeats:\n",
        " scores_knn_7 = evaluate_model(employment_features, employment_target, r)\n",
        " print('>%d f1=%.4f se=%.3f' % (r, mean(scores_knn_7), sem(scores_knn_7)))\n",
        " results_knn_7.append(scores_knn_7)\n",
        "\n",
        "plt.boxplot(results_knn_7, labels=[str(r) for r in repeats], showmeans=True)\n",
        "plt.show()"
      ],
      "metadata": {
        "colab": {
          "base_uri": "https://localhost:8080/",
          "height": 702
        },
        "id": "wTc5m_WG9SgZ",
        "outputId": "93526b8f-0d79-4e10-fc97-0adc159b4484"
      },
      "execution_count": null,
      "outputs": [
        {
          "output_type": "stream",
          "name": "stdout",
          "text": [
            ">1 f1=0.4271 se=0.012\n",
            ">2 f1=0.4294 se=0.010\n",
            ">3 f1=0.4263 se=0.007\n",
            ">4 f1=0.4229 se=0.007\n",
            ">5 f1=0.4231 se=0.006\n",
            ">6 f1=0.4233 se=0.005\n",
            ">7 f1=0.4224 se=0.004\n",
            ">8 f1=0.4215 se=0.004\n",
            ">9 f1=0.4216 se=0.004\n",
            ">10 f1=0.4216 se=0.004\n",
            ">11 f1=0.4213 se=0.003\n",
            ">12 f1=0.4214 se=0.003\n",
            ">13 f1=0.4216 se=0.003\n",
            ">14 f1=0.4213 se=0.003\n",
            ">15 f1=0.4201 se=0.003\n"
          ]
        },
        {
          "output_type": "display_data",
          "data": {
            "text/plain": [
              "<Figure size 640x480 with 1 Axes>"
            ],
            "image/png": "[encoded data removed]"
          },
          "metadata": {}
        }
      ]
    },
    {
      "cell_type": "code",
      "source": [
        "classifier_sk_7 = KNeighborsClassifier(n_neighbors=30)\n",
        "skf_knn_7 = RepeatedStratifiedKFold(n_splits=10, n_repeats=13, random_state=1)\n",
        "lst_accu_stratified = []\n",
        "\n",
        "for train_index, test_index in skf_knn_7.split(employment_features, employment_target):\n",
        "    x_train_fold, x_test_fold = employment_features.iloc[train_index], employment_features.iloc[test_index]\n",
        "    y_train_fold, y_test_fold = employment_target[train_index], employment_target[test_index]\n",
        "    classifier_sk_7.fit(x_train_fold, y_train_fold)\n",
        "    y_pred = classifier_sk_7.predict(x_test_fold)\n",
        "    lst_accu_stratified.append(classifier_sk_7.score(x_test_fold, y_test_fold))\n",
        "\n",
        "print('\\nMaximum Accuracy That can be obtained from this model is:',\n",
        "      max(lst_accu_stratified)*100, '%')\n",
        "print('\\nMinimum Accuracy:',\n",
        "      min(lst_accu_stratified)*100, '%')\n",
        "print('\\nOverall Accuracy:',\n",
        "      mean(lst_accu_stratified)*100, '%')\n",
        "print('\\nStandard Deviation is:', std(lst_accu_stratified))\n",
        "scores_f1 = cross_val_score(classifier_sk_7, employment_features, employment_target, scoring='f1_macro', cv=skf_knn_7, n_jobs=-1)\n",
        "print('F1: %.3f (%.3f)' % (mean(scores_f1), std(scores_f1)))\n",
        "scores_matthews = cross_val_score(classifier_sk_7, employment_features, employment_target, scoring='matthews_corrcoef', cv=skf_knn_7, n_jobs=-1)\n",
        "print('Matthews: %.3f (%.3f)' % (mean(scores_matthews), std(scores_matthews)))"
      ],
      "metadata": {
        "colab": {
          "base_uri": "https://localhost:8080/"
        },
        "id": "2jJp08QC9meh",
        "outputId": "ca65c649-15d5-46ef-ba21-fcab14c587db"
      },
      "execution_count": null,
      "outputs": [
        {
          "output_type": "stream",
          "name": "stdout",
          "text": [
            "\n",
            "Maximum Accuracy That can be obtained from this model is: 74.5 %\n",
            "\n",
            "Minimum Accuracy: 64.321608040201 %\n",
            "\n",
            "Overall Accuracy: 69.11894085813684 %\n",
            "\n",
            "Standard Deviation is: 0.021260400887543388\n",
            "F1: 0.422 (0.034)\n",
            "Matthews: 0.268 (0.060)\n"
          ]
        }
      ]
    },
    {
      "cell_type": "code",
      "source": [
        "def evaluate_model(X, y, repeats):\n",
        " cv = RepeatedKFold(n_splits=10, n_repeats=repeats, random_state=1)\n",
        " model = KNeighborsClassifier(n_neighbors=30)\n",
        " scores_knn_7 = cross_val_score(model, employment_features, employment_target, scoring='f1_macro', cv=cv, n_jobs=-1)\n",
        " return scores_knn_7\n",
        "repeats = range(1,16)\n",
        "results_knn_7 = list()\n",
        "for r in repeats:\n",
        " scores_knn_7 = evaluate_model(employment_features, employment_target, r)\n",
        " print('>%d f1=%.4f se=%.3f' % (r, mean(scores_knn_7), sem(scores_knn_7)))\n",
        " results_knn_7.append(scores_knn_7)\n",
        "\n",
        "plt.boxplot(results_knn_7, labels=[str(r) for r in repeats], showmeans=True)\n",
        "plt.show()"
      ],
      "metadata": {
        "colab": {
          "base_uri": "https://localhost:8080/",
          "height": 702
        },
        "id": "jSshxUi89ipl",
        "outputId": "8fef6eb4-f9f6-42bb-9ded-c1a56989ed61"
      },
      "execution_count": null,
      "outputs": [
        {
          "output_type": "stream",
          "name": "stdout",
          "text": [
            ">1 f1=0.4215 se=0.006\n",
            ">2 f1=0.4229 se=0.006\n",
            ">3 f1=0.4224 se=0.005\n",
            ">4 f1=0.4219 se=0.005\n",
            ">5 f1=0.4227 se=0.005\n",
            ">6 f1=0.4239 se=0.004\n",
            ">7 f1=0.4226 se=0.004\n",
            ">8 f1=0.4220 se=0.004\n",
            ">9 f1=0.4223 se=0.004\n",
            ">10 f1=0.4212 se=0.003\n",
            ">11 f1=0.4213 se=0.003\n",
            ">12 f1=0.4212 se=0.003\n",
            ">13 f1=0.4213 se=0.003\n",
            ">14 f1=0.4219 se=0.003\n",
            ">15 f1=0.4219 se=0.003\n"
          ]
        },
        {
          "output_type": "display_data",
          "data": {
            "text/plain": [
              "<Figure size 640x480 with 1 Axes>"
            ],
            "image/png": "[encoded data removed]"
          },
          "metadata": {}
        }
      ]
    },
    {
      "cell_type": "code",
      "source": [
        "cv_7 = RepeatedKFold(n_splits=10, n_repeats=13, random_state=1)\n",
        "scores_f1 = cross_val_score(classifier_7, employment_features, employment_target, scoring='f1_macro', cv=cv_7, n_jobs=-1)\n",
        "print('F1: %.3f (%.3f)' % (mean(scores_f1), std(scores_f1)))\n",
        "scores_matthews = cross_val_score(classifier_7, employment_features, employment_target, scoring='matthews_corrcoef', cv=cv_7, n_jobs=-1)\n",
        "print('Matthews: %.3f (%.3f)' % (mean(scores_matthews), std(scores_matthews)))"
      ],
      "metadata": {
        "colab": {
          "base_uri": "https://localhost:8080/"
        },
        "id": "A0DxarHT-BXW",
        "outputId": "e19953d8-27d9-42b3-9a23-7d0a40186634"
      },
      "execution_count": null,
      "outputs": [
        {
          "output_type": "stream",
          "name": "stdout",
          "text": [
            "F1: 0.421 (0.034)\n",
            "Matthews: 0.269 (0.055)\n"
          ]
        }
      ]
    },
    {
      "cell_type": "markdown",
      "source": [
        "# Group 8: Marriage Factors"
      ],
      "metadata": {
        "id": "wdpzN6Dl-0Zb"
      }
    },
    {
      "cell_type": "code",
      "source": [
        "marriage_factors_features = marriage_factors.iloc[:, :-1]\n",
        "marriage_factors_target = marriage_factors.iloc[:, -1]\n",
        "X_train_8, X_test_8, Y_train_8, Y_test_8 = train_test_split(marriage_factors_features, marriage_factors_target, test_size=0.2, random_state=1)\n",
        "\n",
        "classifier_8 = KNeighborsClassifier(n_neighbors=20)\n",
        "classifier_8.fit(X_train_8, Y_train_8)\n",
        "\n",
        "#Starting f1 is 0.48, starting MCC is 0.37\n",
        "\n",
        "y_pred_8 = classifier_8.predict(X_test_8)\n",
        "print(classification_report(Y_test_8, y_pred_8))\n",
        "print('Matthews:',matthews_corrcoef(Y_test_8, y_pred_8))"
      ],
      "metadata": {
        "colab": {
          "base_uri": "https://localhost:8080/"
        },
        "id": "XZx7rYb1-9B1",
        "outputId": "05b7c927-df6f-492f-860b-f67d29623d0e"
      },
      "execution_count": null,
      "outputs": [
        {
          "output_type": "stream",
          "name": "stdout",
          "text": [
            "              precision    recall  f1-score   support\n",
            "\n",
            "        High       0.50      0.63      0.56        62\n",
            "         Low       0.77      0.91      0.84       270\n",
            "      Medium       1.00      0.03      0.06        67\n",
            "\n",
            "    accuracy                           0.72       399\n",
            "   macro avg       0.76      0.52      0.48       399\n",
            "weighted avg       0.77      0.72      0.66       399\n",
            "\n",
            "Matthews: 0.37001572975359515\n"
          ]
        }
      ]
    },
    {
      "cell_type": "code",
      "source": [
        "def evaluate_model(X, y, repeats):\n",
        " cv = RepeatedStratifiedKFold(n_splits=10, n_repeats=repeats, random_state=1)\n",
        " model = KNeighborsClassifier(n_neighbors=20)\n",
        " scores_knn_8 = cross_val_score(model, marriage_factors_features, marriage_factors_target, scoring='f1_macro', cv=cv, n_jobs=-1)\n",
        " return scores_knn_8\n",
        "repeats = range(1,16)\n",
        "results_knn_8 = list()\n",
        "for r in repeats:\n",
        " scores_knn_8 = evaluate_model(marriage_factors_features, marriage_factors_target, r)\n",
        " print('>%d f1=%.4f se=%.3f' % (r, mean(scores_knn_8), sem(scores_knn_8)))\n",
        " results_knn_8.append(scores_knn_8)\n",
        "\n",
        "plt.boxplot(results_knn_8, labels=[str(r) for r in repeats], showmeans=True)\n",
        "plt.show()"
      ],
      "metadata": {
        "colab": {
          "base_uri": "https://localhost:8080/",
          "height": 702
        },
        "id": "hKvdryzJ_VLN",
        "outputId": "e1053322-7f89-4f20-e1d1-0033ef23d0c4"
      },
      "execution_count": null,
      "outputs": [
        {
          "output_type": "stream",
          "name": "stdout",
          "text": [
            ">1 f1=0.4538 se=0.007\n",
            ">2 f1=0.4520 se=0.008\n",
            ">3 f1=0.4513 se=0.006\n",
            ">4 f1=0.4501 se=0.005\n",
            ">5 f1=0.4500 se=0.004\n",
            ">6 f1=0.4509 se=0.004\n",
            ">7 f1=0.4508 se=0.003\n",
            ">8 f1=0.4505 se=0.003\n",
            ">9 f1=0.4509 se=0.003\n",
            ">10 f1=0.4503 se=0.003\n",
            ">11 f1=0.4509 se=0.003\n",
            ">12 f1=0.4513 se=0.002\n",
            ">13 f1=0.4519 se=0.002\n",
            ">14 f1=0.4520 se=0.002\n",
            ">15 f1=0.4518 se=0.002\n"
          ]
        },
        {
          "output_type": "display_data",
          "data": {
            "text/plain": [
              "<Figure size 640x480 with 1 Axes>"
            ],
            "image/png": "[encoded data removed]"
          },
          "metadata": {}
        }
      ]
    },
    {
      "cell_type": "code",
      "source": [
        "classifier_sk_8 = KNeighborsClassifier(n_neighbors=20)\n",
        "skf_knn_8 = RepeatedStratifiedKFold(n_splits=10, n_repeats=12, random_state=1)\n",
        "lst_accu_stratified = []\n",
        "\n",
        "for train_index, test_index in skf_knn_8.split(marriage_factors_features, marriage_factors_target):\n",
        "    x_train_fold, x_test_fold = marriage_factors_features.iloc[train_index], marriage_factors_features.iloc[test_index]\n",
        "    y_train_fold, y_test_fold = marriage_factors_target[train_index], marriage_factors_target[test_index]\n",
        "    classifier_sk_8.fit(x_train_fold, y_train_fold)\n",
        "    y_pred = classifier_sk_8.predict(x_test_fold)\n",
        "    lst_accu_stratified.append(classifier_sk_8.score(x_test_fold, y_test_fold))\n",
        "\n",
        "print('\\nMaximum Accuracy That can be obtained from this model is:',\n",
        "      max(lst_accu_stratified)*100, '%')\n",
        "print('\\nMinimum Accuracy:',\n",
        "      min(lst_accu_stratified)*100, '%')\n",
        "print('\\nOverall Accuracy:',\n",
        "      mean(lst_accu_stratified)*100, '%')\n",
        "print('\\nStandard Deviation is:', std(lst_accu_stratified))\n",
        "scores_f1 = cross_val_score(classifier_sk_8, marriage_factors_features, marriage_factors_target, scoring='f1_macro', cv=skf_knn_8, n_jobs=-1)\n",
        "print('F1: %.3f (%.3f)' % (mean(scores_f1), std(scores_f1)))\n",
        "scores_matthews = cross_val_score(classifier_sk_8, marriage_factors_features, marriage_factors_target, scoring='matthews_corrcoef', cv=skf_knn_8, n_jobs=-1)\n",
        "print('Matthews: %.3f (%.3f)' % (mean(scores_matthews), std(scores_matthews)))"
      ],
      "metadata": {
        "colab": {
          "base_uri": "https://localhost:8080/"
        },
        "id": "bPuWSKkF_k6i",
        "outputId": "526af97b-9c9a-463a-8c2f-f4f78e71e915"
      },
      "execution_count": null,
      "outputs": [
        {
          "output_type": "stream",
          "name": "stdout",
          "text": [
            "\n",
            "Maximum Accuracy That can be obtained from this model is: 76.38190954773869 %\n",
            "\n",
            "Minimum Accuracy: 64.0 %\n",
            "\n",
            "Overall Accuracy: 71.14744556113902 %\n",
            "\n",
            "Standard Deviation is: 0.020901999072405007\n",
            "F1: 0.451 (0.027)\n",
            "Matthews: 0.337 (0.054)\n"
          ]
        }
      ]
    },
    {
      "cell_type": "code",
      "source": [
        "def evaluate_model(X, y, repeats):\n",
        " cv = RepeatedKFold(n_splits=10, n_repeats=repeats, random_state=1)\n",
        " model = KNeighborsClassifier(n_neighbors=20)\n",
        " scores_knn_8 = cross_val_score(model, marriage_factors_features, marriage_factors_target, scoring='f1_macro', cv=cv, n_jobs=-1)\n",
        " return scores_knn_8\n",
        "repeats = range(1,16)\n",
        "results_knn_8 = list()\n",
        "for r in repeats:\n",
        " scores_knn_8 = evaluate_model(marriage_factors_features, marriage_factors_target, r)\n",
        " print('>%d f1=%.4f se=%.3f' % (r, mean(scores_knn_8), sem(scores_knn_8)))\n",
        " results_knn_8.append(scores_knn_8)\n",
        "\n",
        "plt.boxplot(results_knn_8, labels=[str(r) for r in repeats], showmeans=True)\n",
        "plt.show()"
      ],
      "metadata": {
        "colab": {
          "base_uri": "https://localhost:8080/",
          "height": 702
        },
        "id": "H1ZoxWi1_gfP",
        "outputId": "e66e1da3-d460-49ac-8976-e7dafcf78d44"
      },
      "execution_count": null,
      "outputs": [
        {
          "output_type": "stream",
          "name": "stdout",
          "text": [
            ">1 f1=0.4470 se=0.008\n",
            ">2 f1=0.4445 se=0.005\n",
            ">3 f1=0.4457 se=0.004\n",
            ">4 f1=0.4481 se=0.004\n",
            ">5 f1=0.4479 se=0.003\n",
            ">6 f1=0.4469 se=0.003\n",
            ">7 f1=0.4493 se=0.003\n",
            ">8 f1=0.4491 se=0.003\n",
            ">9 f1=0.4494 se=0.003\n",
            ">10 f1=0.4500 se=0.003\n",
            ">11 f1=0.4505 se=0.003\n",
            ">12 f1=0.4508 se=0.003\n",
            ">13 f1=0.4508 se=0.003\n",
            ">14 f1=0.4505 se=0.002\n",
            ">15 f1=0.4501 se=0.002\n"
          ]
        },
        {
          "output_type": "display_data",
          "data": {
            "text/plain": [
              "<Figure size 640x480 with 1 Axes>"
            ],
            "image/png": "[encoded data removed]"
          },
          "metadata": {}
        }
      ]
    },
    {
      "cell_type": "code",
      "source": [
        "cv_8 = RepeatedKFold(n_splits=10, n_repeats=8, random_state=1)\n",
        "scores_f1 = cross_val_score(classifier_8, marriage_factors_features, marriage_factors_target, scoring='f1_macro', cv=cv_8, n_jobs=-1)\n",
        "print('F1: %.3f (%.3f)' % (mean(scores_f1), std(scores_f1)))\n",
        "scores_matthews = cross_val_score(classifier_8, marriage_factors_features, marriage_factors_target, scoring='matthews_corrcoef', cv=cv_8, n_jobs=-1)\n",
        "print('Matthews: %.3f (%.3f)' % (mean(scores_matthews), std(scores_matthews)))"
      ],
      "metadata": {
        "colab": {
          "base_uri": "https://localhost:8080/"
        },
        "id": "iLAXmGZ0_7CU",
        "outputId": "b0c5ea9c-441f-49fc-ba95-680a96faebbe"
      },
      "execution_count": null,
      "outputs": [
        {
          "output_type": "stream",
          "name": "stdout",
          "text": [
            "F1: 0.449 (0.026)\n",
            "Matthews: 0.334 (0.057)\n"
          ]
        }
      ]
    },
    {
      "cell_type": "markdown",
      "source": [
        "# Group 9: Domestic Factors"
      ],
      "metadata": {
        "id": "I1FQ5UrlAfBG"
      }
    },
    {
      "cell_type": "code",
      "source": [
        "domestic_factors_features = domestic_factors.iloc[:, :-1]\n",
        "domestic_factors_target = domestic_factors.iloc[:, -1]\n",
        "X_train_9, X_test_9, Y_train_9, Y_test_9 = train_test_split(domestic_factors_features, domestic_factors_target, test_size=0.2, random_state=1)\n",
        "\n",
        "classifier_9 = KNeighborsClassifier(n_neighbors=9)\n",
        "classifier_9.fit(X_train_9, Y_train_9)\n",
        "\n",
        "#Starting f1 is 0.57, starting MCC is 0.48\n",
        "\n",
        "y_pred_9 = classifier_9.predict(X_test_9)\n",
        "print(classification_report(Y_test_9, y_pred_9))\n",
        "print('Matthews:',matthews_corrcoef(Y_test_9, y_pred_9))"
      ],
      "metadata": {
        "colab": {
          "base_uri": "https://localhost:8080/"
        },
        "id": "BWqIYWwUAm0E",
        "outputId": "42e74bd7-96b4-4109-ea77-f49efffafbe8"
      },
      "execution_count": null,
      "outputs": [
        {
          "output_type": "stream",
          "name": "stdout",
          "text": [
            "              precision    recall  f1-score   support\n",
            "\n",
            "        High       0.58      0.69      0.63        62\n",
            "         Low       0.82      0.93      0.87       270\n",
            "      Medium       0.45      0.13      0.21        67\n",
            "\n",
            "    accuracy                           0.76       399\n",
            "   macro avg       0.62      0.59      0.57       399\n",
            "weighted avg       0.72      0.76      0.72       399\n",
            "\n",
            "Matthews: 0.47572260642453373\n"
          ]
        }
      ]
    },
    {
      "cell_type": "code",
      "source": [
        "def evaluate_model(X, y, repeats):\n",
        " cv = RepeatedStratifiedKFold(n_splits=10, n_repeats=repeats, random_state=1)\n",
        " model = KNeighborsClassifier(n_neighbors=9)\n",
        " scores_knn_9 = cross_val_score(model,domestic_factors_features, domestic_factors_target, scoring='f1_macro', cv=cv, n_jobs=-1)\n",
        " return scores_knn_9\n",
        "repeats = range(1,16)\n",
        "results_knn_9 = list()\n",
        "for r in repeats:\n",
        " scores_knn_9 = evaluate_model(domestic_factors_features, domestic_factors_target, r)\n",
        " print('>%d f1=%.4f se=%.3f' % (r, mean(scores_knn_9), sem(scores_knn_9)))\n",
        " results_knn_9.append(scores_knn_9)\n",
        "\n",
        "plt.boxplot(results_knn_9, labels=[str(r) for r in repeats], showmeans=True)\n",
        "plt.show()"
      ],
      "metadata": {
        "colab": {
          "base_uri": "https://localhost:8080/",
          "height": 706
        },
        "id": "TDq0R9T5A8XA",
        "outputId": "72e9c0c1-4953-40fa-facb-ca807d404b92"
      },
      "execution_count": null,
      "outputs": [
        {
          "output_type": "stream",
          "name": "stdout",
          "text": [
            ">1 f1=0.5725 se=0.010\n",
            ">2 f1=0.5777 se=0.007\n",
            ">3 f1=0.5772 se=0.006\n",
            ">4 f1=0.5774 se=0.005\n",
            ">5 f1=0.5769 se=0.005\n",
            ">6 f1=0.5759 se=0.004\n",
            ">7 f1=0.5776 se=0.004\n",
            ">8 f1=0.5773 se=0.004\n",
            ">9 f1=0.5779 se=0.004\n",
            ">10 f1=0.5781 se=0.003\n",
            ">11 f1=0.5786 se=0.003\n",
            ">12 f1=0.5787 se=0.003\n",
            ">13 f1=0.5788 se=0.003\n",
            ">14 f1=0.5788 se=0.003\n",
            ">15 f1=0.5788 se=0.003\n"
          ]
        },
        {
          "output_type": "display_data",
          "data": {
            "text/plain": [
              "<Figure size 640x480 with 1 Axes>"
            ],
            "image/png": "[encoded data removed]"
          },
          "metadata": {}
        }
      ]
    },
    {
      "cell_type": "code",
      "source": [
        "classifier_sk_9 = KNeighborsClassifier(n_neighbors=9)\n",
        "skf_knn_9 = RepeatedStratifiedKFold(n_splits=10, n_repeats=15, random_state=1)\n",
        "lst_accu_stratified = []\n",
        "\n",
        "for train_index, test_index in skf_knn_9.split(domestic_factors_features, domestic_factors_target):\n",
        "    x_train_fold, x_test_fold = domestic_factors_features.iloc[train_index], domestic_factors_features.iloc[test_index]\n",
        "    y_train_fold, y_test_fold = domestic_factors_target[train_index], domestic_factors_target[test_index]\n",
        "    classifier_sk_9.fit(x_train_fold, y_train_fold)\n",
        "    y_pred = classifier_sk_9.predict(x_test_fold)\n",
        "    lst_accu_stratified.append(classifier_sk_9.score(x_test_fold, y_test_fold))\n",
        "\n",
        "print('\\nMaximum Accuracy That can be obtained from this model is:',\n",
        "      max(lst_accu_stratified)*100, '%')\n",
        "print('\\nMinimum Accuracy:',\n",
        "      min(lst_accu_stratified)*100, '%')\n",
        "print('\\nOverall Accuracy:',\n",
        "      mean(lst_accu_stratified)*100, '%')\n",
        "print('\\nStandard Deviation is:', std(lst_accu_stratified))\n",
        "scores_f1 = cross_val_score(classifier_sk_9, domestic_factors_features, domestic_factors_target, scoring='f1_macro', cv=skf_knn_9, n_jobs=-1)\n",
        "print('F1: %.3f (%.3f)' % (mean(scores_f1), std(scores_f1)))\n",
        "scores_matthews = cross_val_score(classifier_sk_9, domestic_factors_features, domestic_factors_target, scoring='matthews_corrcoef', cv=skf_knn_9, n_jobs=-1)\n",
        "print('Matthews: %.3f (%.3f)' % (mean(scores_matthews), std(scores_matthews)))"
      ],
      "metadata": {
        "colab": {
          "base_uri": "https://localhost:8080/"
        },
        "id": "czOa6zZ0BSQ9",
        "outputId": "8a1739bd-3c06-4c5d-9b9e-9e43d50f8ab9"
      },
      "execution_count": null,
      "outputs": [
        {
          "output_type": "stream",
          "name": "stdout",
          "text": [
            "\n",
            "Maximum Accuracy That can be obtained from this model is: 81.90954773869346 %\n",
            "\n",
            "Minimum Accuracy: 72.5 %\n",
            "\n",
            "Overall Accuracy: 77.23874371859296 %\n",
            "\n",
            "Standard Deviation is: 0.018861096513088843\n",
            "F1: 0.579 (0.033)\n",
            "Matthews: 0.510 (0.043)\n"
          ]
        }
      ]
    },
    {
      "cell_type": "code",
      "source": [
        "def evaluate_model(X, y, repeats):\n",
        " cv = RepeatedKFold(n_splits=10, n_repeats=repeats, random_state=1)\n",
        " model = KNeighborsClassifier(n_neighbors=9)\n",
        " scores_knn_9 = cross_val_score(model,domestic_factors_features, domestic_factors_target, scoring='f1_macro', cv=cv, n_jobs=-1)\n",
        " return scores_knn_9\n",
        "repeats = range(1,16)\n",
        "results_knn_9 = list()\n",
        "for r in repeats:\n",
        " scores_knn_9 = evaluate_model(domestic_factors_features, domestic_factors_target, r)\n",
        " print('>%d f1=%.4f se=%.3f' % (r, mean(scores_knn_9), sem(scores_knn_9)))\n",
        " results_knn_9.append(scores_knn_9)\n",
        "\n",
        "plt.boxplot(results_knn_9, labels=[str(r) for r in repeats], showmeans=True)\n",
        "plt.show()"
      ],
      "metadata": {
        "colab": {
          "base_uri": "https://localhost:8080/",
          "height": 702
        },
        "id": "8fh9zMWqBMp4",
        "outputId": "d19c7d6b-e3ba-4859-bca6-ab5760818eab"
      },
      "execution_count": null,
      "outputs": [
        {
          "output_type": "stream",
          "name": "stdout",
          "text": [
            ">1 f1=0.5792 se=0.016\n",
            ">2 f1=0.5776 se=0.008\n",
            ">3 f1=0.5752 se=0.006\n",
            ">4 f1=0.5740 se=0.006\n",
            ">5 f1=0.5727 se=0.005\n",
            ">6 f1=0.5718 se=0.005\n",
            ">7 f1=0.5727 se=0.004\n",
            ">8 f1=0.5728 se=0.004\n",
            ">9 f1=0.5735 se=0.004\n",
            ">10 f1=0.5735 se=0.004\n",
            ">11 f1=0.5740 se=0.004\n",
            ">12 f1=0.5740 se=0.003\n",
            ">13 f1=0.5733 se=0.003\n",
            ">14 f1=0.5742 se=0.003\n",
            ">15 f1=0.5749 se=0.003\n"
          ]
        },
        {
          "output_type": "display_data",
          "data": {
            "text/plain": [
              "<Figure size 640x480 with 1 Axes>"
            ],
            "image/png": "[encoded data removed]"
          },
          "metadata": {}
        }
      ]
    },
    {
      "cell_type": "code",
      "source": [
        "cv_9 = RepeatedKFold(n_splits=10, n_repeats=12, random_state=1)\n",
        "scores_f1 = cross_val_score(classifier_9, domestic_factors_features, domestic_factors_target, scoring='f1_macro', cv=cv_9, n_jobs=-1)\n",
        "print('F1: %.3f (%.3f)' % (mean(scores_f1), std(scores_f1)))\n",
        "scores_matthews = cross_val_score(classifier_9, domestic_factors_features, domestic_factors_target, scoring='matthews_corrcoef', cv=cv_9, n_jobs=-1)\n",
        "print('Matthews: %.3f (%.3f)' % (mean(scores_matthews), std(scores_matthews)))"
      ],
      "metadata": {
        "colab": {
          "base_uri": "https://localhost:8080/"
        },
        "id": "H9Iv86edBo7H",
        "outputId": "2b6efe26-d21f-48a9-9929-8214e121bc5e"
      },
      "execution_count": null,
      "outputs": [
        {
          "output_type": "stream",
          "name": "stdout",
          "text": [
            "F1: 0.574 (0.037)\n",
            "Matthews: 0.507 (0.052)\n"
          ]
        }
      ]
    },
    {
      "cell_type": "markdown",
      "source": [
        "# Group 10: Immigration"
      ],
      "metadata": {
        "id": "QgG4r5_5CJvB"
      }
    },
    {
      "cell_type": "code",
      "source": [
        "immigration_features = immigration.iloc[:, :-1]\n",
        "immigration_target = immigration.iloc[:, -1]\n",
        "X_train_10, X_test_10, Y_train_10, Y_test_10 = train_test_split(immigration_features, immigration_target, test_size=0.2, random_state=1)\n",
        "\n",
        "classifier_10 = KNeighborsClassifier(n_neighbors=3)\n",
        "classifier_10.fit(X_train_10, Y_train_10)\n",
        "\n",
        "#Starting f1 is 0.44, starting MCC is 0.23\n",
        "\n",
        "y_pred_10 = classifier_10.predict(X_test_10)\n",
        "print(classification_report(Y_test_10, y_pred_10))\n",
        "print('Matthews:',matthews_corrcoef(Y_test_10, y_pred_10))"
      ],
      "metadata": {
        "colab": {
          "base_uri": "https://localhost:8080/"
        },
        "id": "igsAFoTvCPTw",
        "outputId": "5b634b48-658c-43af-8ae1-d4c9bb89a4e7"
      },
      "execution_count": null,
      "outputs": [
        {
          "output_type": "stream",
          "name": "stdout",
          "text": [
            "              precision    recall  f1-score   support\n",
            "\n",
            "        High       0.35      0.47      0.40        62\n",
            "         Low       0.75      0.82      0.79       270\n",
            "      Medium       0.30      0.09      0.14        67\n",
            "\n",
            "    accuracy                           0.64       399\n",
            "   macro avg       0.47      0.46      0.44       399\n",
            "weighted avg       0.61      0.64      0.62       399\n",
            "\n",
            "Matthews: 0.23009515476428155\n"
          ]
        }
      ]
    },
    {
      "cell_type": "code",
      "source": [
        "def evaluate_model(X, y, repeats):\n",
        " cv = RepeatedStratifiedKFold(n_splits=10, n_repeats=repeats, random_state=1)\n",
        " model = KNeighborsClassifier(n_neighbors=3)\n",
        " scores_knn_10 = cross_val_score(model, immigration_features, immigration_target, scoring='f1_macro', cv=cv, n_jobs=-1)\n",
        " return scores_knn_10\n",
        "repeats = range(1,16)\n",
        "results_knn_10 = list()\n",
        "for r in repeats:\n",
        " scores_knn_10 = evaluate_model(immigration_features, immigration_target, r)\n",
        " print('>%d f1=%.4f se=%.3f' % (r, mean(scores_knn_10), sem(scores_knn_10)))\n",
        " results_knn_10.append(scores_knn_10)\n",
        "\n",
        "plt.boxplot(results_knn_10, labels=[str(r) for r in repeats], showmeans=True)\n",
        "plt.show()"
      ],
      "metadata": {
        "colab": {
          "base_uri": "https://localhost:8080/",
          "height": 702
        },
        "id": "KFm-QU5yCuH0",
        "outputId": "d5bf8c9d-23a2-4c41-997a-e530287b0f5a"
      },
      "execution_count": null,
      "outputs": [
        {
          "output_type": "stream",
          "name": "stdout",
          "text": [
            ">1 f1=0.4075 se=0.013\n",
            ">2 f1=0.4068 se=0.008\n",
            ">3 f1=0.4066 se=0.006\n",
            ">4 f1=0.4052 se=0.006\n",
            ">5 f1=0.4064 se=0.005\n",
            ">6 f1=0.4076 se=0.005\n",
            ">7 f1=0.4080 se=0.005\n",
            ">8 f1=0.4075 se=0.004\n",
            ">9 f1=0.4081 se=0.004\n",
            ">10 f1=0.4072 se=0.004\n",
            ">11 f1=0.4089 se=0.004\n",
            ">12 f1=0.4094 se=0.004\n",
            ">13 f1=0.4091 se=0.003\n",
            ">14 f1=0.4090 se=0.003\n",
            ">15 f1=0.4092 se=0.003\n"
          ]
        },
        {
          "output_type": "display_data",
          "data": {
            "text/plain": [
              "<Figure size 640x480 with 1 Axes>"
            ],
            "image/png": "[encoded data removed]"
          },
          "metadata": {}
        }
      ]
    },
    {
      "cell_type": "code",
      "source": [
        "classifier_sk_10 = KNeighborsClassifier(n_neighbors=3)\n",
        "skf_knn_10 = RepeatedStratifiedKFold(n_splits=10, n_repeats=13, random_state=1)\n",
        "lst_accu_stratified = []\n",
        "\n",
        "for train_index, test_index in skf_knn_10.split(immigration_features, immigration_target):\n",
        "    x_train_fold, x_test_fold = immigration_features.iloc[train_index], immigration_features.iloc[test_index]\n",
        "    y_train_fold, y_test_fold = immigration_target[train_index], immigration_target[test_index]\n",
        "    classifier_sk_10.fit(x_train_fold, y_train_fold)\n",
        "    y_pred = classifier_sk_10.predict(x_test_fold)\n",
        "    lst_accu_stratified.append(classifier_sk_10.score(x_test_fold, y_test_fold))\n",
        "\n",
        "print('\\nMaximum Accuracy That can be obtained from this model is:',\n",
        "      max(lst_accu_stratified)*100, '%')\n",
        "print('\\nMinimum Accuracy:',\n",
        "      min(lst_accu_stratified)*100, '%')\n",
        "print('\\nOverall Accuracy:',\n",
        "      mean(lst_accu_stratified)*100, '%')\n",
        "print('\\nStandard Deviation is:', std(lst_accu_stratified))\n",
        "scores_f1 = cross_val_score(classifier_sk_10, immigration_features, immigration_target, scoring='f1_macro', cv=skf_knn_10, n_jobs=-1)\n",
        "print('F1: %.3f (%.3f)' % (mean(scores_f1), std(scores_f1)))\n",
        "scores_matthews = cross_val_score(classifier_sk_10, immigration_features, immigration_target, scoring='matthews_corrcoef', cv=skf_knn_10, n_jobs=-1)\n",
        "print('Matthews: %.3f (%.3f)' % (mean(scores_matthews), std(scores_matthews)))"
      ],
      "metadata": {
        "colab": {
          "base_uri": "https://localhost:8080/"
        },
        "id": "XHt2vRGaC_Hn",
        "outputId": "a6917951-94bf-4833-9709-d46808174af0"
      },
      "execution_count": null,
      "outputs": [
        {
          "output_type": "stream",
          "name": "stdout",
          "text": [
            "\n",
            "Maximum Accuracy That can be obtained from this model is: 67.33668341708542 %\n",
            "\n",
            "Minimum Accuracy: 51.5 %\n",
            "\n",
            "Overall Accuracy: 61.0713567839196 %\n",
            "\n",
            "Standard Deviation is: 0.03371851729693558\n",
            "F1: 0.409 (0.038)\n",
            "Matthews: 0.171 (0.067)\n"
          ]
        }
      ]
    },
    {
      "cell_type": "code",
      "source": [
        "def evaluate_model(X, y, repeats):\n",
        " cv = RepeatedKFold(n_splits=10, n_repeats=repeats, random_state=1)\n",
        " model = KNeighborsClassifier(n_neighbors=3)\n",
        " scores_knn_10 = cross_val_score(model, immigration_features, immigration_target, scoring='f1_macro', cv=cv, n_jobs=-1)\n",
        " return scores_knn_10\n",
        "repeats = range(1,16)\n",
        "results_knn_10 = list()\n",
        "for r in repeats:\n",
        " scores_knn_10 = evaluate_model(immigration_features, immigration_target, r)\n",
        " print('>%d f1=%.4f se=%.3f' % (r, mean(scores_knn_10), sem(scores_knn_10)))\n",
        " results_knn_10.append(scores_knn_10)\n",
        "\n",
        "plt.boxplot(results_knn_10, labels=[str(r) for r in repeats], showmeans=True)\n",
        "plt.show()"
      ],
      "metadata": {
        "colab": {
          "base_uri": "https://localhost:8080/",
          "height": 702
        },
        "id": "kmvhZjwUC6hf",
        "outputId": "39a32456-a270-4a89-8331-13a918f93d30"
      },
      "execution_count": null,
      "outputs": [
        {
          "output_type": "stream",
          "name": "stdout",
          "text": [
            ">1 f1=0.4107 se=0.010\n",
            ">2 f1=0.4113 se=0.007\n",
            ">3 f1=0.4105 se=0.006\n",
            ">4 f1=0.4096 se=0.006\n",
            ">5 f1=0.4091 se=0.005\n",
            ">6 f1=0.4100 se=0.005\n",
            ">7 f1=0.4098 se=0.004\n",
            ">8 f1=0.4094 se=0.004\n",
            ">9 f1=0.4077 se=0.004\n",
            ">10 f1=0.4074 se=0.003\n",
            ">11 f1=0.4071 se=0.003\n",
            ">12 f1=0.4071 se=0.003\n",
            ">13 f1=0.4073 se=0.003\n",
            ">14 f1=0.4079 se=0.003\n",
            ">15 f1=0.4084 se=0.003\n"
          ]
        },
        {
          "output_type": "display_data",
          "data": {
            "text/plain": [
              "<Figure size 640x480 with 1 Axes>"
            ],
            "image/png": "[encoded data removed]"
          },
          "metadata": {}
        }
      ]
    },
    {
      "cell_type": "code",
      "source": [
        "cv_10 = RepeatedKFold(n_splits=10, n_repeats=10, random_state=1)\n",
        "scores_f1 = cross_val_score(classifier_10, immigration_features, immigration_target, scoring='f1_macro', cv=cv_10, n_jobs=-1)\n",
        "print('F1: %.3f (%.3f)' % (mean(scores_f1), std(scores_f1)))\n",
        "scores_matthews = cross_val_score(classifier_10, immigration_features, immigration_target, scoring='matthews_corrcoef', cv=cv_10, n_jobs=-1)\n",
        "print('Matthews: %.3f (%.3f)' % (mean(scores_matthews), std(scores_matthews)))"
      ],
      "metadata": {
        "colab": {
          "base_uri": "https://localhost:8080/"
        },
        "id": "5jBeWJsADQpT",
        "outputId": "9b11ab6b-3c26-43c0-be67-5ec8d3ed3a17"
      },
      "execution_count": null,
      "outputs": [
        {
          "output_type": "stream",
          "name": "stdout",
          "text": [
            "F1: 0.407 (0.033)\n",
            "Matthews: 0.174 (0.056)\n"
          ]
        }
      ]
    },
    {
      "cell_type": "markdown",
      "source": [
        "# Group 11: English Proficiency\n",
        "\n"
      ],
      "metadata": {
        "id": "XEQh6A5REJkJ"
      }
    },
    {
      "cell_type": "code",
      "source": [
        "english_proficiency_features = english_proficiency.iloc[:, :-1]\n",
        "english_proficiency_target = english_proficiency.iloc[:, -1]\n",
        "X_train_11, X_test_11, Y_train_11, Y_test_11 = train_test_split(english_proficiency_features, english_proficiency_target, test_size=0.2, random_state=1)\n",
        "\n",
        "classifier_11 = KNeighborsClassifier(n_neighbors=7)\n",
        "classifier_11.fit(X_train_11, Y_train_11)\n",
        "\n",
        "#Starting f1 is 0.42, starting MCC is 0.20\n",
        "\n",
        "y_pred_11 = classifier_11.predict(X_test_11)\n",
        "print(classification_report(Y_test_11, y_pred_11))\n",
        "print('Matthews:',matthews_corrcoef(Y_test_11, y_pred_11))"
      ],
      "metadata": {
        "colab": {
          "base_uri": "https://localhost:8080/"
        },
        "id": "bhQebNVJESb1",
        "outputId": "d85f8967-b32b-4e6d-f527-80a8bb3418b7"
      },
      "execution_count": null,
      "outputs": [
        {
          "output_type": "stream",
          "name": "stdout",
          "text": [
            "              precision    recall  f1-score   support\n",
            "\n",
            "        High       0.37      0.32      0.34        62\n",
            "         Low       0.73      0.89      0.80       270\n",
            "      Medium       0.29      0.07      0.12        67\n",
            "\n",
            "    accuracy                           0.66       399\n",
            "   macro avg       0.46      0.43      0.42       399\n",
            "weighted avg       0.60      0.66      0.61       399\n",
            "\n",
            "Matthews: 0.20002387427440038\n"
          ]
        }
      ]
    },
    {
      "cell_type": "code",
      "source": [
        "def evaluate_model(X, y, repeats):\n",
        " cv = RepeatedStratifiedKFold(n_splits=10, n_repeats=repeats, random_state=1)\n",
        " model = KNeighborsClassifier(n_neighbors=7)\n",
        " scores_knn_11 = cross_val_score(model, english_proficiency_features, english_proficiency_target, scoring='f1_macro', cv=cv, n_jobs=-1)\n",
        " return scores_knn_11\n",
        "repeats = range(1,16)\n",
        "results_knn_11 = list()\n",
        "for r in repeats:\n",
        " scores_knn_11 = evaluate_model(english_proficiency_features, english_proficiency_target, r)\n",
        " print('>%d f1=%.4f se=%.3f' % (r, mean(scores_knn_11), sem(scores_knn_11)))\n",
        " results_knn_11.append(scores_knn_11)\n",
        "\n",
        "plt.boxplot(results_knn_11, labels=[str(r) for r in repeats], showmeans=True)\n",
        "plt.show()"
      ],
      "metadata": {
        "colab": {
          "base_uri": "https://localhost:8080/",
          "height": 702
        },
        "id": "U3oE-k05EkVX",
        "outputId": "d413e357-c4db-4376-c28e-74cce7f77263"
      },
      "execution_count": null,
      "outputs": [
        {
          "output_type": "stream",
          "name": "stdout",
          "text": [
            ">1 f1=0.3922 se=0.011\n",
            ">2 f1=0.3969 se=0.007\n",
            ">3 f1=0.3930 se=0.006\n",
            ">4 f1=0.3907 se=0.005\n",
            ">5 f1=0.3966 se=0.005\n",
            ">6 f1=0.3936 se=0.005\n",
            ">7 f1=0.3926 se=0.004\n",
            ">8 f1=0.3928 se=0.004\n",
            ">9 f1=0.3935 se=0.004\n",
            ">10 f1=0.3942 se=0.004\n",
            ">11 f1=0.3931 se=0.003\n",
            ">12 f1=0.3931 se=0.003\n",
            ">13 f1=0.3921 se=0.003\n",
            ">14 f1=0.3918 se=0.003\n",
            ">15 f1=0.3913 se=0.003\n"
          ]
        },
        {
          "output_type": "display_data",
          "data": {
            "text/plain": [
              "<Figure size 640x480 with 1 Axes>"
            ],
            "image/png": "[encoded data removed]"
          },
          "metadata": {}
        }
      ]
    },
    {
      "cell_type": "code",
      "source": [
        "classifier_sk_11 = KNeighborsClassifier(n_neighbors=7)\n",
        "skf_knn_11 = RepeatedStratifiedKFold(n_splits=10, n_repeats=11, random_state=1)\n",
        "lst_accu_stratified = []\n",
        "\n",
        "for train_index, test_index in skf_knn_11.split(english_proficiency_features, english_proficiency_target):\n",
        "    x_train_fold, x_test_fold = english_proficiency_features.iloc[train_index], english_proficiency_features.iloc[test_index]\n",
        "    y_train_fold, y_test_fold = english_proficiency_target[train_index], english_proficiency_target[test_index]\n",
        "    classifier_sk_11.fit(x_train_fold, y_train_fold)\n",
        "    y_pred = classifier_sk_11.predict(x_test_fold)\n",
        "    lst_accu_stratified.append(classifier_sk_11.score(x_test_fold, y_test_fold))\n",
        "\n",
        "print('\\nMaximum Accuracy That can be obtained from this model is:',\n",
        "      max(lst_accu_stratified)*100, '%')\n",
        "print('\\nMinimum Accuracy:',\n",
        "      min(lst_accu_stratified)*100, '%')\n",
        "print('\\nOverall Accuracy:',\n",
        "      mean(lst_accu_stratified)*100, '%')\n",
        "print('\\nStandard Deviation is:', std(lst_accu_stratified))\n",
        "scores_f1 = cross_val_score(classifier_sk_11, english_proficiency_features, english_proficiency_target, scoring='f1_macro', cv=skf_knn_11, n_jobs=-1)\n",
        "print('F1: %.3f (%.3f)' % (mean(scores_f1), std(scores_f1)))\n",
        "scores_matthews = cross_val_score(classifier_sk_11, english_proficiency_features, english_proficiency_target, scoring='matthews_corrcoef', cv=skf_knn_11, n_jobs=-1)\n",
        "print('Matthews: %.3f (%.3f)' % (mean(scores_matthews), std(scores_matthews)))"
      ],
      "metadata": {
        "colab": {
          "base_uri": "https://localhost:8080/"
        },
        "id": "3Mtc9RHDFOZF",
        "outputId": "6eb5511e-4888-4960-ae7e-905870b4d446"
      },
      "execution_count": null,
      "outputs": [
        {
          "output_type": "stream",
          "name": "stdout",
          "text": [
            "\n",
            "Maximum Accuracy That can be obtained from this model is: 69.0 %\n",
            "\n",
            "Minimum Accuracy: 56.78391959798995 %\n",
            "\n",
            "Overall Accuracy: 64.52476016445867 %\n",
            "\n",
            "Standard Deviation is: 0.02438029690011901\n",
            "F1: 0.393 (0.036)\n",
            "Matthews: 0.163 (0.057)\n"
          ]
        }
      ]
    },
    {
      "cell_type": "code",
      "source": [
        "def evaluate_model(X, y, repeats):\n",
        " cv = RepeatedKFold(n_splits=10, n_repeats=repeats, random_state=1)\n",
        " model = KNeighborsClassifier(n_neighbors=7)\n",
        " scores_knn_11 = cross_val_score(model, english_proficiency_features, english_proficiency_target, scoring='f1_macro', cv=cv, n_jobs=-1)\n",
        " return scores_knn_11\n",
        "repeats = range(1,16)\n",
        "results_knn_11 = list()\n",
        "for r in repeats:\n",
        " scores_knn_11 = evaluate_model(english_proficiency_features, english_proficiency_target, r)\n",
        " print('>%d f1=%.4f se=%.3f' % (r, mean(scores_knn_11), sem(scores_knn_11)))\n",
        " results_knn_11.append(scores_knn_11)\n",
        "\n",
        "plt.boxplot(results_knn_11, labels=[str(r) for r in repeats], showmeans=True)\n",
        "plt.show()"
      ],
      "metadata": {
        "colab": {
          "base_uri": "https://localhost:8080/",
          "height": 702
        },
        "id": "TmugZn2GFBUQ",
        "outputId": "aa0d4ac0-b0e9-4c00-a5e8-9deaefd24a0d"
      },
      "execution_count": null,
      "outputs": [
        {
          "output_type": "stream",
          "name": "stdout",
          "text": [
            ">1 f1=0.3943 se=0.012\n",
            ">2 f1=0.3867 se=0.010\n",
            ">3 f1=0.3835 se=0.008\n",
            ">4 f1=0.3851 se=0.006\n",
            ">5 f1=0.3834 se=0.005\n",
            ">6 f1=0.3835 se=0.005\n",
            ">7 f1=0.3821 se=0.004\n",
            ">8 f1=0.3838 se=0.004\n",
            ">9 f1=0.3862 se=0.004\n",
            ">10 f1=0.3860 se=0.003\n",
            ">11 f1=0.3877 se=0.003\n",
            ">12 f1=0.3886 se=0.003\n",
            ">13 f1=0.3882 se=0.003\n",
            ">14 f1=0.3884 se=0.003\n",
            ">15 f1=0.3887 se=0.003\n"
          ]
        },
        {
          "output_type": "display_data",
          "data": {
            "text/plain": [
              "<Figure size 640x480 with 1 Axes>"
            ],
            "image/png": "[encoded data removed]"
          },
          "metadata": {}
        }
      ]
    },
    {
      "cell_type": "code",
      "source": [
        "cv_11 = RepeatedKFold(n_splits=10, n_repeats=13, random_state=1)\n",
        "scores_f1 = cross_val_score(classifier_11, english_proficiency_features, english_proficiency_target, scoring='f1_macro', cv=cv_11, n_jobs=-1)\n",
        "print('F1: %.3f (%.3f)' % (mean(scores_f1), std(scores_f1)))\n",
        "scores_matthews = cross_val_score(classifier_11, english_proficiency_features, english_proficiency_target, scoring='matthews_corrcoef', cv=cv_11, n_jobs=-1)\n",
        "print('Matthews: %.3f (%.3f)' % (mean(scores_matthews), std(scores_matthews)))"
      ],
      "metadata": {
        "colab": {
          "base_uri": "https://localhost:8080/"
        },
        "id": "TpLNfzmAFsk0",
        "outputId": "2bd4f098-a0e8-4cea-ff30-6c7685c6f4af"
      },
      "execution_count": null,
      "outputs": [
        {
          "output_type": "stream",
          "name": "stdout",
          "text": [
            "F1: 0.388 (0.034)\n",
            "Matthews: 0.155 (0.055)\n"
          ]
        }
      ]
    },
    {
      "cell_type": "markdown",
      "source": [
        "# Group 12: Housing Factors"
      ],
      "metadata": {
        "id": "OA2w2B6lHGNx"
      }
    },
    {
      "cell_type": "code",
      "source": [
        "housing_factors_features = housing_factors.iloc[:, :-1]\n",
        "housing_factors_target = housing_factors.iloc[:, -1]\n",
        "X_train_12, X_test_12, Y_train_12, Y_test_12 = train_test_split(housing_factors_features, housing_factors_target, test_size=0.2, random_state=1)\n",
        "\n",
        "classifier_12 = KNeighborsClassifier(n_neighbors=12)\n",
        "classifier_12.fit(X_train_12, Y_train_12)\n",
        "\n",
        "#Starting f1 is 0.58, starting MCC is 0.48\n",
        "\n",
        "y_pred_12 = classifier_12.predict(X_test_12)\n",
        "print(classification_report(Y_test_12, y_pred_12))\n",
        "print('Matthews:',matthews_corrcoef(Y_test_12, y_pred_12))"
      ],
      "metadata": {
        "colab": {
          "base_uri": "https://localhost:8080/"
        },
        "id": "qtqtI1CkHMNK",
        "outputId": "04120020-0091-47d6-9469-947746f7a508"
      },
      "execution_count": null,
      "outputs": [
        {
          "output_type": "stream",
          "name": "stdout",
          "text": [
            "              precision    recall  f1-score   support\n",
            "\n",
            "        High       0.59      0.68      0.63        62\n",
            "         Low       0.83      0.93      0.87       270\n",
            "      Medium       0.42      0.15      0.22        67\n",
            "\n",
            "    accuracy                           0.76       399\n",
            "   macro avg       0.61      0.59      0.58       399\n",
            "weighted avg       0.72      0.76      0.73       399\n",
            "\n",
            "Matthews: 0.47505750255066576\n"
          ]
        }
      ]
    },
    {
      "cell_type": "code",
      "source": [
        "def evaluate_model(X, y, repeats):\n",
        " cv = RepeatedStratifiedKFold(n_splits=10, n_repeats=repeats, random_state=1)\n",
        " model = KNeighborsClassifier(n_neighbors=12)\n",
        " scores_knn_12 = cross_val_score(model, housing_factors_features, housing_factors_target, scoring='f1_macro', cv=cv, n_jobs=-1)\n",
        " return scores_knn_12\n",
        "repeats = range(1,16)\n",
        "results_knn_12 = list()\n",
        "for r in repeats:\n",
        " scores_knn_12 = evaluate_model(housing_factors_features, housing_factors_target, r)\n",
        " print('>%d f1=%.4f se=%.3f' % (r, mean(scores_knn_12), sem(scores_knn_12)))\n",
        " results_knn_12.append(scores_knn_12)\n",
        "\n",
        "plt.boxplot(results_knn_12, labels=[str(r) for r in repeats], showmeans=True)\n",
        "plt.show()"
      ],
      "metadata": {
        "colab": {
          "base_uri": "https://localhost:8080/",
          "height": 702
        },
        "id": "b8c6sNarHoZx",
        "outputId": "b7768b9f-e8ec-48ff-d64d-9db8b46c5d39"
      },
      "execution_count": null,
      "outputs": [
        {
          "output_type": "stream",
          "name": "stdout",
          "text": [
            ">1 f1=0.5400 se=0.009\n",
            ">2 f1=0.5456 se=0.008\n",
            ">3 f1=0.5426 se=0.006\n",
            ">4 f1=0.5424 se=0.006\n",
            ">5 f1=0.5413 se=0.005\n",
            ">6 f1=0.5421 se=0.004\n",
            ">7 f1=0.5441 se=0.004\n",
            ">8 f1=0.5430 se=0.004\n",
            ">9 f1=0.5431 se=0.004\n",
            ">10 f1=0.5435 se=0.004\n",
            ">11 f1=0.5428 se=0.003\n",
            ">12 f1=0.5423 se=0.003\n",
            ">13 f1=0.5421 se=0.003\n",
            ">14 f1=0.5421 se=0.003\n",
            ">15 f1=0.5418 se=0.003\n"
          ]
        },
        {
          "output_type": "display_data",
          "data": {
            "text/plain": [
              "<Figure size 640x480 with 1 Axes>"
            ],
            "image/png": "[encoded data removed]"
          },
          "metadata": {}
        }
      ]
    },
    {
      "cell_type": "code",
      "source": [
        "classifier_sk_12 = KNeighborsClassifier(n_neighbors=12)\n",
        "skf_knn_12 = RepeatedStratifiedKFold(n_splits=10, n_repeats=12, random_state=1)\n",
        "lst_accu_stratified = []\n",
        "\n",
        "for train_index, test_index in skf_knn_12.split(housing_factors_features, housing_factors_target):\n",
        "    x_train_fold, x_test_fold = housing_factors_features.iloc[train_index], housing_factors_features.iloc[test_index]\n",
        "    y_train_fold, y_test_fold = housing_factors_target[train_index], housing_factors_target[test_index]\n",
        "    classifier_sk_12.fit(x_train_fold, y_train_fold)\n",
        "    y_pred = classifier_sk_12.predict(x_test_fold)\n",
        "    lst_accu_stratified.append(classifier_sk_12.score(x_test_fold, y_test_fold))\n",
        "\n",
        "print('\\nMaximum Accuracy That can be obtained from this model is:',\n",
        "      max(lst_accu_stratified)*100, '%')\n",
        "print('\\nMinimum Accuracy:',\n",
        "      min(lst_accu_stratified)*100, '%')\n",
        "print('\\nOverall Accuracy:',\n",
        "      mean(lst_accu_stratified)*100, '%')\n",
        "print('\\nStandard Deviation is:', std(lst_accu_stratified))\n",
        "scores_f1 = cross_val_score(classifier_sk_12, housing_factors_features, housing_factors_target, scoring='f1_macro', cv=skf_knn_12, n_jobs=-1)\n",
        "print('F1: %.3f (%.3f)' % (mean(scores_f1), std(scores_f1)))\n",
        "scores_matthews = cross_val_score(classifier_sk_12, housing_factors_features, housing_factors_target, scoring='matthews_corrcoef', cv=skf_knn_12, n_jobs=-1)\n",
        "print('Matthews: %.3f (%.3f)' % (mean(scores_matthews), std(scores_matthews)))"
      ],
      "metadata": {
        "colab": {
          "base_uri": "https://localhost:8080/"
        },
        "id": "60bTq78WIO2-",
        "outputId": "598526ee-642d-430f-b2b3-b953c7f33bc4"
      },
      "execution_count": null,
      "outputs": [
        {
          "output_type": "stream",
          "name": "stdout",
          "text": [
            "\n",
            "Maximum Accuracy That can be obtained from this model is: 79.39698492462311 %\n",
            "\n",
            "Minimum Accuracy: 70.5 %\n",
            "\n",
            "Overall Accuracy: 75.27604690117252 %\n",
            "\n",
            "Standard Deviation is: 0.02087136036046615\n",
            "F1: 0.542 (0.036)\n",
            "Matthews: 0.460 (0.050)\n"
          ]
        }
      ]
    },
    {
      "cell_type": "code",
      "source": [
        "def evaluate_model(X, y, repeats):\n",
        " cv = RepeatedKFold(n_splits=10, n_repeats=repeats, random_state=1)\n",
        " model = KNeighborsClassifier(n_neighbors=12)\n",
        " scores_knn_12 = cross_val_score(model, housing_factors_features, housing_factors_target, scoring='f1_macro', cv=cv, n_jobs=-1)\n",
        " return scores_knn_12\n",
        "repeats = range(1,16)\n",
        "results_knn_12 = list()\n",
        "for r in repeats:\n",
        " scores_knn_12 = evaluate_model(housing_factors_features, housing_factors_target, r)\n",
        " print('>%d f1=%.4f se=%.3f' % (r, mean(scores_knn_12), sem(scores_knn_12)))\n",
        " results_knn_12.append(scores_knn_12)\n",
        "\n",
        "plt.boxplot(results_knn_12, labels=[str(r) for r in repeats], showmeans=True)\n",
        "plt.show()"
      ],
      "metadata": {
        "colab": {
          "base_uri": "https://localhost:8080/",
          "height": 703
        },
        "id": "zxmF-_pnII61",
        "outputId": "bb336fa4-aa53-416a-aad2-81762520faa0"
      },
      "execution_count": null,
      "outputs": [
        {
          "output_type": "stream",
          "name": "stdout",
          "text": [
            ">1 f1=0.5372 se=0.011\n",
            ">2 f1=0.5397 se=0.008\n",
            ">3 f1=0.5383 se=0.007\n",
            ">4 f1=0.5376 se=0.006\n",
            ">5 f1=0.5366 se=0.005\n",
            ">6 f1=0.5368 se=0.005\n",
            ">7 f1=0.5366 se=0.004\n",
            ">8 f1=0.5380 se=0.004\n",
            ">9 f1=0.5362 se=0.004\n",
            ">10 f1=0.5352 se=0.004\n",
            ">11 f1=0.5363 se=0.004\n",
            ">12 f1=0.5359 se=0.003\n",
            ">13 f1=0.5358 se=0.003\n",
            ">14 f1=0.5361 se=0.003\n",
            ">15 f1=0.5360 se=0.003\n"
          ]
        },
        {
          "output_type": "display_data",
          "data": {
            "text/plain": [
              "<Figure size 640x480 with 1 Axes>"
            ],
            "image/png": "[encoded data removed]"
          },
          "metadata": {}
        }
      ]
    },
    {
      "cell_type": "code",
      "source": [
        "cv_12 = RepeatedKFold(n_splits=10, n_repeats=11, random_state=1)\n",
        "scores_f1 = cross_val_score(classifier_12, housing_factors_features, housing_factors_target, scoring='f1_macro', cv=cv_12, n_jobs=-1)\n",
        "print('F1: %.3f (%.3f)' % (mean(scores_f1), std(scores_f1)))\n",
        "scores_matthews = cross_val_score(classifier_12, housing_factors_features, housing_factors_target, scoring='matthews_corrcoef', cv=cv_12, n_jobs=-1)\n",
        "print('Matthews: %.3f (%.3f)' % (mean(scores_matthews), std(scores_matthews)))"
      ],
      "metadata": {
        "colab": {
          "base_uri": "https://localhost:8080/"
        },
        "id": "4qxW7GafIoZf",
        "outputId": "a0aadf6b-8bf6-40ab-d131-05d6f95967f3"
      },
      "execution_count": null,
      "outputs": [
        {
          "output_type": "stream",
          "name": "stdout",
          "text": [
            "F1: 0.536 (0.038)\n",
            "Matthews: 0.453 (0.056)\n"
          ]
        }
      ]
    },
    {
      "cell_type": "markdown",
      "source": [
        "# Group 13: Housing Cost"
      ],
      "metadata": {
        "id": "4gIkxitSJaxw"
      }
    },
    {
      "cell_type": "code",
      "source": [
        "housing_cost_features = housing_cost.iloc[:, :-1]\n",
        "housing_cost_target = housing_cost.iloc[:, -1]\n",
        "X_train_13, X_test_13, Y_train_13, Y_test_13 = train_test_split(housing_cost_features, housing_cost_target, test_size=0.2, random_state=1)\n",
        "\n",
        "classifier_13 = KNeighborsClassifier(n_neighbors=3)\n",
        "classifier_13.fit(X_train_13, Y_train_13)\n",
        "\n",
        "#Starting f1 is 0.44, starting MCC is 0.23\n",
        "\n",
        "y_pred_13 = classifier_13.predict(X_test_13)\n",
        "print(classification_report(Y_test_13, y_pred_13))\n",
        "print('Matthews:',matthews_corrcoef(Y_test_13, y_pred_13))"
      ],
      "metadata": {
        "colab": {
          "base_uri": "https://localhost:8080/"
        },
        "id": "_XPOT7XLJf_C",
        "outputId": "7a1d34fa-7117-4165-9e3e-598f5a3e96bf"
      },
      "execution_count": null,
      "outputs": [
        {
          "output_type": "stream",
          "name": "stdout",
          "text": [
            "              precision    recall  f1-score   support\n",
            "\n",
            "        High       0.29      0.47      0.36        62\n",
            "         Low       0.79      0.77      0.78       270\n",
            "      Medium       0.26      0.13      0.18        67\n",
            "\n",
            "    accuracy                           0.62       399\n",
            "   macro avg       0.45      0.46      0.44       399\n",
            "weighted avg       0.62      0.62      0.61       399\n",
            "\n",
            "Matthews: 0.2346146708032485\n"
          ]
        }
      ]
    },
    {
      "cell_type": "code",
      "source": [
        "def evaluate_model(X, y, repeats):\n",
        " cv = RepeatedStratifiedKFold(n_splits=10, n_repeats=repeats, random_state=1)\n",
        " model = KNeighborsClassifier(n_neighbors=3)\n",
        " scores_knn_13 = cross_val_score(model, housing_cost_features, housing_cost_target, scoring='f1_macro', cv=cv, n_jobs=-1)\n",
        " return scores_knn_13\n",
        "repeats = range(1,16)\n",
        "results_knn_13 = list()\n",
        "for r in repeats:\n",
        " scores_knn_13 = evaluate_model(housing_cost_features, housing_cost_target, r)\n",
        " print('>%d f1=%.4f se=%.3f' % (r, mean(scores_knn_13), sem(scores_knn_13)))\n",
        " results_knn_13.append(scores_knn_13)\n",
        "\n",
        "plt.boxplot(results_knn_13, labels=[str(r) for r in repeats], showmeans=True)\n",
        "plt.show()"
      ],
      "metadata": {
        "colab": {
          "base_uri": "https://localhost:8080/",
          "height": 702
        },
        "id": "iJmGnJmOJ2mO",
        "outputId": "9fcd4c44-8335-4eba-82ea-30d8311c00bb"
      },
      "execution_count": null,
      "outputs": [
        {
          "output_type": "stream",
          "name": "stdout",
          "text": [
            ">1 f1=0.4378 se=0.011\n",
            ">2 f1=0.4398 se=0.006\n",
            ">3 f1=0.4380 se=0.005\n",
            ">4 f1=0.4401 se=0.004\n",
            ">5 f1=0.4405 se=0.004\n",
            ">6 f1=0.4393 se=0.004\n",
            ">7 f1=0.4402 se=0.004\n",
            ">8 f1=0.4399 se=0.003\n",
            ">9 f1=0.4389 se=0.003\n",
            ">10 f1=0.4376 se=0.003\n",
            ">11 f1=0.4382 se=0.003\n",
            ">12 f1=0.4374 se=0.003\n",
            ">13 f1=0.4371 se=0.003\n",
            ">14 f1=0.4371 se=0.003\n",
            ">15 f1=0.4375 se=0.003\n"
          ]
        },
        {
          "output_type": "display_data",
          "data": {
            "text/plain": [
              "<Figure size 640x480 with 1 Axes>"
            ],
            "image/png": "[encoded data removed]"
          },
          "metadata": {}
        }
      ]
    },
    {
      "cell_type": "code",
      "source": [
        "classifier_sk_13 = KNeighborsClassifier(n_neighbors=3)\n",
        "skf_knn_13 = RepeatedStratifiedKFold(n_splits=10, n_repeats=10, random_state=1)\n",
        "lst_accu_stratified = []\n",
        "\n",
        "for train_index, test_index in skf_knn_13.split(housing_cost_features, housing_cost_target):\n",
        "    x_train_fold, x_test_fold = housing_cost_features.iloc[train_index], housing_cost_features.iloc[test_index]\n",
        "    y_train_fold, y_test_fold = housing_cost_target[train_index], housing_cost_target[test_index]\n",
        "    classifier_sk_13.fit(x_train_fold, y_train_fold)\n",
        "    y_pred = classifier_sk_13.predict(x_test_fold)\n",
        "    lst_accu_stratified.append(classifier_sk_13.score(x_test_fold, y_test_fold))\n",
        "\n",
        "print('\\nMaximum Accuracy That can be obtained from this model is:',\n",
        "      max(lst_accu_stratified)*100, '%')\n",
        "print('\\nMinimum Accuracy:',\n",
        "      min(lst_accu_stratified)*100, '%')\n",
        "print('\\nOverall Accuracy:',\n",
        "      mean(lst_accu_stratified)*100, '%')\n",
        "print('\\nStandard Deviation is:', std(lst_accu_stratified))\n",
        "scores_f1 = cross_val_score(classifier_sk_13, housing_cost_features, housing_cost_target, scoring='f1_macro', cv=skf_knn_13, n_jobs=-1)\n",
        "print('F1: %.3f (%.3f)' % (mean(scores_f1), std(scores_f1)))\n",
        "scores_matthews = cross_val_score(classifier_sk_13, housing_cost_features, housing_cost_target, scoring='matthews_corrcoef', cv=skf_knn_13, n_jobs=-1)\n",
        "print('Matthews: %.3f (%.3f)' % (mean(scores_matthews), std(scores_matthews)))"
      ],
      "metadata": {
        "colab": {
          "base_uri": "https://localhost:8080/"
        },
        "id": "JbZZslDtKHSH",
        "outputId": "a516734c-38e7-46d8-d66f-e05a94907ad4"
      },
      "execution_count": null,
      "outputs": [
        {
          "output_type": "stream",
          "name": "stdout",
          "text": [
            "\n",
            "Maximum Accuracy That can be obtained from this model is: 69.34673366834171 %\n",
            "\n",
            "Minimum Accuracy: 58.5 %\n",
            "\n",
            "Overall Accuracy: 63.25057788944724 %\n",
            "\n",
            "Standard Deviation is: 0.023761699303002717\n",
            "F1: 0.438 (0.029)\n",
            "Matthews: 0.243 (0.048)\n"
          ]
        }
      ]
    },
    {
      "cell_type": "code",
      "source": [
        "def evaluate_model(X, y, repeats):\n",
        " cv = RepeatedKFold(n_splits=10, n_repeats=repeats, random_state=1)\n",
        " model = KNeighborsClassifier(n_neighbors=3)\n",
        " scores_knn_13 = cross_val_score(model, housing_cost_features, housing_cost_target, scoring='f1_macro', cv=cv, n_jobs=-1)\n",
        " return scores_knn_13\n",
        "repeats = range(1,16)\n",
        "results_knn_13 = list()\n",
        "for r in repeats:\n",
        " scores_knn_13 = evaluate_model(housing_cost_features, housing_cost_target, r)\n",
        " print('>%d f1=%.4f se=%.3f' % (r, mean(scores_knn_13), sem(scores_knn_13)))\n",
        " results_knn_13.append(scores_knn_13)\n",
        "\n",
        "plt.boxplot(results_knn_13, labels=[str(r) for r in repeats], showmeans=True)\n",
        "plt.show()"
      ],
      "metadata": {
        "colab": {
          "base_uri": "https://localhost:8080/",
          "height": 702
        },
        "id": "LFiwaArEKB71",
        "outputId": "99f5ec16-b3f5-440a-f99b-9218b765b0fd"
      },
      "execution_count": null,
      "outputs": [
        {
          "output_type": "stream",
          "name": "stdout",
          "text": [
            ">1 f1=0.4278 se=0.008\n",
            ">2 f1=0.4336 se=0.006\n",
            ">3 f1=0.4319 se=0.005\n",
            ">4 f1=0.4338 se=0.004\n",
            ">5 f1=0.4339 se=0.004\n",
            ">6 f1=0.4328 se=0.004\n",
            ">7 f1=0.4333 se=0.003\n",
            ">8 f1=0.4334 se=0.003\n",
            ">9 f1=0.4342 se=0.003\n",
            ">10 f1=0.4333 se=0.003\n",
            ">11 f1=0.4339 se=0.003\n",
            ">12 f1=0.4347 se=0.003\n",
            ">13 f1=0.4340 se=0.003\n",
            ">14 f1=0.4335 se=0.003\n",
            ">15 f1=0.4333 se=0.003\n"
          ]
        },
        {
          "output_type": "display_data",
          "data": {
            "text/plain": [
              "<Figure size 640x480 with 1 Axes>"
            ],
            "image/png": "[encoded data removed]"
          },
          "metadata": {}
        }
      ]
    },
    {
      "cell_type": "code",
      "source": [
        "cv_13 = RepeatedKFold(n_splits=10, n_repeats=7, random_state=1)\n",
        "scores_f1 = cross_val_score(classifier_13, housing_cost_features, housing_cost_target, scoring='f1_macro', cv=cv_13, n_jobs=-1)\n",
        "print('F1: %.3f (%.3f)' % (mean(scores_f1), std(scores_f1)))\n",
        "scores_matthews = cross_val_score(classifier_13, housing_cost_features, housing_cost_target, scoring='matthews_corrcoef', cv=cv_13, n_jobs=-1)\n",
        "print('Matthews: %.3f (%.3f)' % (mean(scores_matthews), std(scores_matthews)))"
      ],
      "metadata": {
        "colab": {
          "base_uri": "https://localhost:8080/"
        },
        "id": "TDmg0XemKhe5",
        "outputId": "31b73b47-780c-48b8-d88a-e65b368eec44"
      },
      "execution_count": null,
      "outputs": [
        {
          "output_type": "stream",
          "name": "stdout",
          "text": [
            "F1: 0.433 (0.028)\n",
            "Matthews: 0.241 (0.044)\n"
          ]
        }
      ]
    },
    {
      "cell_type": "markdown",
      "source": [
        "# Group 14: Unhoused"
      ],
      "metadata": {
        "id": "ioFlQpapLFZY"
      }
    },
    {
      "cell_type": "code",
      "source": [
        "unhoused_features = unhoused.iloc[:, :-1]\n",
        "unhoused_target = unhoused.iloc[:, -1]\n",
        "X_train_14, X_test_14, Y_train_14, Y_test_14 = train_test_split(unhoused_features, unhoused_target, test_size=0.2, random_state=1)\n",
        "\n",
        "classifier_14 = KNeighborsClassifier(n_neighbors=9)\n",
        "classifier_14.fit(X_train_14, Y_train_14)\n",
        "\n",
        "#Starting f1 is 0.52, starting MCC is 0.39\n",
        "\n",
        "y_pred_14 = classifier_14.predict(X_test_14)\n",
        "print(classification_report(Y_test_14, y_pred_14))\n",
        "print('Matthews:',matthews_corrcoef(Y_test_14, y_pred_14))"
      ],
      "metadata": {
        "colab": {
          "base_uri": "https://localhost:8080/"
        },
        "id": "z5kCuQ5TLKx6",
        "outputId": "4210e785-f699-4fb9-da0e-407f23884ed4"
      },
      "execution_count": null,
      "outputs": [
        {
          "output_type": "stream",
          "name": "stdout",
          "text": [
            "              precision    recall  f1-score   support\n",
            "\n",
            "        High       0.54      0.45      0.49        62\n",
            "         Low       0.77      0.96      0.85       270\n",
            "      Medium       0.80      0.12      0.21        67\n",
            "\n",
            "    accuracy                           0.74       399\n",
            "   macro avg       0.70      0.51      0.52       399\n",
            "weighted avg       0.74      0.74      0.69       399\n",
            "\n",
            "Matthews: 0.3880183407634416\n"
          ]
        }
      ]
    },
    {
      "cell_type": "code",
      "source": [
        "def evaluate_model(X, y, repeats):\n",
        " cv = RepeatedStratifiedKFold(n_splits=10, n_repeats=repeats, random_state=1)\n",
        " model = KNeighborsClassifier(n_neighbors=9)\n",
        " scores_knn_14 = cross_val_score(model, unhoused_features, unhoused_target, scoring='f1_macro', cv=cv, n_jobs=-1)\n",
        " return scores_knn_14\n",
        "repeats = range(1,16)\n",
        "results_knn_14 = list()\n",
        "for r in repeats:\n",
        " scores_knn_14 = evaluate_model(unhoused_features, unhoused_target, r)\n",
        " print('>%d f1=%.4f se=%.3f' % (r, mean(scores_knn_14), sem(scores_knn_14)))\n",
        " results_knn_14.append(scores_knn_14)\n",
        "\n",
        "plt.boxplot(results_knn_14, labels=[str(r) for r in repeats], showmeans=True)\n",
        "plt.show()"
      ],
      "metadata": {
        "colab": {
          "base_uri": "https://localhost:8080/",
          "height": 702
        },
        "id": "YRTHT8exLmzX",
        "outputId": "4237c36a-9b15-4de0-c605-0f7de43c8b78"
      },
      "execution_count": null,
      "outputs": [
        {
          "output_type": "stream",
          "name": "stdout",
          "text": [
            ">1 f1=0.4575 se=0.012\n",
            ">2 f1=0.4603 se=0.009\n",
            ">3 f1=0.4604 se=0.007\n",
            ">4 f1=0.4614 se=0.006\n",
            ">5 f1=0.4607 se=0.006\n",
            ">6 f1=0.4613 se=0.005\n",
            ">7 f1=0.4579 se=0.006\n",
            ">8 f1=0.4567 se=0.005\n",
            ">9 f1=0.4571 se=0.005\n",
            ">10 f1=0.4571 se=0.005\n",
            ">11 f1=0.4576 se=0.004\n",
            ">12 f1=0.4591 se=0.004\n",
            ">13 f1=0.4594 se=0.004\n",
            ">14 f1=0.4595 se=0.004\n",
            ">15 f1=0.4588 se=0.004\n"
          ]
        },
        {
          "output_type": "display_data",
          "data": {
            "text/plain": [
              "<Figure size 640x480 with 1 Axes>"
            ],
            "image/png": "[encoded data removed]"
          },
          "metadata": {}
        }
      ]
    },
    {
      "cell_type": "code",
      "source": [
        "classifier_sk_14 = KNeighborsClassifier(n_neighbors=9)\n",
        "skf_knn_14 = RepeatedStratifiedKFold(n_splits=10, n_repeats=14, random_state=1)\n",
        "lst_accu_stratified = []\n",
        "\n",
        "for train_index, test_index in skf_knn_14.split(unhoused_features, unhoused_target):\n",
        "    x_train_fold, x_test_fold = unhoused_features.iloc[train_index], unhoused_features.iloc[test_index]\n",
        "    y_train_fold, y_test_fold = unhoused_target[train_index], unhoused_target[test_index]\n",
        "    classifier_sk_14.fit(x_train_fold, y_train_fold)\n",
        "    y_pred = classifier_sk_14.predict(x_test_fold)\n",
        "    lst_accu_stratified.append(classifier_sk_14.score(x_test_fold, y_test_fold))\n",
        "\n",
        "print('\\nMaximum Accuracy That can be obtained from this model is:',\n",
        "      max(lst_accu_stratified)*100, '%')\n",
        "print('\\nMinimum Accuracy:',\n",
        "      min(lst_accu_stratified)*100, '%')\n",
        "print('\\nOverall Accuracy:',\n",
        "      mean(lst_accu_stratified)*100, '%')\n",
        "print('\\nStandard Deviation is:', std(lst_accu_stratified))\n",
        "scores_f1 = cross_val_score(classifier_sk_14, unhoused_features, unhoused_target, scoring='f1_macro', cv=skf_knn_14, n_jobs=-1)\n",
        "print('F1: %.3f (%.3f)' % (mean(scores_f1), std(scores_f1)))\n",
        "scores_matthews = cross_val_score(classifier_sk_14, unhoused_features, unhoused_target, scoring='matthews_corrcoef', cv=skf_knn_14, n_jobs=-1)\n",
        "print('Matthews: %.3f (%.3f)' % (mean(scores_matthews), std(scores_matthews)))"
      ],
      "metadata": {
        "colab": {
          "base_uri": "https://localhost:8080/"
        },
        "id": "PUVHbIY7L2B7",
        "outputId": "dbc7fb09-d20f-44a7-b977-3eacd9bab5b1"
      },
      "execution_count": null,
      "outputs": [
        {
          "output_type": "stream",
          "name": "stdout",
          "text": [
            "\n",
            "Maximum Accuracy That can be obtained from this model is: 74.87437185929649 %\n",
            "\n",
            "Minimum Accuracy: 23.115577889447238 %\n",
            "\n",
            "Overall Accuracy: 69.93111988513998 %\n",
            "\n",
            "Standard Deviation is: 0.047456935359396636\n",
            "F1: 0.459 (0.044)\n",
            "Matthews: 0.303 (0.071)\n"
          ]
        }
      ]
    },
    {
      "cell_type": "code",
      "source": [
        "def evaluate_model(X, y, repeats):\n",
        " cv = RepeatedKFold(n_splits=10, n_repeats=repeats, random_state=1)\n",
        " model = KNeighborsClassifier(n_neighbors=9)\n",
        " scores_knn_14 = cross_val_score(model, unhoused_features, unhoused_target, scoring='f1_macro', cv=cv, n_jobs=-1)\n",
        " return scores_knn_14\n",
        "repeats = range(1,16)\n",
        "results_knn_14 = list()\n",
        "for r in repeats:\n",
        " scores_knn_14 = evaluate_model(unhoused_features, unhoused_target, r)\n",
        " print('>%d f1=%.4f se=%.3f' % (r, mean(scores_knn_14), sem(scores_knn_14)))\n",
        " results_knn_14.append(scores_knn_14)\n",
        "\n",
        "plt.boxplot(results_knn_14, labels=[str(r) for r in repeats], showmeans=True)\n",
        "plt.show()"
      ],
      "metadata": {
        "colab": {
          "base_uri": "https://localhost:8080/",
          "height": 702
        },
        "id": "IMkA7YpYLxkL",
        "outputId": "565ebb31-cef8-49c2-8d8b-78c51e5e5bac"
      },
      "execution_count": null,
      "outputs": [
        {
          "output_type": "stream",
          "name": "stdout",
          "text": [
            ">1 f1=0.4533 se=0.010\n",
            ">2 f1=0.4571 se=0.008\n",
            ">3 f1=0.4601 se=0.008\n",
            ">4 f1=0.4611 se=0.007\n",
            ">5 f1=0.4609 se=0.005\n",
            ">6 f1=0.4593 se=0.005\n",
            ">7 f1=0.4591 se=0.005\n",
            ">8 f1=0.4587 se=0.004\n",
            ">9 f1=0.4583 se=0.004\n",
            ">10 f1=0.4591 se=0.004\n",
            ">11 f1=0.4595 se=0.003\n",
            ">12 f1=0.4593 se=0.003\n",
            ">13 f1=0.4597 se=0.003\n",
            ">14 f1=0.4594 se=0.003\n",
            ">15 f1=0.4596 se=0.003\n"
          ]
        },
        {
          "output_type": "display_data",
          "data": {
            "text/plain": [
              "<Figure size 640x480 with 1 Axes>"
            ],
            "image/png": "[encoded data removed]"
          },
          "metadata": {}
        }
      ]
    },
    {
      "cell_type": "code",
      "source": [
        "cv_14 = RepeatedKFold(n_splits=10, n_repeats=9, random_state=1)\n",
        "scores_f1 = cross_val_score(classifier_14, unhoused_features, unhoused_target, scoring='f1_macro', cv=cv_14, n_jobs=-1)\n",
        "print('F1: %.3f (%.3f)' % (mean(scores_f1), std(scores_f1)))\n",
        "scores_matthews = cross_val_score(classifier_14, unhoused_features, unhoused_target, scoring='matthews_corrcoef', cv=cv_14, n_jobs=-1)\n",
        "print('Matthews: %.3f (%.3f)' % (mean(scores_matthews), std(scores_matthews)))"
      ],
      "metadata": {
        "colab": {
          "base_uri": "https://localhost:8080/"
        },
        "id": "2KCrX20AMQQn",
        "outputId": "2286e9a2-9c9c-46e9-813f-3c1456464bf1"
      },
      "execution_count": null,
      "outputs": [
        {
          "output_type": "stream",
          "name": "stdout",
          "text": [
            "F1: 0.458 (0.037)\n",
            "Matthews: 0.299 (0.059)\n"
          ]
        }
      ]
    },
    {
      "cell_type": "markdown",
      "source": [
        "# Group 15: Mobility"
      ],
      "metadata": {
        "id": "w8jCB5IYM3Oz"
      }
    },
    {
      "cell_type": "code",
      "source": [
        "mobility_features = mobility.iloc[:, :-1]\n",
        "mobility_target = mobility.iloc[:, -1]\n",
        "X_train_15, X_test_15, Y_train_15, Y_test_15 = train_test_split(mobility_features, mobility_target, test_size=0.2, random_state=1)\n",
        "\n",
        "classifier_15 = KNeighborsClassifier(n_neighbors=3)\n",
        "classifier_15.fit(X_train_15, Y_train_15)\n",
        "\n",
        "#Starting f1 is 0.44, starting MCC is 0.24\n",
        "\n",
        "y_pred_15 = classifier_15.predict(X_test_15)\n",
        "print(classification_report(Y_test_15, y_pred_15))\n",
        "print('Matthews:',matthews_corrcoef(Y_test_15, y_pred_15))"
      ],
      "metadata": {
        "colab": {
          "base_uri": "https://localhost:8080/"
        },
        "id": "-D9GX8FCM6be",
        "outputId": "66da0536-b567-4355-f3c2-3e8cf80aabad"
      },
      "execution_count": null,
      "outputs": [
        {
          "output_type": "stream",
          "name": "stdout",
          "text": [
            "              precision    recall  f1-score   support\n",
            "\n",
            "        High       0.31      0.50      0.38        62\n",
            "         Low       0.77      0.78      0.77       270\n",
            "      Medium       0.31      0.12      0.17        67\n",
            "\n",
            "    accuracy                           0.62       399\n",
            "   macro avg       0.46      0.47      0.44       399\n",
            "weighted avg       0.62      0.62      0.61       399\n",
            "\n",
            "Matthews: 0.23520868734938197\n"
          ]
        }
      ]
    },
    {
      "cell_type": "code",
      "source": [
        "def evaluate_model(X, y, repeats):\n",
        " cv = RepeatedStratifiedKFold(n_splits=10, n_repeats=repeats, random_state=1)\n",
        " model = KNeighborsClassifier(n_neighbors=3)\n",
        " scores_knn_15 = cross_val_score(model, mobility_features, mobility_target, scoring='f1_macro', cv=cv, n_jobs=-1)\n",
        " return scores_knn_15\n",
        "repeats = range(1,16)\n",
        "results_knn_15 = list()\n",
        "for r in repeats:\n",
        " scores_knn_15 = evaluate_model(mobility_features, mobility_target, r)\n",
        " print('>%d f1=%.4f se=%.3f' % (r, mean(scores_knn_15), sem(scores_knn_15)))\n",
        " results_knn_15.append(scores_knn_15)\n",
        "\n",
        "plt.boxplot(results_knn_15, labels=[str(r) for r in repeats], showmeans=True)\n",
        "plt.show()"
      ],
      "metadata": {
        "colab": {
          "base_uri": "https://localhost:8080/",
          "height": 702
        },
        "id": "ERFZ9cyjNS0a",
        "outputId": "5b08cc7b-5118-4854-9bf5-b85e2b100f52"
      },
      "execution_count": null,
      "outputs": [
        {
          "output_type": "stream",
          "name": "stdout",
          "text": [
            ">1 f1=0.4049 se=0.009\n",
            ">2 f1=0.4047 se=0.005\n",
            ">3 f1=0.4075 se=0.006\n",
            ">4 f1=0.4097 se=0.005\n",
            ">5 f1=0.4092 se=0.005\n",
            ">6 f1=0.4093 se=0.004\n",
            ">7 f1=0.4094 se=0.004\n",
            ">8 f1=0.4083 se=0.004\n",
            ">9 f1=0.4087 se=0.003\n",
            ">10 f1=0.4084 se=0.003\n",
            ">11 f1=0.4086 se=0.003\n",
            ">12 f1=0.4090 se=0.003\n",
            ">13 f1=0.4092 se=0.003\n",
            ">14 f1=0.4093 se=0.003\n",
            ">15 f1=0.4094 se=0.003\n"
          ]
        },
        {
          "output_type": "display_data",
          "data": {
            "text/plain": [
              "<Figure size 640x480 with 1 Axes>"
            ],
            "image/png": "[encoded data removed]"
          },
          "metadata": {}
        }
      ]
    },
    {
      "cell_type": "code",
      "source": [
        "classifier_sk_15 = KNeighborsClassifier(n_neighbors=3)\n",
        "skf_knn_15 = RepeatedStratifiedKFold(n_splits=10, n_repeats=12, random_state=1)\n",
        "lst_accu_stratified = []\n",
        "\n",
        "for train_index, test_index in skf_knn_15.split(mobility_features, mobility_target):\n",
        "    x_train_fold, x_test_fold = mobility_features.iloc[train_index], mobility_features.iloc[test_index]\n",
        "    y_train_fold, y_test_fold = mobility_target[train_index], mobility_target[test_index]\n",
        "    classifier_sk_15.fit(x_train_fold, y_train_fold)\n",
        "    y_pred = classifier_sk_15.predict(x_test_fold)\n",
        "    lst_accu_stratified.append(classifier_sk_15.score(x_test_fold, y_test_fold))\n",
        "\n",
        "print('\\nMaximum Accuracy That can be obtained from this model is:',\n",
        "      max(lst_accu_stratified)*100, '%')\n",
        "print('\\nMinimum Accuracy:',\n",
        "      min(lst_accu_stratified)*100, '%')\n",
        "print('\\nOverall Accuracy:',\n",
        "      mean(lst_accu_stratified)*100, '%')\n",
        "print('\\nStandard Deviation is:', std(lst_accu_stratified))\n",
        "scores_f1 = cross_val_score(classifier_sk_15, mobility_features, mobility_target, scoring='f1_macro', cv=skf_knn_15, n_jobs=-1)\n",
        "print('F1: %.3f (%.3f)' % (mean(scores_f1), std(scores_f1)))\n",
        "scores_matthews = cross_val_score(classifier_sk_15, mobility_features, mobility_target, scoring='matthews_corrcoef', cv=skf_knn_15, n_jobs=-1)\n",
        "print('Matthews: %.3f (%.3f)' % (mean(scores_matthews), std(scores_matthews)))"
      ],
      "metadata": {
        "colab": {
          "base_uri": "https://localhost:8080/"
        },
        "id": "l4ZxROxbNt1Q",
        "outputId": "b7800a3a-9033-4048-c15c-1babbe9e0429"
      },
      "execution_count": null,
      "outputs": [
        {
          "output_type": "stream",
          "name": "stdout",
          "text": [
            "\n",
            "Maximum Accuracy That can be obtained from this model is: 67.5 %\n",
            "\n",
            "Minimum Accuracy: 53.768844221105525 %\n",
            "\n",
            "Overall Accuracy: 61.38387772194304 %\n",
            "\n",
            "Standard Deviation is: 0.02447830417213262\n",
            "F1: 0.409 (0.032)\n",
            "Matthews: 0.179 (0.051)\n"
          ]
        }
      ]
    },
    {
      "cell_type": "code",
      "source": [
        "def evaluate_model(X, y, repeats):\n",
        " cv = RepeatedKFold(n_splits=10, n_repeats=repeats, random_state=1)\n",
        " model = KNeighborsClassifier(n_neighbors=3)\n",
        " scores_knn_15 = cross_val_score(model, mobility_features, mobility_target, scoring='f1_macro', cv=cv, n_jobs=-1)\n",
        " return scores_knn_15\n",
        "repeats = range(1,16)\n",
        "results_knn_15 = list()\n",
        "for r in repeats:\n",
        " scores_knn_15 = evaluate_model(mobility_features, mobility_target, r)\n",
        " print('>%d f1=%.4f se=%.3f' % (r, mean(scores_knn_15), sem(scores_knn_15)))\n",
        " results_knn_15.append(scores_knn_15)\n",
        "\n",
        "plt.boxplot(results_knn_15, labels=[str(r) for r in repeats], showmeans=True)\n",
        "plt.show()"
      ],
      "metadata": {
        "colab": {
          "base_uri": "https://localhost:8080/",
          "height": 702
        },
        "id": "TMoEWSfbNfPw",
        "outputId": "dd06ccf9-fa1b-4c44-b9e9-47a292ab4690"
      },
      "execution_count": null,
      "outputs": [
        {
          "output_type": "stream",
          "name": "stdout",
          "text": [
            ">1 f1=0.4094 se=0.013\n",
            ">2 f1=0.4100 se=0.008\n",
            ">3 f1=0.4087 se=0.007\n",
            ">4 f1=0.4086 se=0.005\n",
            ">5 f1=0.4076 se=0.005\n",
            ">6 f1=0.4048 se=0.005\n",
            ">7 f1=0.4043 se=0.004\n",
            ">8 f1=0.4028 se=0.004\n",
            ">9 f1=0.4034 se=0.003\n",
            ">10 f1=0.4034 se=0.003\n",
            ">11 f1=0.4030 se=0.003\n",
            ">12 f1=0.4032 se=0.003\n",
            ">13 f1=0.4023 se=0.003\n",
            ">14 f1=0.4034 se=0.003\n",
            ">15 f1=0.4029 se=0.003\n"
          ]
        },
        {
          "output_type": "display_data",
          "data": {
            "text/plain": [
              "<Figure size 640x480 with 1 Axes>"
            ],
            "image/png": "[encoded data removed]"
          },
          "metadata": {}
        }
      ]
    },
    {
      "cell_type": "code",
      "source": [
        "cv_15 = RepeatedKFold(n_splits=10, n_repeats=7, random_state=1)\n",
        "scores_f1 = cross_val_score(classifier_15, mobility_features, mobility_target, scoring='f1_macro', cv=cv_15, n_jobs=-1)\n",
        "print('F1: %.3f (%.3f)' % (mean(scores_f1), std(scores_f1)))\n",
        "scores_matthews = cross_val_score(classifier_15, mobility_features, mobility_target, scoring='matthews_corrcoef', cv=cv_15, n_jobs=-1)\n",
        "print('Matthews: %.3f (%.3f)' % (mean(scores_matthews), std(scores_matthews)))"
      ],
      "metadata": {
        "colab": {
          "base_uri": "https://localhost:8080/"
        },
        "id": "NNj85uSeOB3z",
        "outputId": "aa543241-c032-4f72-e3f3-39f5b823067a"
      },
      "execution_count": null,
      "outputs": [
        {
          "output_type": "stream",
          "name": "stdout",
          "text": [
            "F1: 0.404 (0.034)\n",
            "Matthews: 0.171 (0.056)\n"
          ]
        }
      ]
    },
    {
      "cell_type": "markdown",
      "source": [
        "# Group 16: Density"
      ],
      "metadata": {
        "id": "q2m3irUSOwM4"
      }
    },
    {
      "cell_type": "code",
      "source": [
        "density_features = density.iloc[:, :-1]\n",
        "density_target = density.iloc[:, -1]\n",
        "X_train_16, X_test_16, Y_train_16, Y_test_16 = train_test_split(density_features, density_target, test_size=0.2, random_state=1)\n",
        "\n",
        "classifier_16 = KNeighborsClassifier(n_neighbors=33)\n",
        "classifier_16.fit(X_train_16, Y_train_16)\n",
        "\n",
        "#Starting f1 is 0.42, starting MCC is 0.29\n",
        "\n",
        "y_pred_16 = classifier_16.predict(X_test_16)\n",
        "print(classification_report(Y_test_16, y_pred_16))\n",
        "print('Matthews:',matthews_corrcoef(Y_test_16, y_pred_16))"
      ],
      "metadata": {
        "colab": {
          "base_uri": "https://localhost:8080/"
        },
        "id": "4B6KLDwyOzpM",
        "outputId": "2afe176e-0c25-46af-ccae-9bb6d9934e4a"
      },
      "execution_count": null,
      "outputs": [
        {
          "output_type": "stream",
          "name": "stdout",
          "text": [
            "              precision    recall  f1-score   support\n",
            "\n",
            "        High       0.64      0.34      0.44        62\n",
            "         Low       0.72      0.97      0.83       270\n",
            "      Medium       0.00      0.00      0.00        67\n",
            "\n",
            "    accuracy                           0.71       399\n",
            "   macro avg       0.45      0.44      0.42       399\n",
            "weighted avg       0.59      0.71      0.63       399\n",
            "\n",
            "Matthews: 0.2868789244207991\n"
          ]
        },
        {
          "output_type": "stream",
          "name": "stderr",
          "text": [
            "/usr/local/lib/python3.10/dist-packages/sklearn/metrics/_classification.py:1344: UndefinedMetricWarning: Precision and F-score are ill-defined and being set to 0.0 in labels with no predicted samples. Use `zero_division` parameter to control this behavior.\n",
            "  _warn_prf(average, modifier, msg_start, len(result))\n",
            "/usr/local/lib/python3.10/dist-packages/sklearn/metrics/_classification.py:1344: UndefinedMetricWarning: Precision and F-score are ill-defined and being set to 0.0 in labels with no predicted samples. Use `zero_division` parameter to control this behavior.\n",
            "  _warn_prf(average, modifier, msg_start, len(result))\n",
            "/usr/local/lib/python3.10/dist-packages/sklearn/metrics/_classification.py:1344: UndefinedMetricWarning: Precision and F-score are ill-defined and being set to 0.0 in labels with no predicted samples. Use `zero_division` parameter to control this behavior.\n",
            "  _warn_prf(average, modifier, msg_start, len(result))\n"
          ]
        }
      ]
    },
    {
      "cell_type": "code",
      "source": [
        "def evaluate_model(X, y, repeats):\n",
        " cv = RepeatedStratifiedKFold(n_splits=10, n_repeats=repeats, random_state=1)\n",
        " model = KNeighborsClassifier(n_neighbors=33)\n",
        " scores_knn_16 = cross_val_score(model, density_features, density_target, scoring='f1_macro', cv=cv, n_jobs=-1)\n",
        " return scores_knn_16\n",
        "repeats = range(1,16)\n",
        "results_knn_16 = list()\n",
        "for r in repeats:\n",
        " scores_knn_16 = evaluate_model(density_features, density_target, r)\n",
        " print('>%d f1=%.4f se=%.3f' % (r, mean(scores_knn_16), sem(scores_knn_16)))\n",
        " results_knn_16.append(scores_knn_16)\n",
        "\n",
        "plt.boxplot(results_knn_16, labels=[str(r) for r in repeats], showmeans=True)\n",
        "plt.show()"
      ],
      "metadata": {
        "colab": {
          "base_uri": "https://localhost:8080/",
          "height": 704
        },
        "id": "-IMG0NZEPHCU",
        "outputId": "1dd29888-d246-4360-f37d-3bd87d757225"
      },
      "execution_count": null,
      "outputs": [
        {
          "output_type": "stream",
          "name": "stdout",
          "text": [
            ">1 f1=0.3974 se=0.011\n",
            ">2 f1=0.3974 se=0.006\n",
            ">3 f1=0.3973 se=0.004\n",
            ">4 f1=0.3972 se=0.004\n",
            ">5 f1=0.3964 se=0.004\n",
            ">6 f1=0.3959 se=0.004\n",
            ">7 f1=0.3957 se=0.003\n",
            ">8 f1=0.3954 se=0.003\n",
            ">9 f1=0.3952 se=0.003\n",
            ">10 f1=0.3952 se=0.003\n",
            ">11 f1=0.3951 se=0.003\n",
            ">12 f1=0.3951 se=0.003\n",
            ">13 f1=0.3952 se=0.002\n",
            ">14 f1=0.3954 se=0.002\n",
            ">15 f1=0.3956 se=0.002\n"
          ]
        },
        {
          "output_type": "display_data",
          "data": {
            "text/plain": [
              "<Figure size 640x480 with 1 Axes>"
            ],
            "image/png": "[encoded data removed]"
          },
          "metadata": {}
        }
      ]
    },
    {
      "cell_type": "code",
      "source": [
        "classifier_sk_16 = KNeighborsClassifier(n_neighbors=33)\n",
        "skf_knn_16 = RepeatedStratifiedKFold(n_splits=10, n_repeats=9, random_state=1)\n",
        "lst_accu_stratified = []\n",
        "\n",
        "for train_index, test_index in skf_knn_16.split(density_features, density_target):\n",
        "    x_train_fold, x_test_fold = density_features.iloc[train_index], density_features.iloc[test_index]\n",
        "    y_train_fold, y_test_fold = density_target[train_index], density_target[test_index]\n",
        "    classifier_sk_16.fit(x_train_fold, y_train_fold)\n",
        "    y_pred = classifier_sk_16.predict(x_test_fold)\n",
        "    lst_accu_stratified.append(classifier_sk_16.score(x_test_fold, y_test_fold))\n",
        "\n",
        "print('\\nMaximum Accuracy That can be obtained from this model is:',\n",
        "      max(lst_accu_stratified)*100, '%')\n",
        "print('\\nMinimum Accuracy:',\n",
        "      min(lst_accu_stratified)*100, '%')\n",
        "print('\\nOverall Accuracy:',\n",
        "      mean(lst_accu_stratified)*100, '%')\n",
        "print('\\nStandard Deviation is:', std(lst_accu_stratified))\n",
        "scores_f1 = cross_val_score(classifier_sk_16, density_features, density_target, scoring='f1_macro', cv=skf_knn_16, n_jobs=-1)\n",
        "print('F1: %.3f (%.3f)' % (mean(scores_f1), std(scores_f1)))\n",
        "scores_matthews = cross_val_score(classifier_sk_16, density_features, density_target, scoring='matthews_corrcoef', cv=skf_knn_16, n_jobs=-1)\n",
        "print('Matthews: %.3f (%.3f)' % (mean(scores_matthews), std(scores_matthews)))"
      ],
      "metadata": {
        "colab": {
          "base_uri": "https://localhost:8080/"
        },
        "id": "UFrkhPfnPXAx",
        "outputId": "637e521a-ab03-4ba0-acb5-97bab84e146b"
      },
      "execution_count": null,
      "outputs": [
        {
          "output_type": "stream",
          "name": "stdout",
          "text": [
            "\n",
            "Maximum Accuracy That can be obtained from this model is: 75.5 %\n",
            "\n",
            "Minimum Accuracy: 66.0 %\n",
            "\n",
            "Overall Accuracy: 69.99352317141262 %\n",
            "\n",
            "Standard Deviation is: 0.016112622564023297\n",
            "F1: 0.395 (0.030)\n",
            "Matthews: 0.249 (0.060)\n"
          ]
        }
      ]
    },
    {
      "cell_type": "code",
      "source": [
        "def evaluate_model(X, y, repeats):\n",
        " cv = RepeatedKFold(n_splits=10, n_repeats=repeats, random_state=1)\n",
        " model = KNeighborsClassifier(n_neighbors=33)\n",
        " scores_knn_16 = cross_val_score(model, density_features, density_target, scoring='f1_macro', cv=cv, n_jobs=-1)\n",
        " return scores_knn_16\n",
        "repeats = range(1,16)\n",
        "results_knn_16 = list()\n",
        "for r in repeats:\n",
        " scores_knn_16 = evaluate_model(density_features, density_target, r)\n",
        " print('>%d f1=%.4f se=%.3f' % (r, mean(scores_knn_16), sem(scores_knn_16)))\n",
        " results_knn_16.append(scores_knn_16)\n",
        "\n",
        "plt.boxplot(results_knn_16, labels=[str(r) for r in repeats], showmeans=True)\n",
        "plt.show()"
      ],
      "metadata": {
        "colab": {
          "base_uri": "https://localhost:8080/",
          "height": 702
        },
        "id": "9TLAq8XiPTMu",
        "outputId": "5b940e31-163b-42d5-fcb5-a7bed33e17f8"
      },
      "execution_count": null,
      "outputs": [
        {
          "output_type": "stream",
          "name": "stdout",
          "text": [
            ">1 f1=0.3993 se=0.009\n",
            ">2 f1=0.3959 se=0.006\n",
            ">3 f1=0.3947 se=0.005\n",
            ">4 f1=0.3953 se=0.005\n",
            ">5 f1=0.3935 se=0.004\n",
            ">6 f1=0.3939 se=0.004\n",
            ">7 f1=0.3940 se=0.003\n",
            ">8 f1=0.3939 se=0.003\n",
            ">9 f1=0.3941 se=0.003\n",
            ">10 f1=0.3946 se=0.003\n",
            ">11 f1=0.3943 se=0.003\n",
            ">12 f1=0.3938 se=0.003\n",
            ">13 f1=0.3940 se=0.003\n",
            ">14 f1=0.3940 se=0.003\n",
            ">15 f1=0.3938 se=0.003\n"
          ]
        },
        {
          "output_type": "display_data",
          "data": {
            "text/plain": [
              "<Figure size 640x480 with 1 Axes>"
            ],
            "image/png": "[encoded data removed]"
          },
          "metadata": {}
        }
      ]
    },
    {
      "cell_type": "code",
      "source": [
        "cv_16 = RepeatedKFold(n_splits=10, n_repeats=11, random_state=1)\n",
        "scores_f1 = cross_val_score(classifier_16, density_features, density_target, scoring='f1_macro', cv=cv_16, n_jobs=-1)\n",
        "print('F1: %.3f (%.3f)' % (mean(scores_f1), std(scores_f1)))\n",
        "scores_matthews = cross_val_score(classifier_16, density_features, density_target, scoring='matthews_corrcoef', cv=cv_16, n_jobs=-1)\n",
        "print('Matthews: %.3f (%.3f)' % (mean(scores_matthews), std(scores_matthews)))"
      ],
      "metadata": {
        "colab": {
          "base_uri": "https://localhost:8080/"
        },
        "id": "hrJioiDeQB5d",
        "outputId": "7bdef39b-420e-44ee-873f-2ebad25730f3"
      },
      "execution_count": null,
      "outputs": [
        {
          "output_type": "stream",
          "name": "stdout",
          "text": [
            "F1: 0.394 (0.028)\n",
            "Matthews: 0.247 (0.060)\n"
          ]
        }
      ]
    },
    {
      "cell_type": "markdown",
      "source": [
        "# Group 17: Transit"
      ],
      "metadata": {
        "id": "mlbP1JmQQpur"
      }
    },
    {
      "cell_type": "code",
      "source": [
        "transit_features = transit.iloc[:, :-1]\n",
        "transit_target = transit.iloc[:, -1]\n",
        "X_train_17, X_test_17, Y_train_17, Y_test_17 = train_test_split(transit_features, transit_target, test_size=0.2, random_state=1)\n",
        "\n",
        "classifier_17 = KNeighborsClassifier(n_neighbors=6)\n",
        "classifier_17.fit(X_train_17, Y_train_17)\n",
        "\n",
        "#Starting f1 is 0.35, starting MCC is 0.14\n",
        "\n",
        "y_pred_17 = classifier_17.predict(X_test_17)\n",
        "print(classification_report(Y_test_17, y_pred_17))\n",
        "print('Matthews:',matthews_corrcoef(Y_test_17, y_pred_17))"
      ],
      "metadata": {
        "colab": {
          "base_uri": "https://localhost:8080/"
        },
        "id": "xHeFR5hbQr7h",
        "outputId": "a498dde3-ecf8-403e-ae95-f75c16960b7f"
      },
      "execution_count": null,
      "outputs": [
        {
          "output_type": "stream",
          "name": "stdout",
          "text": [
            "              precision    recall  f1-score   support\n",
            "\n",
            "        High       0.33      0.11      0.17        62\n",
            "         Low       0.70      0.96      0.81       270\n",
            "      Medium       0.60      0.04      0.08        67\n",
            "\n",
            "    accuracy                           0.68       399\n",
            "   macro avg       0.54      0.37      0.35       399\n",
            "weighted avg       0.62      0.68      0.59       399\n",
            "\n",
            "Matthews: 0.13768026196224092\n"
          ]
        }
      ]
    },
    {
      "cell_type": "code",
      "source": [
        "def evaluate_model(X, y, repeats):\n",
        " cv = RepeatedStratifiedKFold(n_splits=10, n_repeats=repeats, random_state=1)\n",
        " model = KNeighborsClassifier(n_neighbors=6)\n",
        " scores_knn_17 = cross_val_score(model, transit_features, transit_target, scoring='f1_macro', cv=cv, n_jobs=-1)\n",
        " return scores_knn_17\n",
        "repeats = range(1,16)\n",
        "results_knn_17 = list()\n",
        "for r in repeats:\n",
        " scores_knn_17 = evaluate_model(transit_features, transit_target, r)\n",
        " print('>%d f1=%.4f se=%.3f' % (r, mean(scores_knn_17), sem(scores_knn_17)))\n",
        " results_knn_17.append(scores_knn_17)\n",
        "\n",
        "plt.boxplot(results_knn_17, labels=[str(r) for r in repeats], showmeans=True)\n",
        "plt.show()"
      ],
      "metadata": {
        "colab": {
          "base_uri": "https://localhost:8080/",
          "height": 702
        },
        "id": "6Sv2yj15RHKc",
        "outputId": "82fadb8f-827b-4fc7-cd0b-18cf4783a49b"
      },
      "execution_count": null,
      "outputs": [
        {
          "output_type": "stream",
          "name": "stdout",
          "text": [
            ">1 f1=0.3247 se=0.013\n",
            ">2 f1=0.3189 se=0.008\n",
            ">3 f1=0.3183 se=0.006\n",
            ">4 f1=0.3196 se=0.005\n",
            ">5 f1=0.3179 se=0.004\n",
            ">6 f1=0.3171 se=0.004\n",
            ">7 f1=0.3180 se=0.003\n",
            ">8 f1=0.3199 se=0.003\n",
            ">9 f1=0.3189 se=0.003\n",
            ">10 f1=0.3195 se=0.003\n",
            ">11 f1=0.3181 se=0.003\n",
            ">12 f1=0.3193 se=0.003\n",
            ">13 f1=0.3196 se=0.003\n",
            ">14 f1=0.3194 se=0.003\n",
            ">15 f1=0.3189 se=0.003\n"
          ]
        },
        {
          "output_type": "display_data",
          "data": {
            "text/plain": [
              "<Figure size 640x480 with 1 Axes>"
            ],
            "image/png": "[encoded data removed]"
          },
          "metadata": {}
        }
      ]
    },
    {
      "cell_type": "code",
      "source": [
        "classifier_sk_17 = KNeighborsClassifier(n_neighbors=6)\n",
        "skf_knn_17 = RepeatedStratifiedKFold(n_splits=10, n_repeats=7, random_state=1)\n",
        "lst_accu_stratified = []\n",
        "\n",
        "for train_index, test_index in skf_knn_17.split(transit_features, transit_target):\n",
        "    x_train_fold, x_test_fold = transit_features.iloc[train_index], transit_features.iloc[test_index]\n",
        "    y_train_fold, y_test_fold = transit_target[train_index], transit_target[test_index]\n",
        "    classifier_sk_17.fit(x_train_fold, y_train_fold)\n",
        "    y_pred = classifier_sk_17.predict(x_test_fold)\n",
        "    lst_accu_stratified.append(classifier_sk_17.score(x_test_fold, y_test_fold))\n",
        "\n",
        "print('\\nMaximum Accuracy That can be obtained from this model is:',\n",
        "      max(lst_accu_stratified)*100, '%')\n",
        "print('\\nMinimum Accuracy:',\n",
        "      min(lst_accu_stratified)*100, '%')\n",
        "print('\\nOverall Accuracy:',\n",
        "      mean(lst_accu_stratified)*100, '%')\n",
        "print('\\nStandard Deviation is:', std(lst_accu_stratified))\n",
        "scores_f1 = cross_val_score(classifier_sk_17, transit_features, transit_target, scoring='f1_macro', cv=skf_knn_17, n_jobs=-1)\n",
        "print('F1: %.3f (%.3f)' % (mean(scores_f1), std(scores_f1)))\n",
        "scores_matthews = cross_val_score(classifier_sk_17, transit_features, transit_target, scoring='matthews_corrcoef', cv=skf_knn_17, n_jobs=-1)\n",
        "print('Matthews: %.3f (%.3f)' % (mean(scores_matthews), std(scores_matthews)))"
      ],
      "metadata": {
        "colab": {
          "base_uri": "https://localhost:8080/"
        },
        "id": "KJQQzNY-RY-4",
        "outputId": "17cb102f-c4b3-4cd2-8eb9-97a06ed6430b"
      },
      "execution_count": null,
      "outputs": [
        {
          "output_type": "stream",
          "name": "stdout",
          "text": [
            "\n",
            "Maximum Accuracy That can be obtained from this model is: 67.33668341708542 %\n",
            "\n",
            "Minimum Accuracy: 50.0 %\n",
            "\n",
            "Overall Accuracy: 59.636109117013646 %\n",
            "\n",
            "Standard Deviation is: 0.04129217768257133\n",
            "F1: 0.318 (0.029)\n",
            "Matthews: 0.021 (0.057)\n"
          ]
        }
      ]
    },
    {
      "cell_type": "code",
      "source": [
        "def evaluate_model(X, y, repeats):\n",
        " cv = RepeatedKFold(n_splits=10, n_repeats=repeats, random_state=1)\n",
        " model = KNeighborsClassifier(n_neighbors=6)\n",
        " scores_knn_17 = cross_val_score(model, transit_features, transit_target, scoring='f1_macro', cv=cv, n_jobs=-1)\n",
        " return scores_knn_17\n",
        "repeats = range(1,16)\n",
        "results_knn_17 = list()\n",
        "for r in repeats:\n",
        " scores_knn_17 = evaluate_model(transit_features, transit_target, r)\n",
        " print('>%d f1=%.4f se=%.3f' % (r, mean(scores_knn_17), sem(scores_knn_17)))\n",
        " results_knn_17.append(scores_knn_17)\n",
        "\n",
        "plt.boxplot(results_knn_17, labels=[str(r) for r in repeats], showmeans=True)\n",
        "plt.show()"
      ],
      "metadata": {
        "colab": {
          "base_uri": "https://localhost:8080/",
          "height": 702
        },
        "id": "6V2wWVfPRTPS",
        "outputId": "c1361cd0-1f39-4dde-c4d7-aac70d7ae14a"
      },
      "execution_count": null,
      "outputs": [
        {
          "output_type": "stream",
          "name": "stdout",
          "text": [
            ">1 f1=0.3323 se=0.011\n",
            ">2 f1=0.3197 se=0.008\n",
            ">3 f1=0.3173 se=0.006\n",
            ">4 f1=0.3175 se=0.005\n",
            ">5 f1=0.3148 se=0.004\n",
            ">6 f1=0.3134 se=0.004\n",
            ">7 f1=0.3152 se=0.004\n",
            ">8 f1=0.3149 se=0.003\n",
            ">9 f1=0.3164 se=0.003\n",
            ">10 f1=0.3165 se=0.003\n",
            ">11 f1=0.3157 se=0.003\n",
            ">12 f1=0.3173 se=0.003\n",
            ">13 f1=0.3183 se=0.003\n",
            ">14 f1=0.3193 se=0.003\n",
            ">15 f1=0.3202 se=0.003\n"
          ]
        },
        {
          "output_type": "display_data",
          "data": {
            "text/plain": [
              "<Figure size 640x480 with 1 Axes>"
            ],
            "image/png": "[encoded data removed]"
          },
          "metadata": {}
        }
      ]
    },
    {
      "cell_type": "code",
      "source": [
        "cv_17 = RepeatedKFold(n_splits=10, n_repeats=10, random_state=1)\n",
        "scores_f1 = cross_val_score(classifier_17, transit_features, transit_target, scoring='f1_macro', cv=cv_17, n_jobs=-1)\n",
        "print('F1: %.3f (%.3f)' % (mean(scores_f1), std(scores_f1)))\n",
        "scores_matthews = cross_val_score(classifier_17, transit_features, transit_target, scoring='matthews_corrcoef', cv=cv_17, n_jobs=-1)\n",
        "print('Matthews: %.3f (%.3f)' % (mean(scores_matthews), std(scores_matthews)))"
      ],
      "metadata": {
        "colab": {
          "base_uri": "https://localhost:8080/"
        },
        "id": "Cb5KtQWcRxf1",
        "outputId": "a7bcaec1-df54-49de-a8af-389608f04636"
      },
      "execution_count": null,
      "outputs": [
        {
          "output_type": "stream",
          "name": "stdout",
          "text": [
            "F1: 0.316 (0.031)\n",
            "Matthews: 0.015 (0.055)\n"
          ]
        }
      ]
    },
    {
      "cell_type": "markdown",
      "source": [
        "#Group 18: Policing"
      ],
      "metadata": {
        "id": "wO1VqWsoSXQc"
      }
    },
    {
      "cell_type": "code",
      "source": [
        "policing = policing.dropna()"
      ],
      "metadata": {
        "id": "wTM3Pw8Gz45C"
      },
      "execution_count": null,
      "outputs": []
    },
    {
      "cell_type": "code",
      "source": [
        "policing_features = policing.iloc[:, :-1]\n",
        "policing_target = policing.iloc[:, -1]\n",
        "X_train_18, X_test_18, Y_train_18, Y_test_18 = train_test_split(policing_features, policing_target, test_size=0.2, random_state=1)\n",
        "\n",
        "classifier_18 = KNeighborsClassifier(n_neighbors=16)\n",
        "classifier_18.fit(X_train_18, Y_train_18)\n",
        "\n",
        "#Starting f1 is 0.54, starting MCC is 0.45\n",
        "\n",
        "y_pred_18 = classifier_18.predict(X_test_18)\n",
        "print(classification_report(Y_test_18, y_pred_18))\n",
        "print('Matthews:',matthews_corrcoef(Y_test_18, y_pred_18))"
      ],
      "metadata": {
        "colab": {
          "base_uri": "https://localhost:8080/"
        },
        "id": "KJ1rg8-3SbzF",
        "outputId": "76b6a1d6-6f12-4e00-886b-b3d8b0f84b4e"
      },
      "execution_count": null,
      "outputs": [
        {
          "output_type": "stream",
          "name": "stdout",
          "text": [
            "              precision    recall  f1-score   support\n",
            "\n",
            "        High       0.83      0.81      0.82        31\n",
            "         Low       0.47      0.78      0.58        18\n",
            "      Medium       0.50      0.13      0.21        15\n",
            "\n",
            "    accuracy                           0.64        64\n",
            "   macro avg       0.60      0.57      0.54        64\n",
            "weighted avg       0.65      0.64      0.61        64\n",
            "\n",
            "Matthews: 0.45054236893837146\n"
          ]
        }
      ]
    },
    {
      "cell_type": "code",
      "source": [
        "def evaluate_model(X, y, repeats):\n",
        " cv = RepeatedStratifiedKFold(n_splits=10, n_repeats=repeats, random_state=1)\n",
        " model = KNeighborsClassifier(n_neighbors=16)\n",
        " scores_knn_18 = cross_val_score(model, policing_features, policing_target, scoring='f1_macro', cv=cv, n_jobs=-1)\n",
        " return scores_knn_18\n",
        "repeats = range(1,16)\n",
        "results_knn_18 = list()\n",
        "for r in repeats:\n",
        " scores_knn_18 = evaluate_model(policing_features, policing_target, r)\n",
        " print('>%d f1=%.4f se=%.3f' % (r, mean(scores_knn_18), sem(scores_knn_18)))\n",
        " results_knn_18.append(scores_knn_18)\n",
        "\n",
        "plt.boxplot(results_knn_18, labels=[str(r) for r in repeats], showmeans=True)\n",
        "plt.show()"
      ],
      "metadata": {
        "colab": {
          "base_uri": "https://localhost:8080/",
          "height": 702
        },
        "id": "NOhAMxvETMqI",
        "outputId": "6a3b9dd9-7d92-493d-c3d8-760b2f5cfeb5"
      },
      "execution_count": null,
      "outputs": [
        {
          "output_type": "stream",
          "name": "stdout",
          "text": [
            ">1 f1=0.5086 se=0.026\n",
            ">2 f1=0.5178 se=0.017\n",
            ">3 f1=0.5075 se=0.013\n",
            ">4 f1=0.5048 se=0.011\n",
            ">5 f1=0.4995 se=0.009\n",
            ">6 f1=0.5001 se=0.009\n",
            ">7 f1=0.5001 se=0.008\n",
            ">8 f1=0.5029 se=0.007\n",
            ">9 f1=0.5024 se=0.007\n",
            ">10 f1=0.5043 se=0.007\n",
            ">11 f1=0.5040 se=0.006\n",
            ">12 f1=0.5042 se=0.006\n",
            ">13 f1=0.5036 se=0.006\n",
            ">14 f1=0.5023 se=0.006\n",
            ">15 f1=0.5023 se=0.006\n"
          ]
        },
        {
          "output_type": "display_data",
          "data": {
            "text/plain": [
              "<Figure size 640x480 with 1 Axes>"
            ],
            "image/png": "[encoded data removed]"
          },
          "metadata": {}
        }
      ]
    },
    {
      "cell_type": "code",
      "source": [
        "classifier_sk_18 = KNeighborsClassifier(n_neighbors=16)\n",
        "skf_knn_18 = RepeatedStratifiedKFold(n_splits=10, n_repeats=18, random_state=1)\n",
        "lst_accu_stratified = []\n",
        "\n",
        "for train_index, test_index in skf_knn_18.split(policing_features, policing_target):\n",
        "    x_train_fold, x_test_fold = policing_features.iloc[train_index],policing_features.iloc[test_index]\n",
        "    y_train_fold, y_test_fold = policing_target.iloc[train_index], policing_target.iloc[test_index]\n",
        "    classifier_sk_18.fit(x_train_fold, y_train_fold)\n",
        "    y_pred = classifier_sk_18.predict(x_test_fold)\n",
        "    lst_accu_stratified.append(classifier_sk_18.score(x_test_fold, y_test_fold))\n",
        "\n",
        "print('\\nMaximum Accuracy That can be obtained from this model is:',\n",
        "      max(lst_accu_stratified)*100, '%')\n",
        "print('\\nMinimum Accuracy:',\n",
        "      min(lst_accu_stratified)*100, '%')\n",
        "print('\\nOverall Accuracy:',\n",
        "      mean(lst_accu_stratified)*100, '%')\n",
        "print('\\nStandard Deviation is:', std(lst_accu_stratified))\n",
        "scores_f1 = cross_val_score(classifier_sk_18, policing_features, policing_target, scoring='f1_macro', cv=skf_knn_18, n_jobs=-1)\n",
        "print('F1: %.3f (%.3f)' % (mean(scores_f1), std(scores_f1)))\n",
        "scores_matthews = cross_val_score(classifier_sk_18, policing_features, policing_target, scoring='matthews_corrcoef', cv=skf_knn_18, n_jobs=-1)\n",
        "print('Matthews: %.3f (%.3f)' % (mean(scores_matthews), std(scores_matthews)))"
      ],
      "metadata": {
        "colab": {
          "base_uri": "https://localhost:8080/"
        },
        "id": "z4xuNQiEThjV",
        "outputId": "3b210e53-5261-451c-ef85-a96c4d7a7e51"
      },
      "execution_count": null,
      "outputs": [
        {
          "output_type": "stream",
          "name": "stdout",
          "text": [
            "\n",
            "Maximum Accuracy That can be obtained from this model is: 78.125 %\n",
            "\n",
            "Minimum Accuracy: 40.625 %\n",
            "\n",
            "Overall Accuracy: 64.1459453405018 %\n",
            "\n",
            "Standard Deviation is: 0.06285999041114824\n",
            "F1: 0.502 (0.069)\n",
            "Matthews: 0.422 (0.105)\n"
          ]
        }
      ]
    },
    {
      "cell_type": "code",
      "source": [
        "def evaluate_model(X, y, repeats):\n",
        " cv = RepeatedKFold(n_splits=10, n_repeats=repeats, random_state=1)\n",
        " model = KNeighborsClassifier(n_neighbors=16)\n",
        " scores_knn_18 = cross_val_score(model, policing_features, policing_target, scoring='f1_macro', cv=cv, n_jobs=-1)\n",
        " return scores_knn_18\n",
        "repeats = range(1,16)\n",
        "results_knn_18 = list()\n",
        "for r in repeats:\n",
        " scores_knn_18 = evaluate_model(policing_features, policing_target, r)\n",
        " print('>%d f1=%.4f se=%.3f' % (r, mean(scores_knn_18), sem(scores_knn_18)))\n",
        " results_knn_18.append(scores_knn_18)\n",
        "\n",
        "plt.boxplot(results_knn_18, labels=[str(r) for r in repeats], showmeans=True)\n",
        "plt.show()"
      ],
      "metadata": {
        "colab": {
          "base_uri": "https://localhost:8080/",
          "height": 702
        },
        "id": "mKjYhqLLTb20",
        "outputId": "d1a71470-dce1-46c7-ae91-78bcc1a7c712"
      },
      "execution_count": null,
      "outputs": [
        {
          "output_type": "stream",
          "name": "stdout",
          "text": [
            ">1 f1=0.5016 se=0.018\n",
            ">2 f1=0.5066 se=0.014\n",
            ">3 f1=0.5040 se=0.017\n",
            ">4 f1=0.5083 se=0.014\n",
            ">5 f1=0.5068 se=0.012\n",
            ">6 f1=0.5032 se=0.010\n",
            ">7 f1=0.5020 se=0.009\n",
            ">8 f1=0.4988 se=0.009\n",
            ">9 f1=0.4977 se=0.008\n",
            ">10 f1=0.4974 se=0.007\n",
            ">11 f1=0.4982 se=0.007\n",
            ">12 f1=0.5002 se=0.007\n",
            ">13 f1=0.4991 se=0.006\n",
            ">14 f1=0.5007 se=0.006\n",
            ">15 f1=0.5014 se=0.006\n"
          ]
        },
        {
          "output_type": "display_data",
          "data": {
            "text/plain": [
              "<Figure size 640x480 with 1 Axes>"
            ],
            "image/png": "[encoded data removed]"
          },
          "metadata": {}
        }
      ]
    },
    {
      "cell_type": "code",
      "source": [
        "cv_18 = RepeatedKFold(n_splits=10, n_repeats=13, random_state=1)\n",
        "scores_f1 = cross_val_score(classifier_18, policing_features, policing_target, scoring='f1_macro', cv=cv_18, n_jobs=-1)\n",
        "print('F1: %.3f (%.3f)' % (mean(scores_f1), std(scores_f1)))\n",
        "scores_matthews = cross_val_score(classifier_18, policing_features, policing_target, scoring='matthews_corrcoef', cv=cv_18, n_jobs=-1)\n",
        "print('Matthews: %.3f (%.3f)' % (mean(scores_matthews), std(scores_matthews)))"
      ],
      "metadata": {
        "colab": {
          "base_uri": "https://localhost:8080/"
        },
        "id": "aeN9I7X5UABI",
        "outputId": "f1a454aa-65f7-453c-f6d9-dc702f5b3757"
      },
      "execution_count": null,
      "outputs": [
        {
          "output_type": "stream",
          "name": "stdout",
          "text": [
            "F1: 0.499 (0.073)\n",
            "Matthews: 0.420 (0.110)\n"
          ]
        }
      ]
    }
  ]
}