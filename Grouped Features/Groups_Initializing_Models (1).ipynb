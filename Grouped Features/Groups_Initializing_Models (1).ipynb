{
  "nbformat": 4,
  "nbformat_minor": 0,
  "metadata": {
    "colab": {
      "provenance": []
    },
    "kernelspec": {
      "name": "python3",
      "display_name": "Python 3"
    },
    "language_info": {
      "name": "python"
    }
  },
  "cells": [
    {
      "cell_type": "markdown",
      "source": [
        "#Importing Packages and Data"
      ],
      "metadata": {
        "id": "DhxKlidecWwB"
      }
    },
    {
      "cell_type": "code",
      "execution_count": null,
      "metadata": {
        "colab": {
          "base_uri": "https://localhost:8080/"
        },
        "id": "mO0UWgpsfRhl",
        "outputId": "a12e8d3f-d198-4aa9-98b6-9f7289116850"
      },
      "outputs": [
        {
          "output_type": "stream",
          "name": "stdout",
          "text": [
            "Collecting ucimlrepo\n",
            "  Downloading ucimlrepo-0.0.7-py3-none-any.whl (8.0 kB)\n",
            "Requirement already satisfied: pandas>=1.0.0 in /usr/local/lib/python3.10/dist-packages (from ucimlrepo) (2.0.3)\n",
            "Requirement already satisfied: certifi>=2020.12.5 in /usr/local/lib/python3.10/dist-packages (from ucimlrepo) (2024.7.4)\n",
            "Requirement already satisfied: python-dateutil>=2.8.2 in /usr/local/lib/python3.10/dist-packages (from pandas>=1.0.0->ucimlrepo) (2.8.2)\n",
            "Requirement already satisfied: pytz>=2020.1 in /usr/local/lib/python3.10/dist-packages (from pandas>=1.0.0->ucimlrepo) (2023.4)\n",
            "Requirement already satisfied: tzdata>=2022.1 in /usr/local/lib/python3.10/dist-packages (from pandas>=1.0.0->ucimlrepo) (2024.1)\n",
            "Requirement already satisfied: numpy>=1.21.0 in /usr/local/lib/python3.10/dist-packages (from pandas>=1.0.0->ucimlrepo) (1.25.2)\n",
            "Requirement already satisfied: six>=1.5 in /usr/local/lib/python3.10/dist-packages (from python-dateutil>=2.8.2->pandas>=1.0.0->ucimlrepo) (1.16.0)\n",
            "Installing collected packages: ucimlrepo\n",
            "Successfully installed ucimlrepo-0.0.7\n"
          ]
        }
      ],
      "source": [
        "pip install ucimlrepo"
      ]
    },
    {
      "cell_type": "code",
      "source": [
        "import numpy as np\n",
        "import pandas as pd\n",
        "from ucimlrepo import fetch_ucirepo\n",
        "from numpy import mean\n",
        "from numpy import std\n",
        "from sklearn.model_selection import train_test_split\n",
        "from sklearn import tree\n",
        "from sklearn.impute import SimpleImputer\n",
        "from sklearn.metrics import classification_report\n",
        "from sklearn.metrics import accuracy_score, f1_score\n",
        "from sklearn.metrics import matthews_corrcoef\n",
        "from sklearn.model_selection import RepeatedKFold, cross_val_score, RepeatedStratifiedKFold\n",
        "import statsmodels.discrete.discrete_model as sm\n",
        "from sklearn import metrics\n",
        "from sklearn.neighbors import KNeighborsClassifier"
      ],
      "metadata": {
        "id": "49YQRlYyffd4"
      },
      "execution_count": null,
      "outputs": []
    },
    {
      "cell_type": "code",
      "source": [
        "communities_and_crime = fetch_ucirepo(id=183)\n",
        "\n",
        "X = communities_and_crime.data.features\n",
        "y = communities_and_crime.data.targets"
      ],
      "metadata": {
        "id": "54RKhGcbfmx5"
      },
      "execution_count": null,
      "outputs": []
    },
    {
      "cell_type": "code",
      "source": [
        "groups_df = X.join(y)"
      ],
      "metadata": {
        "id": "DlVSUl8Bfq3N"
      },
      "execution_count": null,
      "outputs": []
    },
    {
      "cell_type": "code",
      "source": [
        "groups_df = groups_df.replace('?', np.nan)"
      ],
      "metadata": {
        "id": "uUnS569mqNHF"
      },
      "execution_count": null,
      "outputs": []
    },
    {
      "cell_type": "code",
      "source": [
        "groups_df[\"CrimeCategory\"] = pd.cut(x=groups_df['ViolentCrimesPerPop'],\n",
        "                     bins=[-0.1, 0.25, 0.40, 1],\n",
        "                     labels=['Low', 'Medium', 'High'])"
      ],
      "metadata": {
        "id": "vu-AkUWboo3Q"
      },
      "execution_count": null,
      "outputs": []
    },
    {
      "cell_type": "code",
      "source": [
        "#I am splitting the attributes into predetermined categories based on their real-world relationship to each other.\n",
        "race_make_up = groups_df[[\"racePctWhite\", \"racepctblack\", \"racePctAsian\", \"racePctHisp\", \"CrimeCategory\"]]\n",
        "age = groups_df[[\"agePct12t21\", \"agePct12t29\", \"agePct16t24\", \"agePct65up\", \"CrimeCategory\"]]\n",
        "urban_factors = groups_df[[\"numbUrban\", \"pctUrban\", \"CrimeCategory\"]]\n",
        "income_factors = groups_df[[\"medIncome\", \"pctWWage\", \"pctWFarmSelf\", \"pctWInvInc\", \"pctWSocSec\", \"pctWPubAsst\", \"pctWRetire\", \"medFamInc\", \"perCapInc\", \\\n",
        "                            \"whitePerCap\", \"blackPerCap\", \"indianPerCap\", \"AsianPerCap\", \"OtherPerCap\", \"HispPerCap\", \"CrimeCategory\"]]\n",
        "poverty = groups_df[[\"NumUnderPov\", \"PctPopUnderPov\", \"CrimeCategory\"]]\n",
        "education = groups_df[[\"PctLess9thGrade\", \"PctNotHSGrad\", \"PctBSorMore\", \"CrimeCategory\"]]\n",
        "employment = groups_df[[\"PctUnemployed\", \"PctEmploy\", \"PctEmplManu\", \"PctEmplProfServ\", \"PctOccupManu\", \"PctOccupMgmtProf\", \"CrimeCategory\"]]\n",
        "marriage_factors = groups_df[[\"MalePctDivorce\", \"MalePctNevMarr\", \"FemalePctDiv\", \"TotalPctDiv\", \"CrimeCategory\"]]\n",
        "domestic_factors = groups_df[[\"PersPerFam\", \"PctFam2Par\", \"PctKids2Par\", \"PctYoungKids2Par\", \"PctTeen2Par\", \"PctWorkMomYoungKids\", \"PctWorkMom\", \"NumIlleg\",\\\n",
        "                              \"PctIlleg\", \"CrimeCategory\"]]\n",
        "immigration = groups_df[[\"PctImmigRecent\", \"PctImmigRec5\", \"PctImmigRec8\", \"PctImmigRec10\", \"PctRecentImmig\", \"PctRecImmig5\", \"PctRecImmig8\", \"PctRecImmig10\", \\\n",
        "                         \"CrimeCategory\"]]\n",
        "english_proficiency = groups_df[[\"PctSpeakEnglOnly\", \"PctNotSpeakEnglWell\", \"CrimeCategory\"]]\n",
        "housing_factors = groups_df[[\"PctLargHouseOccup\", \"PersPerOccupHous\", \"PersPerOwnOccHous\", \"PersPerRentOccHous\", \"PctPersOwnOccup\", \"PctPersDenseHous\", \\\n",
        "                             \"HousVacant\", \"PctHousOccup\", \"PctHousOwnOcc\", \"PctVacantBoarded\", \"PctVacMore6Mos\", \"OwnOccLowQuart\", \"OwnOccMedVal\", \\\n",
        "                             \"OwnOccHiQuart\", \"PctHousLess3BR\", \"MedNumBR\", \"MedYrHousBuilt\", \"PctHousNoPhone\", \"PctWOFullPlumb\", \"CrimeCategory\"]]\n",
        "housing_cost = groups_df[[\"RentLowQ\", \"RentMedian\", \"RentHighQ\", \"MedRent\", \"MedRentPctHousInc\", \"MedOwnCostPctInc\", \"MedOwnCostPctIncNoMtg\", \\\n",
        "                          \"CrimeCategory\"]]\n",
        "unhoused = groups_df[[\"NumInShelters\", \"NumStreet\", \"CrimeCategory\"]]\n",
        "mobility = groups_df[[\"PctForeignBorn\", \"PctBornSameState\", \"PctSameHouse85\", \"PctSameCity85\", \"PctSameState85\", \"CrimeCategory\"]]\n",
        "policing = groups_df[[\"LemasSwornFT\", \"LemasSwFTPerPop\", \"LemasSwFTFieldOps\", \"LemasSwFTFieldPerPop\", \"LemasTotalReq\", \"LemasTotReqPerPop\", \\\n",
        "                      \"PolicReqPerOffic\", \"PolicPerPop\", \"OfficAssgnDrugUnits\", \"NumKindsDrugsSeiz\", \"PolicAveOTWorked\", \"PolicCars\", \"PolicOperBudg\", \\\n",
        "                      \"LemasPctPolicOnPatr\", \"LemasGangUnitDeploy\", \"LemasPctOfficDrugUn\", \"PolicBudgPerPop\", \"RacialMatchCommPol\", \"PctPolicWhite\", \\\n",
        "                      \"PctPolicBlack\", \"PctPolicHisp\", \"PctPolicAsian\", \"PctPolicMinor\", \"CrimeCategory\"]]\n",
        "density = groups_df[[\"LandArea\", \"PopDens\", \"CrimeCategory\"]]\n",
        "transit = groups_df[[\"PctUsePubTrans\", \"CrimeCategory\"]]"
      ],
      "metadata": {
        "id": "8cvkDD4LgGaL"
      },
      "execution_count": null,
      "outputs": []
    },
    {
      "cell_type": "markdown",
      "source": [
        "# Determining Optimal Number of Neighbors for Each Group in KNN Model Training"
      ],
      "metadata": {
        "id": "FQH4DciybZp1"
      }
    },
    {
      "cell_type": "code",
      "source": [
        "race_make_up_features = race_make_up.iloc[:, :-1]\n",
        "race_make_up_target = race_make_up.iloc[:, -1]\n",
        "X_train_1, X_test_1, Y_train_1, Y_test_1 = train_test_split(race_make_up_features, race_make_up_target, test_size=0.2, random_state=1)\n",
        "\n",
        "f1_1 = []\n",
        "for i in range(1,40):\n",
        "    neigh_1 = KNeighborsClassifier(n_neighbors = i).fit(X_train_1,Y_train_1)\n",
        "    yhat_1 = neigh_1.predict(X_test_1)\n",
        "    f1_1.append(metrics.f1_score(Y_test_1, yhat_1, average='macro'))\n",
        "print(\"Maximum f1:-\",max(f1_1),\"at K =\",f1_1.index(max(f1_1))+1)\n",
        "\n",
        "MCC_1 = []\n",
        "for i in range (1,40):\n",
        "    neigh_1 = KNeighborsClassifier(n_neighbors = i).fit(X_train_1,Y_train_1)\n",
        "    yhat_1 = neigh_1.predict(X_test_1)\n",
        "    MCC_1.append(matthews_corrcoef(Y_test_1, yhat_1))\n",
        "print(\"Maximum MCC:-\",max(MCC_1),\"at K =\",MCC_1.index(max(MCC_1))+1)\n"
      ],
      "metadata": {
        "colab": {
          "base_uri": "https://localhost:8080/"
        },
        "id": "irWT7Dxjlqp0",
        "outputId": "5a0b491f-ee3f-4ed9-810e-9e8c9cc94d2d"
      },
      "execution_count": null,
      "outputs": [
        {
          "output_type": "stream",
          "name": "stdout",
          "text": [
            "Maximum f1:- 0.521117446106566 at K = 34\n",
            "Maximum MCC:- 0.38559050805530404 at K = 15\n"
          ]
        }
      ]
    },
    {
      "cell_type": "code",
      "source": [
        "#Since our metrics are not aligned, we will check the value of f1 at K=15 and MCC at 34. Since f1 decreases the least, we will choose the value of K=14\n",
        "print(f1_1[14])\n",
        "print(MCC_1[33])"
      ],
      "metadata": {
        "colab": {
          "base_uri": "https://localhost:8080/"
        },
        "id": "UO7kA6Gcify1",
        "outputId": "e68169fa-d926-4bff-84d7-606e9044d358"
      },
      "execution_count": null,
      "outputs": [
        {
          "output_type": "stream",
          "name": "stdout",
          "text": [
            "0.5202506385696041\n",
            "0.3789819840980904\n"
          ]
        }
      ]
    },
    {
      "cell_type": "code",
      "source": [
        "age_features = age.iloc[:, :-1]\n",
        "age_target = age.iloc[:, -1]\n",
        "X_train_2, X_test_2, Y_train_2, Y_test_2 = train_test_split(age_features, age_target, test_size=0.2, random_state=1)\n",
        "\n",
        "f1_2 = []\n",
        "for i in range(1,40):\n",
        "    neigh_2 = KNeighborsClassifier(n_neighbors = i).fit(X_train_2,Y_train_2)\n",
        "    yhat_2 = neigh_2.predict(X_test_2)\n",
        "    f1_2.append(metrics.f1_score(Y_test_2, yhat_2, average='macro'))\n",
        "print(\"Maximum f1:-\",max(f1_2),\"at K =\",f1_2.index(max(f1_2))+1)\n",
        "\n",
        "MCC_2 = []\n",
        "for i in range (1,40):\n",
        "    neigh_2 = KNeighborsClassifier(n_neighbors = i).fit(X_train_2,Y_train_2)\n",
        "    yhat_2 = neigh_2.predict(X_test_2)\n",
        "    MCC_2.append(matthews_corrcoef(Y_test_2, yhat_2))\n",
        "print(\"Maximum MCC:-\",max(MCC_2),\"at K =\",MCC_2.index(max(MCC_2))+1)\n"
      ],
      "metadata": {
        "colab": {
          "base_uri": "https://localhost:8080/"
        },
        "id": "J2WKyaNKpVRH",
        "outputId": "2f7746ec-5561-44c2-ae3a-4d0ae601dd3b"
      },
      "execution_count": null,
      "outputs": [
        {
          "output_type": "stream",
          "name": "stdout",
          "text": [
            "Maximum f1:- 0.4283741175406801 at K = 1\n",
            "Maximum MCC:- 0.2329429912558172 at K = 15\n"
          ]
        }
      ]
    },
    {
      "cell_type": "code",
      "source": [
        "#Based on the values of of f1, MCC, and the error, f1 decreased the least when at K=15 and we will therefore choose K=15.\n",
        "print(f1_2[14])\n",
        "print(MCC_2[0])\n"
      ],
      "metadata": {
        "colab": {
          "base_uri": "https://localhost:8080/"
        },
        "id": "f8iifPx-jGqH",
        "outputId": "0c21cfab-c72b-45fe-bb82-84edcc19bf95"
      },
      "execution_count": null,
      "outputs": [
        {
          "output_type": "stream",
          "name": "stdout",
          "text": [
            "0.4189576375014616\n",
            "0.20980974480550008\n"
          ]
        }
      ]
    },
    {
      "cell_type": "code",
      "source": [
        "urban_factors_features = urban_factors.iloc[:, :-1]\n",
        "urban_factors_target = urban_factors.iloc[:, -1]\n",
        "X_train_3, X_test_3, Y_train_3, Y_test_3 = train_test_split(urban_factors_features, urban_factors_target, test_size=0.2, random_state=1)\n",
        "\n",
        "f1_3 = []\n",
        "for i in range(1,40):\n",
        "    neigh_3 = KNeighborsClassifier(n_neighbors = i).fit(X_train_3,Y_train_3)\n",
        "    yhat_3 = neigh_3.predict(X_test_3)\n",
        "    f1_3.append(metrics.f1_score(Y_test_3, yhat_3, average='macro'))\n",
        "print(\"Maximum f1:-\",max(f1_3),\"at K =\",f1_3.index(max(f1_3))+1)\n",
        "\n",
        "MCC_3 = []\n",
        "for i in range (1,40):\n",
        "    neigh = KNeighborsClassifier(n_neighbors = i).fit(X_train_3,Y_train_3)\n",
        "    yhat_3 = neigh.predict(X_test_3)\n",
        "    MCC_3.append(matthews_corrcoef(Y_test_3, yhat_3))\n",
        "print(\"Maximum MCC:-\",max(MCC_3),\"at K =\",MCC_3.index(max(MCC_3))+1)"
      ],
      "metadata": {
        "colab": {
          "base_uri": "https://localhost:8080/"
        },
        "id": "KuRcp8dnpvgF",
        "outputId": "84cb2cd1-b246-4718-880f-bca816059690"
      },
      "execution_count": null,
      "outputs": [
        {
          "output_type": "stream",
          "name": "stdout",
          "text": [
            "Maximum f1:- 0.43059952790438166 at K = 1\n",
            "Maximum MCC:- 0.29171309092878245 at K = 20\n"
          ]
        }
      ]
    },
    {
      "cell_type": "code",
      "source": [
        "#One again, f1 decreases the least and so we should choose K=20\n",
        "print(f1_3[19])\n",
        "print(MCC_3[0])"
      ],
      "metadata": {
        "colab": {
          "base_uri": "https://localhost:8080/"
        },
        "id": "nqfcFUMElUn0",
        "outputId": "9c3378af-32a5-4ed9-eb3f-21914ce691b3"
      },
      "execution_count": null,
      "outputs": [
        {
          "output_type": "stream",
          "name": "stdout",
          "text": [
            "0.42882258170239046\n",
            "0.19555178465858059\n"
          ]
        }
      ]
    },
    {
      "cell_type": "code",
      "source": [
        "#After my initial code threw an error I investigated this group and saw that there was one NA value I have to deal with.\n",
        "income_factors.isna().sum()"
      ],
      "metadata": {
        "colab": {
          "base_uri": "https://localhost:8080/"
        },
        "id": "hA4nQHnqcAhe",
        "outputId": "2d623c46-7df5-4e2b-b343-4af108353d1b"
      },
      "execution_count": null,
      "outputs": [
        {
          "output_type": "execute_result",
          "data": {
            "text/plain": [
              "medIncome        0\n",
              "pctWWage         0\n",
              "pctWFarmSelf     0\n",
              "pctWInvInc       0\n",
              "pctWSocSec       0\n",
              "pctWPubAsst      0\n",
              "pctWRetire       0\n",
              "medFamInc        0\n",
              "perCapInc        0\n",
              "whitePerCap      0\n",
              "blackPerCap      0\n",
              "indianPerCap     0\n",
              "AsianPerCap      0\n",
              "OtherPerCap      0\n",
              "HispPerCap       0\n",
              "CrimeCategory    0\n",
              "dtype: int64"
            ]
          },
          "metadata": {},
          "execution_count": 42
        }
      ]
    },
    {
      "cell_type": "code",
      "source": [
        "#I chose to fill it with a value from the exisiting attribute as replacing one value shouldn't have a large impact on the model training.\n",
        "income_factors.fillna(income_factors.select_dtypes(include='object').mode().iloc[0], inplace=True)\n",
        "income_factors.isna().sum()"
      ],
      "metadata": {
        "colab": {
          "base_uri": "https://localhost:8080/"
        },
        "id": "sABkxYMlcM-G",
        "outputId": "64840024-02a2-4fcd-fc52-d5885d376b25"
      },
      "execution_count": null,
      "outputs": [
        {
          "output_type": "stream",
          "name": "stderr",
          "text": [
            "<ipython-input-15-4104c3cf86be>:2: SettingWithCopyWarning: \n",
            "A value is trying to be set on a copy of a slice from a DataFrame\n",
            "\n",
            "See the caveats in the documentation: https://pandas.pydata.org/pandas-docs/stable/user_guide/indexing.html#returning-a-view-versus-a-copy\n",
            "  income_factors.fillna(income_factors.select_dtypes(include='object').mode().iloc[0], inplace=True)\n"
          ]
        },
        {
          "output_type": "execute_result",
          "data": {
            "text/plain": [
              "medIncome        0\n",
              "pctWWage         0\n",
              "pctWFarmSelf     0\n",
              "pctWInvInc       0\n",
              "pctWSocSec       0\n",
              "pctWPubAsst      0\n",
              "pctWRetire       0\n",
              "medFamInc        0\n",
              "perCapInc        0\n",
              "whitePerCap      0\n",
              "blackPerCap      0\n",
              "indianPerCap     0\n",
              "AsianPerCap      0\n",
              "OtherPerCap      0\n",
              "HispPerCap       0\n",
              "CrimeCategory    0\n",
              "dtype: int64"
            ]
          },
          "metadata": {},
          "execution_count": 15
        }
      ]
    },
    {
      "cell_type": "code",
      "source": [
        "income_factors_features = income_factors.iloc[:, :-1]\n",
        "income_factors_target = income_factors.iloc[:, -1]\n",
        "X_train_4, X_test_4, Y_train_4, Y_test_4 = train_test_split(income_factors_features, income_factors_target, test_size=0.2, random_state=1)\n",
        "\n",
        "f1_4 = []\n",
        "for i in range(1,40):\n",
        "    neigh_4 = KNeighborsClassifier(n_neighbors = i).fit(X_train_4,Y_train_4)\n",
        "    yhat_4 = neigh_4.predict(X_test_4)\n",
        "    f1_4.append(metrics.f1_score(Y_test_4, yhat_4, average='macro'))\n",
        "print(\"Maximum f1:-\",max(f1_4),\"at K =\",f1_4.index(max(f1_4))+1)\n",
        "\n",
        "MCC_4 = []\n",
        "for i in range (1,40):\n",
        "    neigh_4 = KNeighborsClassifier(n_neighbors = i).fit(X_train_4,Y_train_4)\n",
        "    yhat_4 = neigh_4.predict(X_test_4)\n",
        "    MCC_4.append(matthews_corrcoef(Y_test_4, yhat_4))\n",
        "print(\"Maximum MCC:-\",max(MCC_4),\"at K =\",MCC_4.index(max(MCC_4))+1)"
      ],
      "metadata": {
        "colab": {
          "base_uri": "https://localhost:8080/"
        },
        "id": "Iej4Avkbp28o",
        "outputId": "96f85288-8102-4d47-dc15-5389ec004090"
      },
      "execution_count": null,
      "outputs": [
        {
          "output_type": "stream",
          "name": "stdout",
          "text": [
            "Maximum f1:- 0.5415680776446296 at K = 3\n",
            "Maximum MCC:- 0.4083493151020328 at K = 5\n"
          ]
        }
      ]
    },
    {
      "cell_type": "code",
      "source": [
        "#Since MCC changed the least, we will choose K=3.\n",
        "print(f1_4[4])\n",
        "print(MCC_4[2])"
      ],
      "metadata": {
        "colab": {
          "base_uri": "https://localhost:8080/"
        },
        "id": "_7RChOtKlnac",
        "outputId": "46c69c24-a549-43ea-cdeb-50ae49f8a6ea"
      },
      "execution_count": null,
      "outputs": [
        {
          "output_type": "stream",
          "name": "stdout",
          "text": [
            "0.5108225108225108\n",
            "0.3979369589985626\n"
          ]
        }
      ]
    },
    {
      "cell_type": "code",
      "source": [
        "poverty_features = poverty.iloc[:, :-1]\n",
        "poverty_target = poverty.iloc[:, -1]\n",
        "X_train_5, X_test_5, Y_train_5, Y_test_5 = train_test_split(poverty_features, poverty_target, test_size=0.2, random_state=1)\n",
        "\n",
        "f1_5 = []\n",
        "for i in range(1,40):\n",
        "    neigh_5 = KNeighborsClassifier(n_neighbors = i).fit(X_train_5, Y_train_5)\n",
        "    yhat_5 = neigh_5.predict(X_test_5)\n",
        "    f1_5.append(metrics.f1_score(Y_test_5, yhat_5, average='macro'))\n",
        "print(\"Maximum f1:-\",max(f1_5),\"at K =\",f1_5.index(max(f1_5))+1)\n",
        "\n",
        "MCC_5 = []\n",
        "for i in range (1,40):\n",
        "    neigh_5 = KNeighborsClassifier(n_neighbors = i).fit(X_train_5,Y_train_5)\n",
        "    yhat_5 = neigh_5.predict(X_test_5)\n",
        "    MCC_5.append(matthews_corrcoef(Y_test_5, yhat_5))\n",
        "print(\"Maximum MCC:-\",max(MCC_5),\"at K =\",MCC_5.index(max(MCC_5))+1)"
      ],
      "metadata": {
        "id": "sPTAH_wfwjuG",
        "colab": {
          "base_uri": "https://localhost:8080/"
        },
        "outputId": "2512c14e-04e3-4889-f84a-135a7a4e67c7"
      },
      "execution_count": null,
      "outputs": [
        {
          "output_type": "stream",
          "name": "stdout",
          "text": [
            "Maximum f1:- 0.5068549485940791 at K = 15\n",
            "Maximum MCC:- 0.40580141205424297 at K = 38\n"
          ]
        }
      ]
    },
    {
      "cell_type": "code",
      "source": [
        "#f1 decreased the least and therefore we should choose K=38\n",
        "print(f1_5[37])\n",
        "print(MCC_5[14])"
      ],
      "metadata": {
        "colab": {
          "base_uri": "https://localhost:8080/"
        },
        "id": "OfrC5D21l7JK",
        "outputId": "22fb6779-15e4-4589-cda4-938721dc00cf"
      },
      "execution_count": null,
      "outputs": [
        {
          "output_type": "stream",
          "name": "stdout",
          "text": [
            "0.48571069656428617\n",
            "0.3788618865443606\n"
          ]
        }
      ]
    },
    {
      "cell_type": "code",
      "source": [
        "education_features = education.iloc[:, :-1]\n",
        "education_target = education.iloc[:, -1]\n",
        "X_train_6, X_test_6, Y_train_6, Y_test_6 = train_test_split(education_features, education_target, test_size=0.2, random_state=1)\n",
        "\n",
        "f1_6 = []\n",
        "for i in range(1,40):\n",
        "    neigh_6 = KNeighborsClassifier(n_neighbors = i).fit(X_train_6, Y_train_6)\n",
        "    yhat_6 = neigh_6.predict(X_test_6)\n",
        "    f1_6.append(metrics.f1_score(Y_test_6, yhat_6, average='macro'))\n",
        "print(\"Maximum f1:-\",max(f1_6),\"at K =\",f1_6.index(max(f1_6))+1)\n",
        "\n",
        "MCC_6 = []\n",
        "for i in range (1,40):\n",
        "    neigh_6 = KNeighborsClassifier(n_neighbors = i).fit(X_train_6,Y_train_6)\n",
        "    yhat_6 = neigh_6.predict(X_test_6)\n",
        "    MCC_6.append(matthews_corrcoef(Y_test_6, yhat_6))\n",
        "print(\"Maximum MCC:-\",max(MCC_6),\"at K =\",MCC_6.index(max(MCC_6))+1)"
      ],
      "metadata": {
        "id": "Fpc7q2OfwxEw",
        "colab": {
          "base_uri": "https://localhost:8080/"
        },
        "outputId": "f690cfcf-7285-4b99-e5b8-cefa3a868a5f"
      },
      "execution_count": null,
      "outputs": [
        {
          "output_type": "stream",
          "name": "stdout",
          "text": [
            "Maximum f1:- 0.4617581063839149 at K = 4\n",
            "Maximum MCC:- 0.282575488666128 at K = 37\n"
          ]
        }
      ]
    },
    {
      "cell_type": "code",
      "source": [
        "#MCC decreased the least and therefore we will use K=4\n",
        "print(f1_6[36])\n",
        "print(MCC_6[3])"
      ],
      "metadata": {
        "colab": {
          "base_uri": "https://localhost:8080/"
        },
        "id": "w7cOpgkFmQLY",
        "outputId": "f28ca0bb-617b-4504-c783-af37b3d9afdf"
      },
      "execution_count": null,
      "outputs": [
        {
          "output_type": "stream",
          "name": "stdout",
          "text": [
            "0.42394487510766576\n",
            "0.2709155728783489\n"
          ]
        }
      ]
    },
    {
      "cell_type": "code",
      "source": [
        "employment_features = employment.iloc[:, :-1]\n",
        "employment_target = employment.iloc[:, -1]\n",
        "X_train_7, X_test_7, Y_train_7, Y_test_7 = train_test_split(employment_features, employment_target, test_size=0.2, random_state=1)\n",
        "\n",
        "f1_7 = []\n",
        "for i in range(1,40):\n",
        "    neigh_7 = KNeighborsClassifier(n_neighbors = i).fit(X_train_7, Y_train_7)\n",
        "    yhat_7 = neigh_7.predict(X_test_7)\n",
        "    f1_7.append(metrics.f1_score(Y_test_7, yhat_7, average='macro'))\n",
        "print(\"Maximum f1:-\",max(f1_7),\"at K =\",f1_7.index(max(f1_7))+1)\n",
        "\n",
        "MCC_7 = []\n",
        "for i in range (1,40):\n",
        "    neigh_7 = KNeighborsClassifier(n_neighbors = i).fit(X_train_7,Y_train_7)\n",
        "    yhat_7 = neigh_7.predict(X_test_7)\n",
        "    MCC_7.append(matthews_corrcoef(Y_test_7, yhat_7))\n",
        "print(\"Maximum MCC:-\",max(MCC_7),\"at K =\",MCC_7.index(max(MCC_7))+1)\n"
      ],
      "metadata": {
        "id": "8qFS5NX0xAyb",
        "colab": {
          "base_uri": "https://localhost:8080/"
        },
        "outputId": "c051e682-d4f6-48dc-de7d-5bcee63389bf"
      },
      "execution_count": null,
      "outputs": [
        {
          "output_type": "stream",
          "name": "stdout",
          "text": [
            "Maximum f1:- 0.4448470209339775 at K = 10\n",
            "Maximum MCC:- 0.29096995493742384 at K = 30\n"
          ]
        }
      ]
    },
    {
      "cell_type": "code",
      "source": [
        "#f1 decreased the least and therefore we will use K=30\n",
        "print(f1_7[29])\n",
        "print(MCC_7[9])"
      ],
      "metadata": {
        "colab": {
          "base_uri": "https://localhost:8080/"
        },
        "id": "cNTzMnMEmxEs",
        "outputId": "03e19cda-6c1b-472b-c11c-81afc20899c6"
      },
      "execution_count": null,
      "outputs": [
        {
          "output_type": "stream",
          "name": "stdout",
          "text": [
            "0.4363815959528821\n",
            "0.24761084693966026\n"
          ]
        }
      ]
    },
    {
      "cell_type": "code",
      "source": [
        "marriage_factors_features = marriage_factors.iloc[:, :-1]\n",
        "marriage_factors_target = marriage_factors.iloc[:, -1]\n",
        "X_train_8, X_test_8, Y_train_8, Y_test_8 = train_test_split(marriage_factors_features, marriage_factors_target, test_size=0.2, random_state=1)\n",
        "f1_8 = []\n",
        "for i in range(1,40):\n",
        "    neigh_8 = KNeighborsClassifier(n_neighbors = i).fit(X_train_8, Y_train_8)\n",
        "    yhat_8 = neigh_8.predict(X_test_8)\n",
        "    f1_8.append(metrics.f1_score(Y_test_8, yhat_8, average='macro'))\n",
        "print(\"Maximum f1:-\",max(f1_8),\"at K =\",f1_8.index(max(f1_8))+1)\n",
        "\n",
        "MCC_8 = []\n",
        "for i in range (1,40):\n",
        "    neigh_8 = KNeighborsClassifier(n_neighbors = i).fit(X_train_8,Y_train_8)\n",
        "    yhat_8 = neigh_8.predict(X_test_8)\n",
        "    MCC_8.append(matthews_corrcoef(Y_test_8, yhat_8))\n",
        "print(\"Maximum MCC:-\",max(MCC_8),\"at K =\",MCC_8.index(max(MCC_8))+1)"
      ],
      "metadata": {
        "id": "BkSx6-ZtxYGy",
        "colab": {
          "base_uri": "https://localhost:8080/"
        },
        "outputId": "a9c193c2-bf8e-4b72-f78d-c9180e1b6b82"
      },
      "execution_count": null,
      "outputs": [
        {
          "output_type": "stream",
          "name": "stdout",
          "text": [
            "Maximum f1:- 0.5073006473253198 at K = 7\n",
            "Maximum MCC:- 0.37001572975359515 at K = 20\n"
          ]
        }
      ]
    },
    {
      "cell_type": "code",
      "source": [
        "#f1 decreased the least so we will use K=20\n",
        "print(f1_8[19])\n",
        "print(MCC_8[6])"
      ],
      "metadata": {
        "colab": {
          "base_uri": "https://localhost:8080/"
        },
        "id": "Hz0ff5SEm60H",
        "outputId": "e6cbbd9c-f9db-4bb2-a193-db4c9acc1edd"
      },
      "execution_count": null,
      "outputs": [
        {
          "output_type": "stream",
          "name": "stdout",
          "text": [
            "0.4834759877721419\n",
            "0.34829425735456354\n"
          ]
        }
      ]
    },
    {
      "cell_type": "code",
      "source": [
        "#Since the two evaluation metrics are aligned, we will use K=9.\n",
        "domestic_factors_features = domestic_factors.iloc[:, :-1]\n",
        "domestic_factors_target = domestic_factors.iloc[:, -1]\n",
        "X_train_9, X_test_9, Y_train_9, Y_test_9 = train_test_split(domestic_factors_features, domestic_factors_target, test_size=0.2, random_state=1)\n",
        "\n",
        "f1_9 = []\n",
        "for i in range(1,40):\n",
        "    neigh_9 = KNeighborsClassifier(n_neighbors = i).fit(X_train_9, Y_train_9)\n",
        "    yhat_9 = neigh_9.predict(X_test_9)\n",
        "    f1_9.append(metrics.f1_score(Y_test_9, yhat_9, average='macro'))\n",
        "print(\"Maximum f1:-\",max(f1_9),\"at K =\",f1_9.index(max(f1_9))+1)\n",
        "\n",
        "MCC_9 = []\n",
        "for i in range (1,40):\n",
        "    neigh_9 = KNeighborsClassifier(n_neighbors = i).fit(X_train_9,Y_train_9)\n",
        "    yhat_9 = neigh_9.predict(X_test_9)\n",
        "    MCC_9.append(matthews_corrcoef(Y_test_9, yhat_9))\n",
        "print(\"Maximum MCC:-\",max(MCC_9),\"at K =\",MCC_9.index(max(MCC_9))+1)"
      ],
      "metadata": {
        "id": "lfWq1I34xhUU",
        "colab": {
          "base_uri": "https://localhost:8080/"
        },
        "outputId": "0c3f9b36-99c1-4509-d75b-8fe463145bda"
      },
      "execution_count": null,
      "outputs": [
        {
          "output_type": "stream",
          "name": "stdout",
          "text": [
            "Maximum f1:- 0.5707643237204927 at K = 9\n",
            "Maximum MCC:- 0.47572260642453373 at K = 9\n"
          ]
        }
      ]
    },
    {
      "cell_type": "code",
      "source": [
        "#Since the metrics are aligned, we will use K=3\n",
        "immigration_features = immigration.iloc[:, :-1]\n",
        "immigration_target = immigration.iloc[:, -1]\n",
        "X_train_10, X_test_10, Y_train_10, Y_test_10 = train_test_split(immigration_features, immigration_target, test_size=0.2, random_state=1)\n",
        "\n",
        "f1_10 = []\n",
        "for i in range(1,40):\n",
        "    neigh_10 = KNeighborsClassifier(n_neighbors = i).fit(X_train_10, Y_train_10)\n",
        "    yhat_10 = neigh_10.predict(X_test_10)\n",
        "    f1_10.append(metrics.f1_score(Y_test_10, yhat_10, average='macro'))\n",
        "print(\"Maximum f1:-\",max(f1_10),\"at K =\",f1_10.index(max(f1_10))+1)\n",
        "\n",
        "MCC_10 = []\n",
        "for i in range (1,40):\n",
        "    neigh_10 = KNeighborsClassifier(n_neighbors = i).fit(X_train_10,Y_train_10)\n",
        "    yhat_10 = neigh_10.predict(X_test_10)\n",
        "    MCC_10.append(matthews_corrcoef(Y_test_10, yhat_10))\n",
        "print(\"Maximum MCC:-\",max(MCC_10),\"at K =\",MCC_10.index(max(MCC_10))+1)"
      ],
      "metadata": {
        "id": "BdDFJxc6xpDc",
        "colab": {
          "base_uri": "https://localhost:8080/"
        },
        "outputId": "26a10528-6fec-497d-d306-e683f08a59ec"
      },
      "execution_count": null,
      "outputs": [
        {
          "output_type": "stream",
          "name": "stdout",
          "text": [
            "Maximum f1:- 0.44034400547332103 at K = 3\n",
            "Maximum MCC:- 0.23009515476428155 at K = 3\n"
          ]
        }
      ]
    },
    {
      "cell_type": "code",
      "source": [
        "#Since the metrics are aligned, we will use K=7\n",
        "english_proficiency_features = english_proficiency.iloc[:, :-1]\n",
        "english_proficiency_target = english_proficiency.iloc[:, -1]\n",
        "X_train_11, X_test_11, Y_train_11, Y_test_11 = train_test_split(english_proficiency_features, english_proficiency_target, test_size=0.2, random_state=1)\n",
        "\n",
        "f1_11 = []\n",
        "for i in range(1,40):\n",
        "    neigh_11 = KNeighborsClassifier(n_neighbors = i).fit(X_train_11, Y_train_11)\n",
        "    yhat_11 = neigh_11.predict(X_test_11)\n",
        "    f1_11.append(metrics.f1_score(Y_test_11, yhat_11, average='macro'))\n",
        "print(\"Maximum f1:-\",max(f1_11),\"at K =\",f1_11.index(max(f1_11))+1)\n",
        "\n",
        "MCC_11 = []\n",
        "for i in range (1,40):\n",
        "    neigh_11 = KNeighborsClassifier(n_neighbors = i).fit(X_train_11,Y_train_11)\n",
        "    yhat_11 = neigh_11.predict(X_test_11)\n",
        "    MCC_11.append(matthews_corrcoef(Y_test_11, yhat_11))\n",
        "print(\"Maximum MCC:-\",max(MCC_11),\"at K =\",MCC_11.index(max(MCC_11))+1)"
      ],
      "metadata": {
        "id": "lSxJPzI3xxVr",
        "colab": {
          "base_uri": "https://localhost:8080/"
        },
        "outputId": "626079e0-eda4-4614-9fa6-c209134bc5ea"
      },
      "execution_count": null,
      "outputs": [
        {
          "output_type": "stream",
          "name": "stdout",
          "text": [
            "Maximum f1:- 0.42106876964448176 at K = 7\n",
            "Maximum MCC:- 0.20002387427440038 at K = 7\n"
          ]
        }
      ]
    },
    {
      "cell_type": "code",
      "source": [
        "#Since the metrics are aligned we will use K=12\n",
        "housing_factors_features = housing_factors.iloc[:, :-1]\n",
        "housing_factors_target = housing_factors.iloc[:, -1]\n",
        "X_train_12, X_test_12, Y_train_12, Y_test_12 = train_test_split(housing_factors_features, housing_factors_target, test_size=0.2, random_state=1)\n",
        "\n",
        "f1_12 = []\n",
        "for i in range(1,40):\n",
        "    neigh_12 = KNeighborsClassifier(n_neighbors = i).fit(X_train_12, Y_train_12)\n",
        "    yhat_12 = neigh_12.predict(X_test_12)\n",
        "    f1_12.append(metrics.f1_score(Y_test_12, yhat_12, average='macro'))\n",
        "print(\"Maximum f1:-\",max(f1_12),\"at K =\",f1_12.index(max(f1_12))+1)\n",
        "\n",
        "MCC_12 = []\n",
        "for i in range (1,40):\n",
        "    neigh_12 = KNeighborsClassifier(n_neighbors = i).fit(X_train_12,Y_train_12)\n",
        "    yhat_12 = neigh_12.predict(X_test_12)\n",
        "    MCC_12.append(matthews_corrcoef(Y_test_12, yhat_12))\n",
        "print(\"Maximum MCC:-\",max(MCC_12),\"at K =\",MCC_12.index(max(MCC_12))+1)"
      ],
      "metadata": {
        "id": "MiMa4Uf5x9yT",
        "colab": {
          "base_uri": "https://localhost:8080/"
        },
        "outputId": "10dfe3f5-d0eb-43b5-b5ad-ff741e9cc71b"
      },
      "execution_count": null,
      "outputs": [
        {
          "output_type": "stream",
          "name": "stdout",
          "text": [
            "Maximum f1:- 0.5753078756929847 at K = 12\n",
            "Maximum MCC:- 0.47505750255066576 at K = 12\n"
          ]
        }
      ]
    },
    {
      "cell_type": "code",
      "source": [
        "housing_cost_features = housing_cost.iloc[:, :-1]\n",
        "housing_cost_target = housing_cost.iloc[:, -1]\n",
        "X_train_13, X_test_13, Y_train_13, Y_test_13 = train_test_split(housing_cost_features, housing_cost_target, test_size=0.2, random_state=1)\n",
        "\n",
        "f1_13 = []\n",
        "for i in range(1,40):\n",
        "    neigh_13 = KNeighborsClassifier(n_neighbors = i).fit(X_train_13, Y_train_13)\n",
        "    yhat_13 = neigh_13.predict(X_test_13)\n",
        "    f1_13.append(metrics.f1_score(Y_test_13, yhat_13, average='macro'))\n",
        "print(\"Maximum f1:-\",max(f1_13),\"at K =\",f1_13.index(max(f1_13))+1)\n",
        "\n",
        "MCC_13 = []\n",
        "for i in range (1,40):\n",
        "    neigh_13 = KNeighborsClassifier(n_neighbors = i).fit(X_train_13,Y_train_13)\n",
        "    yhat_13 = neigh_13.predict(X_test_13)\n",
        "    MCC_13.append(matthews_corrcoef(Y_test_13, yhat_13))\n",
        "print(\"Maximum MCC:-\",max(MCC_13),\"at K =\",MCC_13.index(max(MCC_13))+1)"
      ],
      "metadata": {
        "id": "Vf1T2dwAyF71",
        "colab": {
          "base_uri": "https://localhost:8080/"
        },
        "outputId": "b7566777-dc2c-4b91-fd60-102711657212"
      },
      "execution_count": null,
      "outputs": [
        {
          "output_type": "stream",
          "name": "stdout",
          "text": [
            "Maximum f1:- 0.4378404989405944 at K = 3\n",
            "Maximum MCC:- 0.24098284559866462 at K = 21\n"
          ]
        }
      ]
    },
    {
      "cell_type": "code",
      "source": [
        "#Since MCC decreased the least, we will use K=3\n",
        "print(f1_13[20])\n",
        "print(MCC_13[2])"
      ],
      "metadata": {
        "colab": {
          "base_uri": "https://localhost:8080/"
        },
        "id": "401YL7tun_87",
        "outputId": "49141207-e834-4afa-cabb-71c8761ca268"
      },
      "execution_count": null,
      "outputs": [
        {
          "output_type": "stream",
          "name": "stdout",
          "text": [
            "0.4041276021654115\n",
            "0.2346146708032485\n"
          ]
        }
      ]
    },
    {
      "cell_type": "code",
      "source": [
        "unhoused_features = unhoused.iloc[:, :-1]\n",
        "unhoused_target = unhoused.iloc[:, -1]\n",
        "X_train_14, X_test_14, Y_train_14, Y_test_14 = train_test_split(unhoused_features, unhoused_target, test_size=0.2, random_state=1)\n",
        "\n",
        "f1_14 = []\n",
        "for i in range(1,40):\n",
        "    neigh_14 = KNeighborsClassifier(n_neighbors = i).fit(X_train_14, Y_train_14)\n",
        "    yhat_14 = neigh_14.predict(X_test_14)\n",
        "    f1_14.append(metrics.f1_score(Y_test_14, yhat_14, average='macro'))\n",
        "print(\"Maximum f1:-\",max(f1_14),\"at K =\",f1_14.index(max(f1_14))+1)\n",
        "\n",
        "MCC_14 = []\n",
        "for i in range (1,40):\n",
        "    neigh_14 = KNeighborsClassifier(n_neighbors = i).fit(X_train_14,Y_train_14)\n",
        "    yhat_14 = neigh_14.predict(X_test_14)\n",
        "    MCC_14.append(matthews_corrcoef(Y_test_14, yhat_14))\n",
        "print(\"Maximum MCC:-\",max(MCC_14),\"at K =\",MCC_14.index(max(MCC_14))+1)"
      ],
      "metadata": {
        "id": "_rnCXxPryOPa",
        "colab": {
          "base_uri": "https://localhost:8080/"
        },
        "outputId": "b0dc56db-79d4-4942-d82a-ea0e98cc78b9"
      },
      "execution_count": null,
      "outputs": [
        {
          "output_type": "stream",
          "name": "stdout",
          "text": [
            "Maximum f1:- 0.5163675500968486 at K = 9\n",
            "Maximum MCC:- 0.3892612888492211 at K = 7\n"
          ]
        }
      ]
    },
    {
      "cell_type": "code",
      "source": [
        "#MCC decreased the least so we will use K=9\n",
        "print(f1_14[6])\n",
        "print(MCC_14[8])"
      ],
      "metadata": {
        "colab": {
          "base_uri": "https://localhost:8080/"
        },
        "id": "SQmXF1akoNFM",
        "outputId": "67d59e06-cc4a-4657-ce3d-958ee8e361ac"
      },
      "execution_count": null,
      "outputs": [
        {
          "output_type": "stream",
          "name": "stdout",
          "text": [
            "0.513540969595364\n",
            "0.3880183407634416\n"
          ]
        }
      ]
    },
    {
      "cell_type": "code",
      "source": [
        "#The metrics are aligned and we will use K=3\n",
        "mobility_features = mobility.iloc[:, :-1]\n",
        "mobility_target = mobility.iloc[:, -1]\n",
        "X_train_15, X_test_15, Y_train_15, Y_test_15 = train_test_split(mobility_features, mobility_target, test_size=0.2, random_state=1)\n",
        "f1_15 = []\n",
        "for i in range(1,40):\n",
        "    neigh_15 = KNeighborsClassifier(n_neighbors = i).fit(X_train_15, Y_train_15)\n",
        "    yhat_15 = neigh_15.predict(X_test_15)\n",
        "    f1_15.append(metrics.f1_score(Y_test_15, yhat_15, average='macro'))\n",
        "print(\"Maximum f1:-\",max(f1_15),\"at K =\",f1_15.index(max(f1_15))+1)\n",
        "\n",
        "MCC_15 = []\n",
        "for i in range (1,40):\n",
        "    neigh_15 = KNeighborsClassifier(n_neighbors = i).fit(X_train_15,Y_train_15)\n",
        "    yhat_15 = neigh_15.predict(X_test_15)\n",
        "    MCC_15.append(matthews_corrcoef(Y_test_15, yhat_15))\n",
        "print(\"Maximum MCC:-\",max(MCC_15),\"at K =\",MCC_15.index(max(MCC_15))+1)"
      ],
      "metadata": {
        "id": "zdzcKMwsyWzT",
        "colab": {
          "base_uri": "https://localhost:8080/"
        },
        "outputId": "c174d43f-28f5-455d-9bd5-80d627649502"
      },
      "execution_count": null,
      "outputs": [
        {
          "output_type": "stream",
          "name": "stdout",
          "text": [
            "Maximum f1:- 0.44243961932989606 at K = 3\n",
            "Maximum MCC:- 0.23520868734938197 at K = 3\n"
          ]
        }
      ]
    },
    {
      "cell_type": "code",
      "source": [
        "density_features = density.iloc[:, :-1]\n",
        "density_target = density.iloc[:, -1]\n",
        "X_train_16, X_test_16, Y_train_16, Y_test_16 = train_test_split(density_features, density_target, test_size=0.2, random_state=1)\n",
        "f1_16 = []\n",
        "for i in range(1,40):\n",
        "    neigh_16 = KNeighborsClassifier(n_neighbors = i).fit(X_train_16, Y_train_16)\n",
        "    yhat_16 = neigh_16.predict(X_test_16)\n",
        "    f1_16.append(metrics.f1_score(Y_test_16, yhat_16, average='macro'))\n",
        "print(\"Maximum f1:-\",max(f1_16),\"at K =\",f1_16.index(max(f1_16))+1)\n",
        "\n",
        "MCC_16 = []\n",
        "for i in range (1,40):\n",
        "    neigh_16 = KNeighborsClassifier(n_neighbors = i).fit(X_train_16,Y_train_16)\n",
        "    yhat_16 = neigh_16.predict(X_test_16)\n",
        "    MCC_16.append(matthews_corrcoef(Y_test_16, yhat_16))\n",
        "print(\"Maximum MCC:-\",max(MCC_16),\"at K =\",MCC_16.index(max(MCC_16))+1)"
      ],
      "metadata": {
        "id": "oAThQgF4yxvl",
        "colab": {
          "base_uri": "https://localhost:8080/"
        },
        "outputId": "014b9062-7010-4ae8-dd1b-4defa8d3ee26"
      },
      "execution_count": null,
      "outputs": [
        {
          "output_type": "stream",
          "name": "stdout",
          "text": [
            "Maximum f1:- 0.4396525215252152 at K = 1\n",
            "Maximum MCC:- 0.2868789244207991 at K = 33\n"
          ]
        }
      ]
    },
    {
      "cell_type": "code",
      "source": [
        "#f1 decreases the least and therefore will use K=33\n",
        "print(f1_16[32])\n",
        "print(MCC_16[0])"
      ],
      "metadata": {
        "colab": {
          "base_uri": "https://localhost:8080/"
        },
        "id": "QIEFQz4Wohle",
        "outputId": "827b0954-888b-46df-e62f-28fcf79a8fe8"
      },
      "execution_count": null,
      "outputs": [
        {
          "output_type": "stream",
          "name": "stdout",
          "text": [
            "0.42304976277170914\n",
            "0.1874849417740299\n"
          ]
        }
      ]
    },
    {
      "cell_type": "code",
      "source": [
        "transit_features = transit.iloc[:, :-1]\n",
        "transit_target = transit.iloc[:, -1]\n",
        "X_train_17, X_test_17, Y_train_17, Y_test_17 = train_test_split(transit_features, transit_target, test_size=0.2, random_state=1)\n",
        "\n",
        "f1_17 = []\n",
        "for i in range(1,40):\n",
        "    neigh_17 = KNeighborsClassifier(n_neighbors = i).fit(X_train_17, Y_train_17)\n",
        "    yhat_17 = neigh_17.predict(X_test_17)\n",
        "    f1_17.append(metrics.f1_score(Y_test_17, yhat_17, average='macro'))\n",
        "print(\"Maximum f1:-\",max(f1_17),\"at K =\",f1_17.index(max(f1_17))+1)\n",
        "\n",
        "MCC_17 = []\n",
        "for i in range (1,40):\n",
        "    neigh_17 = KNeighborsClassifier(n_neighbors = i).fit(X_train_17,Y_train_17)\n",
        "    yhat_17 = neigh_17.predict(X_test_17)\n",
        "    MCC_17.append(matthews_corrcoef(Y_test_17, yhat_17))\n",
        "print(\"Maximum MCC:-\",max(MCC_17),\"at K =\",MCC_17.index(max(MCC_17))+1)"
      ],
      "metadata": {
        "id": "HjIwjagTy5pX",
        "colab": {
          "base_uri": "https://localhost:8080/"
        },
        "outputId": "7acf6279-1e90-4da6-95fd-8e3d9cb4b233"
      },
      "execution_count": null,
      "outputs": [
        {
          "output_type": "stream",
          "name": "stdout",
          "text": [
            "Maximum f1:- 0.380228525101797 at K = 1\n",
            "Maximum MCC:- 0.13768026196224092 at K = 6\n"
          ]
        }
      ]
    },
    {
      "cell_type": "code",
      "source": [
        "#Since f1 decreases the least, we will take K=6\n",
        "print(f1_17[5])\n",
        "print(MCC_17[0])"
      ],
      "metadata": {
        "colab": {
          "base_uri": "https://localhost:8080/"
        },
        "id": "GL4Fg9OsozS2",
        "outputId": "f51831f4-91d4-4223-b989-3042e2394855"
      },
      "execution_count": null,
      "outputs": [
        {
          "output_type": "stream",
          "name": "stdout",
          "text": [
            "0.3535724026224129\n",
            "0.07963707499213638\n"
          ]
        }
      ]
    },
    {
      "cell_type": "code",
      "source": [
        "policing.isna().sum()"
      ],
      "metadata": {
        "colab": {
          "base_uri": "https://localhost:8080/"
        },
        "id": "QoY7N3FJzCZe",
        "outputId": "be11884a-e183-4b6c-ddba-3b8d69e14c1d"
      },
      "execution_count": null,
      "outputs": [
        {
          "output_type": "execute_result",
          "data": {
            "text/plain": [
              "LemasSwornFT            1675\n",
              "LemasSwFTPerPop         1675\n",
              "LemasSwFTFieldOps       1675\n",
              "LemasSwFTFieldPerPop    1675\n",
              "LemasTotalReq           1675\n",
              "LemasTotReqPerPop       1675\n",
              "PolicReqPerOffic        1675\n",
              "PolicPerPop             1675\n",
              "OfficAssgnDrugUnits     1675\n",
              "NumKindsDrugsSeiz       1675\n",
              "PolicAveOTWorked        1675\n",
              "PolicCars               1675\n",
              "PolicOperBudg           1675\n",
              "LemasPctPolicOnPatr     1675\n",
              "LemasGangUnitDeploy     1675\n",
              "LemasPctOfficDrugUn        0\n",
              "PolicBudgPerPop         1675\n",
              "RacialMatchCommPol      1675\n",
              "PctPolicWhite           1675\n",
              "PctPolicBlack           1675\n",
              "PctPolicHisp            1675\n",
              "PctPolicAsian           1675\n",
              "PctPolicMinor           1675\n",
              "CrimeCategory              0\n",
              "dtype: int64"
            ]
          },
          "metadata": {},
          "execution_count": 45
        }
      ]
    },
    {
      "cell_type": "code",
      "source": [
        "policing = policing.dropna()"
      ],
      "metadata": {
        "id": "dJXE_wgEzisB"
      },
      "execution_count": null,
      "outputs": []
    },
    {
      "cell_type": "code",
      "source": [
        "policing.isna().sum()"
      ],
      "metadata": {
        "colab": {
          "base_uri": "https://localhost:8080/"
        },
        "id": "NIiaztpmzsFp",
        "outputId": "abf36e71-d577-427b-d2b1-16bc16a7b5b4"
      },
      "execution_count": null,
      "outputs": [
        {
          "output_type": "execute_result",
          "data": {
            "text/plain": [
              "LemasSwornFT            0\n",
              "LemasSwFTPerPop         0\n",
              "LemasSwFTFieldOps       0\n",
              "LemasSwFTFieldPerPop    0\n",
              "LemasTotalReq           0\n",
              "LemasTotReqPerPop       0\n",
              "PolicReqPerOffic        0\n",
              "PolicPerPop             0\n",
              "OfficAssgnDrugUnits     0\n",
              "NumKindsDrugsSeiz       0\n",
              "PolicAveOTWorked        0\n",
              "PolicCars               0\n",
              "PolicOperBudg           0\n",
              "LemasPctPolicOnPatr     0\n",
              "LemasGangUnitDeploy     0\n",
              "LemasPctOfficDrugUn     0\n",
              "PolicBudgPerPop         0\n",
              "RacialMatchCommPol      0\n",
              "PctPolicWhite           0\n",
              "PctPolicBlack           0\n",
              "PctPolicHisp            0\n",
              "PctPolicAsian           0\n",
              "PctPolicMinor           0\n",
              "CrimeCategory           0\n",
              "dtype: int64"
            ]
          },
          "metadata": {},
          "execution_count": 52
        }
      ]
    },
    {
      "cell_type": "code",
      "source": [
        "policing_features = policing.iloc[:, :-1]\n",
        "policing_target = policing.iloc[:, -1]\n",
        "X_train_18, X_test_18, Y_train_18, Y_test_18 = train_test_split(policing_features, policing_target, test_size=0.2, random_state=1)\n",
        "\n",
        "f1_18 = []\n",
        "for i in range(1,40):\n",
        "    neigh_18 = KNeighborsClassifier(n_neighbors = i).fit(X_train_18, Y_train_18)\n",
        "    yhat_18 = neigh_18.predict(X_test_18)\n",
        "    f1_18.append(metrics.f1_score(Y_test_18, yhat_18, average='macro'))\n",
        "print(\"Maximum f1:-\",max(f1_18),\"at K =\",f1_18.index(max(f1_18))+1)\n",
        "\n",
        "MCC_18 = []\n",
        "for i in range (1,40):\n",
        "    neigh_18 = KNeighborsClassifier(n_neighbors = i).fit(X_train_18,Y_train_18)\n",
        "    yhat_18 = neigh_18.predict(X_test_18)\n",
        "    MCC_18.append(matthews_corrcoef(Y_test_18, yhat_18))\n",
        "print(\"Maximum MCC:-\",max(MCC_18),\"at K =\",MCC_18.index(max(MCC_18))+1)"
      ],
      "metadata": {
        "colab": {
          "base_uri": "https://localhost:8080/"
        },
        "id": "yt5gJcNTTGz8",
        "outputId": "72181e30-34de-40c9-a6e0-d3f85a7156ad"
      },
      "execution_count": null,
      "outputs": [
        {
          "output_type": "stream",
          "name": "stdout",
          "text": [
            "Maximum f1:- 0.5378439267567827 at K = 16\n",
            "Maximum MCC:- 0.45054236893837146 at K = 16\n"
          ]
        }
      ]
    }
  ]
}